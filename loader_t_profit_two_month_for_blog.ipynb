{
 "cells": [
  {
   "cell_type": "markdown",
   "metadata": {},
   "source": [
    "# Обработка данных по продажам бизнес единицы Т"
   ]
  },
  {
   "cell_type": "markdown",
   "metadata": {},
   "source": [
    "### Библиотеки"
   ]
  },
  {
   "cell_type": "code",
   "execution_count": 1,
   "metadata": {},
   "outputs": [],
   "source": [
    "# основные библиотеки\n",
    "import pandas as pd\n",
    "import numpy as np"
   ]
  },
  {
   "cell_type": "code",
   "execution_count": 2,
   "metadata": {},
   "outputs": [],
   "source": [
    "# вспомогательные библиотеки\n",
    "from datetime import datetime\n",
    "import time\n",
    "import pyodbc\n",
    "from tqdm import tqdm"
   ]
  },
  {
   "cell_type": "code",
   "execution_count": 3,
   "metadata": {},
   "outputs": [],
   "source": [
    "# этот волшебный код убирает ненужные предупреждения об ошибках\n",
    "import warnings\n",
    "warnings.filterwarnings('ignore')"
   ]
  },
  {
   "cell_type": "code",
   "execution_count": 4,
   "metadata": {},
   "outputs": [],
   "source": [
    "#настройка, чтобы можно было просматривать все столбцы датафрейма\n",
    "import matplotlib\n",
    "matplotlib.rcParams.update({'font.size':14})\n",
    "pd.options.display.max_columns=100"
   ]
  },
  {
   "cell_type": "markdown",
   "metadata": {},
   "source": [
    "### Методы"
   ]
  },
  {
   "cell_type": "code",
   "execution_count": 5,
   "metadata": {},
   "outputs": [],
   "source": [
    "def load_fact(PATH_FILE):\n",
    "    \n",
    "    '''Загрузка данных по продажам, обработанных в Power BI'''\n",
    "    # Загружаем файл, обработанный в Power BI\n",
    "    df_fact = pd.read_csv(PATH_FILE)\n",
    "    return df_fact"
   ]
  },
  {
   "cell_type": "code",
   "execution_count": 6,
   "metadata": {},
   "outputs": [],
   "source": [
    "def load_klass_nom_bd():\n",
    "\n",
    "    '''Загрузка классификатора номенклатуры'''\n",
    "    # задаём параметры соединения с базой данных\n",
    "    cn = pyodbc.connect(\"Driver={SQL Server Native Client 11.0};\\\n",
    "                        Server=s;\\\n",
    "                        Database=analitics;\\\n",
    "                        Trusted_Connection=yes\")\n",
    "    \n",
    "    # скачиваем из базы классификатор номенклатуры\n",
    "    df_klass_nom_bd = pd.read_sql_query('SELECT [КодНоменклатуры]\\\n",
    "        ,[Артикулt]\\\n",
    "        ,[Наименование]\\\n",
    "        ,[Группа_1]\\\n",
    "        ,[Группа_2]\\\n",
    "        ,[Группа_3]\\\n",
    "        ,[Собственное_производство]\\\n",
    "    FROM [Analitics].[dbo].[КлассификаторНоменклатуры]', cn)\n",
    "    \n",
    "    return df_klass_nom_bd"
   ]
  },
  {
   "cell_type": "code",
   "execution_count": 7,
   "metadata": {},
   "outputs": [],
   "source": [
    "def load_expense():\n",
    "    '''Загрузка данных по накладным расходам'''\n",
    "    df_expense = pd.read_excel('C:/Users/lazarevnv/Desktop/Инфа по подключению t в mdm/Выгрузки_1С_t/Накладные_расходы_ФД.xlsx')\n",
    "    return df_expense"
   ]
  },
  {
   "cell_type": "code",
   "execution_count": 20,
   "metadata": {},
   "outputs": [],
   "source": [
    "def load_all(PATH_FILE):\n",
    "\n",
    "    'Загружаем сразу все нужные таблицы'\n",
    "    df_fact = load_fact(PATH_FILE)\n",
    "    df_klass_nom_bd = load_klass_nom_bd()\n",
    "    df_expense = load_expense()\n",
    "\n",
    "    return df_fact, df_klass_nom_bd, df_expense"
   ]
  },
  {
   "cell_type": "code",
   "execution_count": 26,
   "metadata": {},
   "outputs": [],
   "source": [
    "def first_show(df_fact):\n",
    "    '''Метод обрбабатывает данные после BI'''\n",
    "    # смотрим пример того, что загрузили \n",
    "    print('смотрим пример того, что загрузили')\n",
    "    display(df_fact.tail(2))\n",
    "    \n",
    "    # смотрим размеры таблицы\n",
    "    print('смотрим размеры таблицы', df_fact.shape)\n",
    "\n",
    "    # смотрим называния колонок\n",
    "    print('смотрим называния колонок', df_fact.columns)\n",
    "\n",
    "    # смотрим огрегированные данные\n",
    "    print('смотрим огрегированные данные')\n",
    "    display(df_fact[['Количество', 'Продажи_сНДСРуб', 'Продажи_безНДСРуб', 'Валовая прибыль (RUB)']].sum())\n",
    "\n",
    "    # удалим поле Мера для подсчёта строк\n",
    "    df_fact = df_fact.drop(columns=['Мера_для подсчёта строк'])\n",
    "\n",
    "    #  удалим строки с пустым значением Себестоимость  (RUB) \n",
    "    #  т.к. это Лом латуни\n",
    "    df_fact = df_fact.dropna(subset = ['Артикулt', 'Себестоимость  (RUB)']).reset_index(drop=True)\n",
    "    \n",
    "    # отлавливаем пропуски\n",
    "    print('отлавливаем пропуски')\n",
    "    display(df_fact.isna().sum())\n",
    "\n",
    "    # Переименуем поля, дадим более правильные названия с точки зрения ФД\n",
    "    df_fact = df_fact.rename(columns={'Валовая прибыль (RUB)':'Валовая_прибыль_t',\\\n",
    "                 'Себестоимость  (RUB)':'Прямые_расходы(СиМ)', 'Накладные расходы':'Общие_наклад_расх_мес'})\n",
    "    \n",
    "    print('Результат функции first_show')\n",
    "    display(df_fact.tail(2))\n",
    "    \n",
    "    return df_fact"
   ]
  },
  {
   "cell_type": "code",
   "execution_count": 10,
   "metadata": {},
   "outputs": [],
   "source": [
    "def breakdown_rf_sz(df_fact):\n",
    "\n",
    "     '''Разбивка на t-Россия и t-СЗ'''\n",
    "\n",
    "     # добавляем пустое поле\n",
    "     df_fact['ТорговаяПлощадка'] = 't-Россия'\n",
    "\n",
    "     # присваиваем полю ТорговаяПлощадка значение t-СЗ по условию\n",
    "     df_fact.loc[df_fact['Регион'].isin(['Узбекистан', 'Казахстан', 'Белоруссия']) ,\\\n",
    "          'ТорговаяПлощадка'] = 't-СЗ'\n",
    "     print('Результат функции breakdown_rf_sz')\n",
    "     display(df_fact.tail(2))\n",
    "     return df_fact"
   ]
  },
  {
   "cell_type": "code",
   "execution_count": 11,
   "metadata": {},
   "outputs": [],
   "source": [
    "def processing_expense(df_fact, df_expense):\n",
    "\n",
    "    '''Расчёт актуальной валовой прибыли'''\n",
    "\n",
    "    # добавляем в факт столбец с первым днём месяца\n",
    "    df_fact['Месяц_'] = pd.to_datetime(df_fact['Месяц'])\n",
    "\n",
    "    # добавляем поле с первым числом месяца\n",
    "    df_fact['Месяц_'] = (df_fact['Месяц_'].dt.floor('d') \\\n",
    "        + pd.offsets.MonthEnd(0) - pd.offsets.MonthBegin(1))\n",
    "\n",
    "    # добавляем поле с данными из таблицы df_expense\n",
    "    df_fact = df_fact.merge(df_expense, left_on=['Месяц_'], \\\n",
    "         right_on=['Дата'], how='left')\n",
    "    # Переименуем поля, дадим более правильные названия с точки зрения ФД\n",
    "    df_fact = df_fact.rename(columns={'Валовая прибыль (RUB)':'Валовая_прибыль_t',\\\n",
    "         'Себестоимость  (RUB)':'Прямые_расходы(СиМ)', 'Накладные расходы':'Общие_наклад_расх_мес'})\n",
    "\n",
    "    # добавляем признак Собственное_производство\n",
    "    df_fact = df_fact.merge(df_klass_nom_bd[['Артикулt','Собственное_производство']],\\\n",
    "        on='Артикулt', how='left')\n",
    "    \n",
    "    # принимаем допущение, что если артикула нет в классификаторе номенклатуты, то ставим 100\n",
    "    df_fact['Собственное_производство'] = df_fact['Собственное_производство'].fillna(100)\n",
    "\n",
    "    # указанные гофрокороба, это сырьё, поэтому нужно убрать их из продаж\n",
    "    # сформируем список артикулов по этим гофрокоробам\n",
    "    material_list = df_fact.loc[(df_fact['Собственное_производство']==100) \n",
    "            &~(\n",
    "                    (df_fact['Номенклатура'].str.contains('Лом'))\n",
    "                    |(df_fact['Номенклатура'].str.contains('лом'))\n",
    "                    |(df_fact['Номенклатура'].str.contains('НЕ ИСПОЛЬЗОВАТЬ'))\n",
    "                ), 'Артикулt'].to_list()\n",
    "    \n",
    "    # сформируем условия для удаления ненужных строк\n",
    "    conditions_for_delete = (\n",
    "        (df_fact['Номенклатура'].str.contains('Лом'))\n",
    "        |(df_fact['Номенклатура'].str.contains('лом'))\n",
    "        |(df_fact['Номенклатура'].str.contains('НЕ ИСПОЛЬЗОВАТЬ'))\n",
    "        |(df_fact['Артикулt'].isin(material_list)) )\n",
    "\n",
    "    # формируем перечень позиций которых нет в классификаторе. Ищем ошибки\n",
    "    print('Проверка. Формируем перечень позиций которых нет в классификаторе. Если ошибок нет, то датасет пуст.')\n",
    "    display(df_fact.loc[(df_fact['Собственное_производство']==100) \n",
    "            &~(conditions_for_delete)])\n",
    "\n",
    "    # убираем из файла продажи по условию conditions_for_delete (лом и Не использовать)\n",
    "    # формируем новый датафрейм, очищенный от лишних строк\n",
    "    df_fact_clean = df_fact.loc[~conditions_for_delete]\n",
    "\n",
    "    print(f'Смотрим габариты df_fact {df_fact.shape}, и df_fact_clean {df_fact_clean.shape}')\n",
    "\n",
    "    # посчитаем ежемесячные прямые расходы(СиМ), но только для продукции собственного производства!\n",
    "    df_direct_expenses = \\\n",
    "    df_fact_clean.loc[df_fact_clean['Собственное_производство']==1]\\\n",
    "    .pivot_table(index ='Месяц_'\n",
    "                ,columns=None \n",
    "                ,values=['Прямые_расходы(СиМ)']\n",
    "                ,aggfunc=sum)\n",
    "    print('Посчитаем ежемесячные прямые расходы(СиМ), но только для продукции собственного производства!')\n",
    "    display(df_direct_expenses)\n",
    "    # переименуем поле\n",
    "    df_direct_expenses = df_direct_expenses.rename(columns={'Прямые_расходы(СиМ)':'Общие_прямые_расх_CиМ_мес'})\n",
    "\n",
    "    # подтягиваем нужные данные\n",
    "    df_fact_clean = df_fact_clean.merge(df_direct_expenses, on='Месяц_', how='left')\n",
    "\n",
    "    # Присваиваем полю Общие_прямые_расх_CиМ_мес значение None для аутсорсинга\n",
    "    df_fact_clean.loc[df_fact_clean['Собственное_производство']!=1,\n",
    "                'Общие_прямые_расх_CиМ_мес'] = None\n",
    "\n",
    "    # Рассчитываем накладные расходы для каждой строки\n",
    "    # Создадим новое расчётное поле Накладные_расходы\n",
    "    df_fact_clean['Накладные_расходы'] = df_fact_clean['Прямые_расходы(СиМ)']\\\n",
    "        / df_fact_clean['Общие_прямые_расх_CиМ_мес']\\\n",
    "        * df_fact_clean['Общие_наклад_расх_мес']\n",
    "\n",
    "    # зафиксируем Накладные_расходы для аутсорсинга\n",
    "    df_fact_clean.loc[df_fact_clean['Собственное_производство']==0, 'Накладные_расходы'] = 0\n",
    "\n",
    "    # зафиксируем Накладные_расходы для товаров отсутствующих в классификаторе\n",
    "    df_fact_clean.loc[df_fact_clean['Собственное_производство']==100, 'Накладные_расходы'] = 0\n",
    "\n",
    "    # Создадим новое расчётное поле Себестоимость\n",
    "    df_fact_clean['Себестоимость'] = df_fact_clean['Прямые_расходы(СиМ)'] + df_fact_clean['Накладные_расходы']\n",
    "\n",
    "    # Создадим новое расчётное поле Валовая_прибыль\n",
    "    df_fact_clean['Валовая_прибыль'] = df_fact_clean['Продажи_безНДСРуб'] - df_fact_clean['Себестоимость']\n",
    "\n",
    "    #  удалим лишнее поле Дата\n",
    "    df_fact_clean = df_fact_clean.drop(columns=['Дата'])\n",
    "\n",
    "    # Переименуем поле Месяц в Дата\n",
    "    df_fact_clean = df_fact_clean.rename(columns={'Месяц':'Дата'})\n",
    "    \n",
    "    # перед экспортом проверяем пустые значения\n",
    "    print('перед экспортом проверяем пустые значения, всё должно быть по нулям')\n",
    "    display(df_fact_clean[['Дата', 'Месяц_', 'КодНоменклатуры', 'Артикулt', 'Собственное_производство', \n",
    "\n",
    "    'Количество', 'Продажи_сНДСРуб', 'Продажи_безНДСРуб', \n",
    "    'Прямые_расходы(СиМ)', 'Накладные_расходы', 'Себестоимость', 'Валовая_прибыль',\n",
    "\n",
    "    'Код_контрагента', 'Контрагент', 'Регион',  'ТорговаяПлощадка', 'Источник']].isna().sum())\n",
    "\n",
    "    # смотрим, что получилось\n",
    "    print('Смотрим, что получилось. Результат работы функции processing_expense')\n",
    "    display(df_fact_clean.tail())\n",
    "\n",
    "    return df_fact_clean"
   ]
  },
  {
   "cell_type": "code",
   "execution_count": 31,
   "metadata": {},
   "outputs": [],
   "source": [
    "def export_fact_t(df):\n",
    "\n",
    "    df = df[['Дата', 'Месяц_', 'КодНоменклатуры', 'Артикулt', 'Собственное_производство', \n",
    "\n",
    "    'Количество', 'Продажи_сНДСРуб', 'Продажи_безНДСРуб', \n",
    "    'Прямые_расходы(СиМ)', 'Накладные_расходы', 'Себестоимость', 'Валовая_прибыль',\n",
    "\n",
    "    'Код_контрагента', 'Контрагент', 'Регион',  'ТорговаяПлощадка', 'Источник']]\n",
    "    \n",
    "    '''Метод экспортирует данные факт t 2023 в базу данных Analitics'''\n",
    "    data_server = 's'\n",
    "    database = 'Analitics'\n",
    "    cn = pyodbc.connect(\"Driver={SQL Server Native Client 11.0};\\\n",
    "                        Server=\"+data_server+\";Database=\"+database+\";Trusted_Connection=yes\")\n",
    "    cursor = cn.cursor()\n",
    "    for index, row in tqdm(df.iterrows()):\n",
    "        cursor.execute(\n",
    "            \"INSERT INTO  dbo.[Продажи_t] (\\\n",
    "             [Дата], [Месяц_], [КодНоменклатуры], [Артикулt], [Собственное_производство] \\\n",
    "            ,[Количество], [Продажи_сНДСРуб], [Продажи_безНДСРуб] \\\n",
    "            ,[Прямые_расходы(СиМ)], [Накладные_расходы], [Себестоимость], [Валовая_прибыль]\\\n",
    "            ,[Код_контрагента], [Контрагент], [Регион], [ТорговаяПлощадка], [Источник] \\\n",
    "                                                ) \\\n",
    "            values(?,?,?,?,?,?,?,?,?,?,?,?,?,?,?,?,?)\",\n",
    "\n",
    "            row['Дата'], row['Месяц_'], row['КодНоменклатуры'], row['Артикулt'], row['Собственное_производство'] \\\n",
    "            ,row['Количество'], row['Продажи_сНДСРуб'], row['Продажи_безНДСРуб'] \\\n",
    "            ,row['Прямые_расходы(СиМ)'], row['Накладные_расходы'], row['Себестоимость'], row['Валовая_прибыль']\\\n",
    "            ,row['Код_контрагента'], row['Контрагент'], row['Регион'], row['ТорговаяПлощадка'], row['Источник']\n",
    "        )\n",
    "\n",
    "    cn.commit()\n",
    "    cursor.close()\n",
    "    cn.close()"
   ]
  },
  {
   "cell_type": "markdown",
   "metadata": {},
   "source": [
    "### Запускаем обработку"
   ]
  },
  {
   "cell_type": "code",
   "execution_count": null,
   "metadata": {},
   "outputs": [],
   "source": [
    "# Запускаем загрузку всех таблиц\n",
    "file_name = 't_fact_2023_06&07_09.08.2023.csv'\n",
    "PATH_FILE = f'C:/Users/lazarevnv/Desktop/Инфа по подключению t в mdm/Выгрузки_BI/{file_name}'\n",
    "\n",
    "df_fact, df_klass_nom_bd, df_expense = load_all(PATH_FILE)\n",
    "\n",
    "# запускаем предварительную обработку\n",
    "df_fact = first_show(df_fact)"
   ]
  },
  {
   "cell_type": "code",
   "execution_count": null,
   "metadata": {},
   "outputs": [],
   "source": [
    "# запускаем разбивку на рф и сз\n",
    "df_fact = breakdown_rf_sz(df_fact)"
   ]
  },
  {
   "cell_type": "code",
   "execution_count": null,
   "metadata": {},
   "outputs": [],
   "source": [
    "# запускаем функцию расчёта накладных расходов и валовой прибыли\n",
    "df_fact_clean = processing_expense(df_fact, df_expense)"
   ]
  },
  {
   "cell_type": "markdown",
   "metadata": {},
   "source": [
    "Перед заливкой данных нужно удалить из базы предыдущий месяц. Потом добавим сюда отдельный метод для удаления из python"
   ]
  },
  {
   "cell_type": "code",
   "execution_count": 32,
   "metadata": {},
   "outputs": [
    {
     "name": "stderr",
     "output_type": "stream",
     "text": [
      "5600it [00:44, 126.47it/s]"
     ]
    },
    {
     "name": "stdout",
     "output_type": "stream",
     "text": [
      "CPU times: total: 359 ms\n",
      "Wall time: 44.5 s\n"
     ]
    },
    {
     "name": "stderr",
     "output_type": "stream",
     "text": [
      "\n"
     ]
    }
   ],
   "source": [
    "%%time\n",
    "# заливаем данные\n",
    "export_fact_t(df_fact_clean)"
   ]
  }
 ],
 "metadata": {
  "kernelspec": {
   "display_name": "venv",
   "language": "python",
   "name": "python3"
  },
  "language_info": {
   "codemirror_mode": {
    "name": "ipython",
    "version": 3
   },
   "file_extension": ".py",
   "mimetype": "text/x-python",
   "name": "python",
   "nbconvert_exporter": "python",
   "pygments_lexer": "ipython3",
   "version": "3.11.3"
  },
  "orig_nbformat": 4
 },
 "nbformat": 4,
 "nbformat_minor": 2
}
