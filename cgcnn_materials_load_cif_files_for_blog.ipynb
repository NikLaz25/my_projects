{
 "cells": [
  {
   "cell_type": "markdown",
   "metadata": {},
   "source": [
    "скачиваем из базы MaterialsProject CIF файлы для новых материалов"
   ]
  },
  {
   "cell_type": "markdown",
   "metadata": {},
   "source": [
    "## Библиотеки"
   ]
  },
  {
   "cell_type": "code",
   "execution_count": 1,
   "metadata": {},
   "outputs": [],
   "source": [
    "from dotenv import load_dotenv # для загрузки ключа из файла .env\n",
    "import os as os\n",
    "from pymatgen.ext.matproj import MPRester\n",
    "from tqdm import tqdm"
   ]
  },
  {
   "cell_type": "code",
   "execution_count": 194,
   "metadata": {},
   "outputs": [],
   "source": [
    "import pandas as pd"
   ]
  },
  {
   "cell_type": "markdown",
   "metadata": {},
   "source": [
    "## Ключ API"
   ]
  },
  {
   "cell_type": "code",
   "execution_count": 3,
   "metadata": {},
   "outputs": [],
   "source": [
    "# импортируем ключ API\n",
    "load_dotenv()\n",
    "mp_api_key = os.environ.get('MP_API_KEY')"
   ]
  },
  {
   "cell_type": "markdown",
   "metadata": {},
   "source": [
    "## Загрузка данных"
   ]
  },
  {
   "cell_type": "code",
   "execution_count": null,
   "metadata": {},
   "outputs": [],
   "source": [
    "# Определяем параметры для фильтрации данных\n",
    "nelements_max = 3  # Максимальное количество элементов в системе, например\n",
    "is_stable_ = True   # Только стабильные материалы\n",
    "# is_stable_ = False  # Только Нестабильные материалы\n",
    "\n",
    "# Создаем объект для работы с API\n",
    "with MPRester(mp_api_key) as mpr:\n",
    "\n",
    "    docs = mpr.summary._search(\n",
    "        nelements_max=nelements_max, # Число элементов в составе: от 1 до 3\n",
    "        crystal_system=\"Cubic\",             # Фильтр по кубической кристаллической системе\n",
    "        # elements=[\"Si\",'Ge', 'Ga', 'As', 'In', 'P'],  # Материалы, содержащие\n",
    "        elements=[\"Si\"],  # Материалы, содержащие кремний\n",
    "        fields=[\n",
    "            \"material_id\", \"formula_pretty\", \n",
    "            'symmetry',                # Поле, которое также может включать информацию о симметрии\n",
    "        ],\n",
    "        num_chunks=1,  # Устанавливаем ограничение на количество загружаемых строк\n",
    "        chunk_size=1000\n",
    "        )"
   ]
  },
  {
   "cell_type": "code",
   "execution_count": null,
   "metadata": {},
   "outputs": [
    {
     "data": {
      "text/plain": [
       "\u001b[4m\u001b[1mMPDataDoc<SummaryDoc>\u001b[0;0m\u001b[0;0m(\n",
       "\u001b[1mformula_pretty\u001b[0;0m='ZrSb',\n",
       "\u001b[1msymmetry\u001b[0;0m=SymmetryData(crystal_system=<CrystalSystem.cubic: 'Cubic'>, symbol='P2_13', number=198, point_group='23', symprec=0.1, version='2.5.0'),\n",
       "\u001b[1mmaterial_id\u001b[0;0m=MPID(mp-569671),\n",
       "\u001b[1mfields_not_requested\u001b[0;0m=['builder_meta', 'nsites', 'elements', 'nelements', 'composition', 'composition_reduced', 'formula_anonymous', 'chemsys', 'volume', 'density', 'density_atomic', 'property_name', 'deprecated', 'deprecation_reasons', 'last_updated', 'origins', 'warnings', 'structure', 'task_ids', 'uncorrected_energy_per_atom', 'energy_per_atom', 'formation_energy_per_atom', 'energy_above_hull', 'is_stable', 'equilibrium_reaction_energy_per_atom', 'decomposes_to', 'xas', 'grain_boundaries', 'band_gap', 'cbm', 'vbm', 'efermi', 'is_gap_direct', 'is_metal', 'es_source_calc_id', 'bandstructure', 'dos', 'dos_energy_up', 'dos_energy_down', 'is_magnetic', 'ordering', 'total_magnetization', 'total_magnetization_normalized_vol', 'total_magnetization_normalized_formula_units', 'num_magnetic_sites', 'num_unique_magnetic_sites', 'types_of_magnetic_species', 'bulk_modulus', 'shear_modulus', 'universal_anisotropy', 'homogeneous_poisson', 'e_total', 'e_ionic', 'e_electronic', 'n', 'e_ij_max', 'weighted_surface_energy_EV_PER_ANG2', 'weighted_surface_energy', 'weighted_work_function', 'surface_anisotropy', 'shape_factor', 'has_reconstructed', 'possible_species', 'has_props', 'theoretical', 'database_IDs']\n",
       ")"
      ]
     },
     "metadata": {},
     "output_type": "display_data"
    }
   ],
   "source": [
    "# смотрим, что получили\n",
    "docs[2]"
   ]
  },
  {
   "cell_type": "code",
   "execution_count": 92,
   "metadata": {},
   "outputs": [
    {
     "data": {
      "text/plain": [
       "559"
      ]
     },
     "execution_count": 92,
     "metadata": {},
     "output_type": "execute_result"
    }
   ],
   "source": [
    "# смотрим, что получили\n",
    "len(docs)"
   ]
  },
  {
   "cell_type": "code",
   "execution_count": 1,
   "metadata": {},
   "outputs": [],
   "source": [
    "# # смотрим, что получили\n",
    "# docs[0:100]"
   ]
  },
  {
   "cell_type": "code",
   "execution_count": 100,
   "metadata": {},
   "outputs": [
    {
     "data": {
      "text/plain": [
       "SymmetryData(crystal_system=<CrystalSystem.cubic: 'Cubic'>, symbol='Pa-3', number=205, point_group='m-3', symprec=0.1, version='2.5.0')"
      ]
     },
     "execution_count": 100,
     "metadata": {},
     "output_type": "execute_result"
    }
   ],
   "source": [
    "# смотрим, что получили\n",
    "docs[0].symmetry"
   ]
  },
  {
   "cell_type": "code",
   "execution_count": 101,
   "metadata": {},
   "outputs": [
    {
     "data": {
      "text/plain": [
       "<CrystalSystem.cubic: 'Cubic'>"
      ]
     },
     "execution_count": 101,
     "metadata": {},
     "output_type": "execute_result"
    }
   ],
   "source": [
    "# смотрим, что получили\n",
    "docs[0].symmetry.crystal_system"
   ]
  },
  {
   "cell_type": "code",
   "execution_count": 103,
   "metadata": {},
   "outputs": [
    {
     "data": {
      "text/plain": [
       "MPID(mp-1200830)"
      ]
     },
     "execution_count": 103,
     "metadata": {},
     "output_type": "execute_result"
    }
   ],
   "source": [
    "# смотрим, что получили\n",
    "material_id = docs[2].material_id\n",
    "material_id"
   ]
  },
  {
   "cell_type": "code",
   "execution_count": 104,
   "metadata": {},
   "outputs": [
    {
     "data": {
      "application/vnd.jupyter.widget-view+json": {
       "model_id": "e262f073098841e291ae520e1bf8d712",
       "version_major": 2,
       "version_minor": 0
      },
      "text/plain": [
       "Retrieving MaterialsDoc documents:   0%|          | 0/1 [00:00<?, ?it/s]"
      ]
     },
     "metadata": {},
     "output_type": "display_data"
    }
   ],
   "source": [
    "structure = mpr.get_structure_by_material_id(material_id)"
   ]
  },
  {
   "cell_type": "code",
   "execution_count": 2,
   "metadata": {},
   "outputs": [],
   "source": [
    "# смотрим какие атрибуты структуры можно получить\n",
    "# structure.index\n",
    "# structure.lattice\n",
    "# structure.alphabetical_formula\n",
    "# structure.atomic_numbers\n",
    "# structure.composition\n",
    "# structure.density\n",
    "# structure.CellType\n",
    "# structure.cart_coords\n",
    "# structure.charge\n",
    "# structure.chemical_system\n",
    "# structure.chemical_system_set\n",
    "# structure.distance_matrix\n",
    "# structure.DISTANCE_TOLERANCE\n",
    "# structure.elements\n",
    "# structure.formula\n",
    "# structure.frac_coords\n",
    "# structure.is_3d_periodic\n",
    "# structure.is_ordered\n",
    "# structure.labels\n",
    "# structure.n_elems\n",
    "# structure.ntypesp\n",
    "# structure.num_sites\n",
    "# structure.pbc\n",
    "# structure.properties\n",
    "# structure.REDIRECT\n",
    "# structure.reduced_formula\n",
    "# structure.site_properties\n",
    "# structure.sites\n",
    "# structure.species\n",
    "# structure.species_and_occu\n",
    "# structure.symbol_set\n",
    "# structure.volume\n",
    "# structure.types_of_specie\n",
    "# structure.types_of_species\n",
    "# structure._charge\n",
    "# structure._lattice\n",
    "# structure._properties\n",
    "# structure._sites\n",
    "# structure.__annotations__\n",
    "# structure.__class__\n",
    "# structure.__dict__\n",
    "# structure.__doc__\n",
    "# structure.__module__\n",
    "# structure.__slots__\n",
    "# structure.add_site_property\n",
    "# structure.add_oxidation_state_by_element\n",
    "# structure.apply_operation\n",
    "# structure.as_dict"
   ]
  },
  {
   "cell_type": "code",
   "execution_count": 172,
   "metadata": {},
   "outputs": [
    {
     "data": {
      "text/plain": [
       "pymatgen.core.structure.Structure"
      ]
     },
     "execution_count": 172,
     "metadata": {},
     "output_type": "execute_result"
    }
   ],
   "source": [
    "# смотрим, что получили\n",
    "type(structure)"
   ]
  },
  {
   "cell_type": "code",
   "execution_count": null,
   "metadata": {},
   "outputs": [
    {
     "data": {
      "text/plain": [
       "array([[ 0.78659388,  0.39175378,  0.13262899],\n",
       "       [ 0.3948401 ,  0.74087421,  0.60824622],\n",
       "       [ 0.65396589,  0.86737101,  0.25912579],\n",
       "       [ 0.65396589,  0.25912579,  0.86737101],\n",
       "       [ 0.78659388,  0.13262899,  0.39175378],\n",
       "       [ 0.3948401 ,  0.60824622,  0.74087421],\n",
       "       [ 0.25912579,  0.65396589,  0.86737101],\n",
       "       [ 0.13262899,  0.78659388,  0.39175378],\n",
       "       [ 0.60824622,  0.3948401 ,  0.74087421],\n",
       "       [ 0.39175378,  0.78659388,  0.13262899],\n",
       "       [ 0.74087421,  0.3948401 ,  0.60824622],\n",
       "       [ 0.86737101,  0.65396589,  0.25912579],\n",
       "       [ 0.74087421,  0.60824622,  0.3948401 ],\n",
       "       [ 0.86737101,  0.25912579,  0.65396589],\n",
       "       [ 0.39175378,  0.13262899,  0.78659388],\n",
       "       [ 0.60824622,  0.74087421,  0.3948401 ],\n",
       "       [ 0.25912579,  0.86737101,  0.65396589],\n",
       "       [ 0.13262899,  0.39175378,  0.78659388],\n",
       "       [ 0.21340612,  0.34603411,  0.6051599 ],\n",
       "       [ 0.6051599 ,  0.21340612,  0.34603411],\n",
       "       [ 0.34603411,  0.6051599 ,  0.21340612],\n",
       "       [ 0.34603411,  0.21340612,  0.6051599 ],\n",
       "       [ 0.21340612,  0.6051599 ,  0.34603411],\n",
       "       [ 0.6051599 ,  0.34603411,  0.21340612],\n",
       "       [-0.        , -0.        ,  0.21736945],\n",
       "       [-0.        ,  0.21736945, -0.        ],\n",
       "       [ 0.78263055,  0.78263055,  0.78263055],\n",
       "       [ 0.21736945,  0.        ,  0.        ],\n",
       "       [ 0.        ,  0.        , -0.        ],\n",
       "       [-0.        ,  0.35932015,  0.22356876],\n",
       "       [ 0.64067985,  0.86424861,  0.64067985],\n",
       "       [ 0.77643124,  0.77643124,  0.13575139],\n",
       "       [ 0.77643124,  0.13575139,  0.77643124],\n",
       "       [-0.        ,  0.22356876,  0.35932015],\n",
       "       [ 0.64067985,  0.64067985,  0.86424861],\n",
       "       [ 0.13575139,  0.77643124,  0.77643124],\n",
       "       [ 0.22356876, -0.        ,  0.35932015],\n",
       "       [ 0.35932015, -0.        ,  0.22356876],\n",
       "       [ 0.86424861,  0.64067985,  0.64067985],\n",
       "       [ 0.35932015,  0.22356876, -0.        ],\n",
       "       [ 0.22356876,  0.35932015, -0.        ]])"
      ]
     },
     "execution_count": 107,
     "metadata": {},
     "output_type": "execute_result"
    }
   ],
   "source": [
    "# смотрим, что получили\n",
    "structure.frac_coords"
   ]
  },
  {
   "cell_type": "markdown",
   "metadata": {},
   "source": [
    "## Формируем CIF-файлы с данными по структуре"
   ]
  },
  {
   "cell_type": "code",
   "execution_count": null,
   "metadata": {},
   "outputs": [],
   "source": [
    "# Сохраняем CIF-файлы\n",
    "for material in tqdm(docs):\n",
    "    material_id = material.material_id\n",
    "    formula = material.formula_pretty\n",
    "\n",
    "    # Загружаем структуру в формате CIF\n",
    "    structure = mpr.get_structure_by_material_id(material_id)\n",
    "    # cif_filename = f\"{formula}_{material_id}.cif\"\n",
    "    cif_filename = f\"{material_id[3:]}.cif\"\n",
    "    path_ = (f'C:/Users/lazarevnv/Desktop/materials_science/code_materials/graphs_code/for_cif_files/{cif_filename}')\n",
    "    structure.to(filename=path_, fmt=\"cif\")\n",
    "\n",
    "    print(f\"Сохранен: {cif_filename}\")"
   ]
  },
  {
   "cell_type": "markdown",
   "metadata": {},
   "source": [
    "## Формируем файл с прогнозируемой величиной - Энергией образования материала"
   ]
  },
  {
   "cell_type": "code",
   "execution_count": 192,
   "metadata": {},
   "outputs": [],
   "source": [
    "# Список для хранения данных\n",
    "data = []"
   ]
  },
  {
   "cell_type": "code",
   "execution_count": 180,
   "metadata": {},
   "outputs": [],
   "source": [
    "# выберем материал для примера\n",
    "material_example = docs[100]"
   ]
  },
  {
   "cell_type": "code",
   "execution_count": 181,
   "metadata": {},
   "outputs": [
    {
     "data": {
      "text/plain": [
       "\u001b[4m\u001b[1mMPDataDoc<SummaryDoc>\u001b[0;0m\u001b[0;0m(\n",
       "\u001b[1mformula_pretty\u001b[0;0m='SiO2',\n",
       "\u001b[1msymmetry\u001b[0;0m=SymmetryData(crystal_system=<CrystalSystem.cubic: 'Cubic'>, symbol='Fd-3c', number=228, point_group='m-3m', symprec=0.1, version='2.5.0'),\n",
       "\u001b[1mmaterial_id\u001b[0;0m=MPID(mp-556257),\n",
       "\u001b[1mfields_not_requested\u001b[0;0m=['builder_meta', 'nsites', 'elements', 'nelements', 'composition', 'composition_reduced', 'formula_anonymous', 'chemsys', 'volume', 'density', 'density_atomic', 'property_name', 'deprecated', 'deprecation_reasons', 'last_updated', 'origins', 'warnings', 'structure', 'task_ids', 'uncorrected_energy_per_atom', 'energy_per_atom', 'formation_energy_per_atom', 'energy_above_hull', 'is_stable', 'equilibrium_reaction_energy_per_atom', 'decomposes_to', 'xas', 'grain_boundaries', 'band_gap', 'cbm', 'vbm', 'efermi', 'is_gap_direct', 'is_metal', 'es_source_calc_id', 'bandstructure', 'dos', 'dos_energy_up', 'dos_energy_down', 'is_magnetic', 'ordering', 'total_magnetization', 'total_magnetization_normalized_vol', 'total_magnetization_normalized_formula_units', 'num_magnetic_sites', 'num_unique_magnetic_sites', 'types_of_magnetic_species', 'bulk_modulus', 'shear_modulus', 'universal_anisotropy', 'homogeneous_poisson', 'e_total', 'e_ionic', 'e_electronic', 'n', 'e_ij_max', 'weighted_surface_energy_EV_PER_ANG2', 'weighted_surface_energy', 'weighted_work_function', 'surface_anisotropy', 'shape_factor', 'has_reconstructed', 'possible_species', 'has_props', 'theoretical', 'database_IDs']\n",
       ")"
      ]
     },
     "execution_count": 181,
     "metadata": {},
     "output_type": "execute_result"
    }
   ],
   "source": [
    "material_example"
   ]
  },
  {
   "cell_type": "code",
   "execution_count": 182,
   "metadata": {},
   "outputs": [
    {
     "data": {
      "text/plain": [
       "MPID(mp-1220929)"
      ]
     },
     "execution_count": 182,
     "metadata": {},
     "output_type": "execute_result"
    }
   ],
   "source": [
    "material_id = material.material_id\n",
    "formula = material.formula_pretty\n",
    "material_id"
   ]
  },
  {
   "cell_type": "code",
   "execution_count": 187,
   "metadata": {},
   "outputs": [
    {
     "name": "stderr",
     "output_type": "stream",
     "text": [
      "C:\\Users\\lazarevnv\\AppData\\Local\\Temp\\ipykernel_27396\\47622115.py:2: DeprecationWarning: Accessing summary data through MPRester.summary is deprecated. Please use MPRester.materials.summary instead.\n",
      "  material_data = mpr.summary.get_data_by_id(material_id, fields=[\"formation_energy_per_atom\"])\n",
      "C:\\Users\\lazarevnv\\AppData\\Local\\Temp\\ipykernel_27396\\47622115.py:2: DeprecationWarning: get_data_by_id is deprecated and will be removed soon. Please use the search method instead.\n",
      "  material_data = mpr.summary.get_data_by_id(material_id, fields=[\"formation_energy_per_atom\"])\n"
     ]
    },
    {
     "data": {
      "application/vnd.jupyter.widget-view+json": {
       "model_id": "b56ad3451cf8437b91250849001a848e",
       "version_major": 2,
       "version_minor": 0
      },
      "text/plain": [
       "Retrieving SummaryDoc documents:   0%|          | 0/1 [00:00<?, ?it/s]"
      ]
     },
     "metadata": {},
     "output_type": "display_data"
    }
   ],
   "source": [
    "# Запрашиваем информацию о целевом свойстве материала\n",
    "material_data = mpr.summary.get_data_by_id(material_id, fields=[\"formation_energy_per_atom\"])\n",
    "\n",
    "# таким образом можно запрашивать любые доступные свойства\n",
    "# material_data = mpr.summary.get_data_by_id(material_id, fields=[\"formation_energy_per_atom\", 'structure'])"
   ]
  },
  {
   "cell_type": "code",
   "execution_count": 189,
   "metadata": {},
   "outputs": [
    {
     "data": {
      "text/plain": [
       "\u001b[4m\u001b[1mMPDataDoc<SummaryDoc>\u001b[0;0m\u001b[0;0m(\n",
       "\u001b[1mformation_energy_per_atom\u001b[0;0m=0.113019668777092,\n",
       "\u001b[1mfields_not_requested\u001b[0;0m=['builder_meta', 'nsites', 'elements', 'nelements', 'composition', 'composition_reduced', 'formula_pretty', 'formula_anonymous', 'chemsys', 'volume', 'density', 'density_atomic', 'symmetry', 'property_name', 'material_id', 'deprecated', 'deprecation_reasons', 'last_updated', 'origins', 'warnings', 'structure', 'task_ids', 'uncorrected_energy_per_atom', 'energy_per_atom', 'energy_above_hull', 'is_stable', 'equilibrium_reaction_energy_per_atom', 'decomposes_to', 'xas', 'grain_boundaries', 'band_gap', 'cbm', 'vbm', 'efermi', 'is_gap_direct', 'is_metal', 'es_source_calc_id', 'bandstructure', 'dos', 'dos_energy_up', 'dos_energy_down', 'is_magnetic', 'ordering', 'total_magnetization', 'total_magnetization_normalized_vol', 'total_magnetization_normalized_formula_units', 'num_magnetic_sites', 'num_unique_magnetic_sites', 'types_of_magnetic_species', 'bulk_modulus', 'shear_modulus', 'universal_anisotropy', 'homogeneous_poisson', 'e_total', 'e_ionic', 'e_electronic', 'n', 'e_ij_max', 'weighted_surface_energy_EV_PER_ANG2', 'weighted_surface_energy', 'weighted_work_function', 'surface_anisotropy', 'shape_factor', 'has_reconstructed', 'possible_species', 'has_props', 'theoretical', 'database_IDs']\n",
       ")"
      ]
     },
     "execution_count": 189,
     "metadata": {},
     "output_type": "execute_result"
    }
   ],
   "source": [
    "material_data"
   ]
  },
  {
   "cell_type": "code",
   "execution_count": 191,
   "metadata": {},
   "outputs": [
    {
     "data": {
      "text/plain": [
       "0.113019668777092"
      ]
     },
     "execution_count": 191,
     "metadata": {},
     "output_type": "execute_result"
    }
   ],
   "source": [
    "# Получим значение энергии образования вещества эВ/атом\n",
    "formation_energy = material_data.formation_energy_per_atom\n",
    "formation_energy"
   ]
  },
  {
   "cell_type": "code",
   "execution_count": 200,
   "metadata": {},
   "outputs": [],
   "source": [
    "data.append([material_id.parts[1], formation_energy])"
   ]
  },
  {
   "cell_type": "code",
   "execution_count": 199,
   "metadata": {},
   "outputs": [
    {
     "data": {
      "text/plain": [
       "1220929"
      ]
     },
     "execution_count": 199,
     "metadata": {},
     "output_type": "execute_result"
    }
   ],
   "source": [
    "material_id.parts[1]"
   ]
  },
  {
   "cell_type": "code",
   "execution_count": 201,
   "metadata": {},
   "outputs": [
    {
     "data": {
      "text/plain": [
       "[[MPID(mp-1220929), 0.113019668777092], [1220929, 0.113019668777092]]"
      ]
     },
     "execution_count": 201,
     "metadata": {},
     "output_type": "execute_result"
    }
   ],
   "source": [
    "data"
   ]
  },
  {
   "cell_type": "code",
   "execution_count": 202,
   "metadata": {},
   "outputs": [
    {
     "data": {
      "text/html": [
       "<div>\n",
       "<style scoped>\n",
       "    .dataframe tbody tr th:only-of-type {\n",
       "        vertical-align: middle;\n",
       "    }\n",
       "\n",
       "    .dataframe tbody tr th {\n",
       "        vertical-align: top;\n",
       "    }\n",
       "\n",
       "    .dataframe thead th {\n",
       "        text-align: right;\n",
       "    }\n",
       "</style>\n",
       "<table border=\"1\" class=\"dataframe\">\n",
       "  <thead>\n",
       "    <tr style=\"text-align: right;\">\n",
       "      <th></th>\n",
       "      <th>materials_id</th>\n",
       "      <th>formation_energy_per_atom</th>\n",
       "    </tr>\n",
       "  </thead>\n",
       "  <tbody>\n",
       "    <tr>\n",
       "      <th>0</th>\n",
       "      <td>mp-1220929</td>\n",
       "      <td>0.11302</td>\n",
       "    </tr>\n",
       "    <tr>\n",
       "      <th>1</th>\n",
       "      <td>1220929</td>\n",
       "      <td>0.11302</td>\n",
       "    </tr>\n",
       "  </tbody>\n",
       "</table>\n",
       "</div>"
      ],
      "text/plain": [
       "  materials_id  formation_energy_per_atom\n",
       "0   mp-1220929                    0.11302\n",
       "1      1220929                    0.11302"
      ]
     },
     "execution_count": 202,
     "metadata": {},
     "output_type": "execute_result"
    }
   ],
   "source": [
    "# Создаём датафрейм\n",
    "df = pd.DataFrame(data, columns=['materials_id', 'formation_energy_per_atom'])\n",
    "df"
   ]
  },
  {
   "cell_type": "code",
   "execution_count": null,
   "metadata": {},
   "outputs": [],
   "source": [
    "# Список для хранения данных\n",
    "data = []\n",
    "\n",
    "# Формируем содержимое файла в цикле\n",
    "for material in tqdm(docs):\n",
    "    material_id = material.material_id\n",
    "    formula = material.formula_pretty\n",
    "\n",
    "    # Запрашиваем информацию о целевом свойстве материала\n",
    "    material_data = mpr.summary.get_data_by_id(material_id, fields=[\"formation_energy_per_atom\"])\n",
    "\n",
    "    # Получим значение энергии образования вещества эВ/атом\n",
    "    formation_energy = material_data.formation_energy_per_atom\n",
    "\n",
    "    # добавляем донные в список\n",
    "    data.append([material_id.parts[1], formation_energy])"
   ]
  },
  {
   "cell_type": "code",
   "execution_count": 208,
   "metadata": {},
   "outputs": [
    {
     "data": {
      "text/plain": [
       "559"
      ]
     },
     "execution_count": 208,
     "metadata": {},
     "output_type": "execute_result"
    }
   ],
   "source": [
    "len(data)"
   ]
  },
  {
   "cell_type": "code",
   "execution_count": 209,
   "metadata": {},
   "outputs": [],
   "source": [
    "# Создаём датафрейм\n",
    "df = pd.DataFrame(data, columns=['materials_id', 'formation_energy_per_atom'])"
   ]
  },
  {
   "cell_type": "code",
   "execution_count": 210,
   "metadata": {},
   "outputs": [
    {
     "data": {
      "text/html": [
       "<div>\n",
       "<style scoped>\n",
       "    .dataframe tbody tr th:only-of-type {\n",
       "        vertical-align: middle;\n",
       "    }\n",
       "\n",
       "    .dataframe tbody tr th {\n",
       "        vertical-align: top;\n",
       "    }\n",
       "\n",
       "    .dataframe thead th {\n",
       "        text-align: right;\n",
       "    }\n",
       "</style>\n",
       "<table border=\"1\" class=\"dataframe\">\n",
       "  <thead>\n",
       "    <tr style=\"text-align: right;\">\n",
       "      <th></th>\n",
       "      <th>materials_id</th>\n",
       "      <th>formation_energy_per_atom</th>\n",
       "    </tr>\n",
       "  </thead>\n",
       "  <tbody>\n",
       "    <tr>\n",
       "      <th>556</th>\n",
       "      <td>1194890</td>\n",
       "      <td>-0.066535</td>\n",
       "    </tr>\n",
       "    <tr>\n",
       "      <th>557</th>\n",
       "      <td>1194936</td>\n",
       "      <td>-0.049193</td>\n",
       "    </tr>\n",
       "    <tr>\n",
       "      <th>558</th>\n",
       "      <td>1220929</td>\n",
       "      <td>0.113020</td>\n",
       "    </tr>\n",
       "  </tbody>\n",
       "</table>\n",
       "</div>"
      ],
      "text/plain": [
       "     materials_id  formation_energy_per_atom\n",
       "556       1194890                  -0.066535\n",
       "557       1194936                  -0.049193\n",
       "558       1220929                   0.113020"
      ]
     },
     "execution_count": 210,
     "metadata": {},
     "output_type": "execute_result"
    }
   ],
   "source": [
    "# смотрим, что получили\n",
    "df.tail(3)"
   ]
  },
  {
   "cell_type": "code",
   "execution_count": 211,
   "metadata": {},
   "outputs": [],
   "source": [
    "# сохраняем данные в файле csv по указанной ссылке\n",
    "PATH_FILE = ('C:/Users/lazarevnv/Desktop/materials_science/code_materials/graphs_code/for_cif_files/id_prop.csv')\n",
    "df.to_csv(PATH_FILE, index=False, encoding='utf-8', sep=',')"
   ]
  }
 ],
 "metadata": {
  "kernelspec": {
   "display_name": "venv_materials_5",
   "language": "python",
   "name": "python3"
  },
  "language_info": {
   "codemirror_mode": {
    "name": "ipython",
    "version": 3
   },
   "file_extension": ".py",
   "mimetype": "text/x-python",
   "name": "python",
   "nbconvert_exporter": "python",
   "pygments_lexer": "ipython3",
   "version": "3.12.0"
  }
 },
 "nbformat": 4,
 "nbformat_minor": 2
}
