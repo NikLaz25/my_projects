{
 "cells": [
  {
   "cell_type": "markdown",
   "metadata": {},
   "source": [
    "### Описание проекта\n",
    "\n",
    "\n",
    "Программа готовит отчёт по выбросам, для загрузки и анализа в Power BI. А также датафрейм с очищенными данными"
   ]
  },
  {
   "cell_type": "markdown",
   "metadata": {},
   "source": [
    "### Основные библиотеки"
   ]
  },
  {
   "cell_type": "code",
   "execution_count": 1,
   "metadata": {},
   "outputs": [],
   "source": [
    "# основные библиотеки\n",
    "import pandas as pd\n",
    "import numpy as np\n",
    "\n",
    "# библиотеки для графиков\n",
    "import matplotlib.pyplot as plt\n",
    "import seaborn as sns\n",
    "\n",
    "#настройка, чтобы можно было просматривать все столбцы датафрейма\n",
    "import matplotlib\n",
    "matplotlib.rcParams.update({'font.size': 14})\n",
    "pd.options.display.max_columns = 100\n",
    "\n",
    "import pyodbc\n",
    "\n",
    "# этот волшебный код убирает ненужные предупреждения об ошибках\n",
    "import warnings\n",
    "warnings.filterwarnings('ignore')\n",
    "\n",
    "#  визуализация прогресса прохождения цикла\n",
    "from tqd import tqd\n"
   ]
  },
  {
   "cell_type": "code",
   "execution_count": 2,
   "metadata": {},
   "outputs": [],
   "source": [
    "from datetime import datetime, timedelta"
   ]
  },
  {
   "cell_type": "markdown",
   "metadata": {},
   "source": [
    "### Функции загрузки данных"
   ]
  },
  {
   "cell_type": "code",
   "execution_count": 3,
   "metadata": {},
   "outputs": [],
   "source": [
    "def import_s():\n",
    "\n",
    "    '''Функция загрузки и первичной обработки df_s'''\n",
    "    \n",
    "    # зададим параметры соединения с базой данных\n",
    "    cn = pyodbc.connect(\"Driver={SQL Server Native Client 11.0};Server=a;Database=d;Trusted_Connection=yes\")\n",
    "    # загрузим s\n",
    "    df_s = pd.read_sql_query(' \\\n",
    "            SELECT\\\n",
    "            s.[Дата] \\\n",
    "            ,klient.[Партнер ID]  \\\n",
    "            ,s.[Продукт ID]  \\\n",
    "            ,s.[Количество] AS [Количество] \\\n",
    "            ,s.[Сумма] AS [СуммаRUR]  \\\n",
    "            ,price.БазоваяЦенаRUR  \\\n",
    "            ,s.Цена  \\\n",
    "            ,s.[Тип операции ID] \\\n",
    "        FROM a.[d].[s].[s] AS s \\\n",
    "            LEFT JOIN [d].[s].[Клиент] AS klient  \\\n",
    "                ON s.[Клиент ID] = klient.[Клиент ID]  \\\n",
    "            LEFT JOIN a.[d].Продукт.Продукт AS prod \\\n",
    "                ON prod.[Продукт ID] = s.[Продукт ID]  \\\n",
    "            LEFT JOIN Sycorax.[Analitics].[RokinaEV].[РасходныеЦеныДляСкПргП] AS price \\\n",
    "                ON prod.[Код 1C] = price.[КодНоменклатуры]  \\\n",
    "        WHERE YEAR(s.[Дата]) >= 2022\\\n",
    "        ORDER BY \\\n",
    "            klient.[Партнер ID] \\\n",
    "            ,s.[Дата] \\\n",
    "            ,[Продукт ID] \\\n",
    "    ', cn)\n",
    "    \n",
    "    # подготовим запасной столбец с первоначальным индексом\n",
    "    df_s = df_s.reset_index()\n",
    "    \n",
    "    # изменим формат поля Дата на datetime\n",
    "    df_s['Дата_'] = pd.to_datetime(df_s['Дата'], format='%Y-%m-%d')\n",
    "    # добавляем поле месяц\n",
    "    df_s['Месяц'] = df_s['Дата_'].dt.floor('d')+pd.offsets.MonthEnd(0)-pd.offsets.MonthBegin(1)\n",
    "    # Добавляем год для группировки\n",
    "    df_s['Год'] = pd.DatetimeIndex(df_s['Дата']).year\n",
    "    \n",
    "    return df_s\n",
    "    "
   ]
  },
  {
   "cell_type": "code",
   "execution_count": 4,
   "metadata": {},
   "outputs": [],
   "source": [
    "def import_kn():\n",
    "    \n",
    "    '''Функция загрузки классификатора'''\n",
    "    \n",
    "    # зададим параметры соединения с базой данных\n",
    "    cn = pyodbc.connect(\"Driver={SQL Server Native Client 11.0};Server=a;Database=d;Trusted_Connection=yes\")\n",
    "    \n",
    "    # загрузка классификатора номенклатуры\n",
    "    df_kn = pd.read_sql_query(' \\\n",
    "        SELECT  \\\n",
    "        prod.[Продукт ID] \\\n",
    "        ,prod.[Код 1C] AS КодНоменклатуры \\\n",
    "        ,prod.[Код Md] \\\n",
    "        ,prod.[Артикул] \\\n",
    "        ,prod.[Продукт] \\\n",
    "        ,prod.[ДДП ID] \\\n",
    "        ,ddp.Категория \\\n",
    "        ,ddp.Направление \\\n",
    "        ,ddp.Группа \\\n",
    "        ,ddp.Подгруппа \\\n",
    "      FROM [d].[Продукт].[Продукт] AS prod \\\n",
    "      LEFT JOIN [d].[Продукт].[ДДП] AS ddp \\\n",
    "        ON prod.[ДДП ID] = ddp.[ДДП ID] \\\n",
    "                              ', cn)\n",
    "     \n",
    "    return df_kn"
   ]
  },
  {
   "cell_type": "code",
   "execution_count": 5,
   "metadata": {},
   "outputs": [],
   "source": [
    "def import_kontragent_all():\n",
    "    \n",
    "    '''Функция загрузки df_kontragent'''\n",
    "    \n",
    "    # зададим параметры соединения с базой данных\n",
    "    kk = pyodbc.connect(\"Driver={SQL Server Native Client 11.0};Server=a;Database=d;Trusted_Connection=yes\")\n",
    "    \n",
    "    # загрузим датафрейм\n",
    "    df_kontragent = pd.read_sql_query('\\\n",
    "        SELECT\\\n",
    "            contr.[Контрагент ID] AS [Контрагент ID]\\\n",
    "            ,dim.PartnerCod_1C AS КодКонтрагента\\\n",
    "            ,contr.Контрагент  AS НаименованиеКонтрагента\\\n",
    "        \\\n",
    "        FROM a.[d].Контрагенты.Контрагент AS contr\\\n",
    "        \\\n",
    "        LEFT JOIN a.[FRAMBOISE].[dwh].[DimPartner] AS dim\\\n",
    "            ON dim.PartnerKey_1C = contr.[GUID 1C]\\\n",
    "        \\\n",
    "        ORDER BY\\\n",
    "            contr.[Контрагент ID]', kk)\n",
    "    return df_kontragent"
   ]
  },
  {
   "cell_type": "code",
   "execution_count": 6,
   "metadata": {},
   "outputs": [],
   "source": [
    "def import_status():\n",
    "    \n",
    "    '''Функция загрузки df_status'''\n",
    "    \n",
    "    # зададим параметры соединения с базой данных\n",
    "    kk = pyodbc.connect(\"Driver={SQL Server Native Client 11.0};Server=Sycorax;Database=Analiticsdp;Trusted_Connection=yes\")\n",
    "    \n",
    "    # загрузим датафрейм\n",
    "    df_kontragent = pd.read_sql_query('\\\n",
    "       SELECT [Контрагент ID]\\\n",
    "      ,[Контрагент]\\\n",
    "      ,[Актуальные_s]\\\n",
    "      FROM [Analiticsdp].[dbo].[sстатусы_партнёров]', kk)\n",
    "    return df_kontragent"
   ]
  },
  {
   "cell_type": "code",
   "execution_count": 7,
   "metadata": {},
   "outputs": [],
   "source": [
    "def import_all_df():\n",
    "    '''Функция загружает все таблицы'''\n",
    "    df_s = import_s()\n",
    "    df_kn_ = import_kn()\n",
    "    df_kontragent = import_kontragent_all()\n",
    "    df_status = import_status()\n",
    "\n",
    "    return df_s, df_kn_, df_kontragent, df_status"
   ]
  },
  {
   "cell_type": "markdown",
   "metadata": {},
   "source": [
    "### Функции обработки данных"
   ]
  },
  {
   "cell_type": "code",
   "execution_count": 8,
   "metadata": {},
   "outputs": [],
   "source": [
    "def price_calculation(df_order_, limit_tru_price):\n",
    "    '''Функция добавляет в отчёт столбец с расчётной ценой'''\n",
    "    \n",
    "    # формируем новые поля\n",
    "    df_order_['Цена_расчёт'] = df_order_['СуммаRUR'] / df_order_['Количество']\n",
    "    df_order_['Цена_расчёт/Баз_цена'] = df_order_['Цена_расчёт'] / df_order_['БазоваяЦенаRUR']\n",
    "    \n",
    "    # расчет отношения для отсутствующей базовой цены\n",
    "    # в этом случае используем цену из s\n",
    "    df_order_.loc[df_order_['Цена_расчёт/Баз_цена'].isna(), 'Цена_расчёт/Баз_цена'] = df_order_['Цена_расчёт'] / df_order_['Цена']\n",
    "    \n",
    "    # формируем и заполняем поле подозрительной цены\n",
    "    df_order_['Подозрительная_цена'] = 0\n",
    "    df_order_.loc[(df_order_['Цена_расчёт/Баз_цена'] >= limit_tru_price)|\n",
    "                (df_order_['Цена_расчёт/Баз_цена'] <= 1/limit_tru_price)&\n",
    "                ((df_order_['Цена_расчёт/Баз_цена'] != 0)), \\\n",
    "                'Подозрительная_цена'] = 1\n",
    "    \n",
    "    return df_order_"
   ]
  },
  {
   "cell_type": "code",
   "execution_count": 9,
   "metadata": {},
   "outputs": [],
   "source": [
    "def sku_blowout(df_s, sku, q_max):\n",
    "\n",
    "    '''Функция формирует поле с выбросами в указанном столбце для указанного sku по заданным квантилям'''\n",
    "    df_sku = df_s.loc[df_s['Продукт ID']==sku]\n",
    "    # вычисляем значения квантили в заданном столбце\n",
    "    q_max_rur = df_sku['СуммаRUR'].quantile(q_max)\n",
    "    \n",
    "    df_s.loc[(df_s['Продукт ID']==sku)&\\\n",
    "              (df_s['СуммаRUR'].abs() >= q_max_rur),\\\n",
    "              'Подозрительно_RUR'] = 1    \n",
    " \n",
    "    q_max_ = df_sku['Количество'].quantile(q_max)\n",
    "    \n",
    "    df_s.loc[(df_s['Продукт ID']==sku)&\n",
    "              (df_s['Количество'].abs() >= q_max_),\\\n",
    "              'Подозрительно_количество'] = 1\n",
    "    \n",
    "    return df_s"
   ]
  },
  {
   "cell_type": "code",
   "execution_count": 10,
   "metadata": {},
   "outputs": [],
   "source": [
    "def cycle_sku_blowout(df_s, q_max):\n",
    "    \n",
    "    '''Функция проходится циклом поиска выбросов для каждой SKU'''\n",
    "    df_s['Подозрительно_RUR'] = 0\n",
    "    df_s['Подозрительно_количество'] = 0\n",
    "    \n",
    "    for i in tqd(srted(df_s['Продукт ID'].unique())):\n",
    "        df_s = sku_blowout(df_s, i, q_max)\n",
    "    return df_s"
   ]
  },
  {
   "cell_type": "code",
   "execution_count": 11,
   "metadata": {},
   "outputs": [],
   "source": [
    "def row_quant(df_, column_name, q_max):\n",
    "\n",
    "    '''Функция формирует поле с выбросами в указанном столбце по заданным квантилям'''\n",
    "    # подходит только для котлового метода\n",
    "    \n",
    "    # вычисляем значения квантили в заданном столбце\n",
    "    q_max = df_[column_name].quantile(q_max)\n",
    "    \n",
    "    # формируем условия\n",
    "    conditions = (df_[column_name].abs() >= q_max)\n",
    "    \n",
    "    new_column_name = 'Подозрительно_' + column_name + '_котловой_метод'\n",
    "    df_[new_column_name] = 0\n",
    "    df_.loc[conditions, new_column_name] = 1\n",
    "    \n",
    "    return df_"
   ]
  },
  {
   "cell_type": "code",
   "execution_count": 12,
   "metadata": {},
   "outputs": [],
   "source": [
    "def quantity_zero(df_):\n",
    "    \n",
    "    '''Функция создает новое поле с признаком  Количество=0 при СуммаRUR != 0'''\n",
    "\n",
    "    df_['Количество=0'] = 0\n",
    "    df_.loc[(df_['Количество']==0)&(df_['СуммаRUR']!=0), 'Количество=0'] = 1\n",
    "    return df_"
   ]
  },
  {
   "cell_type": "code",
   "execution_count": 13,
   "metadata": {},
   "outputs": [],
   "source": [
    "# считаю целесообразным применять эту функцию только для отчета по ошибкам\n",
    "def rur_zero(df_order_):\n",
    "    \n",
    "    '''Функция создает новое поле с признаком СуммаRUR=0 при Количество!=0'''\n",
    "    df_order_['СуммаRUR=0'] = 0\n",
    "    df_order_.loc[(df_order_['СуммаRUR']==0) & \n",
    "                  ((df_order_['Количество']!=0)), 'СуммаRUR=0'] = 1\n",
    "    return df_order_"
   ]
  },
  {
   "cell_type": "code",
   "execution_count": 14,
   "metadata": {},
   "outputs": [],
   "source": [
    "def free_memory(df_kn_, df_kontragent_):\n",
    "    # удаляем df_kn для освобождения памяти\n",
    "    df_kn.drop(df_kn.index, inplace=True)\n",
    "    # удаляем df_kontragent для освобождения памяти\n",
    "    df_kontragent.drop(df_kontragent.index, inplace=True)\n",
    "\n",
    "    return df_kn_, df_kontragent_"
   ]
  },
  {
   "cell_type": "code",
   "execution_count": 15,
   "metadata": {},
   "outputs": [],
   "source": [
    "def make_processing(df_s, df_kn_, df_kontragent_, q_max=0.999975):\n",
    "    '''Функция обработки данных'''\n",
    "    # добавляем данные о продукте\n",
    "    df_s = df_s.merge(df_kn_, on= ['Продукт ID'], how='left')\n",
    "\n",
    "    '''Выжный шаг. Запускаем цикл расчёта выбросов по каждому sku в отдельности'''\n",
    "    # запускаем цикл для квантили 0.999975\n",
    "    df_s = cycle_sku_blowout(df_s, q_max)\n",
    "\n",
    "    #Следующий шаг. Добавляем данные о партнёре\n",
    "    df_s = df_s.merge(df_kontragent_, left_on = ['Партнер ID'], \\\n",
    "                          right_on = ['Контрагент ID'], how='left')\n",
    "\n",
    "    # Следующий шаг. Добавляем в общий файл расчетную цену, отношение цен, и признак Подозрительная цена, где отношение цен более заданного значения.\n",
    "    # добавляем в df_s расчетную цену\n",
    "    # и создаем критерий Подозрительная_цена\n",
    "    limit_tru_price = 5 # отношение цен не более данного значения, если больше-то подозрительно\n",
    "    df_s = price_calculation(df_s, limit_tru_price)\n",
    "\n",
    "    # Добавляем критерии подозрительных s по руб и кол-ву котловым Функцияом\n",
    "    # формируем поле с выбросами по количеству котловым Функцияом\n",
    "    df_s = row_quant(df_s, 'Количество', q_max)\n",
    "    \n",
    "    # формируем поле с выбросами по СуммаRUR котловым Функцияом\n",
    "    df_s = row_quant(df_s, 'СуммаRUR', 0.999975)\n",
    "\n",
    "    # создаём поле Количество=0\n",
    "    df_s = quantity_zero(df_s)\n",
    "    \n",
    "    # удалим таблицы для освобождения памяти\n",
    "    df_kn_, df_kontragent_ = free_memory(df_kn_, df_kontragent_)\n",
    "\n",
    "    return df_s, df_kn_, df_kontragent_\n"
   ]
  },
  {
   "cell_type": "markdown",
   "metadata": {},
   "source": [
    "### Функции отчёта по выбросам"
   ]
  },
  {
   "cell_type": "code",
   "execution_count": 16,
   "metadata": {},
   "outputs": [],
   "source": [
    "def sorder(df_s):\n",
    "    '''Функция формирует отчёт по выбросам'''\n",
    "    # формируем условия отбора для отчёта о выбросах\n",
    "    selection_conditions = \\\n",
    "        (df_s['Подозрительно_RUR'] ==1)\\\n",
    "        |(df_s['Подозрительно_количество'] ==1)\\\n",
    "        |(df_s['Подозрительная_цена'] ==1)\\\n",
    "        |(df_s['Подозрительно_Количество_котловой_Функция'] ==1)\\\n",
    "        |(df_s['Подозрительно_СуммаRUR_котловой_Функция'] ==1)\\\n",
    "        |(df_s['Количество=0'] == 1)\n",
    "    \n",
    "    # формируем датафрейм с выбросами для последующей выгрузки\n",
    "    df_order = df_s.loc[selection_conditions]\n",
    "\n",
    "    # формируем поле СуммаRUR=0\n",
    "    df_order = rur_zero(df_order)\n",
    "\n",
    "    #  подтверждение того, что в отчёте подозрительных s нет пропусков\n",
    "    print('Проверяем, что бы в отчёте подозрительных s небыло пропусков')\n",
    "    display(df_order.isna().sum())\n",
    "\n",
    "    print('Смотрим количество полученных строк', 'df_s', df_s.shape, 'df_order', df_order.shape)\n",
    "\n",
    "    # смотрим количество строк по критериям подозрительности\n",
    "    print('смотрим количество строк по критериям подозрительности')\n",
    "    display(df_order[['Подозрительно_RUR', 'Подозрительно_количество',  \n",
    "            'Подозрительная_цена',\n",
    "            'Подозрительно_Количество_котловой_Функция', 'Подозрительно_СуммаRUR_котловой_метод', \n",
    "            'Количество=0', 'СуммаRUR=0']].sum())\n",
    "    \n",
    "    return df_order"
   ]
  },
  {
   "cell_type": "code",
   "execution_count": 17,
   "metadata": {},
   "outputs": [],
   "source": [
    "def save_order(file_name='oder_blowout_'):\n",
    "    '''Функция выгружает отчёт c выбросами в файл csv'''\n",
    "    PREPARED_DATASET_PATH = 'C:/Users/lazarevnv/Desktop/projectspython/project_swarning_filter/order_blowout/{name}.csv'\n",
    "    df_order.to_csv(PREPARED_DATASET_PATH, index=False)"
   ]
  },
  {
   "cell_type": "markdown",
   "metadata": {},
   "source": [
    "### Функции создания df_clean таблицы без ошибочных s "
   ]
  },
  {
   "cell_type": "code",
   "execution_count": 18,
   "metadata": {},
   "outputs": [],
   "source": [
    "def cycle_index_for_delete_all(df_s, dict_from_delete):\n",
    "    \n",
    "    '''Функция формирует общий список индексов тех строк которые мы потом будем удалять'''\n",
    "    # формируем пустой общий список индексов тех строк которые мы потом будем удалять\n",
    "    list_index_for_delete_all = []\n",
    "    n=0\n",
    "    # пройдёмся циклом по словарю удаления и сформируем общий список индексов\n",
    "    for kontr_id in dict_from_delete:\n",
    "        for sku_id in dict_from_delete[kontr_id]:\n",
    "            list_index_for_delete = df_s.loc[(df_s['Контрагент ID']==kontr_id)&(df_s['Продукт ID']==sku_id), 'index'].to_list()\n",
    "            list_index_for_delete_all.extend(list_index_for_delete)\n",
    "            n += 1\n",
    "            print('Номер цикла:', n)\n",
    "        print('Новый контрагент', '\\n\\n')\n",
    "    return list_index_for_delete_all"
   ]
  },
  {
   "cell_type": "code",
   "execution_count": 19,
   "metadata": {},
   "outputs": [],
   "source": [
    "def sclean(df_s, actual_date = '2000-01-01'):\n",
    "    '''Функция формирует датафрейм только с нужными очищенными s'''\n",
    "\n",
    "    # загружаем статусы\n",
    "    df_status = import_status()\n",
    "    print('print_df_status', df_status)\n",
    "\n",
    "    # формируем список ID контрагентов которых мы оставим\n",
    "    id_for_etm = 5663\n",
    "    list_need_kontragent = df_status.loc[(df_status['Актуальные_s']==1)\\\n",
    "                                         |(df_status['Контрагент ID']== id_for_etm),\\\n",
    "                                         'Контрагент ID'].to_list()\n",
    "    print('print_list_need_kontragent', list_need_kontragent)\n",
    "    # формируем булевую маску для условия нужных контрагентов\n",
    "    condition_need_kontragent = df_s['Контрагент ID'].isin(list_need_kontragent)\n",
    "    print('print_condition_need_kontragent', condition_need_kontragent)\n",
    "    # получим датафрейм для формирования словаря удаления\n",
    "    df_for_dict = df_s[['index', 'Партнер ID', 'Продукт ID', 'Код Md']].loc[condition_need_kontragent & (\n",
    "                (df_s['Подозрительная_цена'] == 1)\n",
    "                |(df_s['Подозрительно_количество'] == 1)\n",
    "                |(df_s['Подозрительно_RUR'] == 1)\n",
    "                |(df_s['Подозрительно_Количество_котловой_Функция'] == 1)\n",
    "                )]\n",
    "    print('print_df_for_dict', df_for_dict)\n",
    "    # получим список партнёров из df_for_dict для формирования словаря удаления\n",
    "    list_kontragentid_for_dict = list(set(df_for_dict['Партнер ID']))\n",
    "    print('print_list_kontragentid_for_dict', list_kontragentid_for_dict)\n",
    "    # формируем словарь для удаления\n",
    "    dict_from_delete = {}\n",
    "\n",
    "    # циклом прохождения по партнёрам подготовим словарь для удаления\n",
    "    for kontr_id in tqd(list_kontragentid_for_dict):\n",
    "\n",
    "        list_sku_id = list(set(df_for_dict.loc[df_for_dict['Партнер ID'] == kontr_id, 'Код Md']))\n",
    "        \n",
    "        dict_from_delete[kontr_id] = list_sku_id\n",
    "    print('print_dict_from_delete', dict_from_delete)\n",
    "    #  почистим память\n",
    "    df_for_dict.drop(df_for_dict.index, inplace=True)\n",
    "    print('print_df_for_dict', df_for_dict)\n",
    "    \n",
    "    # получили датафрейм только по тем контрагентам, которые нам нужны\n",
    "    df_s = df_s.loc[df_s['Контрагент ID'].isin(list_need_kontragent)]\n",
    "    print('print_df_s только по тем контрагентам, которые нам нужны', df_s)\n",
    "    \n",
    "    # Теперь нужно подготовить общий список индексов для удаления из df_sneed_contragent\n",
    "    # запускаем цикл формирования списка list_index_for_delete_all\n",
    "    list_index_for_delete_all = cycle_index_for_delete_all(df_s, dict_from_delete)\n",
    "    print('print_list_index_for_delete_all общий список индексов для удаления', list_index_for_delete_all)\n",
    "    \n",
    "    # смотрим сколько строк нужно удалить\n",
    "    line_all = df_s['index'].count()\n",
    "    print('print_line_all смотрим сколько всего строк', line_all)\n",
    "    \n",
    "    delete_line = len(list_index_for_delete_all)\n",
    "    print('print_delete_line смотрим сколько строк нужно удалить', delete_line)\n",
    "    print(f'Нужно удалить {round(delete_line/10**6, 2)} млн. строк из {round(line_all/10**6, 2)} млн., что составляет {round(delete_line/line_all*100)}% ')\n",
    "\n",
    "    # Теперь самое интересное. Нужно убрать из df_s строки с индексами из list_index_for_delete_all\n",
    "\n",
    "    # сформируем файл с очищенными и сгруппированными данными\n",
    "    df_sclean = df_s[['Партнер ID', 'КодКонтрагента',\n",
    "                        'Код Md', 'КодНоменклатуры', \n",
    "                        'Месяц',\n",
    "                        'Количество', 'СуммаRUR']]\\\n",
    "    .loc[~df_s['index'].isin(list_index_for_delete_all)]\\\n",
    "    .groupby(['Партнер ID', 'КодКонтрагента',\n",
    "            'Код Md', 'КодНоменклатуры', \n",
    "            'Месяц']).sum().reset_index()\n",
    "    print('df_sclean', df_sclean)\n",
    "    # добавим поле ДатаАктуальности\n",
    "    df_sclean['ДатаАктуальности'] = actual_date\n",
    "\n",
    "    return df_sclean\n"
   ]
  },
  {
   "cell_type": "code",
   "execution_count": 20,
   "metadata": {},
   "outputs": [],
   "source": [
    "def export_sclean(df_sclean):\n",
    "    \n",
    "    '''Функция экспортирует данные df_sclean в базу данных Analitics'''\n",
    "    data_server = 'sycorax'\n",
    "    database = 'Analitics'\n",
    "    cn = pyodbc.connect(\"Driver={SQL Server Native Client 11.0};\\\n",
    "                        Server=\"+data_server+\";Database=\"+database+\";Trusted_Connection=yes\")\n",
    "    cursr = cn.cursr()\n",
    "    for index, row in tqd(df_sclean.iterrows()):\n",
    "        cursr.execute(\n",
    "            \"INSERT INTO  dbo.[sclean] (\\\n",
    "             [Партнер ID], [КодКонтрагента], [Код Md], [КодНоменклатуры],\\\n",
    "             [Месяц],\\\n",
    "             [Количество], [СуммаRUR],\\\n",
    "             [ДатаАктуальности] \\\n",
    "                                                ) \\\n",
    "            values(?,?,?,?,?,?,?,?)\",\n",
    "\n",
    "            row['Партнер ID'], row['КодКонтрагента'], \n",
    "            row['Код Md'], row['КодНоменклатуры'], \n",
    "            row['Месяц'], \n",
    "            row['Количество'], row['СуммаRUR'],\n",
    "            row['ДатаАктуальности']\n",
    "        )\n",
    "\n",
    "    cn.commit()\n",
    "    cursr.close()\n",
    "    cn.close()"
   ]
  },
  {
   "cell_type": "code",
   "execution_count": 39,
   "metadata": {},
   "outputs": [],
   "source": [
    "def save_file(df, file_name):\n",
    "    # на всякий случай выгружаем очищенные строки в файл csv\n",
    "    PREPARED_DATASET_PATH = f'C:/Users/lazarevnv/Desktop/projectspython/project_swarning_filter/order_blowout/{file_name}.csv'\n",
    "    df.to_csv(PREPARED_DATASET_PATH, index=False)"
   ]
  },
  {
   "cell_type": "markdown",
   "metadata": {},
   "source": [
    "### Запускаем выполнение функций"
   ]
  },
  {
   "cell_type": "code",
   "execution_count": 22,
   "metadata": {},
   "outputs": [],
   "source": [
    "# Загружаем данные\n",
    "df_s, df_kn, df_kontragent, df_status =  import_all_df()"
   ]
  },
  {
   "cell_type": "code",
   "execution_count": 23,
   "metadata": {},
   "outputs": [
    {
     "name": "stderr",
     "output_type": "stream",
     "text": [
      "100%|██████████| 18608/18608 [2:22:32<00:00,  2.18it/s]  \n"
     ]
    }
   ],
   "source": [
    "# обрабатываем данные в df_s\n",
    "df_s, df_kn, df_kontragent = make_processing(df_s, df_kn, df_kontragent)"
   ]
  },
  {
   "cell_type": "code",
   "execution_count": null,
   "metadata": {},
   "outputs": [],
   "source": [
    "# готовим отчёт по выбросам\n",
    "df_order = sorder(df_s)"
   ]
  },
  {
   "cell_type": "code",
   "execution_count": 42,
   "metadata": {},
   "outputs": [
    {
     "data": {
      "text/plain": [
       "(699212, 33)"
      ]
     },
     "execution_count": 42,
     "metadata": {},
     "output_type": "execute_result"
    }
   ],
   "source": [
    "df_order.shape"
   ]
  },
  {
   "cell_type": "code",
   "execution_count": null,
   "metadata": {},
   "outputs": [],
   "source": [
    "df_order.tail(3)"
   ]
  },
  {
   "cell_type": "code",
   "execution_count": 40,
   "metadata": {},
   "outputs": [
    {
     "name": "stdout",
     "output_type": "stream",
     "text": [
      "CPU times: total: 10.2 s\n",
      "Wall time: 12.9 s\n"
     ]
    }
   ],
   "source": [
    "%%time\n",
    "#  выгружаем отчёт по выбросам\n",
    "save_file(df_order, 'oder_blowout_08_08_2023')"
   ]
  },
  {
   "cell_type": "code",
   "execution_count": null,
   "metadata": {},
   "outputs": [],
   "source": [
    "df_sclean = sclean(df_s, '2023-08-08')"
   ]
  },
  {
   "cell_type": "markdown",
   "metadata": {},
   "source": [
    "#### Фильтруем ситуацию с отсутствием данных в периоде 90 дней"
   ]
  },
  {
   "cell_type": "code",
   "execution_count": 116,
   "metadata": {},
   "outputs": [
    {
     "data": {
      "text/plain": [
       "(1093801, 8)"
      ]
     },
     "execution_count": 116,
     "metadata": {},
     "output_type": "execute_result"
    }
   ],
   "source": [
    "df_sclean.shape"
   ]
  },
  {
   "cell_type": "code",
   "execution_count": 26,
   "metadata": {},
   "outputs": [
    {
     "data": {
      "text/plain": [
       "(1092690, 8)"
      ]
     },
     "execution_count": 26,
     "metadata": {},
     "output_type": "execute_result"
    }
   ],
   "source": [
    "df_sclean.shape"
   ]
  },
  {
   "cell_type": "code",
   "execution_count": 27,
   "metadata": {},
   "outputs": [],
   "source": [
    "def cycle_index_for_delete_all(df_sclean_):\n",
    "\n",
    "    '''Функция формирует список индексов для удаления'''\n",
    "    '''по критерию отсутствия продаж в период 90 дней'''\n",
    "    # зададим дату окончания исторического периода\n",
    "    hist_date_end = str(datetime.now().date()-timedelta(days=61))\n",
    "    # инициируем список для заполнения\n",
    "    list_index_for_delete_all = []\n",
    "    partner_set = set(df_sclean_['Партнер ID'])\n",
    "    print('Всего партнёров:', len(partner_set))\n",
    "    \n",
    "    # цикл по партнёрам\n",
    "    for partner_id in tqd(partner_set):\n",
    "        # создадим df для конкретного партнёра в цикле\n",
    "        df_partner = df_sclean_.loc[(df_sclean_['Партнер ID'] == partner_id)]\n",
    "\n",
    "        # цикл по sku\n",
    "        for sku_id in set(df_partner['Код Md']):\n",
    "            # создадим df для конкретного sku для выбранного партнёра\n",
    "            df_partner_sku = df_partner.loc[(df_partner['Код Md'] == sku_id)]\n",
    "            \n",
    "            # определим s количество в историческом периоде\n",
    "            hist_quantity = int(df_partner_sku.loc[df_partner_sku['Месяц']<= hist_date_end\n",
    "                    ,'Количество'].sum())\n",
    "            # определим s количество в периоде 90 дней\n",
    "            ninety_daysquantity = int(df_partner_sku.loc[df_partner_sku['Месяц'] > hist_date_end\n",
    "                            ,'Количество'].sum())\n",
    "            if hist_quantity > 0 and ninety_daysquantity == 0:\n",
    "                list_index_for_delete = df_partner_sku.index\n",
    "                list_index_for_delete_all.extend(list_index_for_delete)\n",
    "    return list_index_for_delete_all"
   ]
  },
  {
   "cell_type": "code",
   "execution_count": 28,
   "metadata": {},
   "outputs": [],
   "source": [
    "def sclean_ninety_days(df_sclean_):\n",
    "    \n",
    "    '''Функция очищает df_sclean по списку список индексов для удаления'''\n",
    "    '''по критерию отсутствия продаж в период 90 дней'''\n",
    "    # вызываем функцию удаления \n",
    "    list_index_for_delete_all = cycle_index_for_delete_all(df_sclean_)\n",
    "\n",
    "    # подготовим вспомогательный столбец с индексом\n",
    "    df_sclean_ = df_sclean_.reset_index()\n",
    "\n",
    "    df_sdelete_ = df_sclean_.loc[df_sclean_['index'].isin(list_index_for_delete_all)]\n",
    "    df_sclean_ = df_sclean_.loc[~df_sclean_['index'].isin(list_index_for_delete_all)]\n",
    "    \n",
    "    return df_sclean_[['Партнер ID', 'КодКонтрагента', 'Код Md', 'КодНоменклатуры', 'Месяц',\n",
    "       'Количество', 'СуммаRUR', 'ДатаАктуальности']], df_sdelete_"
   ]
  },
  {
   "cell_type": "code",
   "execution_count": 29,
   "metadata": {},
   "outputs": [
    {
     "name": "stdout",
     "output_type": "stream",
     "text": [
      "Всего партнёров: 53\n"
     ]
    },
    {
     "name": "stderr",
     "output_type": "stream",
     "text": [
      "100%|██████████| 53/53 [02:48<00:00,  3.18s/it]\n"
     ]
    },
    {
     "name": "stdout",
     "output_type": "stream",
     "text": [
      "CPU times: total: 2min 18s\n",
      "Wall time: 2min 48s\n"
     ]
    }
   ],
   "source": [
    "%%time\n",
    "# доработаем df_sclean по требованию \n",
    "df_sclean, df_sdelete = sclean_ninety_days(df_sclean)"
   ]
  },
  {
   "cell_type": "code",
   "execution_count": 30,
   "metadata": {},
   "outputs": [
    {
     "data": {
      "text/plain": [
       "(668583, 8)"
      ]
     },
     "execution_count": 30,
     "metadata": {},
     "output_type": "execute_result"
    }
   ],
   "source": [
    "# доработка не нашла примеров подходящих под условие 0 продаж за 90 дней\n",
    "df_sclean.shape"
   ]
  },
  {
   "cell_type": "code",
   "execution_count": 31,
   "metadata": {},
   "outputs": [
    {
     "data": {
      "text/html": [
       "<div>\n",
       "<style scoped>\n",
       "    .dataframe tbody tr th:only-of-type {\n",
       "        vertical-align: middle;\n",
       "    }\n",
       "\n",
       "    .dataframe tbody tr th {\n",
       "        vertical-align: top;\n",
       "    }\n",
       "\n",
       "    .dataframe thead th {\n",
       "        text-align: right;\n",
       "    }\n",
       "</style>\n",
       "<table border=\"1\" class=\"dataframe\">\n",
       "  <thead>\n",
       "    <tr style=\"text-align: right;\">\n",
       "      <th></th>\n",
       "      <th>Партнер ID</th>\n",
       "      <th>КодКонтрагента</th>\n",
       "      <th>Код MDM</th>\n",
       "      <th>КодНоменклатуры</th>\n",
       "      <th>Месяц</th>\n",
       "      <th>Количество</th>\n",
       "      <th>СуммаRUR</th>\n",
       "      <th>ДатаАктуальности</th>\n",
       "    </tr>\n",
       "  </thead>\n",
       "  <tbody>\n",
       "    <tr>\n",
       "      <th>1092682</th>\n",
       "      <td>35479</td>\n",
       "      <td>00002377</td>\n",
       "      <td>143176</td>\n",
       "      <td>00099546</td>\n",
       "      <td>2023-07-01</td>\n",
       "      <td>1.0</td>\n",
       "      <td>583.1</td>\n",
       "      <td>2023-08-08</td>\n",
       "    </tr>\n",
       "    <tr>\n",
       "      <th>1092684</th>\n",
       "      <td>35479</td>\n",
       "      <td>00002377</td>\n",
       "      <td>144966</td>\n",
       "      <td>00101338</td>\n",
       "      <td>2023-06-01</td>\n",
       "      <td>180.0</td>\n",
       "      <td>6229.8</td>\n",
       "      <td>2023-08-08</td>\n",
       "    </tr>\n",
       "    <tr>\n",
       "      <th>1092685</th>\n",
       "      <td>35479</td>\n",
       "      <td>00002377</td>\n",
       "      <td>144966</td>\n",
       "      <td>00101338</td>\n",
       "      <td>2023-07-01</td>\n",
       "      <td>180.0</td>\n",
       "      <td>6229.8</td>\n",
       "      <td>2023-08-08</td>\n",
       "    </tr>\n",
       "    <tr>\n",
       "      <th>1092686</th>\n",
       "      <td>35479</td>\n",
       "      <td>00002377</td>\n",
       "      <td>144967</td>\n",
       "      <td>00101339</td>\n",
       "      <td>2023-07-01</td>\n",
       "      <td>300.0</td>\n",
       "      <td>12417.0</td>\n",
       "      <td>2023-08-08</td>\n",
       "    </tr>\n",
       "    <tr>\n",
       "      <th>1092689</th>\n",
       "      <td>35479</td>\n",
       "      <td>00002377</td>\n",
       "      <td>159952</td>\n",
       "      <td>00116198</td>\n",
       "      <td>2023-07-01</td>\n",
       "      <td>60.0</td>\n",
       "      <td>3429.0</td>\n",
       "      <td>2023-08-08</td>\n",
       "    </tr>\n",
       "  </tbody>\n",
       "</table>\n",
       "</div>"
      ],
      "text/plain": [
       "         Партнер ID КодКонтрагента  Код MDM КодНоменклатуры      Месяц  \\\n",
       "1092682       35479       00002377   143176        00099546 2023-07-01   \n",
       "1092684       35479       00002377   144966        00101338 2023-06-01   \n",
       "1092685       35479       00002377   144966        00101338 2023-07-01   \n",
       "1092686       35479       00002377   144967        00101339 2023-07-01   \n",
       "1092689       35479       00002377   159952        00116198 2023-07-01   \n",
       "\n",
       "         Количество  СуммаRUR ДатаАктуальности  \n",
       "1092682         1.0     583.1       2023-08-08  \n",
       "1092684       180.0    6229.8       2023-08-08  \n",
       "1092685       180.0    6229.8       2023-08-08  \n",
       "1092686       300.0   12417.0       2023-08-08  \n",
       "1092689        60.0    3429.0       2023-08-08  "
      ]
     },
     "execution_count": 31,
     "metadata": {},
     "output_type": "execute_result"
    }
   ],
   "source": [
    "df_sclean.tail()"
   ]
  },
  {
   "cell_type": "code",
   "execution_count": 32,
   "metadata": {},
   "outputs": [
    {
     "name": "stderr",
     "output_type": "stream",
     "text": [
      "668583it [37:41, 295.70it/s]\n"
     ]
    }
   ],
   "source": [
    "# выгружаем df_sclean в базу данных\n",
    "export_sclean(df_sclean)"
   ]
  }
 ],
 "metadata": {
  "kernelspec": {
   "display_name": "venv",
   "language": "python",
   "name": "python3"
  },
  "language_info": {
   "codemirror_mode": {
    "name": "ipython",
    "version": 3
   },
   "file_extension": ".py",
   "mimetype": "text/x-python",
   "name": "python",
   "nbconvert_exporter": "python",
   "pygments_lexer": "ipython3",
   "version": "3.11.3"
  },
  "orig_nbformat": 4
 },
 "nbformat": 4,
 "nbformat_minor": 2
}
