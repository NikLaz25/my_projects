{
 "cells": [
  {
   "cell_type": "markdown",
   "id": "5699e736",
   "metadata": {},
   "source": [
    "Задача изучить разные способы получения графов."
   ]
  },
  {
   "cell_type": "markdown",
   "id": "3522ae5d",
   "metadata": {},
   "source": [
    "# Загрузка необходимых библиотек"
   ]
  },
  {
   "cell_type": "code",
   "execution_count": 2,
   "id": "62d4db22",
   "metadata": {},
   "outputs": [],
   "source": [
    "from dotenv import load_dotenv # для загрузки ключа из файла .env\n",
    "import os as os\n",
    "from pymatgen.ext.matproj import MPRester\n",
    "from tqdm import tqdm"
   ]
  },
  {
   "cell_type": "code",
   "execution_count": 3,
   "id": "d0158705",
   "metadata": {},
   "outputs": [],
   "source": [
    "import pandas as pd"
   ]
  },
  {
   "cell_type": "code",
   "execution_count": 4,
   "id": "2fcef5cd",
   "metadata": {},
   "outputs": [],
   "source": [
    "import pandas as pd\n",
    "import matplotlib.pyplot as plt\n",
    "import numpy as np\n",
    "import tqdm, os\n",
    "import seaborn as sns\n",
    "\n",
    "from sklearn.metrics import r2_score, mean_absolute_error\n",
    "from tqdm import tqdm"
   ]
  },
  {
   "cell_type": "code",
   "execution_count": 5,
   "id": "81da4608",
   "metadata": {},
   "outputs": [],
   "source": [
    "# MP API\n",
    "from mp_api.client import MPRester\n",
    "\n",
    "# Pymatgen\n",
    "from pymatgen.io.vasp import Poscar\n",
    "\n",
    "# Torch\n",
    "import torch\n",
    "import torch.nn.functional as F\n",
    "import torch.nn as nn\n",
    "from torch.utils.data import DataLoader\n",
    "\n",
    "from torch.nn import Linear\n",
    "\n",
    "\n",
    "# Torch geometric\n",
    "from torch_geometric.data import Data, Dataset\n",
    "from torch_geometric.utils import to_networkx\n",
    "from torch_geometric.transforms import KNNGraph\n",
    "\n",
    "from torch_geometric.loader import DataLoader as DataLoader_Graph\n",
    "\n",
    "from torch_geometric.nn import PointTransformerConv, global_mean_pool\n",
    "\n",
    "# Utils\n",
    "import networkx as nx"
   ]
  },
  {
   "cell_type": "code",
   "execution_count": 6,
   "id": "3c8644c7",
   "metadata": {},
   "outputs": [],
   "source": [
    "# Сброс настроек\n",
    "plt.rcParams.update(plt.rcParamsDefault)\n",
    "\n",
    "import openpyxl #, работа с excel"
   ]
  },
  {
   "cell_type": "code",
   "execution_count": 7,
   "id": "4271d9cf",
   "metadata": {},
   "outputs": [],
   "source": [
    "import json\n",
    "import numpy as np"
   ]
  },
  {
   "cell_type": "markdown",
   "id": "aae8c3c6",
   "metadata": {},
   "source": [
    "# Ключ Materials Project API"
   ]
  },
  {
   "cell_type": "code",
   "execution_count": 15,
   "id": "7de94694",
   "metadata": {},
   "outputs": [],
   "source": [
    "# импортируем ключ API\n",
    "load_dotenv()\n",
    "mp_api_key = os.environ.get('MP_API_KEY')"
   ]
  },
  {
   "cell_type": "markdown",
   "id": "a47da5e9",
   "metadata": {},
   "source": [
    "Задача - загрузить датасет из базы данных Materials Project, обработать данные и преобразовать их в графы для дальнейшего обучения нейросети"
   ]
  },
  {
   "cell_type": "markdown",
   "id": "446e06a8",
   "metadata": {},
   "source": [
    "Разбираем вариант Кирилла Сиднова из МИСиС"
   ]
  },
  {
   "cell_type": "markdown",
   "id": "69fdb598",
   "metadata": {},
   "source": [
    "# Загрузка данных"
   ]
  },
  {
   "cell_type": "code",
   "execution_count": 9,
   "id": "2ec0ed65",
   "metadata": {},
   "outputs": [],
   "source": [
    "# class DatasetBuilder:\n",
    "    \n",
    "#     '''Класс для создания датасета из базы данных MaterialsProject'''\n",
    "\n",
    "#     def __init__(self, criteria:dict=None, apikey:str=None):\n",
    "#         self.criteria = criteria\n",
    "#         self.apikey = apikey\n",
    "\n",
    "#         self.rester = MPRester(apikey)\n",
    "\n",
    "#     def query(self):\n",
    "#         self.docs = self.rester.summary._search(**self.criteria)\n",
    "\n",
    "#     @staticmethod\n",
    "#     def collect(doc=None):\n",
    "#       d = {}\n",
    "#       for i in doc:\n",
    "#         if len(i) == 2:\n",
    "#           if None not in i:\n",
    "#             if i[0] != 'fields_not_requested':\n",
    "#               d[i[0]] = i[1]\n",
    "#       return d\n",
    "\n",
    "#     def make_dataframe(self, doc=None):\n",
    "#         df = pd.DataFrame()\n",
    "#         for doc in self.docs:\n",
    "#           df = pd.concat([\n",
    "#               df,\n",
    "#               pd.DataFrame( [self.collect(doc)] )\n",
    "#           ])\n",
    "#         df = df.dropna() ; print('Final DataFame shape:', df.shape)\n",
    "#         df = df.reset_index(drop=True)\n",
    "#         self.dataframe = df\n",
    "\n",
    "#     def get_data(self):\n",
    "#         self.query()\n",
    "#         self.make_dataframe()\n",
    "#         return self.dataframe"
   ]
  },
  {
   "cell_type": "code",
   "execution_count": 10,
   "id": "a3a8f507",
   "metadata": {},
   "outputs": [],
   "source": [
    "class DatasetBuilder:\n",
    "    \"\"\"\n",
    "    Класс для создания датасета из базы данных Materials Project (MP).\n",
    "    Обеспечивает:\n",
    "    1. Подключение к API MP\n",
    "    2. Выполнение запросов по заданным критериям\n",
    "    3. Преобразование сырых данных в структурированный DataFrame\n",
    "    4. Очистку данных от пропущенных значений\n",
    "\n",
    "    Параметры:\n",
    "    ----------\n",
    "    criteria : dict, optional\n",
    "        Словарь критериев поиска для MP API. Пример:\n",
    "        {'elements': ['Li', 'Fe', 'O'], 'nelements': {'$lte': 3}}\n",
    "    apikey : str, optional\n",
    "        Ключ API для доступа к Materials Project. Если None, попытается\n",
    "        использовать переменную окружения MAPI_KEY.\n",
    "    \"\"\"\n",
    "\n",
    "    def __init__(self, criteria: dict = None, apikey: str = None):\n",
    "        \"\"\"Инициализация подключения к Materials Project API\"\"\"\n",
    "        self.criteria = criteria or {}  # Критерии поиска (по умолчанию пустой словарь)\n",
    "        self.apikey = apikey  # API ключ (может быть None)\n",
    "\n",
    "        # Инициализация REST-клиента для работы с Materials Project API\n",
    "        # Примечание: MPRester автоматически проверяет переменные окружения,\n",
    "        # если apikey не указан явно\n",
    "        self.rester = MPRester(apikey)  \n",
    "\n",
    "    def query(self):\n",
    "        \"\"\"\n",
    "        Выполняет запрос к Materials Project API с заданными критериями.\n",
    "        Результаты сохраняются в self.docs как список документов (сырые данные).\n",
    "        \"\"\"\n",
    "        # Используем защищенный метод _search для гибкого поиска\n",
    "        # Возвращает генератор документов, который мы преобразуем в список\n",
    "        self.docs = list(self.rester.summary._search(**self.criteria))  \n",
    "        print(f\"Найдено {len(self.docs)} материалов\")\n",
    "\n",
    "    @staticmethod\n",
    "    def collect(doc=None):\n",
    "        \"\"\"\n",
    "        Статический метод для преобразования документа MP в плоский словарь.\n",
    "        \n",
    "        Параметры:\n",
    "        ----------\n",
    "        doc : dict\n",
    "            Сырой документ из Materials Project API\n",
    "            \n",
    "        Возвращает:\n",
    "        ----------\n",
    "        dict\n",
    "            Очищенный словарь с данными материала\n",
    "        \"\"\"\n",
    "        d = {}\n",
    "        for i in doc:\n",
    "            # Фильтрация данных:\n",
    "            if len(i) == 2:\n",
    "                if None not in i:  # 1. Пропускаем пары с None-значениями\n",
    "                    if i[0] != 'fields_not_requested':  # 2. Исключаем служебное поле 'fields_not_requested'\n",
    "                        d[i[0]] = i[1]\n",
    "        return d\n",
    "\n",
    "    def make_dataframe(self):\n",
    "        \"\"\"\n",
    "        Преобразует сырые данные из self.docs в pandas DataFrame.\n",
    "        Автоматически удаляет строки с пропущенными значениями.\n",
    "        \"\"\"\n",
    "        df = pd.DataFrame()  # Создаем пустой DataFrame\n",
    "        \n",
    "        # Построчная обработка каждого документа\n",
    "        for doc in self.docs:\n",
    "            # Для каждого документа:\n",
    "            # 1. Преобразуем в плоский словарь через collect()\n",
    "            # 2. Создаем временный DataFrame из одной строки\n",
    "            # 3. Объединяем с основным DataFrame\n",
    "            df = pd.concat([\n",
    "                df,\n",
    "                pd.DataFrame([self.collect(doc)])  # [] для создания DataFrame из одной строки\n",
    "            ], ignore_index=True)\n",
    "        \n",
    "        # Очистка данных:\n",
    "        # 1. Удаление строк с пропущенными значениями\n",
    "        # 2. Сброс индекса после удаления строк\n",
    "        df = df.dropna()\n",
    "        print('Финальный размер DataFrame:', df.shape)\n",
    "        df = df.reset_index(drop=True)  # Сброс индекса без создания новой колонки\n",
    "        self.dataframe = df  # Сохранение результата в атрибут класса\n",
    "\n",
    "    def get_data(self):\n",
    "        \"\"\"\n",
    "        Основной метод для получения данных. Выполняет:\n",
    "        1. Запрос к API (query)\n",
    "        2. Преобразование в DataFrame (make_dataframe)\n",
    "        3. Возврат готовых данных\n",
    "        \n",
    "        Возвращает:\n",
    "        ----------\n",
    "        pd.DataFrame\n",
    "            Очищенный DataFrame с данными материалов\n",
    "        \"\"\"\n",
    "        self.query()  # Получаем сырые данные\n",
    "        self.make_dataframe()  # Преобразуем в DataFrame\n",
    "        return self.dataframe"
   ]
  },
  {
   "cell_type": "code",
   "execution_count": 11,
   "id": "b1fdf56d",
   "metadata": {},
   "outputs": [],
   "source": [
    "# # зафиксируем критерии запроса\n",
    "# requested_fields = [\n",
    "#     \"composition\", \"structure\", \"formation_energy_per_atom\"\n",
    "# ]\n",
    "\n",
    "# criteria = {\n",
    "#     'nelements_max':2,\n",
    "#     'nelements_min':2,\n",
    "#     'spacegroup_symbol':'Fm-3m',\n",
    "#     'fields':requested_fields,\n",
    "# }\n",
    "\n",
    "# # инициируем экземпляр класса с фиксированными критериями запроса\n",
    "# db = DatasetBuilder(criteria=criteria, apikey=mp_api_key)\n",
    "\n",
    "# df = db.get_data()"
   ]
  },
  {
   "cell_type": "code",
   "execution_count": 12,
   "id": "f8843d67",
   "metadata": {},
   "outputs": [],
   "source": [
    "crystal_system=\"Cubic\" # Фильтр по кубической кристаллической системе\n",
    "nelements_max = 3 # Число элементов в составе: от 1 до 3\n",
    "elements=[\"Si\"]\n",
    "num_chunks=1,  # Устанавливаем ограничение на количество загружаемых строк\n",
    "chunk_size=1000"
   ]
  },
  {
   "cell_type": "code",
   "execution_count": 13,
   "id": "df2ebda5",
   "metadata": {},
   "outputs": [],
   "source": [
    "# зафиксируем критерии запроса\n",
    "requested_fields = [\n",
    "    \"composition\", \"structure\", \"formation_energy_per_atom\", \"material_id\", \"formula_pretty\", \n",
    "            'symmetry'\n",
    "]\n",
    "\n",
    "criteria = {\n",
    "    'nelements_max':3,\n",
    "    'crystal_system': 'Cubic',\n",
    "    'elements':['Si'],\n",
    "    'fields':requested_fields,\n",
    "    'num_chunks': 1,\n",
    "    'chunk_size': 1000\n",
    "}"
   ]
  },
  {
   "cell_type": "code",
   "execution_count": 16,
   "id": "016ad5f1",
   "metadata": {},
   "outputs": [],
   "source": [
    "# инициируем экземпляр класса с фиксированными критериями запроса\n",
    "db_si_cubic_1000 = DatasetBuilder(criteria=criteria, apikey=mp_api_key)"
   ]
  },
  {
   "cell_type": "code",
   "execution_count": 18,
   "id": "1b7e878b",
   "metadata": {},
   "outputs": [
    {
     "data": {
      "text/plain": [
       "<__main__.DatasetBuilder at 0x23ba693a9c0>"
      ]
     },
     "execution_count": 18,
     "metadata": {},
     "output_type": "execute_result"
    }
   ],
   "source": [
    "db_si_cubic_1000"
   ]
  },
  {
   "cell_type": "code",
   "execution_count": 19,
   "id": "37e77e2f",
   "metadata": {},
   "outputs": [
    {
     "name": "stderr",
     "output_type": "stream",
     "text": [
      "C:\\Users\\lazarevnv\\AppData\\Local\\Temp\\ipykernel_26780\\1611926248.py:37: DeprecationWarning: Accessing summary data through MPRester.summary is deprecated. Please use MPRester.materials.summary instead.\n",
      "  self.docs = list(self.rester.summary._search(**self.criteria))\n"
     ]
    },
    {
     "data": {
      "application/vnd.jupyter.widget-view+json": {
       "model_id": "592d9f30d8ed4a74910fa6865a1939a2",
       "version_major": 2,
       "version_minor": 0
      },
      "text/plain": [
       "Retrieving SummaryDoc documents:   0%|          | 0/562 [00:00<?, ?it/s]"
      ]
     },
     "metadata": {},
     "output_type": "display_data"
    },
    {
     "name": "stdout",
     "output_type": "stream",
     "text": [
      "Найдено 562 материалов\n",
      "Финальный размер DataFrame: (562, 6)\n"
     ]
    }
   ],
   "source": [
    "df_si_cubic_1000 = db_si_cubic_1000.get_data()"
   ]
  },
  {
   "cell_type": "code",
   "execution_count": 20,
   "id": "df4c1e1c",
   "metadata": {},
   "outputs": [
    {
     "data": {
      "text/plain": [
       "pandas.core.frame.DataFrame"
      ]
     },
     "execution_count": 20,
     "metadata": {},
     "output_type": "execute_result"
    }
   ],
   "source": [
    "type(df_si_cubic_1000)"
   ]
  },
  {
   "cell_type": "code",
   "execution_count": 21,
   "id": "56851e22",
   "metadata": {},
   "outputs": [
    {
     "data": {
      "text/html": [
       "<div>\n",
       "<style scoped>\n",
       "    .dataframe tbody tr th:only-of-type {\n",
       "        vertical-align: middle;\n",
       "    }\n",
       "\n",
       "    .dataframe tbody tr th {\n",
       "        vertical-align: top;\n",
       "    }\n",
       "\n",
       "    .dataframe thead th {\n",
       "        text-align: right;\n",
       "    }\n",
       "</style>\n",
       "<table border=\"1\" class=\"dataframe\">\n",
       "  <thead>\n",
       "    <tr style=\"text-align: right;\">\n",
       "      <th></th>\n",
       "      <th>composition</th>\n",
       "      <th>formula_pretty</th>\n",
       "      <th>symmetry</th>\n",
       "      <th>material_id</th>\n",
       "      <th>structure</th>\n",
       "      <th>formation_energy_per_atom</th>\n",
       "    </tr>\n",
       "  </thead>\n",
       "  <tbody>\n",
       "    <tr>\n",
       "      <th>0</th>\n",
       "      <td>(Si)</td>\n",
       "      <td>Si</td>\n",
       "      <td>crystal_system=&lt;CrystalSystem.cubic: 'Cubic'&gt; ...</td>\n",
       "      <td>mp-1201492</td>\n",
       "      <td>[[ 4.63230975 14.92644472  7.37816377] Si, [13...</td>\n",
       "      <td>0.121153</td>\n",
       "    </tr>\n",
       "    <tr>\n",
       "      <th>1</th>\n",
       "      <td>(Si)</td>\n",
       "      <td>Si</td>\n",
       "      <td>crystal_system=&lt;CrystalSystem.cubic: 'Cubic'&gt; ...</td>\n",
       "      <td>mp-168</td>\n",
       "      <td>[[0.67592785 0.67592785 0.67592785] Si, [ 0.67...</td>\n",
       "      <td>0.160021</td>\n",
       "    </tr>\n",
       "    <tr>\n",
       "      <th>2</th>\n",
       "      <td>(Si)</td>\n",
       "      <td>Si</td>\n",
       "      <td>crystal_system=&lt;CrystalSystem.cubic: 'Cubic'&gt; ...</td>\n",
       "      <td>mp-1200830</td>\n",
       "      <td>[[-6.49829314 -3.27779246  1.62942932] Si, [-3...</td>\n",
       "      <td>0.143261</td>\n",
       "    </tr>\n",
       "    <tr>\n",
       "      <th>3</th>\n",
       "      <td>(Si)</td>\n",
       "      <td>Si</td>\n",
       "      <td>crystal_system=&lt;CrystalSystem.cubic: 'Cubic'&gt; ...</td>\n",
       "      <td>mp-971661</td>\n",
       "      <td>[[-4.17430519 -4.17430519 -1.44023201] Si, [-0...</td>\n",
       "      <td>0.107477</td>\n",
       "    </tr>\n",
       "    <tr>\n",
       "      <th>4</th>\n",
       "      <td>(Si)</td>\n",
       "      <td>Si</td>\n",
       "      <td>crystal_system=&lt;CrystalSystem.cubic: 'Cubic'&gt; ...</td>\n",
       "      <td>mp-971662</td>\n",
       "      <td>[[0.         8.98812896 3.13519963] Si, [0.   ...</td>\n",
       "      <td>0.091850</td>\n",
       "    </tr>\n",
       "    <tr>\n",
       "      <th>5</th>\n",
       "      <td>(Si)</td>\n",
       "      <td>Si</td>\n",
       "      <td>crystal_system=&lt;CrystalSystem.cubic: 'Cubic'&gt; ...</td>\n",
       "      <td>mp-27</td>\n",
       "      <td>[[0. 0. 0.] Si]</td>\n",
       "      <td>0.531566</td>\n",
       "    </tr>\n",
       "    <tr>\n",
       "      <th>6</th>\n",
       "      <td>(Si)</td>\n",
       "      <td>Si</td>\n",
       "      <td>crystal_system=&lt;CrystalSystem.cubic: 'Cubic'&gt; ...</td>\n",
       "      <td>mp-149</td>\n",
       "      <td>[[3.8891685 2.7500585 6.7362365] Si, [0.555595...</td>\n",
       "      <td>0.000000</td>\n",
       "    </tr>\n",
       "    <tr>\n",
       "      <th>7</th>\n",
       "      <td>(Si)</td>\n",
       "      <td>Si</td>\n",
       "      <td>crystal_system=&lt;CrystalSystem.cubic: 'Cubic'&gt; ...</td>\n",
       "      <td>mp-16220</td>\n",
       "      <td>[[7.33856771 7.33856771 7.33856771] Si, [11.00...</td>\n",
       "      <td>0.393193</td>\n",
       "    </tr>\n",
       "    <tr>\n",
       "      <th>8</th>\n",
       "      <td>(Si)</td>\n",
       "      <td>Si</td>\n",
       "      <td>crystal_system=&lt;CrystalSystem.cubic: 'Cubic'&gt; ...</td>\n",
       "      <td>mp-1014212</td>\n",
       "      <td>[[0. 0. 0.] Si]</td>\n",
       "      <td>0.525496</td>\n",
       "    </tr>\n",
       "    <tr>\n",
       "      <th>9</th>\n",
       "      <td>(Si)</td>\n",
       "      <td>Si</td>\n",
       "      <td>crystal_system=&lt;CrystalSystem.cubic: 'Cubic'&gt; ...</td>\n",
       "      <td>mp-1072544</td>\n",
       "      <td>[[-3.33608319  0.         -1.6680416 ] Si, [-3...</td>\n",
       "      <td>0.222399</td>\n",
       "    </tr>\n",
       "    <tr>\n",
       "      <th>10</th>\n",
       "      <td>(Si, O)</td>\n",
       "      <td>SiO2</td>\n",
       "      <td>crystal_system=&lt;CrystalSystem.cubic: 'Cubic'&gt; ...</td>\n",
       "      <td>mp-560836</td>\n",
       "      <td>[[3.66050333 7.35399043 3.12668689] Si, [1.439...</td>\n",
       "      <td>-3.044315</td>\n",
       "    </tr>\n",
       "    <tr>\n",
       "      <th>11</th>\n",
       "      <td>(Si, Tc)</td>\n",
       "      <td>SiTc</td>\n",
       "      <td>crystal_system=&lt;CrystalSystem.cubic: 'Cubic'&gt; ...</td>\n",
       "      <td>mp-1079910</td>\n",
       "      <td>[[3.1091025  0.73605216 1.63699818] Si, [0.736...</td>\n",
       "      <td>-0.520418</td>\n",
       "    </tr>\n",
       "    <tr>\n",
       "      <th>12</th>\n",
       "      <td>(Si, Ni)</td>\n",
       "      <td>SiNi</td>\n",
       "      <td>crystal_system=&lt;CrystalSystem.cubic: 'Cubic'&gt; ...</td>\n",
       "      <td>mp-1095177</td>\n",
       "      <td>[[2.94167781 0.68983081 1.56201619] Si, [0.689...</td>\n",
       "      <td>-0.374057</td>\n",
       "    </tr>\n",
       "    <tr>\n",
       "      <th>13</th>\n",
       "      <td>(Mn, Si)</td>\n",
       "      <td>MnSi</td>\n",
       "      <td>crystal_system=&lt;CrystalSystem.cubic: 'Cubic'&gt; ...</td>\n",
       "      <td>mp-1431</td>\n",
       "      <td>[[3.87240559 2.85390008 1.6301892 ] Mn, [2.854...</td>\n",
       "      <td>-0.360732</td>\n",
       "    </tr>\n",
       "    <tr>\n",
       "      <th>14</th>\n",
       "      <td>(Si, Rh)</td>\n",
       "      <td>SiRh</td>\n",
       "      <td>crystal_system=&lt;CrystalSystem.cubic: 'Cubic'&gt; ...</td>\n",
       "      <td>mp-1483</td>\n",
       "      <td>[[0.74086379 1.60217555 3.08390314] Si, [1.602...</td>\n",
       "      <td>-0.800081</td>\n",
       "    </tr>\n",
       "    <tr>\n",
       "      <th>15</th>\n",
       "      <td>(Si, Ru)</td>\n",
       "      <td>SiRu</td>\n",
       "      <td>crystal_system=&lt;CrystalSystem.cubic: 'Cubic'&gt; ...</td>\n",
       "      <td>mp-189</td>\n",
       "      <td>[[0.76478075 1.58951694 3.11907844] Si, [1.589...</td>\n",
       "      <td>-0.654533</td>\n",
       "    </tr>\n",
       "    <tr>\n",
       "      <th>16</th>\n",
       "      <td>(Si, Os)</td>\n",
       "      <td>SiOs</td>\n",
       "      <td>crystal_system=&lt;CrystalSystem.cubic: 'Cubic'&gt; ...</td>\n",
       "      <td>mp-2488</td>\n",
       "      <td>[[0.78525696 1.59773892 3.16825284] Si, [1.597...</td>\n",
       "      <td>-0.392482</td>\n",
       "    </tr>\n",
       "    <tr>\n",
       "      <th>17</th>\n",
       "      <td>(Cr, Si)</td>\n",
       "      <td>CrSi</td>\n",
       "      <td>crystal_system=&lt;CrystalSystem.cubic: 'Cubic'&gt; ...</td>\n",
       "      <td>mp-7576</td>\n",
       "      <td>[[3.96529276 2.93399624 1.66552976] Cr, [2.933...</td>\n",
       "      <td>-0.142375</td>\n",
       "    </tr>\n",
       "    <tr>\n",
       "      <th>18</th>\n",
       "      <td>(Co, Si)</td>\n",
       "      <td>CoSi</td>\n",
       "      <td>crystal_system=&lt;CrystalSystem.cubic: 'Cubic'&gt; ...</td>\n",
       "      <td>mp-7577</td>\n",
       "      <td>[[3.74360675 2.8310704  1.5520477 ] Co, [2.831...</td>\n",
       "      <td>-0.492925</td>\n",
       "    </tr>\n",
       "    <tr>\n",
       "      <th>19</th>\n",
       "      <td>(Re, Si)</td>\n",
       "      <td>ReSi</td>\n",
       "      <td>crystal_system=&lt;CrystalSystem.cubic: 'Cubic'&gt; ...</td>\n",
       "      <td>mp-7948</td>\n",
       "      <td>[[4.13288122 3.02807868 1.74589459] Re, [3.028...</td>\n",
       "      <td>-0.264138</td>\n",
       "    </tr>\n",
       "  </tbody>\n",
       "</table>\n",
       "</div>"
      ],
      "text/plain": [
       "   composition formula_pretty  \\\n",
       "0         (Si)             Si   \n",
       "1         (Si)             Si   \n",
       "2         (Si)             Si   \n",
       "3         (Si)             Si   \n",
       "4         (Si)             Si   \n",
       "5         (Si)             Si   \n",
       "6         (Si)             Si   \n",
       "7         (Si)             Si   \n",
       "8         (Si)             Si   \n",
       "9         (Si)             Si   \n",
       "10     (Si, O)           SiO2   \n",
       "11    (Si, Tc)           SiTc   \n",
       "12    (Si, Ni)           SiNi   \n",
       "13    (Mn, Si)           MnSi   \n",
       "14    (Si, Rh)           SiRh   \n",
       "15    (Si, Ru)           SiRu   \n",
       "16    (Si, Os)           SiOs   \n",
       "17    (Cr, Si)           CrSi   \n",
       "18    (Co, Si)           CoSi   \n",
       "19    (Re, Si)           ReSi   \n",
       "\n",
       "                                             symmetry material_id  \\\n",
       "0   crystal_system=<CrystalSystem.cubic: 'Cubic'> ...  mp-1201492   \n",
       "1   crystal_system=<CrystalSystem.cubic: 'Cubic'> ...      mp-168   \n",
       "2   crystal_system=<CrystalSystem.cubic: 'Cubic'> ...  mp-1200830   \n",
       "3   crystal_system=<CrystalSystem.cubic: 'Cubic'> ...   mp-971661   \n",
       "4   crystal_system=<CrystalSystem.cubic: 'Cubic'> ...   mp-971662   \n",
       "5   crystal_system=<CrystalSystem.cubic: 'Cubic'> ...       mp-27   \n",
       "6   crystal_system=<CrystalSystem.cubic: 'Cubic'> ...      mp-149   \n",
       "7   crystal_system=<CrystalSystem.cubic: 'Cubic'> ...    mp-16220   \n",
       "8   crystal_system=<CrystalSystem.cubic: 'Cubic'> ...  mp-1014212   \n",
       "9   crystal_system=<CrystalSystem.cubic: 'Cubic'> ...  mp-1072544   \n",
       "10  crystal_system=<CrystalSystem.cubic: 'Cubic'> ...   mp-560836   \n",
       "11  crystal_system=<CrystalSystem.cubic: 'Cubic'> ...  mp-1079910   \n",
       "12  crystal_system=<CrystalSystem.cubic: 'Cubic'> ...  mp-1095177   \n",
       "13  crystal_system=<CrystalSystem.cubic: 'Cubic'> ...     mp-1431   \n",
       "14  crystal_system=<CrystalSystem.cubic: 'Cubic'> ...     mp-1483   \n",
       "15  crystal_system=<CrystalSystem.cubic: 'Cubic'> ...      mp-189   \n",
       "16  crystal_system=<CrystalSystem.cubic: 'Cubic'> ...     mp-2488   \n",
       "17  crystal_system=<CrystalSystem.cubic: 'Cubic'> ...     mp-7576   \n",
       "18  crystal_system=<CrystalSystem.cubic: 'Cubic'> ...     mp-7577   \n",
       "19  crystal_system=<CrystalSystem.cubic: 'Cubic'> ...     mp-7948   \n",
       "\n",
       "                                            structure  \\\n",
       "0   [[ 4.63230975 14.92644472  7.37816377] Si, [13...   \n",
       "1   [[0.67592785 0.67592785 0.67592785] Si, [ 0.67...   \n",
       "2   [[-6.49829314 -3.27779246  1.62942932] Si, [-3...   \n",
       "3   [[-4.17430519 -4.17430519 -1.44023201] Si, [-0...   \n",
       "4   [[0.         8.98812896 3.13519963] Si, [0.   ...   \n",
       "5                                     [[0. 0. 0.] Si]   \n",
       "6   [[3.8891685 2.7500585 6.7362365] Si, [0.555595...   \n",
       "7   [[7.33856771 7.33856771 7.33856771] Si, [11.00...   \n",
       "8                                     [[0. 0. 0.] Si]   \n",
       "9   [[-3.33608319  0.         -1.6680416 ] Si, [-3...   \n",
       "10  [[3.66050333 7.35399043 3.12668689] Si, [1.439...   \n",
       "11  [[3.1091025  0.73605216 1.63699818] Si, [0.736...   \n",
       "12  [[2.94167781 0.68983081 1.56201619] Si, [0.689...   \n",
       "13  [[3.87240559 2.85390008 1.6301892 ] Mn, [2.854...   \n",
       "14  [[0.74086379 1.60217555 3.08390314] Si, [1.602...   \n",
       "15  [[0.76478075 1.58951694 3.11907844] Si, [1.589...   \n",
       "16  [[0.78525696 1.59773892 3.16825284] Si, [1.597...   \n",
       "17  [[3.96529276 2.93399624 1.66552976] Cr, [2.933...   \n",
       "18  [[3.74360675 2.8310704  1.5520477 ] Co, [2.831...   \n",
       "19  [[4.13288122 3.02807868 1.74589459] Re, [3.028...   \n",
       "\n",
       "    formation_energy_per_atom  \n",
       "0                    0.121153  \n",
       "1                    0.160021  \n",
       "2                    0.143261  \n",
       "3                    0.107477  \n",
       "4                    0.091850  \n",
       "5                    0.531566  \n",
       "6                    0.000000  \n",
       "7                    0.393193  \n",
       "8                    0.525496  \n",
       "9                    0.222399  \n",
       "10                  -3.044315  \n",
       "11                  -0.520418  \n",
       "12                  -0.374057  \n",
       "13                  -0.360732  \n",
       "14                  -0.800081  \n",
       "15                  -0.654533  \n",
       "16                  -0.392482  \n",
       "17                  -0.142375  \n",
       "18                  -0.492925  \n",
       "19                  -0.264138  "
      ]
     },
     "execution_count": 21,
     "metadata": {},
     "output_type": "execute_result"
    }
   ],
   "source": [
    "df_si_cubic_1000[:20]"
   ]
  },
  {
   "cell_type": "code",
   "execution_count": 35,
   "id": "1c5a9ec2",
   "metadata": {},
   "outputs": [
    {
     "data": {
      "text/html": [
       "<div>\n",
       "<style scoped>\n",
       "    .dataframe tbody tr th:only-of-type {\n",
       "        vertical-align: middle;\n",
       "    }\n",
       "\n",
       "    .dataframe tbody tr th {\n",
       "        vertical-align: top;\n",
       "    }\n",
       "\n",
       "    .dataframe thead th {\n",
       "        text-align: right;\n",
       "    }\n",
       "</style>\n",
       "<table border=\"1\" class=\"dataframe\">\n",
       "  <thead>\n",
       "    <tr style=\"text-align: right;\">\n",
       "      <th></th>\n",
       "      <th>composition</th>\n",
       "      <th>formula_pretty</th>\n",
       "      <th>symmetry</th>\n",
       "      <th>material_id</th>\n",
       "      <th>structure</th>\n",
       "      <th>formation_energy_per_atom</th>\n",
       "    </tr>\n",
       "  </thead>\n",
       "  <tbody>\n",
       "    <tr>\n",
       "      <th>10</th>\n",
       "      <td>(Si, O)</td>\n",
       "      <td>SiO2</td>\n",
       "      <td>crystal_system=&lt;CrystalSystem.cubic: 'Cubic'&gt; ...</td>\n",
       "      <td>mp-560836</td>\n",
       "      <td>[[3.66050333 7.35399043 3.12668689] Si, [1.439...</td>\n",
       "      <td>-3.044315</td>\n",
       "    </tr>\n",
       "    <tr>\n",
       "      <th>11</th>\n",
       "      <td>(Si, Tc)</td>\n",
       "      <td>SiTc</td>\n",
       "      <td>crystal_system=&lt;CrystalSystem.cubic: 'Cubic'&gt; ...</td>\n",
       "      <td>mp-1079910</td>\n",
       "      <td>[[3.1091025  0.73605216 1.63699818] Si, [0.736...</td>\n",
       "      <td>-0.520418</td>\n",
       "    </tr>\n",
       "    <tr>\n",
       "      <th>12</th>\n",
       "      <td>(Si, Ni)</td>\n",
       "      <td>SiNi</td>\n",
       "      <td>crystal_system=&lt;CrystalSystem.cubic: 'Cubic'&gt; ...</td>\n",
       "      <td>mp-1095177</td>\n",
       "      <td>[[2.94167781 0.68983081 1.56201619] Si, [0.689...</td>\n",
       "      <td>-0.374057</td>\n",
       "    </tr>\n",
       "    <tr>\n",
       "      <th>13</th>\n",
       "      <td>(Mn, Si)</td>\n",
       "      <td>MnSi</td>\n",
       "      <td>crystal_system=&lt;CrystalSystem.cubic: 'Cubic'&gt; ...</td>\n",
       "      <td>mp-1431</td>\n",
       "      <td>[[3.87240559 2.85390008 1.6301892 ] Mn, [2.854...</td>\n",
       "      <td>-0.360732</td>\n",
       "    </tr>\n",
       "    <tr>\n",
       "      <th>14</th>\n",
       "      <td>(Si, Rh)</td>\n",
       "      <td>SiRh</td>\n",
       "      <td>crystal_system=&lt;CrystalSystem.cubic: 'Cubic'&gt; ...</td>\n",
       "      <td>mp-1483</td>\n",
       "      <td>[[0.74086379 1.60217555 3.08390314] Si, [1.602...</td>\n",
       "      <td>-0.800081</td>\n",
       "    </tr>\n",
       "    <tr>\n",
       "      <th>15</th>\n",
       "      <td>(Si, Ru)</td>\n",
       "      <td>SiRu</td>\n",
       "      <td>crystal_system=&lt;CrystalSystem.cubic: 'Cubic'&gt; ...</td>\n",
       "      <td>mp-189</td>\n",
       "      <td>[[0.76478075 1.58951694 3.11907844] Si, [1.589...</td>\n",
       "      <td>-0.654533</td>\n",
       "    </tr>\n",
       "    <tr>\n",
       "      <th>16</th>\n",
       "      <td>(Si, Os)</td>\n",
       "      <td>SiOs</td>\n",
       "      <td>crystal_system=&lt;CrystalSystem.cubic: 'Cubic'&gt; ...</td>\n",
       "      <td>mp-2488</td>\n",
       "      <td>[[0.78525696 1.59773892 3.16825284] Si, [1.597...</td>\n",
       "      <td>-0.392482</td>\n",
       "    </tr>\n",
       "    <tr>\n",
       "      <th>17</th>\n",
       "      <td>(Cr, Si)</td>\n",
       "      <td>CrSi</td>\n",
       "      <td>crystal_system=&lt;CrystalSystem.cubic: 'Cubic'&gt; ...</td>\n",
       "      <td>mp-7576</td>\n",
       "      <td>[[3.96529276 2.93399624 1.66552976] Cr, [2.933...</td>\n",
       "      <td>-0.142375</td>\n",
       "    </tr>\n",
       "    <tr>\n",
       "      <th>18</th>\n",
       "      <td>(Co, Si)</td>\n",
       "      <td>CoSi</td>\n",
       "      <td>crystal_system=&lt;CrystalSystem.cubic: 'Cubic'&gt; ...</td>\n",
       "      <td>mp-7577</td>\n",
       "      <td>[[3.74360675 2.8310704  1.5520477 ] Co, [2.831...</td>\n",
       "      <td>-0.492925</td>\n",
       "    </tr>\n",
       "    <tr>\n",
       "      <th>19</th>\n",
       "      <td>(Re, Si)</td>\n",
       "      <td>ReSi</td>\n",
       "      <td>crystal_system=&lt;CrystalSystem.cubic: 'Cubic'&gt; ...</td>\n",
       "      <td>mp-7948</td>\n",
       "      <td>[[4.13288122 3.02807868 1.74589459] Re, [3.028...</td>\n",
       "      <td>-0.264138</td>\n",
       "    </tr>\n",
       "  </tbody>\n",
       "</table>\n",
       "</div>"
      ],
      "text/plain": [
       "   composition formula_pretty  \\\n",
       "10     (Si, O)           SiO2   \n",
       "11    (Si, Tc)           SiTc   \n",
       "12    (Si, Ni)           SiNi   \n",
       "13    (Mn, Si)           MnSi   \n",
       "14    (Si, Rh)           SiRh   \n",
       "15    (Si, Ru)           SiRu   \n",
       "16    (Si, Os)           SiOs   \n",
       "17    (Cr, Si)           CrSi   \n",
       "18    (Co, Si)           CoSi   \n",
       "19    (Re, Si)           ReSi   \n",
       "\n",
       "                                             symmetry material_id  \\\n",
       "10  crystal_system=<CrystalSystem.cubic: 'Cubic'> ...   mp-560836   \n",
       "11  crystal_system=<CrystalSystem.cubic: 'Cubic'> ...  mp-1079910   \n",
       "12  crystal_system=<CrystalSystem.cubic: 'Cubic'> ...  mp-1095177   \n",
       "13  crystal_system=<CrystalSystem.cubic: 'Cubic'> ...     mp-1431   \n",
       "14  crystal_system=<CrystalSystem.cubic: 'Cubic'> ...     mp-1483   \n",
       "15  crystal_system=<CrystalSystem.cubic: 'Cubic'> ...      mp-189   \n",
       "16  crystal_system=<CrystalSystem.cubic: 'Cubic'> ...     mp-2488   \n",
       "17  crystal_system=<CrystalSystem.cubic: 'Cubic'> ...     mp-7576   \n",
       "18  crystal_system=<CrystalSystem.cubic: 'Cubic'> ...     mp-7577   \n",
       "19  crystal_system=<CrystalSystem.cubic: 'Cubic'> ...     mp-7948   \n",
       "\n",
       "                                            structure  \\\n",
       "10  [[3.66050333 7.35399043 3.12668689] Si, [1.439...   \n",
       "11  [[3.1091025  0.73605216 1.63699818] Si, [0.736...   \n",
       "12  [[2.94167781 0.68983081 1.56201619] Si, [0.689...   \n",
       "13  [[3.87240559 2.85390008 1.6301892 ] Mn, [2.854...   \n",
       "14  [[0.74086379 1.60217555 3.08390314] Si, [1.602...   \n",
       "15  [[0.76478075 1.58951694 3.11907844] Si, [1.589...   \n",
       "16  [[0.78525696 1.59773892 3.16825284] Si, [1.597...   \n",
       "17  [[3.96529276 2.93399624 1.66552976] Cr, [2.933...   \n",
       "18  [[3.74360675 2.8310704  1.5520477 ] Co, [2.831...   \n",
       "19  [[4.13288122 3.02807868 1.74589459] Re, [3.028...   \n",
       "\n",
       "    formation_energy_per_atom  \n",
       "10                  -3.044315  \n",
       "11                  -0.520418  \n",
       "12                  -0.374057  \n",
       "13                  -0.360732  \n",
       "14                  -0.800081  \n",
       "15                  -0.654533  \n",
       "16                  -0.392482  \n",
       "17                  -0.142375  \n",
       "18                  -0.492925  \n",
       "19                  -0.264138  "
      ]
     },
     "execution_count": 35,
     "metadata": {},
     "output_type": "execute_result"
    }
   ],
   "source": [
    "df_si_cubic_1000[10:20]"
   ]
  },
  {
   "cell_type": "code",
   "execution_count": 23,
   "id": "b287396f",
   "metadata": {},
   "outputs": [
    {
     "data": {
      "text/html": [
       "<div>\n",
       "<style scoped>\n",
       "    .dataframe tbody tr th:only-of-type {\n",
       "        vertical-align: middle;\n",
       "    }\n",
       "\n",
       "    .dataframe tbody tr th {\n",
       "        vertical-align: top;\n",
       "    }\n",
       "\n",
       "    .dataframe thead th {\n",
       "        text-align: right;\n",
       "    }\n",
       "</style>\n",
       "<table border=\"1\" class=\"dataframe\">\n",
       "  <thead>\n",
       "    <tr style=\"text-align: right;\">\n",
       "      <th></th>\n",
       "      <th>composition</th>\n",
       "      <th>formula_pretty</th>\n",
       "      <th>symmetry</th>\n",
       "      <th>material_id</th>\n",
       "      <th>structure</th>\n",
       "      <th>formation_energy_per_atom</th>\n",
       "    </tr>\n",
       "  </thead>\n",
       "  <tbody>\n",
       "    <tr>\n",
       "      <th>559</th>\n",
       "      <td>(Mg, Si, Bi)</td>\n",
       "      <td>Mg63Si32Bi</td>\n",
       "      <td>crystal_system=&lt;CrystalSystem.cubic: 'Cubic'&gt; ...</td>\n",
       "      <td>mp-1194890</td>\n",
       "      <td>[[9.4954585 0.        0.       ] Mg, [0.      ...</td>\n",
       "      <td>-0.066535</td>\n",
       "    </tr>\n",
       "    <tr>\n",
       "      <th>560</th>\n",
       "      <td>(Mg, Si, Bi)</td>\n",
       "      <td>Mg64Si32Bi</td>\n",
       "      <td>crystal_system=&lt;CrystalSystem.cubic: 'Cubic'&gt; ...</td>\n",
       "      <td>mp-1194936</td>\n",
       "      <td>[[4.78909723 4.78909723 7.96644927] Mg, [4.789...</td>\n",
       "      <td>-0.049193</td>\n",
       "    </tr>\n",
       "    <tr>\n",
       "      <th>561</th>\n",
       "      <td>(Na, Si)</td>\n",
       "      <td>NaSi34</td>\n",
       "      <td>crystal_system=&lt;CrystalSystem.cubic: 'Cubic'&gt; ...</td>\n",
       "      <td>mp-1220929</td>\n",
       "      <td>[[11.040783 11.040783 11.040783] Na, [0. 0. 0....</td>\n",
       "      <td>0.113020</td>\n",
       "    </tr>\n",
       "  </tbody>\n",
       "</table>\n",
       "</div>"
      ],
      "text/plain": [
       "      composition formula_pretty  \\\n",
       "559  (Mg, Si, Bi)     Mg63Si32Bi   \n",
       "560  (Mg, Si, Bi)     Mg64Si32Bi   \n",
       "561      (Na, Si)         NaSi34   \n",
       "\n",
       "                                              symmetry material_id  \\\n",
       "559  crystal_system=<CrystalSystem.cubic: 'Cubic'> ...  mp-1194890   \n",
       "560  crystal_system=<CrystalSystem.cubic: 'Cubic'> ...  mp-1194936   \n",
       "561  crystal_system=<CrystalSystem.cubic: 'Cubic'> ...  mp-1220929   \n",
       "\n",
       "                                             structure  \\\n",
       "559  [[9.4954585 0.        0.       ] Mg, [0.      ...   \n",
       "560  [[4.78909723 4.78909723 7.96644927] Mg, [4.789...   \n",
       "561  [[11.040783 11.040783 11.040783] Na, [0. 0. 0....   \n",
       "\n",
       "     formation_energy_per_atom  \n",
       "559                  -0.066535  \n",
       "560                  -0.049193  \n",
       "561                   0.113020  "
      ]
     },
     "execution_count": 23,
     "metadata": {},
     "output_type": "execute_result"
    }
   ],
   "source": [
    "df_si_cubic_1000.tail(3)"
   ]
  },
  {
   "cell_type": "code",
   "execution_count": 27,
   "id": "e097fcbc",
   "metadata": {},
   "outputs": [],
   "source": [
    "# df_si_cubic_1000"
   ]
  },
  {
   "cell_type": "markdown",
   "id": "e8b1ccf3",
   "metadata": {},
   "source": [
    "### Пример преобразования данных в граф"
   ]
  },
  {
   "cell_type": "code",
   "execution_count": 38,
   "id": "dc7659ea",
   "metadata": {},
   "outputs": [
    {
     "data": {
      "text/html": [
       "<div>\n",
       "<style scoped>\n",
       "    .dataframe tbody tr th:only-of-type {\n",
       "        vertical-align: middle;\n",
       "    }\n",
       "\n",
       "    .dataframe tbody tr th {\n",
       "        vertical-align: top;\n",
       "    }\n",
       "\n",
       "    .dataframe thead th {\n",
       "        text-align: right;\n",
       "    }\n",
       "</style>\n",
       "<table border=\"1\" class=\"dataframe\">\n",
       "  <thead>\n",
       "    <tr style=\"text-align: right;\">\n",
       "      <th></th>\n",
       "      <th>composition</th>\n",
       "      <th>formula_pretty</th>\n",
       "      <th>symmetry</th>\n",
       "      <th>material_id</th>\n",
       "      <th>structure</th>\n",
       "      <th>formation_energy_per_atom</th>\n",
       "    </tr>\n",
       "  </thead>\n",
       "  <tbody>\n",
       "    <tr>\n",
       "      <th>10</th>\n",
       "      <td>(Si, O)</td>\n",
       "      <td>SiO2</td>\n",
       "      <td>crystal_system=&lt;CrystalSystem.cubic: 'Cubic'&gt; ...</td>\n",
       "      <td>mp-560836</td>\n",
       "      <td>[[3.66050333 7.35399043 3.12668689] Si, [1.439...</td>\n",
       "      <td>-3.044315</td>\n",
       "    </tr>\n",
       "  </tbody>\n",
       "</table>\n",
       "</div>"
      ],
      "text/plain": [
       "   composition formula_pretty  \\\n",
       "10     (Si, O)           SiO2   \n",
       "\n",
       "                                             symmetry material_id  \\\n",
       "10  crystal_system=<CrystalSystem.cubic: 'Cubic'> ...   mp-560836   \n",
       "\n",
       "                                            structure  \\\n",
       "10  [[3.66050333 7.35399043 3.12668689] Si, [1.439...   \n",
       "\n",
       "    formation_energy_per_atom  \n",
       "10                  -3.044315  "
      ]
     },
     "execution_count": 38,
     "metadata": {},
     "output_type": "execute_result"
    }
   ],
   "source": [
    "df_si_cubic_1000[10:11]"
   ]
  },
  {
   "cell_type": "code",
   "execution_count": 48,
   "id": "c8806ebf",
   "metadata": {},
   "outputs": [
    {
     "data": {
      "text/plain": [
       "10"
      ]
     },
     "execution_count": 48,
     "metadata": {},
     "output_type": "execute_result"
    }
   ],
   "source": [
    "# определим id нашего примера\n",
    "sample_idx = df_si_cubic_1000[10:11].index[0]\n",
    "sample_idx"
   ]
  },
  {
   "cell_type": "code",
   "execution_count": 52,
   "id": "fffeca6f",
   "metadata": {},
   "outputs": [
    {
     "data": {
      "text/plain": [
       "Structure Summary\n",
       "Lattice\n",
       "    abc : 8.793326 8.793326 8.793326\n",
       " angles : 90.0 90.0 90.0\n",
       " volume : 679.9226719388113\n",
       "      A : 8.793326 0.0 0.0\n",
       "      B : 0.0 8.793326 0.0\n",
       "      C : 0.0 0.0 8.793326\n",
       "    pbc : True True True\n",
       "PeriodicSite: Si (3.661, 7.354, 3.127) [0.4163, 0.8363, 0.3556]\n",
       "PeriodicSite: Si (1.439, 5.667, 3.661) [0.1637, 0.6444, 0.4163]\n",
       "PeriodicSite: Si (3.127, 5.133, 1.439) [0.3556, 0.5837, 0.1637]\n",
       "PeriodicSite: Si (7.354, 3.127, 3.661) [0.8363, 0.3556, 0.4163]\n",
       "PeriodicSite: Si (7.354, 5.667, 5.133) [0.8363, 0.6444, 0.5837]\n",
       "PeriodicSite: Si (5.133, 1.439, 3.127) [0.5837, 0.1637, 0.3556]\n",
       "PeriodicSite: Si (3.127, 3.661, 7.354) [0.3556, 0.4163, 0.8363]\n",
       "PeriodicSite: Si (5.133, 7.354, 5.667) [0.5837, 0.8363, 0.6444]\n",
       "PeriodicSite: Si (5.667, 3.661, 1.439) [0.6444, 0.4163, 0.1637]\n",
       "PeriodicSite: Si (1.439, 3.127, 5.133) [0.1637, 0.3556, 0.5837]\n",
       "PeriodicSite: Si (5.667, 5.133, 7.354) [0.6444, 0.5837, 0.8363]\n",
       "PeriodicSite: Si (3.661, 1.439, 5.667) [0.4163, 0.1637, 0.6444]\n",
       "PeriodicSite: O (4.397, 0.0, 2.946) [0.5, 0.0, 0.335]\n",
       "PeriodicSite: O (4.397, 0.0, 5.847) [0.5, 0.0, 0.665]\n",
       "PeriodicSite: O (7.182, 3.655, 2.094) [0.8168, 0.4157, 0.2382]\n",
       "PeriodicSite: O (2.184, 4.397, 4.397) [0.2484, 0.5, 0.5]\n",
       "PeriodicSite: O (6.699, 7.182, 5.138) [0.7618, 0.8168, 0.5843]\n",
       "PeriodicSite: O (5.138, 2.094, 1.611) [0.5843, 0.2382, 0.1832]\n",
       "PeriodicSite: O (3.655, 6.699, 1.611) [0.4157, 0.7618, 0.1832]\n",
       "PeriodicSite: O (2.094, 1.611, 5.138) [0.2382, 0.1832, 0.5843]\n",
       "PeriodicSite: O (0.0, 5.847, 4.397) [0.0, 0.665, 0.5]\n",
       "PeriodicSite: O (6.609, 4.397, 4.397) [0.7516, 0.5, 0.5]\n",
       "PeriodicSite: O (4.397, 6.609, 4.397) [0.5, 0.7516, 0.5]\n",
       "PeriodicSite: O (0.0, 2.946, 4.397) [0.0, 0.335, 0.5]\n",
       "PeriodicSite: O (7.182, 5.138, 6.699) [0.8168, 0.5843, 0.7618]\n",
       "PeriodicSite: O (3.655, 2.094, 7.182) [0.4157, 0.2382, 0.8168]\n",
       "PeriodicSite: O (4.397, 4.397, 2.184) [0.5, 0.5, 0.2484]\n",
       "PeriodicSite: O (1.611, 3.655, 6.699) [0.1832, 0.4157, 0.7618]\n",
       "PeriodicSite: O (1.611, 5.138, 2.094) [0.1832, 0.5843, 0.2382]\n",
       "PeriodicSite: O (5.847, 4.397, 0.0) [0.665, 0.5, 0.0]\n",
       "PeriodicSite: O (6.699, 1.611, 3.655) [0.7618, 0.1832, 0.4157]\n",
       "PeriodicSite: O (2.946, 4.397, 0.0) [0.335, 0.5, 0.0]\n",
       "PeriodicSite: O (4.397, 4.397, 6.609) [0.5, 0.5, 0.7516]\n",
       "PeriodicSite: O (5.138, 6.699, 7.182) [0.5843, 0.7618, 0.8168]\n",
       "PeriodicSite: O (4.397, 2.184, 4.397) [0.5, 0.2484, 0.5]\n",
       "PeriodicSite: O (2.094, 7.182, 3.655) [0.2382, 0.8168, 0.4157]"
      ]
     },
     "execution_count": 52,
     "metadata": {},
     "output_type": "execute_result"
    }
   ],
   "source": [
    "# получим струкруру из нашего примера\n",
    "sample_struct = df_si_cubic_1000.loc[sample_idx, 'structure']\n",
    "sample_struct"
   ]
  },
  {
   "cell_type": "code",
   "execution_count": 53,
   "id": "a9551aaf",
   "metadata": {},
   "outputs": [
    {
     "data": {
      "text/plain": [
       "[PeriodicSite: Si (3.661, 7.354, 3.127) [0.4163, 0.8363, 0.3556],\n",
       " PeriodicSite: Si (1.439, 5.667, 3.661) [0.1637, 0.6444, 0.4163],\n",
       " PeriodicSite: Si (3.127, 5.133, 1.439) [0.3556, 0.5837, 0.1637],\n",
       " PeriodicSite: Si (7.354, 3.127, 3.661) [0.8363, 0.3556, 0.4163],\n",
       " PeriodicSite: Si (7.354, 5.667, 5.133) [0.8363, 0.6444, 0.5837],\n",
       " PeriodicSite: Si (5.133, 1.439, 3.127) [0.5837, 0.1637, 0.3556],\n",
       " PeriodicSite: Si (3.127, 3.661, 7.354) [0.3556, 0.4163, 0.8363],\n",
       " PeriodicSite: Si (5.133, 7.354, 5.667) [0.5837, 0.8363, 0.6444],\n",
       " PeriodicSite: Si (5.667, 3.661, 1.439) [0.6444, 0.4163, 0.1637],\n",
       " PeriodicSite: Si (1.439, 3.127, 5.133) [0.1637, 0.3556, 0.5837],\n",
       " PeriodicSite: Si (5.667, 5.133, 7.354) [0.6444, 0.5837, 0.8363],\n",
       " PeriodicSite: Si (3.661, 1.439, 5.667) [0.4163, 0.1637, 0.6444],\n",
       " PeriodicSite: O (4.397, 0.0, 2.946) [0.5, 0.0, 0.335],\n",
       " PeriodicSite: O (4.397, 0.0, 5.847) [0.5, 0.0, 0.665],\n",
       " PeriodicSite: O (7.182, 3.655, 2.094) [0.8168, 0.4157, 0.2382],\n",
       " PeriodicSite: O (2.184, 4.397, 4.397) [0.2484, 0.5, 0.5],\n",
       " PeriodicSite: O (6.699, 7.182, 5.138) [0.7618, 0.8168, 0.5843],\n",
       " PeriodicSite: O (5.138, 2.094, 1.611) [0.5843, 0.2382, 0.1832],\n",
       " PeriodicSite: O (3.655, 6.699, 1.611) [0.4157, 0.7618, 0.1832],\n",
       " PeriodicSite: O (2.094, 1.611, 5.138) [0.2382, 0.1832, 0.5843],\n",
       " PeriodicSite: O (0.0, 5.847, 4.397) [0.0, 0.665, 0.5],\n",
       " PeriodicSite: O (6.609, 4.397, 4.397) [0.7516, 0.5, 0.5],\n",
       " PeriodicSite: O (4.397, 6.609, 4.397) [0.5, 0.7516, 0.5],\n",
       " PeriodicSite: O (0.0, 2.946, 4.397) [0.0, 0.335, 0.5],\n",
       " PeriodicSite: O (7.182, 5.138, 6.699) [0.8168, 0.5843, 0.7618],\n",
       " PeriodicSite: O (3.655, 2.094, 7.182) [0.4157, 0.2382, 0.8168],\n",
       " PeriodicSite: O (4.397, 4.397, 2.184) [0.5, 0.5, 0.2484],\n",
       " PeriodicSite: O (1.611, 3.655, 6.699) [0.1832, 0.4157, 0.7618],\n",
       " PeriodicSite: O (1.611, 5.138, 2.094) [0.1832, 0.5843, 0.2382],\n",
       " PeriodicSite: O (5.847, 4.397, 0.0) [0.665, 0.5, 0.0],\n",
       " PeriodicSite: O (6.699, 1.611, 3.655) [0.7618, 0.1832, 0.4157],\n",
       " PeriodicSite: O (2.946, 4.397, 0.0) [0.335, 0.5, 0.0],\n",
       " PeriodicSite: O (4.397, 4.397, 6.609) [0.5, 0.5, 0.7516],\n",
       " PeriodicSite: O (5.138, 6.699, 7.182) [0.5843, 0.7618, 0.8168],\n",
       " PeriodicSite: O (4.397, 2.184, 4.397) [0.5, 0.2484, 0.5],\n",
       " PeriodicSite: O (2.094, 7.182, 3.655) [0.2382, 0.8168, 0.4157]]"
      ]
     },
     "execution_count": 53,
     "metadata": {},
     "output_type": "execute_result"
    }
   ],
   "source": [
    "# смотрим элемент структуры sites - местоположения\n",
    "sample_struct.sites"
   ]
  },
  {
   "cell_type": "code",
   "execution_count": 55,
   "id": "85032142",
   "metadata": {},
   "outputs": [
    {
     "data": {
      "text/plain": [
       "pymatgen.core.structure.Structure"
      ]
     },
     "execution_count": 55,
     "metadata": {},
     "output_type": "execute_result"
    }
   ],
   "source": [
    "type(sample_struct)"
   ]
  },
  {
   "cell_type": "code",
   "execution_count": 54,
   "id": "e58fb2b3",
   "metadata": {},
   "outputs": [],
   "source": [
    "# Создаем суперячейку 2x2x2 для корректного учета периодических границ\n",
    "supercell = sample_struct.copy()"
   ]
  },
  {
   "cell_type": "code",
   "execution_count": 56,
   "id": "e84e19d0",
   "metadata": {},
   "outputs": [
    {
     "data": {
      "text/plain": [
       "Structure Summary\n",
       "Lattice\n",
       "    abc : 8.793326 8.793326 8.793326\n",
       " angles : 90.0 90.0 90.0\n",
       " volume : 679.9226719388113\n",
       "      A : 8.793326 0.0 0.0\n",
       "      B : 0.0 8.793326 0.0\n",
       "      C : 0.0 0.0 8.793326\n",
       "    pbc : True True True\n",
       "PeriodicSite: Si (3.661, 7.354, 3.127) [0.4163, 0.8363, 0.3556]\n",
       "PeriodicSite: Si (1.439, 5.667, 3.661) [0.1637, 0.6444, 0.4163]\n",
       "PeriodicSite: Si (3.127, 5.133, 1.439) [0.3556, 0.5837, 0.1637]\n",
       "PeriodicSite: Si (7.354, 3.127, 3.661) [0.8363, 0.3556, 0.4163]\n",
       "PeriodicSite: Si (7.354, 5.667, 5.133) [0.8363, 0.6444, 0.5837]\n",
       "PeriodicSite: Si (5.133, 1.439, 3.127) [0.5837, 0.1637, 0.3556]\n",
       "PeriodicSite: Si (3.127, 3.661, 7.354) [0.3556, 0.4163, 0.8363]\n",
       "PeriodicSite: Si (5.133, 7.354, 5.667) [0.5837, 0.8363, 0.6444]\n",
       "PeriodicSite: Si (5.667, 3.661, 1.439) [0.6444, 0.4163, 0.1637]\n",
       "PeriodicSite: Si (1.439, 3.127, 5.133) [0.1637, 0.3556, 0.5837]\n",
       "PeriodicSite: Si (5.667, 5.133, 7.354) [0.6444, 0.5837, 0.8363]\n",
       "PeriodicSite: Si (3.661, 1.439, 5.667) [0.4163, 0.1637, 0.6444]\n",
       "PeriodicSite: O (4.397, 0.0, 2.946) [0.5, 0.0, 0.335]\n",
       "PeriodicSite: O (4.397, 0.0, 5.847) [0.5, 0.0, 0.665]\n",
       "PeriodicSite: O (7.182, 3.655, 2.094) [0.8168, 0.4157, 0.2382]\n",
       "PeriodicSite: O (2.184, 4.397, 4.397) [0.2484, 0.5, 0.5]\n",
       "PeriodicSite: O (6.699, 7.182, 5.138) [0.7618, 0.8168, 0.5843]\n",
       "PeriodicSite: O (5.138, 2.094, 1.611) [0.5843, 0.2382, 0.1832]\n",
       "PeriodicSite: O (3.655, 6.699, 1.611) [0.4157, 0.7618, 0.1832]\n",
       "PeriodicSite: O (2.094, 1.611, 5.138) [0.2382, 0.1832, 0.5843]\n",
       "PeriodicSite: O (0.0, 5.847, 4.397) [0.0, 0.665, 0.5]\n",
       "PeriodicSite: O (6.609, 4.397, 4.397) [0.7516, 0.5, 0.5]\n",
       "PeriodicSite: O (4.397, 6.609, 4.397) [0.5, 0.7516, 0.5]\n",
       "PeriodicSite: O (0.0, 2.946, 4.397) [0.0, 0.335, 0.5]\n",
       "PeriodicSite: O (7.182, 5.138, 6.699) [0.8168, 0.5843, 0.7618]\n",
       "PeriodicSite: O (3.655, 2.094, 7.182) [0.4157, 0.2382, 0.8168]\n",
       "PeriodicSite: O (4.397, 4.397, 2.184) [0.5, 0.5, 0.2484]\n",
       "PeriodicSite: O (1.611, 3.655, 6.699) [0.1832, 0.4157, 0.7618]\n",
       "PeriodicSite: O (1.611, 5.138, 2.094) [0.1832, 0.5843, 0.2382]\n",
       "PeriodicSite: O (5.847, 4.397, 0.0) [0.665, 0.5, 0.0]\n",
       "PeriodicSite: O (6.699, 1.611, 3.655) [0.7618, 0.1832, 0.4157]\n",
       "PeriodicSite: O (2.946, 4.397, 0.0) [0.335, 0.5, 0.0]\n",
       "PeriodicSite: O (4.397, 4.397, 6.609) [0.5, 0.5, 0.7516]\n",
       "PeriodicSite: O (5.138, 6.699, 7.182) [0.5843, 0.7618, 0.8168]\n",
       "PeriodicSite: O (4.397, 2.184, 4.397) [0.5, 0.2484, 0.5]\n",
       "PeriodicSite: O (2.094, 7.182, 3.655) [0.2382, 0.8168, 0.4157]"
      ]
     },
     "execution_count": 56,
     "metadata": {},
     "output_type": "execute_result"
    }
   ],
   "source": [
    "supercell"
   ]
  },
  {
   "cell_type": "code",
   "execution_count": null,
   "id": "a3162816",
   "metadata": {},
   "outputs": [
    {
     "data": {
      "text/plain": [
       "36"
      ]
     },
     "execution_count": 57,
     "metadata": {},
     "output_type": "execute_result"
    }
   ],
   "source": [
    "# смотрим количество атомов в ячейке\n",
    "len(supercell)"
   ]
  },
  {
   "cell_type": "code",
   "execution_count": null,
   "id": "479e60ed",
   "metadata": {},
   "outputs": [
    {
     "data": {
      "text/plain": [
       "Structure Summary\n",
       "Lattice\n",
       "    abc : 17.586652 17.586652 17.586652\n",
       " angles : 90.0 90.0 90.0\n",
       " volume : 5439.38137551049\n",
       "      A : 17.586652 0.0 0.0\n",
       "      B : 0.0 17.586652 0.0\n",
       "      C : 0.0 0.0 17.586652\n",
       "    pbc : True True True\n",
       "PeriodicSite: Si (3.661, 7.354, 3.127) [0.2081, 0.4182, 0.1778]\n",
       "PeriodicSite: Si (3.661, 7.354, 11.92) [0.2081, 0.4182, 0.6778]\n",
       "PeriodicSite: Si (3.661, 16.15, 3.127) [0.2081, 0.9182, 0.1778]\n",
       "PeriodicSite: Si (3.661, 16.15, 11.92) [0.2081, 0.9182, 0.6778]\n",
       "PeriodicSite: Si (12.45, 7.354, 3.127) [0.7081, 0.4182, 0.1778]\n",
       "PeriodicSite: Si (12.45, 7.354, 11.92) [0.7081, 0.4182, 0.6778]\n",
       "PeriodicSite: Si (12.45, 16.15, 3.127) [0.7081, 0.9182, 0.1778]\n",
       "PeriodicSite: Si (12.45, 16.15, 11.92) [0.7081, 0.9182, 0.6778]\n",
       "PeriodicSite: Si (1.439, 5.667, 3.661) [0.08184, 0.3222, 0.2081]\n",
       "PeriodicSite: Si (1.439, 5.667, 12.45) [0.08184, 0.3222, 0.7081]\n",
       "PeriodicSite: Si (1.439, 14.46, 3.661) [0.08184, 0.8222, 0.2081]\n",
       "PeriodicSite: Si (1.439, 14.46, 12.45) [0.08184, 0.8222, 0.7081]\n",
       "PeriodicSite: Si (10.23, 5.667, 3.661) [0.5818, 0.3222, 0.2081]\n",
       "PeriodicSite: Si (10.23, 5.667, 12.45) [0.5818, 0.3222, 0.7081]\n",
       "PeriodicSite: Si (10.23, 14.46, 3.661) [0.5818, 0.8222, 0.2081]\n",
       "PeriodicSite: Si (10.23, 14.46, 12.45) [0.5818, 0.8222, 0.7081]\n",
       "PeriodicSite: Si (3.127, 5.133, 1.439) [0.1778, 0.2919, 0.08184]\n",
       "PeriodicSite: Si (3.127, 5.133, 10.23) [0.1778, 0.2919, 0.5818]\n",
       "PeriodicSite: Si (3.127, 13.93, 1.439) [0.1778, 0.7919, 0.08184]\n",
       "PeriodicSite: Si (3.127, 13.93, 10.23) [0.1778, 0.7919, 0.5818]\n",
       "PeriodicSite: Si (11.92, 5.133, 1.439) [0.6778, 0.2919, 0.08184]\n",
       "PeriodicSite: Si (11.92, 5.133, 10.23) [0.6778, 0.2919, 0.5818]\n",
       "PeriodicSite: Si (11.92, 13.93, 1.439) [0.6778, 0.7919, 0.08184]\n",
       "PeriodicSite: Si (11.92, 13.93, 10.23) [0.6778, 0.7919, 0.5818]\n",
       "PeriodicSite: Si (7.354, 3.127, 3.661) [0.4182, 0.1778, 0.2081]\n",
       "PeriodicSite: Si (7.354, 3.127, 12.45) [0.4182, 0.1778, 0.7081]\n",
       "PeriodicSite: Si (7.354, 11.92, 3.661) [0.4182, 0.6778, 0.2081]\n",
       "PeriodicSite: Si (7.354, 11.92, 12.45) [0.4182, 0.6778, 0.7081]\n",
       "PeriodicSite: Si (16.15, 3.127, 3.661) [0.9182, 0.1778, 0.2081]\n",
       "PeriodicSite: Si (16.15, 3.127, 12.45) [0.9182, 0.1778, 0.7081]\n",
       "PeriodicSite: Si (16.15, 11.92, 3.661) [0.9182, 0.6778, 0.2081]\n",
       "PeriodicSite: Si (16.15, 11.92, 12.45) [0.9182, 0.6778, 0.7081]\n",
       "PeriodicSite: Si (7.354, 5.667, 5.133) [0.4182, 0.3222, 0.2919]\n",
       "PeriodicSite: Si (7.354, 5.667, 13.93) [0.4182, 0.3222, 0.7919]\n",
       "PeriodicSite: Si (7.354, 14.46, 5.133) [0.4182, 0.8222, 0.2919]\n",
       "PeriodicSite: Si (7.354, 14.46, 13.93) [0.4182, 0.8222, 0.7919]\n",
       "PeriodicSite: Si (16.15, 5.667, 5.133) [0.9182, 0.3222, 0.2919]\n",
       "PeriodicSite: Si (16.15, 5.667, 13.93) [0.9182, 0.3222, 0.7919]\n",
       "PeriodicSite: Si (16.15, 14.46, 5.133) [0.9182, 0.8222, 0.2919]\n",
       "PeriodicSite: Si (16.15, 14.46, 13.93) [0.9182, 0.8222, 0.7919]\n",
       "PeriodicSite: Si (5.133, 1.439, 3.127) [0.2919, 0.08184, 0.1778]\n",
       "PeriodicSite: Si (5.133, 1.439, 11.92) [0.2919, 0.08184, 0.6778]\n",
       "PeriodicSite: Si (5.133, 10.23, 3.127) [0.2919, 0.5818, 0.1778]\n",
       "PeriodicSite: Si (5.133, 10.23, 11.92) [0.2919, 0.5818, 0.6778]\n",
       "PeriodicSite: Si (13.93, 1.439, 3.127) [0.7919, 0.08184, 0.1778]\n",
       "PeriodicSite: Si (13.93, 1.439, 11.92) [0.7919, 0.08184, 0.6778]\n",
       "PeriodicSite: Si (13.93, 10.23, 3.127) [0.7919, 0.5818, 0.1778]\n",
       "PeriodicSite: Si (13.93, 10.23, 11.92) [0.7919, 0.5818, 0.6778]\n",
       "PeriodicSite: Si (3.127, 3.661, 7.354) [0.1778, 0.2081, 0.4182]\n",
       "PeriodicSite: Si (3.127, 3.661, 16.15) [0.1778, 0.2081, 0.9182]\n",
       "PeriodicSite: Si (3.127, 12.45, 7.354) [0.1778, 0.7081, 0.4182]\n",
       "PeriodicSite: Si (3.127, 12.45, 16.15) [0.1778, 0.7081, 0.9182]\n",
       "PeriodicSite: Si (11.92, 3.661, 7.354) [0.6778, 0.2081, 0.4182]\n",
       "PeriodicSite: Si (11.92, 3.661, 16.15) [0.6778, 0.2081, 0.9182]\n",
       "PeriodicSite: Si (11.92, 12.45, 7.354) [0.6778, 0.7081, 0.4182]\n",
       "PeriodicSite: Si (11.92, 12.45, 16.15) [0.6778, 0.7081, 0.9182]\n",
       "PeriodicSite: Si (5.133, 7.354, 5.667) [0.2919, 0.4182, 0.3222]\n",
       "PeriodicSite: Si (5.133, 7.354, 14.46) [0.2919, 0.4182, 0.8222]\n",
       "PeriodicSite: Si (5.133, 16.15, 5.667) [0.2919, 0.9182, 0.3222]\n",
       "PeriodicSite: Si (5.133, 16.15, 14.46) [0.2919, 0.9182, 0.8222]\n",
       "PeriodicSite: Si (13.93, 7.354, 5.667) [0.7919, 0.4182, 0.3222]\n",
       "PeriodicSite: Si (13.93, 7.354, 14.46) [0.7919, 0.4182, 0.8222]\n",
       "PeriodicSite: Si (13.93, 16.15, 5.667) [0.7919, 0.9182, 0.3222]\n",
       "PeriodicSite: Si (13.93, 16.15, 14.46) [0.7919, 0.9182, 0.8222]\n",
       "PeriodicSite: Si (5.667, 3.661, 1.439) [0.3222, 0.2081, 0.08184]\n",
       "PeriodicSite: Si (5.667, 3.661, 10.23) [0.3222, 0.2081, 0.5818]\n",
       "PeriodicSite: Si (5.667, 12.45, 1.439) [0.3222, 0.7081, 0.08184]\n",
       "PeriodicSite: Si (5.667, 12.45, 10.23) [0.3222, 0.7081, 0.5818]\n",
       "PeriodicSite: Si (14.46, 3.661, 1.439) [0.8222, 0.2081, 0.08184]\n",
       "PeriodicSite: Si (14.46, 3.661, 10.23) [0.8222, 0.2081, 0.5818]\n",
       "PeriodicSite: Si (14.46, 12.45, 1.439) [0.8222, 0.7081, 0.08184]\n",
       "PeriodicSite: Si (14.46, 12.45, 10.23) [0.8222, 0.7081, 0.5818]\n",
       "PeriodicSite: Si (1.439, 3.127, 5.133) [0.08184, 0.1778, 0.2919]\n",
       "PeriodicSite: Si (1.439, 3.127, 13.93) [0.08184, 0.1778, 0.7919]\n",
       "PeriodicSite: Si (1.439, 11.92, 5.133) [0.08184, 0.6778, 0.2919]\n",
       "PeriodicSite: Si (1.439, 11.92, 13.93) [0.08184, 0.6778, 0.7919]\n",
       "PeriodicSite: Si (10.23, 3.127, 5.133) [0.5818, 0.1778, 0.2919]\n",
       "PeriodicSite: Si (10.23, 3.127, 13.93) [0.5818, 0.1778, 0.7919]\n",
       "PeriodicSite: Si (10.23, 11.92, 5.133) [0.5818, 0.6778, 0.2919]\n",
       "PeriodicSite: Si (10.23, 11.92, 13.93) [0.5818, 0.6778, 0.7919]\n",
       "PeriodicSite: Si (5.667, 5.133, 7.354) [0.3222, 0.2919, 0.4182]\n",
       "PeriodicSite: Si (5.667, 5.133, 16.15) [0.3222, 0.2919, 0.9182]\n",
       "PeriodicSite: Si (5.667, 13.93, 7.354) [0.3222, 0.7919, 0.4182]\n",
       "PeriodicSite: Si (5.667, 13.93, 16.15) [0.3222, 0.7919, 0.9182]\n",
       "PeriodicSite: Si (14.46, 5.133, 7.354) [0.8222, 0.2919, 0.4182]\n",
       "PeriodicSite: Si (14.46, 5.133, 16.15) [0.8222, 0.2919, 0.9182]\n",
       "PeriodicSite: Si (14.46, 13.93, 7.354) [0.8222, 0.7919, 0.4182]\n",
       "PeriodicSite: Si (14.46, 13.93, 16.15) [0.8222, 0.7919, 0.9182]\n",
       "PeriodicSite: Si (3.661, 1.439, 5.667) [0.2081, 0.08184, 0.3222]\n",
       "PeriodicSite: Si (3.661, 1.439, 14.46) [0.2081, 0.08184, 0.8222]\n",
       "PeriodicSite: Si (3.661, 10.23, 5.667) [0.2081, 0.5818, 0.3222]\n",
       "PeriodicSite: Si (3.661, 10.23, 14.46) [0.2081, 0.5818, 0.8222]\n",
       "PeriodicSite: Si (12.45, 1.439, 5.667) [0.7081, 0.08184, 0.3222]\n",
       "PeriodicSite: Si (12.45, 1.439, 14.46) [0.7081, 0.08184, 0.8222]\n",
       "PeriodicSite: Si (12.45, 10.23, 5.667) [0.7081, 0.5818, 0.3222]\n",
       "PeriodicSite: Si (12.45, 10.23, 14.46) [0.7081, 0.5818, 0.8222]\n",
       "PeriodicSite: O (4.397, 0.0, 2.946) [0.25, 0.0, 0.1675]\n",
       "PeriodicSite: O (4.397, 0.0, 11.74) [0.25, 0.0, 0.6675]\n",
       "PeriodicSite: O (4.397, 8.793, 2.946) [0.25, 0.5, 0.1675]\n",
       "PeriodicSite: O (4.397, 8.793, 11.74) [0.25, 0.5, 0.6675]\n",
       "PeriodicSite: O (13.19, 0.0, 2.946) [0.75, 0.0, 0.1675]\n",
       "PeriodicSite: O (13.19, 0.0, 11.74) [0.75, 0.0, 0.6675]\n",
       "PeriodicSite: O (13.19, 8.793, 2.946) [0.75, 0.5, 0.1675]\n",
       "PeriodicSite: O (13.19, 8.793, 11.74) [0.75, 0.5, 0.6675]\n",
       "PeriodicSite: O (4.397, 0.0, 5.847) [0.25, 0.0, 0.3325]\n",
       "PeriodicSite: O (4.397, 0.0, 14.64) [0.25, 0.0, 0.8325]\n",
       "PeriodicSite: O (4.397, 8.793, 5.847) [0.25, 0.5, 0.3325]\n",
       "PeriodicSite: O (4.397, 8.793, 14.64) [0.25, 0.5, 0.8325]\n",
       "PeriodicSite: O (13.19, 0.0, 5.847) [0.75, 0.0, 0.3325]\n",
       "PeriodicSite: O (13.19, 0.0, 14.64) [0.75, 0.0, 0.8325]\n",
       "PeriodicSite: O (13.19, 8.793, 5.847) [0.75, 0.5, 0.3325]\n",
       "PeriodicSite: O (13.19, 8.793, 14.64) [0.75, 0.5, 0.8325]\n",
       "PeriodicSite: O (7.182, 3.655, 2.094) [0.4084, 0.2079, 0.1191]\n",
       "PeriodicSite: O (7.182, 3.655, 10.89) [0.4084, 0.2079, 0.6191]\n",
       "PeriodicSite: O (7.182, 12.45, 2.094) [0.4084, 0.7079, 0.1191]\n",
       "PeriodicSite: O (7.182, 12.45, 10.89) [0.4084, 0.7079, 0.6191]\n",
       "PeriodicSite: O (15.98, 3.655, 2.094) [0.9084, 0.2079, 0.1191]\n",
       "PeriodicSite: O (15.98, 3.655, 10.89) [0.9084, 0.2079, 0.6191]\n",
       "PeriodicSite: O (15.98, 12.45, 2.094) [0.9084, 0.7079, 0.1191]\n",
       "PeriodicSite: O (15.98, 12.45, 10.89) [0.9084, 0.7079, 0.6191]\n",
       "PeriodicSite: O (2.184, 4.397, 4.397) [0.1242, 0.25, 0.25]\n",
       "PeriodicSite: O (2.184, 4.397, 13.19) [0.1242, 0.25, 0.75]\n",
       "PeriodicSite: O (2.184, 13.19, 4.397) [0.1242, 0.75, 0.25]\n",
       "PeriodicSite: O (2.184, 13.19, 13.19) [0.1242, 0.75, 0.75]\n",
       "PeriodicSite: O (10.98, 4.397, 4.397) [0.6242, 0.25, 0.25]\n",
       "PeriodicSite: O (10.98, 4.397, 13.19) [0.6242, 0.25, 0.75]\n",
       "PeriodicSite: O (10.98, 13.19, 4.397) [0.6242, 0.75, 0.25]\n",
       "PeriodicSite: O (10.98, 13.19, 13.19) [0.6242, 0.75, 0.75]\n",
       "PeriodicSite: O (6.699, 7.182, 5.138) [0.3809, 0.4084, 0.2921]\n",
       "PeriodicSite: O (6.699, 7.182, 13.93) [0.3809, 0.4084, 0.7921]\n",
       "PeriodicSite: O (6.699, 15.98, 5.138) [0.3809, 0.9084, 0.2921]\n",
       "PeriodicSite: O (6.699, 15.98, 13.93) [0.3809, 0.9084, 0.7921]\n",
       "PeriodicSite: O (15.49, 7.182, 5.138) [0.8809, 0.4084, 0.2921]\n",
       "PeriodicSite: O (15.49, 7.182, 13.93) [0.8809, 0.4084, 0.7921]\n",
       "PeriodicSite: O (15.49, 15.98, 5.138) [0.8809, 0.9084, 0.2921]\n",
       "PeriodicSite: O (15.49, 15.98, 13.93) [0.8809, 0.9084, 0.7921]\n",
       "PeriodicSite: O (5.138, 2.094, 1.611) [0.2921, 0.1191, 0.09161]\n",
       "PeriodicSite: O (5.138, 2.094, 10.4) [0.2921, 0.1191, 0.5916]\n",
       "PeriodicSite: O (5.138, 10.89, 1.611) [0.2921, 0.6191, 0.09161]\n",
       "PeriodicSite: O (5.138, 10.89, 10.4) [0.2921, 0.6191, 0.5916]\n",
       "PeriodicSite: O (13.93, 2.094, 1.611) [0.7921, 0.1191, 0.09161]\n",
       "PeriodicSite: O (13.93, 2.094, 10.4) [0.7921, 0.1191, 0.5916]\n",
       "PeriodicSite: O (13.93, 10.89, 1.611) [0.7921, 0.6191, 0.09161]\n",
       "PeriodicSite: O (13.93, 10.89, 10.4) [0.7921, 0.6191, 0.5916]\n",
       "PeriodicSite: O (3.655, 6.699, 1.611) [0.2079, 0.3809, 0.09161]\n",
       "PeriodicSite: O (3.655, 6.699, 10.4) [0.2079, 0.3809, 0.5916]\n",
       "PeriodicSite: O (3.655, 15.49, 1.611) [0.2079, 0.8809, 0.09161]\n",
       "PeriodicSite: O (3.655, 15.49, 10.4) [0.2079, 0.8809, 0.5916]\n",
       "PeriodicSite: O (12.45, 6.699, 1.611) [0.7079, 0.3809, 0.09161]\n",
       "PeriodicSite: O (12.45, 6.699, 10.4) [0.7079, 0.3809, 0.5916]\n",
       "PeriodicSite: O (12.45, 15.49, 1.611) [0.7079, 0.8809, 0.09161]\n",
       "PeriodicSite: O (12.45, 15.49, 10.4) [0.7079, 0.8809, 0.5916]\n",
       "PeriodicSite: O (2.094, 1.611, 5.138) [0.1191, 0.09161, 0.2921]\n",
       "PeriodicSite: O (2.094, 1.611, 13.93) [0.1191, 0.09161, 0.7921]\n",
       "PeriodicSite: O (2.094, 10.4, 5.138) [0.1191, 0.5916, 0.2921]\n",
       "PeriodicSite: O (2.094, 10.4, 13.93) [0.1191, 0.5916, 0.7921]\n",
       "PeriodicSite: O (10.89, 1.611, 5.138) [0.6191, 0.09161, 0.2921]\n",
       "PeriodicSite: O (10.89, 1.611, 13.93) [0.6191, 0.09161, 0.7921]\n",
       "PeriodicSite: O (10.89, 10.4, 5.138) [0.6191, 0.5916, 0.2921]\n",
       "PeriodicSite: O (10.89, 10.4, 13.93) [0.6191, 0.5916, 0.7921]\n",
       "PeriodicSite: O (0.0, 5.847, 4.397) [0.0, 0.3325, 0.25]\n",
       "PeriodicSite: O (0.0, 5.847, 13.19) [0.0, 0.3325, 0.75]\n",
       "PeriodicSite: O (0.0, 14.64, 4.397) [0.0, 0.8325, 0.25]\n",
       "PeriodicSite: O (0.0, 14.64, 13.19) [0.0, 0.8325, 0.75]\n",
       "PeriodicSite: O (8.793, 5.847, 4.397) [0.5, 0.3325, 0.25]\n",
       "PeriodicSite: O (8.793, 5.847, 13.19) [0.5, 0.3325, 0.75]\n",
       "PeriodicSite: O (8.793, 14.64, 4.397) [0.5, 0.8325, 0.25]\n",
       "PeriodicSite: O (8.793, 14.64, 13.19) [0.5, 0.8325, 0.75]\n",
       "PeriodicSite: O (6.609, 4.397, 4.397) [0.3758, 0.25, 0.25]\n",
       "PeriodicSite: O (6.609, 4.397, 13.19) [0.3758, 0.25, 0.75]\n",
       "PeriodicSite: O (6.609, 13.19, 4.397) [0.3758, 0.75, 0.25]\n",
       "PeriodicSite: O (6.609, 13.19, 13.19) [0.3758, 0.75, 0.75]\n",
       "PeriodicSite: O (15.4, 4.397, 4.397) [0.8758, 0.25, 0.25]\n",
       "PeriodicSite: O (15.4, 4.397, 13.19) [0.8758, 0.25, 0.75]\n",
       "PeriodicSite: O (15.4, 13.19, 4.397) [0.8758, 0.75, 0.25]\n",
       "PeriodicSite: O (15.4, 13.19, 13.19) [0.8758, 0.75, 0.75]\n",
       "PeriodicSite: O (4.397, 6.609, 4.397) [0.25, 0.3758, 0.25]\n",
       "PeriodicSite: O (4.397, 6.609, 13.19) [0.25, 0.3758, 0.75]\n",
       "PeriodicSite: O (4.397, 15.4, 4.397) [0.25, 0.8758, 0.25]\n",
       "PeriodicSite: O (4.397, 15.4, 13.19) [0.25, 0.8758, 0.75]\n",
       "PeriodicSite: O (13.19, 6.609, 4.397) [0.75, 0.3758, 0.25]\n",
       "PeriodicSite: O (13.19, 6.609, 13.19) [0.75, 0.3758, 0.75]\n",
       "PeriodicSite: O (13.19, 15.4, 4.397) [0.75, 0.8758, 0.25]\n",
       "PeriodicSite: O (13.19, 15.4, 13.19) [0.75, 0.8758, 0.75]\n",
       "PeriodicSite: O (0.0, 2.946, 4.397) [0.0, 0.1675, 0.25]\n",
       "PeriodicSite: O (0.0, 2.946, 13.19) [0.0, 0.1675, 0.75]\n",
       "PeriodicSite: O (0.0, 11.74, 4.397) [0.0, 0.6675, 0.25]\n",
       "PeriodicSite: O (0.0, 11.74, 13.19) [0.0, 0.6675, 0.75]\n",
       "PeriodicSite: O (8.793, 2.946, 4.397) [0.5, 0.1675, 0.25]\n",
       "PeriodicSite: O (8.793, 2.946, 13.19) [0.5, 0.1675, 0.75]\n",
       "PeriodicSite: O (8.793, 11.74, 4.397) [0.5, 0.6675, 0.25]\n",
       "PeriodicSite: O (8.793, 11.74, 13.19) [0.5, 0.6675, 0.75]\n",
       "PeriodicSite: O (7.182, 5.138, 6.699) [0.4084, 0.2921, 0.3809]\n",
       "PeriodicSite: O (7.182, 5.138, 15.49) [0.4084, 0.2921, 0.8809]\n",
       "PeriodicSite: O (7.182, 13.93, 6.699) [0.4084, 0.7921, 0.3809]\n",
       "PeriodicSite: O (7.182, 13.93, 15.49) [0.4084, 0.7921, 0.8809]\n",
       "PeriodicSite: O (15.98, 5.138, 6.699) [0.9084, 0.2921, 0.3809]\n",
       "PeriodicSite: O (15.98, 5.138, 15.49) [0.9084, 0.2921, 0.8809]\n",
       "PeriodicSite: O (15.98, 13.93, 6.699) [0.9084, 0.7921, 0.3809]\n",
       "PeriodicSite: O (15.98, 13.93, 15.49) [0.9084, 0.7921, 0.8809]\n",
       "PeriodicSite: O (3.655, 2.094, 7.182) [0.2079, 0.1191, 0.4084]\n",
       "PeriodicSite: O (3.655, 2.094, 15.98) [0.2079, 0.1191, 0.9084]\n",
       "PeriodicSite: O (3.655, 10.89, 7.182) [0.2079, 0.6191, 0.4084]\n",
       "PeriodicSite: O (3.655, 10.89, 15.98) [0.2079, 0.6191, 0.9084]\n",
       "PeriodicSite: O (12.45, 2.094, 7.182) [0.7079, 0.1191, 0.4084]\n",
       "PeriodicSite: O (12.45, 2.094, 15.98) [0.7079, 0.1191, 0.9084]\n",
       "PeriodicSite: O (12.45, 10.89, 7.182) [0.7079, 0.6191, 0.4084]\n",
       "PeriodicSite: O (12.45, 10.89, 15.98) [0.7079, 0.6191, 0.9084]\n",
       "PeriodicSite: O (4.397, 4.397, 2.184) [0.25, 0.25, 0.1242]\n",
       "PeriodicSite: O (4.397, 4.397, 10.98) [0.25, 0.25, 0.6242]\n",
       "PeriodicSite: O (4.397, 13.19, 2.184) [0.25, 0.75, 0.1242]\n",
       "PeriodicSite: O (4.397, 13.19, 10.98) [0.25, 0.75, 0.6242]\n",
       "PeriodicSite: O (13.19, 4.397, 2.184) [0.75, 0.25, 0.1242]\n",
       "PeriodicSite: O (13.19, 4.397, 10.98) [0.75, 0.25, 0.6242]\n",
       "PeriodicSite: O (13.19, 13.19, 2.184) [0.75, 0.75, 0.1242]\n",
       "PeriodicSite: O (13.19, 13.19, 10.98) [0.75, 0.75, 0.6242]\n",
       "PeriodicSite: O (1.611, 3.655, 6.699) [0.09161, 0.2079, 0.3809]\n",
       "PeriodicSite: O (1.611, 3.655, 15.49) [0.09161, 0.2079, 0.8809]\n",
       "PeriodicSite: O (1.611, 12.45, 6.699) [0.09161, 0.7079, 0.3809]\n",
       "PeriodicSite: O (1.611, 12.45, 15.49) [0.09161, 0.7079, 0.8809]\n",
       "PeriodicSite: O (10.4, 3.655, 6.699) [0.5916, 0.2079, 0.3809]\n",
       "PeriodicSite: O (10.4, 3.655, 15.49) [0.5916, 0.2079, 0.8809]\n",
       "PeriodicSite: O (10.4, 12.45, 6.699) [0.5916, 0.7079, 0.3809]\n",
       "PeriodicSite: O (10.4, 12.45, 15.49) [0.5916, 0.7079, 0.8809]\n",
       "PeriodicSite: O (1.611, 5.138, 2.094) [0.09161, 0.2921, 0.1191]\n",
       "PeriodicSite: O (1.611, 5.138, 10.89) [0.09161, 0.2921, 0.6191]\n",
       "PeriodicSite: O (1.611, 13.93, 2.094) [0.09161, 0.7921, 0.1191]\n",
       "PeriodicSite: O (1.611, 13.93, 10.89) [0.09161, 0.7921, 0.6191]\n",
       "PeriodicSite: O (10.4, 5.138, 2.094) [0.5916, 0.2921, 0.1191]\n",
       "PeriodicSite: O (10.4, 5.138, 10.89) [0.5916, 0.2921, 0.6191]\n",
       "PeriodicSite: O (10.4, 13.93, 2.094) [0.5916, 0.7921, 0.1191]\n",
       "PeriodicSite: O (10.4, 13.93, 10.89) [0.5916, 0.7921, 0.6191]\n",
       "PeriodicSite: O (5.847, 4.397, 0.0) [0.3325, 0.25, 0.0]\n",
       "PeriodicSite: O (5.847, 4.397, 8.793) [0.3325, 0.25, 0.5]\n",
       "PeriodicSite: O (5.847, 13.19, 0.0) [0.3325, 0.75, 0.0]\n",
       "PeriodicSite: O (5.847, 13.19, 8.793) [0.3325, 0.75, 0.5]\n",
       "PeriodicSite: O (14.64, 4.397, 0.0) [0.8325, 0.25, 0.0]\n",
       "PeriodicSite: O (14.64, 4.397, 8.793) [0.8325, 0.25, 0.5]\n",
       "PeriodicSite: O (14.64, 13.19, 0.0) [0.8325, 0.75, 0.0]\n",
       "PeriodicSite: O (14.64, 13.19, 8.793) [0.8325, 0.75, 0.5]\n",
       "PeriodicSite: O (6.699, 1.611, 3.655) [0.3809, 0.09161, 0.2079]\n",
       "PeriodicSite: O (6.699, 1.611, 12.45) [0.3809, 0.09161, 0.7079]\n",
       "PeriodicSite: O (6.699, 10.4, 3.655) [0.3809, 0.5916, 0.2079]\n",
       "PeriodicSite: O (6.699, 10.4, 12.45) [0.3809, 0.5916, 0.7079]\n",
       "PeriodicSite: O (15.49, 1.611, 3.655) [0.8809, 0.09161, 0.2079]\n",
       "PeriodicSite: O (15.49, 1.611, 12.45) [0.8809, 0.09161, 0.7079]\n",
       "PeriodicSite: O (15.49, 10.4, 3.655) [0.8809, 0.5916, 0.2079]\n",
       "PeriodicSite: O (15.49, 10.4, 12.45) [0.8809, 0.5916, 0.7079]\n",
       "PeriodicSite: O (2.946, 4.397, 0.0) [0.1675, 0.25, 0.0]\n",
       "PeriodicSite: O (2.946, 4.397, 8.793) [0.1675, 0.25, 0.5]\n",
       "PeriodicSite: O (2.946, 13.19, 0.0) [0.1675, 0.75, 0.0]\n",
       "PeriodicSite: O (2.946, 13.19, 8.793) [0.1675, 0.75, 0.5]\n",
       "PeriodicSite: O (11.74, 4.397, 0.0) [0.6675, 0.25, 0.0]\n",
       "PeriodicSite: O (11.74, 4.397, 8.793) [0.6675, 0.25, 0.5]\n",
       "PeriodicSite: O (11.74, 13.19, 0.0) [0.6675, 0.75, 0.0]\n",
       "PeriodicSite: O (11.74, 13.19, 8.793) [0.6675, 0.75, 0.5]\n",
       "PeriodicSite: O (4.397, 4.397, 6.609) [0.25, 0.25, 0.3758]\n",
       "PeriodicSite: O (4.397, 4.397, 15.4) [0.25, 0.25, 0.8758]\n",
       "PeriodicSite: O (4.397, 13.19, 6.609) [0.25, 0.75, 0.3758]\n",
       "PeriodicSite: O (4.397, 13.19, 15.4) [0.25, 0.75, 0.8758]\n",
       "PeriodicSite: O (13.19, 4.397, 6.609) [0.75, 0.25, 0.3758]\n",
       "PeriodicSite: O (13.19, 4.397, 15.4) [0.75, 0.25, 0.8758]\n",
       "PeriodicSite: O (13.19, 13.19, 6.609) [0.75, 0.75, 0.3758]\n",
       "PeriodicSite: O (13.19, 13.19, 15.4) [0.75, 0.75, 0.8758]\n",
       "PeriodicSite: O (5.138, 6.699, 7.182) [0.2921, 0.3809, 0.4084]\n",
       "PeriodicSite: O (5.138, 6.699, 15.98) [0.2921, 0.3809, 0.9084]\n",
       "PeriodicSite: O (5.138, 15.49, 7.182) [0.2921, 0.8809, 0.4084]\n",
       "PeriodicSite: O (5.138, 15.49, 15.98) [0.2921, 0.8809, 0.9084]\n",
       "PeriodicSite: O (13.93, 6.699, 7.182) [0.7921, 0.3809, 0.4084]\n",
       "PeriodicSite: O (13.93, 6.699, 15.98) [0.7921, 0.3809, 0.9084]\n",
       "PeriodicSite: O (13.93, 15.49, 7.182) [0.7921, 0.8809, 0.4084]\n",
       "PeriodicSite: O (13.93, 15.49, 15.98) [0.7921, 0.8809, 0.9084]\n",
       "PeriodicSite: O (4.397, 2.184, 4.397) [0.25, 0.1242, 0.25]\n",
       "PeriodicSite: O (4.397, 2.184, 13.19) [0.25, 0.1242, 0.75]\n",
       "PeriodicSite: O (4.397, 10.98, 4.397) [0.25, 0.6242, 0.25]\n",
       "PeriodicSite: O (4.397, 10.98, 13.19) [0.25, 0.6242, 0.75]\n",
       "PeriodicSite: O (13.19, 2.184, 4.397) [0.75, 0.1242, 0.25]\n",
       "PeriodicSite: O (13.19, 2.184, 13.19) [0.75, 0.1242, 0.75]\n",
       "PeriodicSite: O (13.19, 10.98, 4.397) [0.75, 0.6242, 0.25]\n",
       "PeriodicSite: O (13.19, 10.98, 13.19) [0.75, 0.6242, 0.75]\n",
       "PeriodicSite: O (2.094, 7.182, 3.655) [0.1191, 0.4084, 0.2079]\n",
       "PeriodicSite: O (2.094, 7.182, 12.45) [0.1191, 0.4084, 0.7079]\n",
       "PeriodicSite: O (2.094, 15.98, 3.655) [0.1191, 0.9084, 0.2079]\n",
       "PeriodicSite: O (2.094, 15.98, 12.45) [0.1191, 0.9084, 0.7079]\n",
       "PeriodicSite: O (10.89, 7.182, 3.655) [0.6191, 0.4084, 0.2079]\n",
       "PeriodicSite: O (10.89, 7.182, 12.45) [0.6191, 0.4084, 0.7079]\n",
       "PeriodicSite: O (10.89, 15.98, 3.655) [0.6191, 0.9084, 0.2079]\n",
       "PeriodicSite: O (10.89, 15.98, 12.45) [0.6191, 0.9084, 0.7079]"
      ]
     },
     "execution_count": 58,
     "metadata": {},
     "output_type": "execute_result"
    }
   ],
   "source": [
    "# Создаем суперячейку 2x2x2 для корректного учета периодических границ\n",
    "supercell.make_supercell([2, 2, 2])  # Теперь минимум 8 атомов (если в ячейке был 1 атом)"
   ]
  },
  {
   "cell_type": "code",
   "execution_count": 59,
   "id": "04788b16",
   "metadata": {},
   "outputs": [
    {
     "data": {
      "text/plain": [
       "288"
      ]
     },
     "execution_count": 59,
     "metadata": {},
     "output_type": "execute_result"
    }
   ],
   "source": [
    "# смотрим количество атомов в ячейке после получения суперячейки\n",
    "len(supercell)"
   ]
  },
  {
   "cell_type": "code",
   "execution_count": 60,
   "id": "c36aab71",
   "metadata": {},
   "outputs": [
    {
     "data": {
      "text/plain": [
       "Lattice\n",
       "    abc : 17.586652 17.586652 17.586652\n",
       " angles : 90.0 90.0 90.0\n",
       " volume : 5439.38137551049\n",
       "      A : 17.586652 0.0 0.0\n",
       "      B : 0.0 17.586652 0.0\n",
       "      C : 0.0 0.0 17.586652\n",
       "    pbc : True True True"
      ]
     },
     "execution_count": 60,
     "metadata": {},
     "output_type": "execute_result"
    }
   ],
   "source": [
    "supercell.lattice"
   ]
  },
  {
   "cell_type": "code",
   "execution_count": null,
   "id": "da564241",
   "metadata": {},
   "outputs": [
    {
     "data": {
      "text/plain": [
       "Element Si"
      ]
     },
     "execution_count": 65,
     "metadata": {},
     "output_type": "execute_result"
    }
   ],
   "source": [
    "# смотрим свойства элемента\n",
    "supercell.species[0]"
   ]
  },
  {
   "cell_type": "code",
   "execution_count": null,
   "id": "ecc93b0f",
   "metadata": {},
   "outputs": [
    {
     "data": {
      "text/plain": [
       "Element Si"
      ]
     },
     "execution_count": 73,
     "metadata": {},
     "output_type": "execute_result"
    }
   ],
   "source": [
    "# смотрим свойства элемента\n",
    "supercell.sites[0].species.elements[0]"
   ]
  },
  {
   "cell_type": "code",
   "execution_count": null,
   "id": "32a595cb",
   "metadata": {},
   "outputs": [
    {
     "data": {
      "text/plain": [
       "14"
      ]
     },
     "execution_count": 74,
     "metadata": {},
     "output_type": "execute_result"
    }
   ],
   "source": [
    "# смотрим свойства элемента\n",
    "supercell.sites[0].species.elements[0].Z"
   ]
  },
  {
   "cell_type": "code",
   "execution_count": null,
   "id": "8b8580ea",
   "metadata": {},
   "outputs": [
    {
     "data": {
      "text/plain": [
       "12.06"
      ]
     },
     "execution_count": 80,
     "metadata": {},
     "output_type": "execute_result"
    }
   ],
   "source": [
    "# смотрим свойства элемента\n",
    "supercell.sites[0].species.elements[0].molar_volume"
   ]
  },
  {
   "cell_type": "code",
   "execution_count": null,
   "id": "4e2f5cab",
   "metadata": {},
   "outputs": [
    {
     "data": {
      "text/plain": [
       "1.38952128"
      ]
     },
     "execution_count": 81,
     "metadata": {},
     "output_type": "execute_result"
    }
   ],
   "source": [
    "# смотрим свойства элемента\n",
    "supercell.sites[0].species.elements[0].electron_affinity"
   ]
  },
  {
   "cell_type": "markdown",
   "id": "840a81fd",
   "metadata": {},
   "source": [
    "#### Преобразуем atoms - атомные свойства и pos - координаты"
   ]
  },
  {
   "cell_type": "code",
   "execution_count": 82,
   "id": "7fe2062a",
   "metadata": {},
   "outputs": [],
   "source": [
    "# Инициализация пустых списков для хранения атомных свойств и координат\n",
    "atoms, pos = [], []"
   ]
  },
  {
   "cell_type": "code",
   "execution_count": 83,
   "id": "80e256c7",
   "metadata": {},
   "outputs": [],
   "source": [
    "# добавим атомные свойства и координаты в отдельные переменные типа [list]\n",
    "for site in sample_struct.sites:\n",
    "    atoms.append([\n",
    "        site.species.elements[0].Z, # Атомный номер (количество протонов)\n",
    "        site.species.elements[0].molar_volume, # Молярный объем\n",
    "        site.species.elements[0].electron_affinity,  # Сродство к электрону\n",
    "        site.species.elements[0].min_oxidation_state, # Минимальная степень окисления\n",
    "        site.species.elements[0].max_oxidation_state, # Максимальная степень окисления\n",
    "    ])\n",
    "\n",
    "     # Добавляем координаты атома в pos\n",
    "    pos.append(site.coords)  # Декартовы координаты [x, y, z]"
   ]
  },
  {
   "cell_type": "code",
   "execution_count": 84,
   "id": "cd22184d",
   "metadata": {},
   "outputs": [
    {
     "data": {
      "text/plain": [
       "[[14, 12.06, 1.38952128, -4, 4],\n",
       " [14, 12.06, 1.38952128, -4, 4],\n",
       " [14, 12.06, 1.38952128, -4, 4],\n",
       " [14, 12.06, 1.38952128, -4, 4],\n",
       " [14, 12.06, 1.38952128, -4, 4],\n",
       " [14, 12.06, 1.38952128, -4, 4],\n",
       " [14, 12.06, 1.38952128, -4, 4],\n",
       " [14, 12.06, 1.38952128, -4, 4],\n",
       " [14, 12.06, 1.38952128, -4, 4],\n",
       " [14, 12.06, 1.38952128, -4, 4],\n",
       " [14, 12.06, 1.38952128, -4, 4],\n",
       " [14, 12.06, 1.38952128, -4, 4],\n",
       " [8, 17.36, 1.4611053, -2, 2],\n",
       " [8, 17.36, 1.4611053, -2, 2],\n",
       " [8, 17.36, 1.4611053, -2, 2],\n",
       " [8, 17.36, 1.4611053, -2, 2],\n",
       " [8, 17.36, 1.4611053, -2, 2],\n",
       " [8, 17.36, 1.4611053, -2, 2],\n",
       " [8, 17.36, 1.4611053, -2, 2],\n",
       " [8, 17.36, 1.4611053, -2, 2],\n",
       " [8, 17.36, 1.4611053, -2, 2],\n",
       " [8, 17.36, 1.4611053, -2, 2],\n",
       " [8, 17.36, 1.4611053, -2, 2],\n",
       " [8, 17.36, 1.4611053, -2, 2],\n",
       " [8, 17.36, 1.4611053, -2, 2],\n",
       " [8, 17.36, 1.4611053, -2, 2],\n",
       " [8, 17.36, 1.4611053, -2, 2],\n",
       " [8, 17.36, 1.4611053, -2, 2],\n",
       " [8, 17.36, 1.4611053, -2, 2],\n",
       " [8, 17.36, 1.4611053, -2, 2],\n",
       " [8, 17.36, 1.4611053, -2, 2],\n",
       " [8, 17.36, 1.4611053, -2, 2],\n",
       " [8, 17.36, 1.4611053, -2, 2],\n",
       " [8, 17.36, 1.4611053, -2, 2],\n",
       " [8, 17.36, 1.4611053, -2, 2],\n",
       " [8, 17.36, 1.4611053, -2, 2]]"
      ]
     },
     "execution_count": 84,
     "metadata": {},
     "output_type": "execute_result"
    }
   ],
   "source": [
    "atoms"
   ]
  },
  {
   "cell_type": "code",
   "execution_count": 85,
   "id": "cbc6be56",
   "metadata": {},
   "outputs": [
    {
     "data": {
      "text/plain": [
       "[array([3.66050333, 7.35399043, 3.12668689]),\n",
       " array([1.43933557, 5.66663911, 3.66050333]),\n",
       " array([3.12668689, 5.13282267, 1.43933557]),\n",
       " array([7.35399043, 3.12668689, 3.66050333]),\n",
       " array([7.35399043, 5.66663911, 5.13282267]),\n",
       " array([5.13282267, 1.43933557, 3.12668689]),\n",
       " array([3.12668689, 3.66050333, 7.35399043]),\n",
       " array([5.13282267, 7.35399043, 5.66663911]),\n",
       " array([5.66663911, 3.66050333, 1.43933557]),\n",
       " array([1.43933557, 3.12668689, 5.13282267]),\n",
       " array([5.66663911, 5.13282267, 7.35399043]),\n",
       " array([3.66050333, 1.43933557, 5.66663911]),\n",
       " array([4.396663  , 0.        , 2.94586973]),\n",
       " array([4.396663  , 0.        , 5.84745627]),\n",
       " array([7.1822216 , 3.65549993, 2.09423611]),\n",
       " array([2.18393683, 4.396663  , 4.396663  ]),\n",
       " array([6.69908989, 7.1822216 , 5.13782607]),\n",
       " array([5.13782607, 2.09423611, 1.6111044 ]),\n",
       " array([3.65549993, 6.69908989, 1.6111044 ]),\n",
       " array([2.09423611, 1.6111044 , 5.13782607]),\n",
       " array([0.        , 5.84745627, 4.396663  ]),\n",
       " array([6.60938917, 4.396663  , 4.396663  ]),\n",
       " array([4.396663  , 6.60938917, 4.396663  ]),\n",
       " array([0.        , 2.94586973, 4.396663  ]),\n",
       " array([7.1822216 , 5.13782607, 6.69908989]),\n",
       " array([3.65549993, 2.09423611, 7.1822216 ]),\n",
       " array([4.396663  , 4.396663  , 2.18393683]),\n",
       " array([1.6111044 , 3.65549993, 6.69908989]),\n",
       " array([1.6111044 , 5.13782607, 2.09423611]),\n",
       " array([5.84745627, 4.396663  , 0.        ]),\n",
       " array([6.69908989, 1.6111044 , 3.65549993]),\n",
       " array([2.94586973, 4.396663  , 0.        ]),\n",
       " array([4.396663  , 4.396663  , 6.60938917]),\n",
       " array([5.13782607, 6.69908989, 7.1822216 ]),\n",
       " array([4.396663  , 2.18393683, 4.396663  ]),\n",
       " array([2.09423611, 7.1822216 , 3.65549993])]"
      ]
     },
     "execution_count": 85,
     "metadata": {},
     "output_type": "execute_result"
    }
   ],
   "source": [
    "pos"
   ]
  },
  {
   "cell_type": "code",
   "execution_count": 86,
   "id": "cdeebc53",
   "metadata": {},
   "outputs": [
    {
     "name": "stderr",
     "output_type": "stream",
     "text": [
      "C:\\Users\\lazarevnv\\AppData\\Local\\Temp\\ipykernel_26780\\2466273431.py:6: UserWarning: Creating a tensor from a list of numpy.ndarrays is extremely slow. Please consider converting the list to a single numpy.ndarray with numpy.array() before converting to a tensor. (Triggered internally at ..\\torch\\csrc\\utils\\tensor_new.cpp:278.)\n",
      "  pos = torch.tensor(pos).to(torch.float32)      # Координаты также в float32\n"
     ]
    }
   ],
   "source": [
    "# torch_geometric is designed to work with torch.tensor objects \n",
    "# (torch_geometric предназначен для работы с объектами torch.tensor)\n",
    "\n",
    "# Преобразование списков в тензоры PyTorch для совместимости с torch_geometric\n",
    "atoms = torch.tensor(atoms).to(torch.float32)  # Преобразуем в тензор float32\n",
    "pos = torch.tensor(pos).to(torch.float32)      # Координаты также в float32"
   ]
  },
  {
   "cell_type": "code",
   "execution_count": null,
   "id": "c7a1fc02",
   "metadata": {},
   "outputs": [
    {
     "data": {
      "text/plain": [
       "tensor([[14.0000, 12.0600,  1.3895, -4.0000,  4.0000],\n",
       "        [14.0000, 12.0600,  1.3895, -4.0000,  4.0000],\n",
       "        [14.0000, 12.0600,  1.3895, -4.0000,  4.0000],\n",
       "        [14.0000, 12.0600,  1.3895, -4.0000,  4.0000],\n",
       "        [14.0000, 12.0600,  1.3895, -4.0000,  4.0000],\n",
       "        [14.0000, 12.0600,  1.3895, -4.0000,  4.0000],\n",
       "        [14.0000, 12.0600,  1.3895, -4.0000,  4.0000],\n",
       "        [14.0000, 12.0600,  1.3895, -4.0000,  4.0000],\n",
       "        [14.0000, 12.0600,  1.3895, -4.0000,  4.0000],\n",
       "        [14.0000, 12.0600,  1.3895, -4.0000,  4.0000],\n",
       "        [14.0000, 12.0600,  1.3895, -4.0000,  4.0000],\n",
       "        [14.0000, 12.0600,  1.3895, -4.0000,  4.0000],\n",
       "        [ 8.0000, 17.3600,  1.4611, -2.0000,  2.0000],\n",
       "        [ 8.0000, 17.3600,  1.4611, -2.0000,  2.0000],\n",
       "        [ 8.0000, 17.3600,  1.4611, -2.0000,  2.0000],\n",
       "        [ 8.0000, 17.3600,  1.4611, -2.0000,  2.0000],\n",
       "        [ 8.0000, 17.3600,  1.4611, -2.0000,  2.0000],\n",
       "        [ 8.0000, 17.3600,  1.4611, -2.0000,  2.0000],\n",
       "        [ 8.0000, 17.3600,  1.4611, -2.0000,  2.0000],\n",
       "        [ 8.0000, 17.3600,  1.4611, -2.0000,  2.0000],\n",
       "        [ 8.0000, 17.3600,  1.4611, -2.0000,  2.0000],\n",
       "        [ 8.0000, 17.3600,  1.4611, -2.0000,  2.0000],\n",
       "        [ 8.0000, 17.3600,  1.4611, -2.0000,  2.0000],\n",
       "        [ 8.0000, 17.3600,  1.4611, -2.0000,  2.0000],\n",
       "        [ 8.0000, 17.3600,  1.4611, -2.0000,  2.0000],\n",
       "        [ 8.0000, 17.3600,  1.4611, -2.0000,  2.0000],\n",
       "        [ 8.0000, 17.3600,  1.4611, -2.0000,  2.0000],\n",
       "        [ 8.0000, 17.3600,  1.4611, -2.0000,  2.0000],\n",
       "        [ 8.0000, 17.3600,  1.4611, -2.0000,  2.0000],\n",
       "        [ 8.0000, 17.3600,  1.4611, -2.0000,  2.0000],\n",
       "        [ 8.0000, 17.3600,  1.4611, -2.0000,  2.0000],\n",
       "        [ 8.0000, 17.3600,  1.4611, -2.0000,  2.0000],\n",
       "        [ 8.0000, 17.3600,  1.4611, -2.0000,  2.0000],\n",
       "        [ 8.0000, 17.3600,  1.4611, -2.0000,  2.0000],\n",
       "        [ 8.0000, 17.3600,  1.4611, -2.0000,  2.0000],\n",
       "        [ 8.0000, 17.3600,  1.4611, -2.0000,  2.0000]])"
      ]
     },
     "execution_count": 88,
     "metadata": {},
     "output_type": "execute_result"
    }
   ],
   "source": [
    "# смотрим что получилось\n",
    "atoms"
   ]
  },
  {
   "cell_type": "code",
   "execution_count": 89,
   "id": "80499a7d",
   "metadata": {},
   "outputs": [
    {
     "data": {
      "text/plain": [
       "tensor([[3.6605, 7.3540, 3.1267],\n",
       "        [1.4393, 5.6666, 3.6605],\n",
       "        [3.1267, 5.1328, 1.4393],\n",
       "        [7.3540, 3.1267, 3.6605],\n",
       "        [7.3540, 5.6666, 5.1328],\n",
       "        [5.1328, 1.4393, 3.1267],\n",
       "        [3.1267, 3.6605, 7.3540],\n",
       "        [5.1328, 7.3540, 5.6666],\n",
       "        [5.6666, 3.6605, 1.4393],\n",
       "        [1.4393, 3.1267, 5.1328],\n",
       "        [5.6666, 5.1328, 7.3540],\n",
       "        [3.6605, 1.4393, 5.6666],\n",
       "        [4.3967, 0.0000, 2.9459],\n",
       "        [4.3967, 0.0000, 5.8475],\n",
       "        [7.1822, 3.6555, 2.0942],\n",
       "        [2.1839, 4.3967, 4.3967],\n",
       "        [6.6991, 7.1822, 5.1378],\n",
       "        [5.1378, 2.0942, 1.6111],\n",
       "        [3.6555, 6.6991, 1.6111],\n",
       "        [2.0942, 1.6111, 5.1378],\n",
       "        [0.0000, 5.8475, 4.3967],\n",
       "        [6.6094, 4.3967, 4.3967],\n",
       "        [4.3967, 6.6094, 4.3967],\n",
       "        [0.0000, 2.9459, 4.3967],\n",
       "        [7.1822, 5.1378, 6.6991],\n",
       "        [3.6555, 2.0942, 7.1822],\n",
       "        [4.3967, 4.3967, 2.1839],\n",
       "        [1.6111, 3.6555, 6.6991],\n",
       "        [1.6111, 5.1378, 2.0942],\n",
       "        [5.8475, 4.3967, 0.0000],\n",
       "        [6.6991, 1.6111, 3.6555],\n",
       "        [2.9459, 4.3967, 0.0000],\n",
       "        [4.3967, 4.3967, 6.6094],\n",
       "        [5.1378, 6.6991, 7.1822],\n",
       "        [4.3967, 2.1839, 4.3967],\n",
       "        [2.0942, 7.1822, 3.6555]])"
      ]
     },
     "execution_count": 89,
     "metadata": {},
     "output_type": "execute_result"
    }
   ],
   "source": [
    "# смотрим что получилось\n",
    "pos"
   ]
  },
  {
   "cell_type": "markdown",
   "id": "8480bfe9",
   "metadata": {},
   "source": [
    "#### создадим тензор lattice для параметров решетки - векторов трансляций "
   ]
  },
  {
   "cell_type": "code",
   "execution_count": 118,
   "id": "8a359ad0",
   "metadata": {},
   "outputs": [
    {
     "data": {
      "text/plain": [
       "Structure Summary\n",
       "Lattice\n",
       "    abc : 17.586652 17.586652 17.586652\n",
       " angles : 90.0 90.0 90.0\n",
       " volume : 5439.38137551049\n",
       "      A : 17.586652 0.0 0.0\n",
       "      B : 0.0 17.586652 0.0\n",
       "      C : 0.0 0.0 17.586652\n",
       "    pbc : True True True\n",
       "PeriodicSite: Si (3.661, 7.354, 3.127) [0.2081, 0.4182, 0.1778]\n",
       "PeriodicSite: Si (3.661, 7.354, 11.92) [0.2081, 0.4182, 0.6778]\n",
       "PeriodicSite: Si (3.661, 16.15, 3.127) [0.2081, 0.9182, 0.1778]\n",
       "PeriodicSite: Si (3.661, 16.15, 11.92) [0.2081, 0.9182, 0.6778]\n",
       "PeriodicSite: Si (12.45, 7.354, 3.127) [0.7081, 0.4182, 0.1778]\n",
       "PeriodicSite: Si (12.45, 7.354, 11.92) [0.7081, 0.4182, 0.6778]\n",
       "PeriodicSite: Si (12.45, 16.15, 3.127) [0.7081, 0.9182, 0.1778]\n",
       "PeriodicSite: Si (12.45, 16.15, 11.92) [0.7081, 0.9182, 0.6778]\n",
       "PeriodicSite: Si (1.439, 5.667, 3.661) [0.08184, 0.3222, 0.2081]\n",
       "PeriodicSite: Si (1.439, 5.667, 12.45) [0.08184, 0.3222, 0.7081]\n",
       "PeriodicSite: Si (1.439, 14.46, 3.661) [0.08184, 0.8222, 0.2081]\n",
       "PeriodicSite: Si (1.439, 14.46, 12.45) [0.08184, 0.8222, 0.7081]\n",
       "PeriodicSite: Si (10.23, 5.667, 3.661) [0.5818, 0.3222, 0.2081]\n",
       "PeriodicSite: Si (10.23, 5.667, 12.45) [0.5818, 0.3222, 0.7081]\n",
       "PeriodicSite: Si (10.23, 14.46, 3.661) [0.5818, 0.8222, 0.2081]\n",
       "PeriodicSite: Si (10.23, 14.46, 12.45) [0.5818, 0.8222, 0.7081]\n",
       "PeriodicSite: Si (3.127, 5.133, 1.439) [0.1778, 0.2919, 0.08184]\n",
       "PeriodicSite: Si (3.127, 5.133, 10.23) [0.1778, 0.2919, 0.5818]\n",
       "PeriodicSite: Si (3.127, 13.93, 1.439) [0.1778, 0.7919, 0.08184]\n",
       "PeriodicSite: Si (3.127, 13.93, 10.23) [0.1778, 0.7919, 0.5818]\n",
       "PeriodicSite: Si (11.92, 5.133, 1.439) [0.6778, 0.2919, 0.08184]\n",
       "PeriodicSite: Si (11.92, 5.133, 10.23) [0.6778, 0.2919, 0.5818]\n",
       "PeriodicSite: Si (11.92, 13.93, 1.439) [0.6778, 0.7919, 0.08184]\n",
       "PeriodicSite: Si (11.92, 13.93, 10.23) [0.6778, 0.7919, 0.5818]\n",
       "PeriodicSite: Si (7.354, 3.127, 3.661) [0.4182, 0.1778, 0.2081]\n",
       "PeriodicSite: Si (7.354, 3.127, 12.45) [0.4182, 0.1778, 0.7081]\n",
       "PeriodicSite: Si (7.354, 11.92, 3.661) [0.4182, 0.6778, 0.2081]\n",
       "PeriodicSite: Si (7.354, 11.92, 12.45) [0.4182, 0.6778, 0.7081]\n",
       "PeriodicSite: Si (16.15, 3.127, 3.661) [0.9182, 0.1778, 0.2081]\n",
       "PeriodicSite: Si (16.15, 3.127, 12.45) [0.9182, 0.1778, 0.7081]\n",
       "PeriodicSite: Si (16.15, 11.92, 3.661) [0.9182, 0.6778, 0.2081]\n",
       "PeriodicSite: Si (16.15, 11.92, 12.45) [0.9182, 0.6778, 0.7081]\n",
       "PeriodicSite: Si (7.354, 5.667, 5.133) [0.4182, 0.3222, 0.2919]\n",
       "PeriodicSite: Si (7.354, 5.667, 13.93) [0.4182, 0.3222, 0.7919]\n",
       "PeriodicSite: Si (7.354, 14.46, 5.133) [0.4182, 0.8222, 0.2919]\n",
       "PeriodicSite: Si (7.354, 14.46, 13.93) [0.4182, 0.8222, 0.7919]\n",
       "PeriodicSite: Si (16.15, 5.667, 5.133) [0.9182, 0.3222, 0.2919]\n",
       "PeriodicSite: Si (16.15, 5.667, 13.93) [0.9182, 0.3222, 0.7919]\n",
       "PeriodicSite: Si (16.15, 14.46, 5.133) [0.9182, 0.8222, 0.2919]\n",
       "PeriodicSite: Si (16.15, 14.46, 13.93) [0.9182, 0.8222, 0.7919]\n",
       "PeriodicSite: Si (5.133, 1.439, 3.127) [0.2919, 0.08184, 0.1778]\n",
       "PeriodicSite: Si (5.133, 1.439, 11.92) [0.2919, 0.08184, 0.6778]\n",
       "PeriodicSite: Si (5.133, 10.23, 3.127) [0.2919, 0.5818, 0.1778]\n",
       "PeriodicSite: Si (5.133, 10.23, 11.92) [0.2919, 0.5818, 0.6778]\n",
       "PeriodicSite: Si (13.93, 1.439, 3.127) [0.7919, 0.08184, 0.1778]\n",
       "PeriodicSite: Si (13.93, 1.439, 11.92) [0.7919, 0.08184, 0.6778]\n",
       "PeriodicSite: Si (13.93, 10.23, 3.127) [0.7919, 0.5818, 0.1778]\n",
       "PeriodicSite: Si (13.93, 10.23, 11.92) [0.7919, 0.5818, 0.6778]\n",
       "PeriodicSite: Si (3.127, 3.661, 7.354) [0.1778, 0.2081, 0.4182]\n",
       "PeriodicSite: Si (3.127, 3.661, 16.15) [0.1778, 0.2081, 0.9182]\n",
       "PeriodicSite: Si (3.127, 12.45, 7.354) [0.1778, 0.7081, 0.4182]\n",
       "PeriodicSite: Si (3.127, 12.45, 16.15) [0.1778, 0.7081, 0.9182]\n",
       "PeriodicSite: Si (11.92, 3.661, 7.354) [0.6778, 0.2081, 0.4182]\n",
       "PeriodicSite: Si (11.92, 3.661, 16.15) [0.6778, 0.2081, 0.9182]\n",
       "PeriodicSite: Si (11.92, 12.45, 7.354) [0.6778, 0.7081, 0.4182]\n",
       "PeriodicSite: Si (11.92, 12.45, 16.15) [0.6778, 0.7081, 0.9182]\n",
       "PeriodicSite: Si (5.133, 7.354, 5.667) [0.2919, 0.4182, 0.3222]\n",
       "PeriodicSite: Si (5.133, 7.354, 14.46) [0.2919, 0.4182, 0.8222]\n",
       "PeriodicSite: Si (5.133, 16.15, 5.667) [0.2919, 0.9182, 0.3222]\n",
       "PeriodicSite: Si (5.133, 16.15, 14.46) [0.2919, 0.9182, 0.8222]\n",
       "PeriodicSite: Si (13.93, 7.354, 5.667) [0.7919, 0.4182, 0.3222]\n",
       "PeriodicSite: Si (13.93, 7.354, 14.46) [0.7919, 0.4182, 0.8222]\n",
       "PeriodicSite: Si (13.93, 16.15, 5.667) [0.7919, 0.9182, 0.3222]\n",
       "PeriodicSite: Si (13.93, 16.15, 14.46) [0.7919, 0.9182, 0.8222]\n",
       "PeriodicSite: Si (5.667, 3.661, 1.439) [0.3222, 0.2081, 0.08184]\n",
       "PeriodicSite: Si (5.667, 3.661, 10.23) [0.3222, 0.2081, 0.5818]\n",
       "PeriodicSite: Si (5.667, 12.45, 1.439) [0.3222, 0.7081, 0.08184]\n",
       "PeriodicSite: Si (5.667, 12.45, 10.23) [0.3222, 0.7081, 0.5818]\n",
       "PeriodicSite: Si (14.46, 3.661, 1.439) [0.8222, 0.2081, 0.08184]\n",
       "PeriodicSite: Si (14.46, 3.661, 10.23) [0.8222, 0.2081, 0.5818]\n",
       "PeriodicSite: Si (14.46, 12.45, 1.439) [0.8222, 0.7081, 0.08184]\n",
       "PeriodicSite: Si (14.46, 12.45, 10.23) [0.8222, 0.7081, 0.5818]\n",
       "PeriodicSite: Si (1.439, 3.127, 5.133) [0.08184, 0.1778, 0.2919]\n",
       "PeriodicSite: Si (1.439, 3.127, 13.93) [0.08184, 0.1778, 0.7919]\n",
       "PeriodicSite: Si (1.439, 11.92, 5.133) [0.08184, 0.6778, 0.2919]\n",
       "PeriodicSite: Si (1.439, 11.92, 13.93) [0.08184, 0.6778, 0.7919]\n",
       "PeriodicSite: Si (10.23, 3.127, 5.133) [0.5818, 0.1778, 0.2919]\n",
       "PeriodicSite: Si (10.23, 3.127, 13.93) [0.5818, 0.1778, 0.7919]\n",
       "PeriodicSite: Si (10.23, 11.92, 5.133) [0.5818, 0.6778, 0.2919]\n",
       "PeriodicSite: Si (10.23, 11.92, 13.93) [0.5818, 0.6778, 0.7919]\n",
       "PeriodicSite: Si (5.667, 5.133, 7.354) [0.3222, 0.2919, 0.4182]\n",
       "PeriodicSite: Si (5.667, 5.133, 16.15) [0.3222, 0.2919, 0.9182]\n",
       "PeriodicSite: Si (5.667, 13.93, 7.354) [0.3222, 0.7919, 0.4182]\n",
       "PeriodicSite: Si (5.667, 13.93, 16.15) [0.3222, 0.7919, 0.9182]\n",
       "PeriodicSite: Si (14.46, 5.133, 7.354) [0.8222, 0.2919, 0.4182]\n",
       "PeriodicSite: Si (14.46, 5.133, 16.15) [0.8222, 0.2919, 0.9182]\n",
       "PeriodicSite: Si (14.46, 13.93, 7.354) [0.8222, 0.7919, 0.4182]\n",
       "PeriodicSite: Si (14.46, 13.93, 16.15) [0.8222, 0.7919, 0.9182]\n",
       "PeriodicSite: Si (3.661, 1.439, 5.667) [0.2081, 0.08184, 0.3222]\n",
       "PeriodicSite: Si (3.661, 1.439, 14.46) [0.2081, 0.08184, 0.8222]\n",
       "PeriodicSite: Si (3.661, 10.23, 5.667) [0.2081, 0.5818, 0.3222]\n",
       "PeriodicSite: Si (3.661, 10.23, 14.46) [0.2081, 0.5818, 0.8222]\n",
       "PeriodicSite: Si (12.45, 1.439, 5.667) [0.7081, 0.08184, 0.3222]\n",
       "PeriodicSite: Si (12.45, 1.439, 14.46) [0.7081, 0.08184, 0.8222]\n",
       "PeriodicSite: Si (12.45, 10.23, 5.667) [0.7081, 0.5818, 0.3222]\n",
       "PeriodicSite: Si (12.45, 10.23, 14.46) [0.7081, 0.5818, 0.8222]\n",
       "PeriodicSite: O (4.397, 0.0, 2.946) [0.25, 0.0, 0.1675]\n",
       "PeriodicSite: O (4.397, 0.0, 11.74) [0.25, 0.0, 0.6675]\n",
       "PeriodicSite: O (4.397, 8.793, 2.946) [0.25, 0.5, 0.1675]\n",
       "PeriodicSite: O (4.397, 8.793, 11.74) [0.25, 0.5, 0.6675]\n",
       "PeriodicSite: O (13.19, 0.0, 2.946) [0.75, 0.0, 0.1675]\n",
       "PeriodicSite: O (13.19, 0.0, 11.74) [0.75, 0.0, 0.6675]\n",
       "PeriodicSite: O (13.19, 8.793, 2.946) [0.75, 0.5, 0.1675]\n",
       "PeriodicSite: O (13.19, 8.793, 11.74) [0.75, 0.5, 0.6675]\n",
       "PeriodicSite: O (4.397, 0.0, 5.847) [0.25, 0.0, 0.3325]\n",
       "PeriodicSite: O (4.397, 0.0, 14.64) [0.25, 0.0, 0.8325]\n",
       "PeriodicSite: O (4.397, 8.793, 5.847) [0.25, 0.5, 0.3325]\n",
       "PeriodicSite: O (4.397, 8.793, 14.64) [0.25, 0.5, 0.8325]\n",
       "PeriodicSite: O (13.19, 0.0, 5.847) [0.75, 0.0, 0.3325]\n",
       "PeriodicSite: O (13.19, 0.0, 14.64) [0.75, 0.0, 0.8325]\n",
       "PeriodicSite: O (13.19, 8.793, 5.847) [0.75, 0.5, 0.3325]\n",
       "PeriodicSite: O (13.19, 8.793, 14.64) [0.75, 0.5, 0.8325]\n",
       "PeriodicSite: O (7.182, 3.655, 2.094) [0.4084, 0.2079, 0.1191]\n",
       "PeriodicSite: O (7.182, 3.655, 10.89) [0.4084, 0.2079, 0.6191]\n",
       "PeriodicSite: O (7.182, 12.45, 2.094) [0.4084, 0.7079, 0.1191]\n",
       "PeriodicSite: O (7.182, 12.45, 10.89) [0.4084, 0.7079, 0.6191]\n",
       "PeriodicSite: O (15.98, 3.655, 2.094) [0.9084, 0.2079, 0.1191]\n",
       "PeriodicSite: O (15.98, 3.655, 10.89) [0.9084, 0.2079, 0.6191]\n",
       "PeriodicSite: O (15.98, 12.45, 2.094) [0.9084, 0.7079, 0.1191]\n",
       "PeriodicSite: O (15.98, 12.45, 10.89) [0.9084, 0.7079, 0.6191]\n",
       "PeriodicSite: O (2.184, 4.397, 4.397) [0.1242, 0.25, 0.25]\n",
       "PeriodicSite: O (2.184, 4.397, 13.19) [0.1242, 0.25, 0.75]\n",
       "PeriodicSite: O (2.184, 13.19, 4.397) [0.1242, 0.75, 0.25]\n",
       "PeriodicSite: O (2.184, 13.19, 13.19) [0.1242, 0.75, 0.75]\n",
       "PeriodicSite: O (10.98, 4.397, 4.397) [0.6242, 0.25, 0.25]\n",
       "PeriodicSite: O (10.98, 4.397, 13.19) [0.6242, 0.25, 0.75]\n",
       "PeriodicSite: O (10.98, 13.19, 4.397) [0.6242, 0.75, 0.25]\n",
       "PeriodicSite: O (10.98, 13.19, 13.19) [0.6242, 0.75, 0.75]\n",
       "PeriodicSite: O (6.699, 7.182, 5.138) [0.3809, 0.4084, 0.2921]\n",
       "PeriodicSite: O (6.699, 7.182, 13.93) [0.3809, 0.4084, 0.7921]\n",
       "PeriodicSite: O (6.699, 15.98, 5.138) [0.3809, 0.9084, 0.2921]\n",
       "PeriodicSite: O (6.699, 15.98, 13.93) [0.3809, 0.9084, 0.7921]\n",
       "PeriodicSite: O (15.49, 7.182, 5.138) [0.8809, 0.4084, 0.2921]\n",
       "PeriodicSite: O (15.49, 7.182, 13.93) [0.8809, 0.4084, 0.7921]\n",
       "PeriodicSite: O (15.49, 15.98, 5.138) [0.8809, 0.9084, 0.2921]\n",
       "PeriodicSite: O (15.49, 15.98, 13.93) [0.8809, 0.9084, 0.7921]\n",
       "PeriodicSite: O (5.138, 2.094, 1.611) [0.2921, 0.1191, 0.09161]\n",
       "PeriodicSite: O (5.138, 2.094, 10.4) [0.2921, 0.1191, 0.5916]\n",
       "PeriodicSite: O (5.138, 10.89, 1.611) [0.2921, 0.6191, 0.09161]\n",
       "PeriodicSite: O (5.138, 10.89, 10.4) [0.2921, 0.6191, 0.5916]\n",
       "PeriodicSite: O (13.93, 2.094, 1.611) [0.7921, 0.1191, 0.09161]\n",
       "PeriodicSite: O (13.93, 2.094, 10.4) [0.7921, 0.1191, 0.5916]\n",
       "PeriodicSite: O (13.93, 10.89, 1.611) [0.7921, 0.6191, 0.09161]\n",
       "PeriodicSite: O (13.93, 10.89, 10.4) [0.7921, 0.6191, 0.5916]\n",
       "PeriodicSite: O (3.655, 6.699, 1.611) [0.2079, 0.3809, 0.09161]\n",
       "PeriodicSite: O (3.655, 6.699, 10.4) [0.2079, 0.3809, 0.5916]\n",
       "PeriodicSite: O (3.655, 15.49, 1.611) [0.2079, 0.8809, 0.09161]\n",
       "PeriodicSite: O (3.655, 15.49, 10.4) [0.2079, 0.8809, 0.5916]\n",
       "PeriodicSite: O (12.45, 6.699, 1.611) [0.7079, 0.3809, 0.09161]\n",
       "PeriodicSite: O (12.45, 6.699, 10.4) [0.7079, 0.3809, 0.5916]\n",
       "PeriodicSite: O (12.45, 15.49, 1.611) [0.7079, 0.8809, 0.09161]\n",
       "PeriodicSite: O (12.45, 15.49, 10.4) [0.7079, 0.8809, 0.5916]\n",
       "PeriodicSite: O (2.094, 1.611, 5.138) [0.1191, 0.09161, 0.2921]\n",
       "PeriodicSite: O (2.094, 1.611, 13.93) [0.1191, 0.09161, 0.7921]\n",
       "PeriodicSite: O (2.094, 10.4, 5.138) [0.1191, 0.5916, 0.2921]\n",
       "PeriodicSite: O (2.094, 10.4, 13.93) [0.1191, 0.5916, 0.7921]\n",
       "PeriodicSite: O (10.89, 1.611, 5.138) [0.6191, 0.09161, 0.2921]\n",
       "PeriodicSite: O (10.89, 1.611, 13.93) [0.6191, 0.09161, 0.7921]\n",
       "PeriodicSite: O (10.89, 10.4, 5.138) [0.6191, 0.5916, 0.2921]\n",
       "PeriodicSite: O (10.89, 10.4, 13.93) [0.6191, 0.5916, 0.7921]\n",
       "PeriodicSite: O (0.0, 5.847, 4.397) [0.0, 0.3325, 0.25]\n",
       "PeriodicSite: O (0.0, 5.847, 13.19) [0.0, 0.3325, 0.75]\n",
       "PeriodicSite: O (0.0, 14.64, 4.397) [0.0, 0.8325, 0.25]\n",
       "PeriodicSite: O (0.0, 14.64, 13.19) [0.0, 0.8325, 0.75]\n",
       "PeriodicSite: O (8.793, 5.847, 4.397) [0.5, 0.3325, 0.25]\n",
       "PeriodicSite: O (8.793, 5.847, 13.19) [0.5, 0.3325, 0.75]\n",
       "PeriodicSite: O (8.793, 14.64, 4.397) [0.5, 0.8325, 0.25]\n",
       "PeriodicSite: O (8.793, 14.64, 13.19) [0.5, 0.8325, 0.75]\n",
       "PeriodicSite: O (6.609, 4.397, 4.397) [0.3758, 0.25, 0.25]\n",
       "PeriodicSite: O (6.609, 4.397, 13.19) [0.3758, 0.25, 0.75]\n",
       "PeriodicSite: O (6.609, 13.19, 4.397) [0.3758, 0.75, 0.25]\n",
       "PeriodicSite: O (6.609, 13.19, 13.19) [0.3758, 0.75, 0.75]\n",
       "PeriodicSite: O (15.4, 4.397, 4.397) [0.8758, 0.25, 0.25]\n",
       "PeriodicSite: O (15.4, 4.397, 13.19) [0.8758, 0.25, 0.75]\n",
       "PeriodicSite: O (15.4, 13.19, 4.397) [0.8758, 0.75, 0.25]\n",
       "PeriodicSite: O (15.4, 13.19, 13.19) [0.8758, 0.75, 0.75]\n",
       "PeriodicSite: O (4.397, 6.609, 4.397) [0.25, 0.3758, 0.25]\n",
       "PeriodicSite: O (4.397, 6.609, 13.19) [0.25, 0.3758, 0.75]\n",
       "PeriodicSite: O (4.397, 15.4, 4.397) [0.25, 0.8758, 0.25]\n",
       "PeriodicSite: O (4.397, 15.4, 13.19) [0.25, 0.8758, 0.75]\n",
       "PeriodicSite: O (13.19, 6.609, 4.397) [0.75, 0.3758, 0.25]\n",
       "PeriodicSite: O (13.19, 6.609, 13.19) [0.75, 0.3758, 0.75]\n",
       "PeriodicSite: O (13.19, 15.4, 4.397) [0.75, 0.8758, 0.25]\n",
       "PeriodicSite: O (13.19, 15.4, 13.19) [0.75, 0.8758, 0.75]\n",
       "PeriodicSite: O (0.0, 2.946, 4.397) [0.0, 0.1675, 0.25]\n",
       "PeriodicSite: O (0.0, 2.946, 13.19) [0.0, 0.1675, 0.75]\n",
       "PeriodicSite: O (0.0, 11.74, 4.397) [0.0, 0.6675, 0.25]\n",
       "PeriodicSite: O (0.0, 11.74, 13.19) [0.0, 0.6675, 0.75]\n",
       "PeriodicSite: O (8.793, 2.946, 4.397) [0.5, 0.1675, 0.25]\n",
       "PeriodicSite: O (8.793, 2.946, 13.19) [0.5, 0.1675, 0.75]\n",
       "PeriodicSite: O (8.793, 11.74, 4.397) [0.5, 0.6675, 0.25]\n",
       "PeriodicSite: O (8.793, 11.74, 13.19) [0.5, 0.6675, 0.75]\n",
       "PeriodicSite: O (7.182, 5.138, 6.699) [0.4084, 0.2921, 0.3809]\n",
       "PeriodicSite: O (7.182, 5.138, 15.49) [0.4084, 0.2921, 0.8809]\n",
       "PeriodicSite: O (7.182, 13.93, 6.699) [0.4084, 0.7921, 0.3809]\n",
       "PeriodicSite: O (7.182, 13.93, 15.49) [0.4084, 0.7921, 0.8809]\n",
       "PeriodicSite: O (15.98, 5.138, 6.699) [0.9084, 0.2921, 0.3809]\n",
       "PeriodicSite: O (15.98, 5.138, 15.49) [0.9084, 0.2921, 0.8809]\n",
       "PeriodicSite: O (15.98, 13.93, 6.699) [0.9084, 0.7921, 0.3809]\n",
       "PeriodicSite: O (15.98, 13.93, 15.49) [0.9084, 0.7921, 0.8809]\n",
       "PeriodicSite: O (3.655, 2.094, 7.182) [0.2079, 0.1191, 0.4084]\n",
       "PeriodicSite: O (3.655, 2.094, 15.98) [0.2079, 0.1191, 0.9084]\n",
       "PeriodicSite: O (3.655, 10.89, 7.182) [0.2079, 0.6191, 0.4084]\n",
       "PeriodicSite: O (3.655, 10.89, 15.98) [0.2079, 0.6191, 0.9084]\n",
       "PeriodicSite: O (12.45, 2.094, 7.182) [0.7079, 0.1191, 0.4084]\n",
       "PeriodicSite: O (12.45, 2.094, 15.98) [0.7079, 0.1191, 0.9084]\n",
       "PeriodicSite: O (12.45, 10.89, 7.182) [0.7079, 0.6191, 0.4084]\n",
       "PeriodicSite: O (12.45, 10.89, 15.98) [0.7079, 0.6191, 0.9084]\n",
       "PeriodicSite: O (4.397, 4.397, 2.184) [0.25, 0.25, 0.1242]\n",
       "PeriodicSite: O (4.397, 4.397, 10.98) [0.25, 0.25, 0.6242]\n",
       "PeriodicSite: O (4.397, 13.19, 2.184) [0.25, 0.75, 0.1242]\n",
       "PeriodicSite: O (4.397, 13.19, 10.98) [0.25, 0.75, 0.6242]\n",
       "PeriodicSite: O (13.19, 4.397, 2.184) [0.75, 0.25, 0.1242]\n",
       "PeriodicSite: O (13.19, 4.397, 10.98) [0.75, 0.25, 0.6242]\n",
       "PeriodicSite: O (13.19, 13.19, 2.184) [0.75, 0.75, 0.1242]\n",
       "PeriodicSite: O (13.19, 13.19, 10.98) [0.75, 0.75, 0.6242]\n",
       "PeriodicSite: O (1.611, 3.655, 6.699) [0.09161, 0.2079, 0.3809]\n",
       "PeriodicSite: O (1.611, 3.655, 15.49) [0.09161, 0.2079, 0.8809]\n",
       "PeriodicSite: O (1.611, 12.45, 6.699) [0.09161, 0.7079, 0.3809]\n",
       "PeriodicSite: O (1.611, 12.45, 15.49) [0.09161, 0.7079, 0.8809]\n",
       "PeriodicSite: O (10.4, 3.655, 6.699) [0.5916, 0.2079, 0.3809]\n",
       "PeriodicSite: O (10.4, 3.655, 15.49) [0.5916, 0.2079, 0.8809]\n",
       "PeriodicSite: O (10.4, 12.45, 6.699) [0.5916, 0.7079, 0.3809]\n",
       "PeriodicSite: O (10.4, 12.45, 15.49) [0.5916, 0.7079, 0.8809]\n",
       "PeriodicSite: O (1.611, 5.138, 2.094) [0.09161, 0.2921, 0.1191]\n",
       "PeriodicSite: O (1.611, 5.138, 10.89) [0.09161, 0.2921, 0.6191]\n",
       "PeriodicSite: O (1.611, 13.93, 2.094) [0.09161, 0.7921, 0.1191]\n",
       "PeriodicSite: O (1.611, 13.93, 10.89) [0.09161, 0.7921, 0.6191]\n",
       "PeriodicSite: O (10.4, 5.138, 2.094) [0.5916, 0.2921, 0.1191]\n",
       "PeriodicSite: O (10.4, 5.138, 10.89) [0.5916, 0.2921, 0.6191]\n",
       "PeriodicSite: O (10.4, 13.93, 2.094) [0.5916, 0.7921, 0.1191]\n",
       "PeriodicSite: O (10.4, 13.93, 10.89) [0.5916, 0.7921, 0.6191]\n",
       "PeriodicSite: O (5.847, 4.397, 0.0) [0.3325, 0.25, 0.0]\n",
       "PeriodicSite: O (5.847, 4.397, 8.793) [0.3325, 0.25, 0.5]\n",
       "PeriodicSite: O (5.847, 13.19, 0.0) [0.3325, 0.75, 0.0]\n",
       "PeriodicSite: O (5.847, 13.19, 8.793) [0.3325, 0.75, 0.5]\n",
       "PeriodicSite: O (14.64, 4.397, 0.0) [0.8325, 0.25, 0.0]\n",
       "PeriodicSite: O (14.64, 4.397, 8.793) [0.8325, 0.25, 0.5]\n",
       "PeriodicSite: O (14.64, 13.19, 0.0) [0.8325, 0.75, 0.0]\n",
       "PeriodicSite: O (14.64, 13.19, 8.793) [0.8325, 0.75, 0.5]\n",
       "PeriodicSite: O (6.699, 1.611, 3.655) [0.3809, 0.09161, 0.2079]\n",
       "PeriodicSite: O (6.699, 1.611, 12.45) [0.3809, 0.09161, 0.7079]\n",
       "PeriodicSite: O (6.699, 10.4, 3.655) [0.3809, 0.5916, 0.2079]\n",
       "PeriodicSite: O (6.699, 10.4, 12.45) [0.3809, 0.5916, 0.7079]\n",
       "PeriodicSite: O (15.49, 1.611, 3.655) [0.8809, 0.09161, 0.2079]\n",
       "PeriodicSite: O (15.49, 1.611, 12.45) [0.8809, 0.09161, 0.7079]\n",
       "PeriodicSite: O (15.49, 10.4, 3.655) [0.8809, 0.5916, 0.2079]\n",
       "PeriodicSite: O (15.49, 10.4, 12.45) [0.8809, 0.5916, 0.7079]\n",
       "PeriodicSite: O (2.946, 4.397, 0.0) [0.1675, 0.25, 0.0]\n",
       "PeriodicSite: O (2.946, 4.397, 8.793) [0.1675, 0.25, 0.5]\n",
       "PeriodicSite: O (2.946, 13.19, 0.0) [0.1675, 0.75, 0.0]\n",
       "PeriodicSite: O (2.946, 13.19, 8.793) [0.1675, 0.75, 0.5]\n",
       "PeriodicSite: O (11.74, 4.397, 0.0) [0.6675, 0.25, 0.0]\n",
       "PeriodicSite: O (11.74, 4.397, 8.793) [0.6675, 0.25, 0.5]\n",
       "PeriodicSite: O (11.74, 13.19, 0.0) [0.6675, 0.75, 0.0]\n",
       "PeriodicSite: O (11.74, 13.19, 8.793) [0.6675, 0.75, 0.5]\n",
       "PeriodicSite: O (4.397, 4.397, 6.609) [0.25, 0.25, 0.3758]\n",
       "PeriodicSite: O (4.397, 4.397, 15.4) [0.25, 0.25, 0.8758]\n",
       "PeriodicSite: O (4.397, 13.19, 6.609) [0.25, 0.75, 0.3758]\n",
       "PeriodicSite: O (4.397, 13.19, 15.4) [0.25, 0.75, 0.8758]\n",
       "PeriodicSite: O (13.19, 4.397, 6.609) [0.75, 0.25, 0.3758]\n",
       "PeriodicSite: O (13.19, 4.397, 15.4) [0.75, 0.25, 0.8758]\n",
       "PeriodicSite: O (13.19, 13.19, 6.609) [0.75, 0.75, 0.3758]\n",
       "PeriodicSite: O (13.19, 13.19, 15.4) [0.75, 0.75, 0.8758]\n",
       "PeriodicSite: O (5.138, 6.699, 7.182) [0.2921, 0.3809, 0.4084]\n",
       "PeriodicSite: O (5.138, 6.699, 15.98) [0.2921, 0.3809, 0.9084]\n",
       "PeriodicSite: O (5.138, 15.49, 7.182) [0.2921, 0.8809, 0.4084]\n",
       "PeriodicSite: O (5.138, 15.49, 15.98) [0.2921, 0.8809, 0.9084]\n",
       "PeriodicSite: O (13.93, 6.699, 7.182) [0.7921, 0.3809, 0.4084]\n",
       "PeriodicSite: O (13.93, 6.699, 15.98) [0.7921, 0.3809, 0.9084]\n",
       "PeriodicSite: O (13.93, 15.49, 7.182) [0.7921, 0.8809, 0.4084]\n",
       "PeriodicSite: O (13.93, 15.49, 15.98) [0.7921, 0.8809, 0.9084]\n",
       "PeriodicSite: O (4.397, 2.184, 4.397) [0.25, 0.1242, 0.25]\n",
       "PeriodicSite: O (4.397, 2.184, 13.19) [0.25, 0.1242, 0.75]\n",
       "PeriodicSite: O (4.397, 10.98, 4.397) [0.25, 0.6242, 0.25]\n",
       "PeriodicSite: O (4.397, 10.98, 13.19) [0.25, 0.6242, 0.75]\n",
       "PeriodicSite: O (13.19, 2.184, 4.397) [0.75, 0.1242, 0.25]\n",
       "PeriodicSite: O (13.19, 2.184, 13.19) [0.75, 0.1242, 0.75]\n",
       "PeriodicSite: O (13.19, 10.98, 4.397) [0.75, 0.6242, 0.25]\n",
       "PeriodicSite: O (13.19, 10.98, 13.19) [0.75, 0.6242, 0.75]\n",
       "PeriodicSite: O (2.094, 7.182, 3.655) [0.1191, 0.4084, 0.2079]\n",
       "PeriodicSite: O (2.094, 7.182, 12.45) [0.1191, 0.4084, 0.7079]\n",
       "PeriodicSite: O (2.094, 15.98, 3.655) [0.1191, 0.9084, 0.2079]\n",
       "PeriodicSite: O (2.094, 15.98, 12.45) [0.1191, 0.9084, 0.7079]\n",
       "PeriodicSite: O (10.89, 7.182, 3.655) [0.6191, 0.4084, 0.2079]\n",
       "PeriodicSite: O (10.89, 7.182, 12.45) [0.6191, 0.4084, 0.7079]\n",
       "PeriodicSite: O (10.89, 15.98, 3.655) [0.6191, 0.9084, 0.2079]\n",
       "PeriodicSite: O (10.89, 15.98, 12.45) [0.6191, 0.9084, 0.7079]"
      ]
     },
     "execution_count": 118,
     "metadata": {},
     "output_type": "execute_result"
    }
   ],
   "source": [
    "supercell"
   ]
  },
  {
   "cell_type": "code",
   "execution_count": null,
   "id": "ac5ef396",
   "metadata": {},
   "outputs": [],
   "source": [
    "sample_struct.sites"
   ]
  },
  {
   "cell_type": "code",
   "execution_count": 121,
   "id": "6225383d",
   "metadata": {},
   "outputs": [
    {
     "data": {
      "text/plain": [
       "Lattice\n",
       "    abc : 8.793326 8.793326 8.793326\n",
       " angles : 90.0 90.0 90.0\n",
       " volume : 679.9226719388113\n",
       "      A : 8.793326 0.0 0.0\n",
       "      B : 0.0 8.793326 0.0\n",
       "      C : 0.0 0.0 8.793326\n",
       "    pbc : True True True"
      ]
     },
     "execution_count": 121,
     "metadata": {},
     "output_type": "execute_result"
    }
   ],
   "source": [
    "sample_struct.lattice"
   ]
  },
  {
   "cell_type": "code",
   "execution_count": 120,
   "id": "a13a494d",
   "metadata": {},
   "outputs": [
    {
     "data": {
      "text/plain": [
       "array([[8.793326, 0.      , 0.      ],\n",
       "       [0.      , 8.793326, 0.      ],\n",
       "       [0.      , 0.      , 8.793326]])"
      ]
     },
     "execution_count": 120,
     "metadata": {},
     "output_type": "execute_result"
    }
   ],
   "source": [
    "sample_struct.lattice.matrix"
   ]
  },
  {
   "cell_type": "code",
   "execution_count": 126,
   "id": "659d11d2",
   "metadata": {},
   "outputs": [
    {
     "data": {
      "text/plain": [
       "tensor([[8.7933, 0.0000, 0.0000],\n",
       "        [0.0000, 8.7933, 0.0000],\n",
       "        [0.0000, 0.0000, 8.7933]], dtype=torch.float64)"
      ]
     },
     "execution_count": 126,
     "metadata": {},
     "output_type": "execute_result"
    }
   ],
   "source": [
    "torch.tensor(sample_struct.lattice.matrix)"
   ]
  },
  {
   "cell_type": "code",
   "execution_count": 127,
   "id": "1c232d1f",
   "metadata": {},
   "outputs": [
    {
     "data": {
      "text/plain": [
       "tensor([[8.7933, 0.0000, 0.0000],\n",
       "        [0.0000, 8.7933, 0.0000],\n",
       "        [0.0000, 0.0000, 8.7933]])"
      ]
     },
     "execution_count": 127,
     "metadata": {},
     "output_type": "execute_result"
    }
   ],
   "source": [
    "torch.tensor(sample_struct.lattice.matrix, dtype=torch.float32)"
   ]
  },
  {
   "cell_type": "code",
   "execution_count": 128,
   "id": "77046379",
   "metadata": {},
   "outputs": [
    {
     "data": {
      "text/plain": [
       "tensor([8.7933, 0.0000, 0.0000, 0.0000, 8.7933, 0.0000, 0.0000, 0.0000, 8.7933])"
      ]
     },
     "execution_count": 128,
     "metadata": {},
     "output_type": "execute_result"
    }
   ],
   "source": [
    "torch.tensor(sample_struct.lattice.matrix, dtype=torch.float32).flatten()"
   ]
  },
  {
   "cell_type": "code",
   "execution_count": 133,
   "id": "4bf6be1d",
   "metadata": {},
   "outputs": [
    {
     "data": {
      "text/plain": [
       "tensor([[8.7933, 0.0000, 0.0000, 0.0000, 8.7933, 0.0000, 0.0000, 0.0000, 8.7933]])"
      ]
     },
     "execution_count": 133,
     "metadata": {},
     "output_type": "execute_result"
    }
   ],
   "source": [
    "torch.tensor(sample_struct.lattice.matrix, dtype=torch.float32).flatten().unsqueeze(0)"
   ]
  },
  {
   "cell_type": "code",
   "execution_count": 134,
   "id": "28f15fb5",
   "metadata": {},
   "outputs": [],
   "source": [
    "# создадим тензор для параметров решетки - векторов трансляций \n",
    "lattice = torch.tensor(sample_struct.lattice.matrix, dtype=torch.float32).flatten().unsqueeze(0)"
   ]
  },
  {
   "cell_type": "code",
   "execution_count": 135,
   "id": "599585ee",
   "metadata": {},
   "outputs": [
    {
     "data": {
      "text/plain": [
       "tensor([[8.7933, 0.0000, 0.0000, 0.0000, 8.7933, 0.0000, 0.0000, 0.0000, 8.7933]])"
      ]
     },
     "execution_count": 135,
     "metadata": {},
     "output_type": "execute_result"
    }
   ],
   "source": [
    "lattice"
   ]
  },
  {
   "cell_type": "markdown",
   "id": "2b3297dd",
   "metadata": {},
   "source": [
    "На следующем шаге мы создадим специальную структуру данных `torch_geometric.data.Данные` - основу для будущего графа. В эту структуру мы поместим собранную информацию об узлах графа. "
   ]
  },
  {
   "cell_type": "code",
   "execution_count": 113,
   "id": "896f1a10",
   "metadata": {},
   "outputs": [],
   "source": [
    "# создаём структуру данных, помоему это и есть граф\n",
    "graph = Data(x=atoms, pos=pos)"
   ]
  },
  {
   "cell_type": "code",
   "execution_count": 136,
   "id": "88b89a39",
   "metadata": {},
   "outputs": [],
   "source": [
    "# создаём структуру данных, помоему это и есть граф\n",
    "graph_full = Data(x=atoms, pos=pos, lattice=lattice)"
   ]
  },
  {
   "cell_type": "code",
   "execution_count": 91,
   "id": "09a6d656",
   "metadata": {},
   "outputs": [
    {
     "data": {
      "text/plain": [
       "torch_geometric.data.data.Data"
      ]
     },
     "execution_count": 91,
     "metadata": {},
     "output_type": "execute_result"
    }
   ],
   "source": [
    "Data"
   ]
  },
  {
   "cell_type": "code",
   "execution_count": 114,
   "id": "d5449492",
   "metadata": {},
   "outputs": [
    {
     "data": {
      "text/plain": [
       "Data(x=[36, 5], pos=[36, 3])"
      ]
     },
     "execution_count": 114,
     "metadata": {},
     "output_type": "execute_result"
    }
   ],
   "source": [
    "graph"
   ]
  },
  {
   "cell_type": "code",
   "execution_count": 137,
   "id": "e64c80f9",
   "metadata": {},
   "outputs": [
    {
     "data": {
      "text/plain": [
       "Data(x=[36, 5], pos=[36, 3], lattice=[1, 9])"
      ]
     },
     "execution_count": 137,
     "metadata": {},
     "output_type": "execute_result"
    }
   ],
   "source": [
    "graph_full"
   ]
  },
  {
   "cell_type": "code",
   "execution_count": 94,
   "id": "19d4506a",
   "metadata": {},
   "outputs": [
    {
     "data": {
      "text/plain": [
       "torch_geometric.data.data.Data"
      ]
     },
     "execution_count": 94,
     "metadata": {},
     "output_type": "execute_result"
    }
   ],
   "source": [
    "# это тип данных из библиотеки torch_geometric.data\n",
    "type(graph)"
   ]
  },
  {
   "cell_type": "code",
   "execution_count": 96,
   "id": "51685258",
   "metadata": {},
   "outputs": [
    {
     "data": {
      "text/plain": [
       "['x', 'pos']"
      ]
     },
     "execution_count": 96,
     "metadata": {},
     "output_type": "execute_result"
    }
   ],
   "source": [
    "# смотрим какие есть ключи в графе\n",
    "graph.keys()"
   ]
  },
  {
   "cell_type": "code",
   "execution_count": 139,
   "id": "e5d337cb",
   "metadata": {},
   "outputs": [
    {
     "data": {
      "text/plain": [
       "['x', 'pos', 'lattice']"
      ]
     },
     "execution_count": 139,
     "metadata": {},
     "output_type": "execute_result"
    }
   ],
   "source": [
    "graph_full.keys()"
   ]
  },
  {
   "cell_type": "code",
   "execution_count": 140,
   "id": "6f104559",
   "metadata": {},
   "outputs": [
    {
     "data": {
      "text/plain": [
       "tensor([[8.7933, 0.0000, 0.0000, 0.0000, 8.7933, 0.0000, 0.0000, 0.0000, 8.7933]])"
      ]
     },
     "execution_count": 140,
     "metadata": {},
     "output_type": "execute_result"
    }
   ],
   "source": [
    "graph_full.lattice"
   ]
  },
  {
   "cell_type": "code",
   "execution_count": 115,
   "id": "5fccbc32",
   "metadata": {},
   "outputs": [
    {
     "data": {
      "text/plain": [
       "tensor([[14.0000, 12.0600,  1.3895, -4.0000,  4.0000],\n",
       "        [14.0000, 12.0600,  1.3895, -4.0000,  4.0000],\n",
       "        [14.0000, 12.0600,  1.3895, -4.0000,  4.0000],\n",
       "        [14.0000, 12.0600,  1.3895, -4.0000,  4.0000],\n",
       "        [14.0000, 12.0600,  1.3895, -4.0000,  4.0000],\n",
       "        [14.0000, 12.0600,  1.3895, -4.0000,  4.0000],\n",
       "        [14.0000, 12.0600,  1.3895, -4.0000,  4.0000],\n",
       "        [14.0000, 12.0600,  1.3895, -4.0000,  4.0000],\n",
       "        [14.0000, 12.0600,  1.3895, -4.0000,  4.0000],\n",
       "        [14.0000, 12.0600,  1.3895, -4.0000,  4.0000],\n",
       "        [14.0000, 12.0600,  1.3895, -4.0000,  4.0000],\n",
       "        [14.0000, 12.0600,  1.3895, -4.0000,  4.0000],\n",
       "        [ 8.0000, 17.3600,  1.4611, -2.0000,  2.0000],\n",
       "        [ 8.0000, 17.3600,  1.4611, -2.0000,  2.0000],\n",
       "        [ 8.0000, 17.3600,  1.4611, -2.0000,  2.0000],\n",
       "        [ 8.0000, 17.3600,  1.4611, -2.0000,  2.0000],\n",
       "        [ 8.0000, 17.3600,  1.4611, -2.0000,  2.0000],\n",
       "        [ 8.0000, 17.3600,  1.4611, -2.0000,  2.0000],\n",
       "        [ 8.0000, 17.3600,  1.4611, -2.0000,  2.0000],\n",
       "        [ 8.0000, 17.3600,  1.4611, -2.0000,  2.0000],\n",
       "        [ 8.0000, 17.3600,  1.4611, -2.0000,  2.0000],\n",
       "        [ 8.0000, 17.3600,  1.4611, -2.0000,  2.0000],\n",
       "        [ 8.0000, 17.3600,  1.4611, -2.0000,  2.0000],\n",
       "        [ 8.0000, 17.3600,  1.4611, -2.0000,  2.0000],\n",
       "        [ 8.0000, 17.3600,  1.4611, -2.0000,  2.0000],\n",
       "        [ 8.0000, 17.3600,  1.4611, -2.0000,  2.0000],\n",
       "        [ 8.0000, 17.3600,  1.4611, -2.0000,  2.0000],\n",
       "        [ 8.0000, 17.3600,  1.4611, -2.0000,  2.0000],\n",
       "        [ 8.0000, 17.3600,  1.4611, -2.0000,  2.0000],\n",
       "        [ 8.0000, 17.3600,  1.4611, -2.0000,  2.0000],\n",
       "        [ 8.0000, 17.3600,  1.4611, -2.0000,  2.0000],\n",
       "        [ 8.0000, 17.3600,  1.4611, -2.0000,  2.0000],\n",
       "        [ 8.0000, 17.3600,  1.4611, -2.0000,  2.0000],\n",
       "        [ 8.0000, 17.3600,  1.4611, -2.0000,  2.0000],\n",
       "        [ 8.0000, 17.3600,  1.4611, -2.0000,  2.0000],\n",
       "        [ 8.0000, 17.3600,  1.4611, -2.0000,  2.0000]])"
      ]
     },
     "execution_count": 115,
     "metadata": {},
     "output_type": "execute_result"
    }
   ],
   "source": [
    "# смотрим тензор с характеристиками атомов\n",
    "graph.x"
   ]
  },
  {
   "cell_type": "code",
   "execution_count": null,
   "id": "4dbf8208",
   "metadata": {},
   "outputs": [
    {
     "data": {
      "text/plain": [
       "tensor([[3.6605, 7.3540, 3.1267],\n",
       "        [1.4393, 5.6666, 3.6605],\n",
       "        [3.1267, 5.1328, 1.4393],\n",
       "        [7.3540, 3.1267, 3.6605],\n",
       "        [7.3540, 5.6666, 5.1328],\n",
       "        [5.1328, 1.4393, 3.1267],\n",
       "        [3.1267, 3.6605, 7.3540],\n",
       "        [5.1328, 7.3540, 5.6666],\n",
       "        [5.6666, 3.6605, 1.4393],\n",
       "        [1.4393, 3.1267, 5.1328],\n",
       "        [5.6666, 5.1328, 7.3540],\n",
       "        [3.6605, 1.4393, 5.6666],\n",
       "        [4.3967, 0.0000, 2.9459],\n",
       "        [4.3967, 0.0000, 5.8475],\n",
       "        [7.1822, 3.6555, 2.0942],\n",
       "        [2.1839, 4.3967, 4.3967],\n",
       "        [6.6991, 7.1822, 5.1378],\n",
       "        [5.1378, 2.0942, 1.6111],\n",
       "        [3.6555, 6.6991, 1.6111],\n",
       "        [2.0942, 1.6111, 5.1378],\n",
       "        [0.0000, 5.8475, 4.3967],\n",
       "        [6.6094, 4.3967, 4.3967],\n",
       "        [4.3967, 6.6094, 4.3967],\n",
       "        [0.0000, 2.9459, 4.3967],\n",
       "        [7.1822, 5.1378, 6.6991],\n",
       "        [3.6555, 2.0942, 7.1822],\n",
       "        [4.3967, 4.3967, 2.1839],\n",
       "        [1.6111, 3.6555, 6.6991],\n",
       "        [1.6111, 5.1378, 2.0942],\n",
       "        [5.8475, 4.3967, 0.0000],\n",
       "        [6.6991, 1.6111, 3.6555],\n",
       "        [2.9459, 4.3967, 0.0000],\n",
       "        [4.3967, 4.3967, 6.6094],\n",
       "        [5.1378, 6.6991, 7.1822],\n",
       "        [4.3967, 2.1839, 4.3967],\n",
       "        [2.0942, 7.1822, 3.6555]])"
      ]
     },
     "execution_count": 95,
     "metadata": {},
     "output_type": "execute_result"
    }
   ],
   "source": [
    "# смотрим тензор с декартовыми координатами атомов\n",
    "graph.pos"
   ]
  },
  {
   "cell_type": "markdown",
   "id": "5904cc1f",
   "metadata": {},
   "source": [
    "#### Преобразуем данные о связях edge_index - матрица смежности"
   ]
  },
  {
   "cell_type": "markdown",
   "id": "0d3c4836",
   "metadata": {},
   "source": [
    "Поскольку у нас уже есть информация об узлах, нам нужно определить [смежность matrix](https://ru.wikipedia.org/wiki/%D0%9C%D0%B0%D1%82%D1%80%D0%B8%D1%86%D0%B0_%D1%81%D0%BC%D0%B5%D0%B6%D0%BD%D0%BE%D1%81%D1%82%D0%B8) графа. Для этого мы построим связи между узлами (атомами) на основе информации об их расположении в пространстве относительно друг друга (в декартовом пространстве). Метод \"KNN Graph\" вернет матрицу смежности графа при условии, что присутствует поле данных `pos`. Аргумент `k=6`, указанный при инициализации объекта `torch_geometric.transforms.KNN Graph\", определяет количество **ближайших соседей**, между которыми будут построены ребра. "
   ]
  },
  {
   "cell_type": "code",
   "execution_count": null,
   "id": "c27588a2",
   "metadata": {},
   "outputs": [],
   "source": [
    "# инициируем метод ближайших соседей\n",
    "# # Инициализация преобразователя K-ближайших соседей (KNN) с k=6\n",
    "kng = KNNGraph(k=6)"
   ]
  },
  {
   "cell_type": "code",
   "execution_count": null,
   "id": "82cec879",
   "metadata": {},
   "outputs": [],
   "source": [
    "# добавим матрицу смежности в наш граф\n",
    "connected_graph = kng(graph)\n",
    "# # На выходе получаем новый граф с добавленными ребрами на основе KNN\n",
    "# # Исходные признаки узлов (x) и координаты (pos) сохраняются"
   ]
  },
  {
   "cell_type": "code",
   "execution_count": 141,
   "id": "dbd52c10",
   "metadata": {},
   "outputs": [],
   "source": [
    "# добавим матрицу смежности в наш граф\n",
    "connected_graph_full = kng(graph_full)"
   ]
  },
  {
   "cell_type": "code",
   "execution_count": null,
   "id": "642b73d3",
   "metadata": {},
   "outputs": [
    {
     "data": {
      "text/plain": [
       "Data(x=[36, 5], pos=[36, 3], edge_index=[2, 216])"
      ]
     },
     "execution_count": 99,
     "metadata": {},
     "output_type": "execute_result"
    }
   ],
   "source": [
    "# получили тот же граф только с матрицей смежности\n",
    "connected_graph"
   ]
  },
  {
   "cell_type": "code",
   "execution_count": 142,
   "id": "35975cd6",
   "metadata": {},
   "outputs": [
    {
     "data": {
      "text/plain": [
       "Data(x=[36, 5], pos=[36, 3], lattice=[1, 9], edge_index=[2, 216])"
      ]
     },
     "execution_count": 142,
     "metadata": {},
     "output_type": "execute_result"
    }
   ],
   "source": [
    "connected_graph_full"
   ]
  },
  {
   "cell_type": "code",
   "execution_count": null,
   "id": "13335346",
   "metadata": {},
   "outputs": [
    {
     "name": "stdout",
     "output_type": "stream",
     "text": [
      "edge_src: tensor([22, 18, 35,  1,  2,  7, 20, 15, 35, 28,  0,  2, 31, 26, 28, 18,  1,  0,\n",
      "        21, 30, 14,  8,  5,  4, 21, 16, 24,  7, 10,  3, 12, 34, 17, 30,  8,  3,\n",
      "        32, 27, 25, 11,  9, 10, 22, 33, 16, 10,  4,  0, 29, 26, 14, 17,  3,  5,\n",
      "        23, 15, 19, 27, 11,  6, 32, 24, 33,  7,  4,  6, 13, 34, 25, 19,  6,  9,\n",
      "         5, 17, 34, 30, 13, 11, 11, 25, 34, 19, 12,  5,  8,  3, 21, 29, 17, 30,\n",
      "         9,  1, 27, 28, 20, 23,  4,  7, 22, 24, 33, 21,  5,  8, 26, 12, 14, 30,\n",
      "         0,  2, 26, 35, 28, 22,  9, 11, 34, 23, 25, 27,  1, 35, 15, 28, 23,  9,\n",
      "         4,  3, 24, 14, 16, 30,  7,  0, 16, 35, 33, 18,  9, 19, 15, 27, 20,  1,\n",
      "        10,  4, 21, 33, 16, 32, 11,  6, 32, 13, 27, 19,  8,  2, 17, 18, 29, 31,\n",
      "         6,  9, 15, 25, 19, 32,  2,  1, 15, 31, 35, 18,  8, 14, 26, 17, 31,  2,\n",
      "         3,  5, 34, 14, 17, 21,  2, 28, 26, 18, 29,  8, 10,  6, 33, 25, 24, 27,\n",
      "         7, 10, 32, 24, 16, 22,  5, 11, 30, 19, 13, 12,  1,  0, 22, 20, 18, 28])\n"
     ]
    }
   ],
   "source": [
    "# это первый тензор из матрицы смежности - что контактирует, номера атомов которые контактируют с другими атомами из второго тензора\n",
    "print('edge_src:', connected_graph.edge_index[0])"
   ]
  },
  {
   "cell_type": "code",
   "execution_count": 102,
   "id": "482e8936",
   "metadata": {},
   "outputs": [
    {
     "name": "stdout",
     "output_type": "stream",
     "text": [
      "edge_dst: tensor([ 0,  0,  0,  0,  0,  0,  1,  1,  1,  1,  1,  1,  2,  2,  2,  2,  2,  2,\n",
      "         3,  3,  3,  3,  3,  3,  4,  4,  4,  4,  4,  4,  5,  5,  5,  5,  5,  5,\n",
      "         6,  6,  6,  6,  6,  6,  7,  7,  7,  7,  7,  7,  8,  8,  8,  8,  8,  8,\n",
      "         9,  9,  9,  9,  9,  9, 10, 10, 10, 10, 10, 10, 11, 11, 11, 11, 11, 11,\n",
      "        12, 12, 12, 12, 12, 12, 13, 13, 13, 13, 13, 13, 14, 14, 14, 14, 14, 14,\n",
      "        15, 15, 15, 15, 15, 15, 16, 16, 16, 16, 16, 16, 17, 17, 17, 17, 17, 17,\n",
      "        18, 18, 18, 18, 18, 18, 19, 19, 19, 19, 19, 19, 20, 20, 20, 20, 20, 20,\n",
      "        21, 21, 21, 21, 21, 21, 22, 22, 22, 22, 22, 22, 23, 23, 23, 23, 23, 23,\n",
      "        24, 24, 24, 24, 24, 24, 25, 25, 25, 25, 25, 25, 26, 26, 26, 26, 26, 26,\n",
      "        27, 27, 27, 27, 27, 27, 28, 28, 28, 28, 28, 28, 29, 29, 29, 29, 29, 29,\n",
      "        30, 30, 30, 30, 30, 30, 31, 31, 31, 31, 31, 31, 32, 32, 32, 32, 32, 32,\n",
      "        33, 33, 33, 33, 33, 33, 34, 34, 34, 34, 34, 34, 35, 35, 35, 35, 35, 35])\n"
     ]
    }
   ],
   "source": [
    "# это второй тензор - с чем контактируют атомы первого тензора из матрицы смежности\n",
    "print('edge_dst:', connected_graph.edge_index[1])"
   ]
  },
  {
   "cell_type": "markdown",
   "id": "a22a933e",
   "metadata": {},
   "source": [
    "#### Визуализируем граф"
   ]
  },
  {
   "cell_type": "markdown",
   "id": "14b173ff",
   "metadata": {},
   "source": [
    "После создания соединений мы будем использовать библиотеку [`NetworkX`](https://networkx.org/documentation/stable/tutorial.html) для визуализации результирующего графа. Чтобы упростить работу с этой библиотекой, воспользуемся torch_geometric.data.Данные` имеет встроенный метод \"to_networkx`. "
   ]
  },
  {
   "cell_type": "code",
   "execution_count": null,
   "id": "179597b9",
   "metadata": {},
   "outputs": [
    {
     "data": {
      "image/png": "[encoded data removed]",
      "text/plain": [
       "<Figure size 640x480 with 1 Axes>"
      ]
     },
     "metadata": {},
     "output_type": "display_data"
    }
   ],
   "source": [
    "# kng = KNNGraph(k=6) # Метод \"KNN Graph\" вернет матрицу смежности графа при условии, что присутствует поле данных\n",
    "# connected_graph = kng(graph)\n",
    "# print(connected_graph)\n",
    "# print('edge_src:', connected_graph.edge_index[0])\n",
    "# print('edge_dst:', connected_graph.edge_index[1])\n",
    "\n",
    "nx_graph = to_networkx(connected_graph, to_undirected=True) \n",
    "# Параметр to_undirected=True объединяет направленные ребра в неориентированные\n",
    "nx.draw(nx_graph)\n",
    "plt.show()"
   ]
  },
  {
   "cell_type": "code",
   "execution_count": 143,
   "id": "35710a07",
   "metadata": {},
   "outputs": [
    {
     "data": {
      "image/png": "[encoded data removed]",
      "text/plain": [
       "<Figure size 640x480 with 1 Axes>"
      ]
     },
     "metadata": {},
     "output_type": "display_data"
    }
   ],
   "source": [
    "nx_graph_full = to_networkx(connected_graph_full, to_undirected=True) \n",
    "# Параметр to_undirected=True объединяет направленные ребра в неориентированные\n",
    "nx.draw(nx_graph_full)\n",
    "plt.show()"
   ]
  },
  {
   "cell_type": "code",
   "execution_count": null,
   "id": "44fa66b8",
   "metadata": {},
   "outputs": [
    {
     "name": "stdout",
     "output_type": "stream",
     "text": [
      "Узлы: [0, 1, 2, 3, 4, 5, 6, 7, 8, 9, 10, 11, 12, 13, 14, 15, 16, 17, 18, 19, 20, 21, 22, 23, 24, 25, 26, 27, 28, 29, 30, 31, 32, 33, 34, 35]\n",
      "Узлы с атрибутами: [(0, {}), (1, {}), (2, {}), (3, {}), (4, {}), (5, {}), (6, {}), (7, {}), (8, {}), (9, {}), (10, {}), (11, {}), (12, {}), (13, {}), (14, {}), (15, {}), (16, {}), (17, {}), (18, {}), (19, {}), (20, {}), (21, {}), (22, {}), (23, {}), (24, {}), (25, {}), (26, {}), (27, {}), (28, {}), (29, {}), (30, {}), (31, {}), (32, {}), (33, {}), (34, {}), (35, {})]\n",
      "Рёбра: [(0, 22), (0, 18), (0, 35), (0, 1), (0, 2), (0, 7), (1, 20), (1, 15), (1, 35), (1, 28), (1, 2), (1, 23), (2, 31), (2, 26), (2, 28), (2, 18), (2, 29), (3, 21), (3, 30), (3, 14), (3, 8), (3, 5), (3, 4), (4, 21), (4, 16), (4, 24), (4, 7), (4, 10), (5, 12), (5, 34), (5, 17), (5, 30), (5, 8), (5, 13), (6, 32), (6, 27), (6, 25), (6, 11), (6, 9), (6, 10), (7, 22), (7, 33), (7, 16), (7, 10), (8, 29), (8, 26), (8, 14), (8, 17), (8, 31), (9, 23), (9, 15), (9, 19), (9, 27), (9, 11), (9, 20), (10, 32), (10, 24), (10, 33), (11, 13), (11, 34), (11, 25), (11, 19), (11, 12), (12, 17), (12, 34), (12, 30), (12, 13), (13, 25), (13, 34), (13, 19), (14, 21), (14, 29), (14, 17), (14, 30), (15, 27), (15, 28), (15, 20), (15, 23), (16, 22), (16, 24), (16, 33), (16, 21), (17, 26), (17, 30), (17, 29), (18, 26), (18, 35), (18, 28), (18, 22), (18, 31), (19, 34), (19, 23), (19, 25), (19, 27), (20, 35), (20, 28), (20, 23), (21, 24), (21, 30), (22, 35), (22, 33), (23, 27), (24, 33), (24, 32), (25, 32), (25, 27), (26, 29), (26, 31), (27, 32), (28, 31), (28, 35), (29, 31), (30, 34), (32, 33)]\n",
      "Рёбра с атрибутами: [(0, 22, {}), (0, 18, {}), (0, 35, {}), (0, 1, {}), (0, 2, {}), (0, 7, {}), (1, 20, {}), (1, 15, {}), (1, 35, {}), (1, 28, {}), (1, 2, {}), (1, 23, {}), (2, 31, {}), (2, 26, {}), (2, 28, {}), (2, 18, {}), (2, 29, {}), (3, 21, {}), (3, 30, {}), (3, 14, {}), (3, 8, {}), (3, 5, {}), (3, 4, {}), (4, 21, {}), (4, 16, {}), (4, 24, {}), (4, 7, {}), (4, 10, {}), (5, 12, {}), (5, 34, {}), (5, 17, {}), (5, 30, {}), (5, 8, {}), (5, 13, {}), (6, 32, {}), (6, 27, {}), (6, 25, {}), (6, 11, {}), (6, 9, {}), (6, 10, {}), (7, 22, {}), (7, 33, {}), (7, 16, {}), (7, 10, {}), (8, 29, {}), (8, 26, {}), (8, 14, {}), (8, 17, {}), (8, 31, {}), (9, 23, {}), (9, 15, {}), (9, 19, {}), (9, 27, {}), (9, 11, {}), (9, 20, {}), (10, 32, {}), (10, 24, {}), (10, 33, {}), (11, 13, {}), (11, 34, {}), (11, 25, {}), (11, 19, {}), (11, 12, {}), (12, 17, {}), (12, 34, {}), (12, 30, {}), (12, 13, {}), (13, 25, {}), (13, 34, {}), (13, 19, {}), (14, 21, {}), (14, 29, {}), (14, 17, {}), (14, 30, {}), (15, 27, {}), (15, 28, {}), (15, 20, {}), (15, 23, {}), (16, 22, {}), (16, 24, {}), (16, 33, {}), (16, 21, {}), (17, 26, {}), (17, 30, {}), (17, 29, {}), (18, 26, {}), (18, 35, {}), (18, 28, {}), (18, 22, {}), (18, 31, {}), (19, 34, {}), (19, 23, {}), (19, 25, {}), (19, 27, {}), (20, 35, {}), (20, 28, {}), (20, 23, {}), (21, 24, {}), (21, 30, {}), (22, 35, {}), (22, 33, {}), (23, 27, {}), (24, 33, {}), (24, 32, {}), (25, 32, {}), (25, 27, {}), (26, 29, {}), (26, 31, {}), (27, 32, {}), (28, 31, {}), (28, 35, {}), (29, 31, {}), (30, 34, {}), (32, 33, {})]\n"
     ]
    }
   ],
   "source": [
    "# пока данный код не рабочий, но его нужно будет протестировать на других графах\n",
    "# # print(nx.info(nx_graph))\n",
    "# # Все узлы\n",
    "# print(\"Узлы:\", nx_graph.nodes())  # или list(nx_graph.nodes)\n",
    "\n",
    "# # Узлы с атрибутами (если есть)\n",
    "# print(\"Узлы с атрибутами:\", nx_graph.nodes(data=True))\n",
    "\n",
    "# # Все рёбра\n",
    "# print(\"Рёбра:\", nx_graph.edges())  # или list(nx_graph.edges)\n",
    "\n",
    "# # Рёбра с атрибутами (если есть)\n",
    "# print(\"Рёбра с атрибутами:\", nx_graph.edges(data=True))"
   ]
  },
  {
   "cell_type": "markdown",
   "id": "6726f56d",
   "metadata": {},
   "source": [
    "### Функция преобразования в граф"
   ]
  },
  {
   "cell_type": "markdown",
   "id": "6d8cc081",
   "metadata": {},
   "source": [
    "Давайте определим функцию для преобразования структур в графы в формате данных torch_geometric: "
   ]
  },
  {
   "cell_type": "code",
   "execution_count": null,
   "id": "fbd4bcf6",
   "metadata": {},
   "outputs": [],
   "source": [
    "# import torch\n",
    "# from torch_geometric.data import Data\n",
    "# from torch_geometric.transforms import KNNGraph\n",
    "# from pymatgen.core import Structure"
   ]
  },
  {
   "cell_type": "code",
   "execution_count": 111,
   "id": "9fa579cb",
   "metadata": {},
   "outputs": [],
   "source": [
    "def get_graph(struct, y: float) -> Data:\n",
    "    \"\"\"\n",
    "    Преобразует кристаллическую структуру (pymatgen.Structure) в граф (torch_geometric.data.Data)\n",
    "    для использования в CGNN (я так понял, что для обучения, т.к. есть целевое свойство). \n",
    "    Граф включает:\n",
    "    - Узлы: атомы с признаками (атомный номер, молярный объем и др.)\n",
    "    - Ребра: связи между атомами (k-NN, k=6)\n",
    "    - Глобальные свойства: энергия (y) и параметры решетки.\n",
    "\n",
    "    Параметры:\n",
    "    ----------\n",
    "    struct : pymatgen.Structure\n",
    "        Кристаллическая структура из pymatgen.\n",
    "    y : float\n",
    "        Целевое свойство (например, энергия образования).\n",
    "\n",
    "    Возвращает:\n",
    "    -----------\n",
    "    torch_geometric.data.Data\n",
    "        Граф с полями:\n",
    "        - x (Tensor): Признаки узлов [num_atoms, num_features].\n",
    "        - pos (Tensor): Координаты атомов [num_atoms, 3].\n",
    "        - lattice (Tensor): Параметры решетки [1, 9].\n",
    "        - y (Tensor): Целевое свойство [1, 1].\n",
    "        - edge_index (Tensor): Индексы связей [2, num_edges].\n",
    "\n",
    "    Пример использования:\n",
    "    ---------------------\n",
    "    >>> sample_struct = df.iloc[0]['structure']\n",
    "    >>> sample_energy = df.iloc[0]['formation_energy_per_atom']\n",
    "    >>> graph = get_graph(sample_struct, sample_energy)\n",
    "    \"\"\"\n",
    "    # Создаем суперячейку 2x2x2 для корректного учета периодических границ\n",
    "    supercell = struct.copy()\n",
    "    # Повторяем ячейку 2×2×2 раза по осям a, b, c\n",
    "    supercell.make_supercell([2, 2, 2])  # Теперь минимум 8 атомов (если в ячейке был 1 атом)\n",
    "\n",
    "    # Признаки узлов (атомов):\n",
    "    # -------------------------\n",
    "    # Каждый атом описывается вектором [Z, molar_volume, electron_affinity, min_oxidation_state, max_oxidation_state]\n",
    "    x = []\n",
    "    for site in supercell:\n",
    "        elem = site.species.elements[0]  # Берем первый элемент (на случай неупорядоченных структур)\n",
    "        x.append([\n",
    "            elem.Z,                      # Атомный номер\n",
    "            elem.molar_volume,           # Молярный объем (из pymatgen)\n",
    "            elem.electron_affinity,      # Сродство к электрону (эВ)\n",
    "            elem.min_oxidation_state,    # Минимальная степень окисления\n",
    "            elem.max_oxidation_state,    # Максимальная степень окисления\n",
    "        ])\n",
    "    # преобразование данных в тензоры PyTorch\n",
    "    x = torch.tensor(x, dtype=torch.float32)  # [num_atoms, 5]\n",
    "\n",
    "    # Декартовы координаты атомов (используются для построения графа)\n",
    "    pos = torch.tensor(supercell.cart_coords, dtype=torch.float32)  # [num_atoms, 3]\n",
    "\n",
    "    # Параметры решетки (хранятся как flatten-вектор 3x3=9 компонент)\n",
    "    lattice = torch.tensor(supercell.lattice.matrix, dtype=torch.float32).flatten().unsqueeze(0)  # [1, 9]\n",
    "\n",
    "    # Целевое свойство (например, энергия образования)\n",
    "    y = torch.tensor([[y]], dtype=torch.float32) # [1, 1]\n",
    "\n",
    "    # Собираем граф (пока без ребер)\n",
    "    torch_graph = Data(\n",
    "        x=x,            # Признаки узлов\n",
    "        pos=pos,        # Координаты для k-NN\n",
    "        lattice=lattice, # Параметры решетки\n",
    "        y=y,            # Целевое значение\n",
    "    )\n",
    "\n",
    "    # Добавляем ребра методом k-NN (k=6)\n",
    "    kng = KNNGraph(k=6)  # Каждый атом связывается с 6 ближайшими соседями\n",
    "    return kng(torch_graph)  # Граф с полем edge_index [2, num_edges]"
   ]
  },
  {
   "cell_type": "code",
   "execution_count": 112,
   "id": "4c2e112c",
   "metadata": {},
   "outputs": [
    {
     "name": "stdout",
     "output_type": "stream",
     "text": [
      "Energy: -3.044 eV/atom\n",
      "Lattice: [17.5867  0.      0.      0.     17.5867  0.      0.      0.     17.5867]\n",
      "Graph: Data(x=[288, 5], y=[1, 1], pos=[288, 3], lattice=[1, 9], edge_index=[2, 1728])\n",
      "Valid: True\n"
     ]
    }
   ],
   "source": [
    "# Пример использования:\n",
    "# ---------------------\n",
    "# Предположим, df — DataFrame с колонками 'structure' (pymatgen.Structure) и 'formation_energy_per_atom'\n",
    "sample_idx = 10\n",
    "sample_struct = df_si_cubic_1000.loc[sample_idx, 'structure']\n",
    "sample_energy = df_si_cubic_1000.loc[sample_idx, 'formation_energy_per_atom']\n",
    "\n",
    "# Получаем граф\n",
    "graph = get_graph(sample_struct, sample_energy)\n",
    "\n",
    "# Выводим информацию:\n",
    "print(\n",
    "    f\"Energy: {graph.y.item():.3f} eV/atom\\n\"\n",
    "    f\"Lattice: {graph.lattice.squeeze().numpy().round(4)}\\n\"\n",
    "    f\"Graph: {graph}\\n\"\n",
    "    f\"Valid: {graph.validate()}\"\n",
    ")"
   ]
  },
  {
   "cell_type": "markdown",
   "id": "70ea8505",
   "metadata": {},
   "source": [
    "**Здесь:**\n",
    "- \"x\" - это матрица, описывающая узлы графа размерности [num_nodes, num_node_features]\n",
    "- \"y\" - прогнозируемое значение\n",
    "- \"pos\" - абсолютное положение узлов в декартовом пространстве.\n",
    "- \"edge_index\" - это матрица смежности графа в двухстрочном представлении\n",
    "- \"lattice\" - это решетка, в которой расположены атомы (граница периодической ячейки). Вектора трансляций.\n",
    "\n",
    "Таким образом, мы вложили в объект \"Данные\" всю информацию об исследуемой кристаллической структуре."
   ]
  },
  {
   "cell_type": "markdown",
   "id": "3f97176c",
   "metadata": {},
   "source": [
    "### Создадим датасет"
   ]
  },
  {
   "cell_type": "markdown",
   "id": "986a43e3",
   "metadata": {},
   "source": [
    "При работе с большими объемами данных мы должны учитывать, что весь набор данных может не поместиться в объем оперативной памяти. В этом примере мы рассмотрим метод работы с большими данными:\n",
    "1. Мы разместим каждый отдельный граф в отдельном объекте в файловой системе (рациональнее было бы разместить весь пакет целиком, но метод сохранения пакетов напрямую следует из описания ниже)\n",
    "2. Для доступа к файлам мы создадим отдельный класс, который наследует свойства и методы класса `torch.geometric.data.Dataset`. Однако созданный класс будет иметь доступ не к оперативной, а к постоянной памяти, что снимает ограничения на объем набора данных. "
   ]
  },
  {
   "cell_type": "code",
   "execution_count": 144,
   "id": "ec8aa26d",
   "metadata": {},
   "outputs": [
    {
     "data": {
      "text/html": [
       "<div>\n",
       "<style scoped>\n",
       "    .dataframe tbody tr th:only-of-type {\n",
       "        vertical-align: middle;\n",
       "    }\n",
       "\n",
       "    .dataframe tbody tr th {\n",
       "        vertical-align: top;\n",
       "    }\n",
       "\n",
       "    .dataframe thead th {\n",
       "        text-align: right;\n",
       "    }\n",
       "</style>\n",
       "<table border=\"1\" class=\"dataframe\">\n",
       "  <thead>\n",
       "    <tr style=\"text-align: right;\">\n",
       "      <th></th>\n",
       "      <th>composition</th>\n",
       "      <th>formula_pretty</th>\n",
       "      <th>symmetry</th>\n",
       "      <th>material_id</th>\n",
       "      <th>structure</th>\n",
       "      <th>formation_energy_per_atom</th>\n",
       "    </tr>\n",
       "  </thead>\n",
       "  <tbody>\n",
       "    <tr>\n",
       "      <th>560</th>\n",
       "      <td>(Mg, Si, Bi)</td>\n",
       "      <td>Mg64Si32Bi</td>\n",
       "      <td>crystal_system=&lt;CrystalSystem.cubic: 'Cubic'&gt; ...</td>\n",
       "      <td>mp-1194936</td>\n",
       "      <td>[[4.78909723 4.78909723 7.96644927] Mg, [4.789...</td>\n",
       "      <td>-0.049193</td>\n",
       "    </tr>\n",
       "    <tr>\n",
       "      <th>561</th>\n",
       "      <td>(Na, Si)</td>\n",
       "      <td>NaSi34</td>\n",
       "      <td>crystal_system=&lt;CrystalSystem.cubic: 'Cubic'&gt; ...</td>\n",
       "      <td>mp-1220929</td>\n",
       "      <td>[[11.040783 11.040783 11.040783] Na, [0. 0. 0....</td>\n",
       "      <td>0.113020</td>\n",
       "    </tr>\n",
       "  </tbody>\n",
       "</table>\n",
       "</div>"
      ],
      "text/plain": [
       "      composition formula_pretty  \\\n",
       "560  (Mg, Si, Bi)     Mg64Si32Bi   \n",
       "561      (Na, Si)         NaSi34   \n",
       "\n",
       "                                              symmetry material_id  \\\n",
       "560  crystal_system=<CrystalSystem.cubic: 'Cubic'> ...  mp-1194936   \n",
       "561  crystal_system=<CrystalSystem.cubic: 'Cubic'> ...  mp-1220929   \n",
       "\n",
       "                                             structure  \\\n",
       "560  [[4.78909723 4.78909723 7.96644927] Mg, [4.789...   \n",
       "561  [[11.040783 11.040783 11.040783] Na, [0. 0. 0....   \n",
       "\n",
       "     formation_energy_per_atom  \n",
       "560                  -0.049193  \n",
       "561                   0.113020  "
      ]
     },
     "execution_count": 144,
     "metadata": {},
     "output_type": "execute_result"
    }
   ],
   "source": [
    "df_si_cubic_1000.tail(2)"
   ]
  },
  {
   "cell_type": "code",
   "execution_count": 145,
   "id": "e859cbeb",
   "metadata": {},
   "outputs": [],
   "source": [
    "# формируем папку для зафиси графов\n",
    "PATH_FOLDER_FOR_FILES = r\"C:\\Users\\lazarevnv\\Desktop\\github_repository\\GNN_for_materials_1\\data\\graphs_structures_562_Si_cubic\"\n",
    "\n",
    "if not os.path.exists(PATH_FOLDER_FOR_FILES):\n",
    "    os.mkdir(PATH_FOLDER_FOR_FILES)"
   ]
  },
  {
   "cell_type": "code",
   "execution_count": 146,
   "id": "cf0b4dd3",
   "metadata": {},
   "outputs": [
    {
     "name": "stderr",
     "output_type": "stream",
     "text": [
      "100%|██████████| 562/562 [00:22<00:00, 24.53it/s]\n"
     ]
    }
   ],
   "source": [
    "# Для каждой структуры в df формируем граф и записываем в виде отдельных файлов в папку\n",
    "# PATH_FOLDER_FOR_FILES = r\"C:\\Users\\lazarevnv\\Desktop\\github_repository\\GNN_for_materials_1\\data\\graphs_structures_562_Si_cubic\"\n",
    "\n",
    "for idx, row in tqdm(df_si_cubic_1000.iterrows(), total=df_si_cubic_1000.shape[0]): # Цикл для датафрейма построчный\n",
    "    struct = row['structure']\n",
    "    graph_data = get_graph(struct, row['formation_energy_per_atom'])\n",
    "    # torch.save(graph_data, os.path.join('processed', f'data_{idx}.pt'))\n",
    "    torch.save(graph_data, os.path.join(PATH_FOLDER_FOR_FILES, f'data_{idx}.pt'))"
   ]
  },
  {
   "cell_type": "markdown",
   "id": "c323a459",
   "metadata": {},
   "source": [
    "Далее нам нужно прочитать сохраненные файлы и передать их в класс `torch_geometric.data.Dataset`. "
   ]
  },
  {
   "cell_type": "code",
   "execution_count": null,
   "id": "f6f41358",
   "metadata": {},
   "outputs": [],
   "source": [
    "class ProcessedDataset_new_dir(Dataset): # (наследник torch_geometric.data.Dataset)\n",
    "    '''пользовательский класс ProcessedDataset для работы с предобработанными графами кристаллических структур, \n",
    "    сохраненными в файлах .pt, и выводит статистику о данных.'''\n",
    "\n",
    "    # Инициализирует датасет:\n",
    "    # root: Путь к папке с данными, transform/pre_transform/pre_filter: Опциональные функции для преобразования данных (не используются здесь).\n",
    "    def __init__(self, root, new_dir_for_load_graphs, transform=None, pre_transform=None, pre_filter=None):\n",
    "        super().__init__(root, transform, pre_transform, pre_filter)\n",
    "        self.processed_new_dir = new_dir_for_load_graphs\n",
    "\n",
    "    @property\n",
    "    def processed_dir(self):\n",
    "        return os.path.join(self.root, self.processed_new_dir)  # Кастомный путь\n",
    "    \n",
    "    # Возвращает список файлов .pt в папке processed\n",
    "    @property\n",
    "    def processed_file_names(self):\n",
    "        file_names = []\n",
    "        for i in os.listdir(self.processed_dir):\n",
    "            if '.pt' in i:\n",
    "                file_names.append(i)\n",
    "        return file_names\n",
    "    \n",
    "\n",
    "    # Возвращает количество графов в датасете:\n",
    "    def len(self):\n",
    "        return len(self.processed_file_names)\n",
    "\n",
    "    # Загружает граф по индексу idx\n",
    "    def get(self, idx):\n",
    "        # data = torch.load(os.path.join(self.processed_dir, f'data_{idx}.pt'))\n",
    "        # print('self.processed_new_dir', self.processed_new_dir)\n",
    "        # print('f data_{idx}.pt', f'data_{idx}.pt')\n",
    "        # print('os.path.join', os.path.join(self.processed_new_dir, f'data_{idx}.pt'))\n",
    "        GRAPH_PATH = os.path.join(self.processed_new_dir, f'data_{idx}.pt')\n",
    "        # print('GRAPH_PATH_1', GRAPH_PATH)\n",
    "        GRAPH_PATH = GRAPH_PATH.replace('\\\\', '/')\n",
    "        # print('GRAPH_PATH_2', GRAPH_PATH)\n",
    "        data = torch.load(GRAPH_PATH)\n",
    "        # data = torch.load(os.path.join(self.processed_new_dir, f'data_{idx}.pt').replace('\\\\', '/'))\n",
    "        # data = torch.load(os.path.join(self.processed_new_dir, f'data_{idx}.pt'))\n",
    "        return data"
   ]
  },
  {
   "cell_type": "code",
   "execution_count": 149,
   "id": "ec2d393e",
   "metadata": {},
   "outputs": [],
   "source": [
    "# dataset = ProcessedDataset_new_dir('./', 'processed_Fm_3m')\n",
    "dataset_562_si_cubic = ProcessedDataset_new_dir('./', PATH_FOLDER_FOR_FILES)"
   ]
  },
  {
   "cell_type": "code",
   "execution_count": 150,
   "id": "832daadd",
   "metadata": {},
   "outputs": [
    {
     "data": {
      "text/plain": [
       "'C:\\\\Users\\\\lazarevnv\\\\Desktop\\\\github_repository\\\\GNN_for_materials_1\\\\data\\\\graphs_structures_562_Si_cubic'"
      ]
     },
     "execution_count": 150,
     "metadata": {},
     "output_type": "execute_result"
    }
   ],
   "source": [
    "dataset_562_si_cubic.processed_new_dir"
   ]
  },
  {
   "cell_type": "code",
   "execution_count": null,
   "id": "81e8790b",
   "metadata": {},
   "outputs": [
    {
     "data": {
      "text/plain": [
       "Data(x=[288, 5], y=[1, 1], pos=[288, 3], lattice=[1, 9], edge_index=[2, 1728])"
      ]
     },
     "execution_count": 151,
     "metadata": {},
     "output_type": "execute_result"
    }
   ],
   "source": [
    "# посмотрели наш пример\n",
    "dataset_562_si_cubic[10]"
   ]
  },
  {
   "cell_type": "markdown",
   "id": "ab33b0b7",
   "metadata": {},
   "source": [
    "### Разбивка на Train и Test"
   ]
  },
  {
   "cell_type": "markdown",
   "id": "ad169dad",
   "metadata": {},
   "source": [
    "`PyTorch Geometric\" предоставляет несколько полезных утилит для работы с наборами графовых данных, *например* мы можем перетасовать набор данных и использовать первые 1032 графа в качестве обучающих, а остальные - для тестирования:"
   ]
  },
  {
   "cell_type": "code",
   "execution_count": 152,
   "id": "cdce26e8",
   "metadata": {},
   "outputs": [
    {
     "name": "stdout",
     "output_type": "stream",
     "text": [
      "Number of samples in the training set: 478\n"
     ]
    }
   ],
   "source": [
    "# 85% of data will be presented in the training set\n",
    "# 85% данных образуют обучающий датасет\n",
    "train_fraction = 0.85\n",
    "\n",
    "train_set_size = round(df_si_cubic_1000.shape[0] * train_fraction)\n",
    "print('Number of samples in the training set:', train_set_size)\n",
    "\n",
    "\n",
    "# Define train indices to compare differen models\n",
    "train_idxs = df_si_cubic_1000.sample(train_set_size).index\n",
    "# Inverse selection of samples that are not in the train indices\n",
    "test_idxs = df_si_cubic_1000.loc[df_si_cubic_1000.index.difference(train_idxs)].index"
   ]
  },
  {
   "cell_type": "code",
   "execution_count": 153,
   "id": "2d0b6ce8",
   "metadata": {},
   "outputs": [
    {
     "data": {
      "text/plain": [
       "Index([173, 471, 342, 103,  68,  26,   4, 276, 121, 100,\n",
       "       ...\n",
       "       410, 376, 504, 223, 456, 537,  52, 318, 261, 526],\n",
       "      dtype='int64', length=478)"
      ]
     },
     "execution_count": 153,
     "metadata": {},
     "output_type": "execute_result"
    }
   ],
   "source": [
    "train_idxs"
   ]
  },
  {
   "cell_type": "code",
   "execution_count": 155,
   "id": "c0889b6e",
   "metadata": {},
   "outputs": [
    {
     "data": {
      "text/plain": [
       "(Index([ 14,  17,  19,  21,  47,  61,  64,  66, 107, 109, 111, 120, 127, 129,\n",
       "        130, 134, 142, 144, 148, 175, 181, 185, 187, 196, 202, 211, 213, 214,\n",
       "        226, 231, 241, 248, 253, 254, 269, 275, 291, 297, 306, 308, 315, 319,\n",
       "        331, 335, 341, 362, 377, 383, 386, 390, 393, 394, 397, 398, 407, 411,\n",
       "        414, 417, 423, 424, 425, 426, 433, 434, 435, 438, 439, 440, 459, 464,\n",
       "        467, 479, 489, 498, 508, 512, 518, 527, 535, 545, 547, 548, 553, 557],\n",
       "       dtype='int64'),\n",
       " 84)"
      ]
     },
     "execution_count": 155,
     "metadata": {},
     "output_type": "execute_result"
    }
   ],
   "source": [
    "test_idxs, len(test_idxs)"
   ]
  },
  {
   "cell_type": "code",
   "execution_count": 156,
   "id": "f4e2f0fe",
   "metadata": {},
   "outputs": [
    {
     "name": "stdout",
     "output_type": "stream",
     "text": [
      "Number of training graphs: 478\n",
      "Number of test graphs: 84\n"
     ]
    }
   ],
   "source": [
    "\n",
    "train_dataset_si_cubic = dataset_562_si_cubic[list(train_idxs)]\n",
    "test_dataset_si_cubic = dataset_562_si_cubic[list(test_idxs)]\n",
    "\n",
    "print(f'Number of training graphs: {len(train_dataset_si_cubic)}')\n",
    "print(f'Number of test graphs: {len(test_dataset_si_cubic)}')"
   ]
  },
  {
   "cell_type": "markdown",
   "id": "befc7a05",
   "metadata": {},
   "source": [
    "### Разбивка датасета по батчам (пакетам)"
   ]
  },
  {
   "cell_type": "markdown",
   "id": "afe00a09",
   "metadata": {},
   "source": [
    "Чтобы разумно использовать доступные вычислительные ресурсы и ускорить доступ к данным, хранящимся в постоянной памяти, мы используем пакетную обработку данных перед их передачей в графическую нейронную сеть (также рекомендуется использовать графический процессор).\n",
    "\n",
    "В области изображений или языка эта процедура обычно достигается путем изменения масштаба или заполнения каждого образца, чтобы создать набор изображений одинакового размера, а затем сгруппировать образцы в дополнительном измерении (пакеты с группировкой по ширине и высоте). Длина этого измерения равна количеству выборок, сгруппированных в пакет, и обычно называется `batch_size`.\n",
    "\n",
    "Однако для графовых нейронных сетей (особенно для графов кристаллической структуры) оба описанных выше подхода либо неосуществимы, либо могут привести к чрезмерному потреблению памяти.\n",
    "\n",
    "Таким образом, \"PyTorch Geometric\" предлагает другой подход для распараллеливания нескольких выборок: матрицы смежности располагаются по диагонали (создавая гигантский граф, содержащий несколько изолированных подграфов), а узлы и целевые объекты просто объединяются в узловом измерении: "
   ]
  },
  {
   "cell_type": "markdown",
   "id": "05e706f5",
   "metadata": {},
   "source": [
    " ![Screen Shot 2020-08-27 at 13.11.53.png](data:image/png;base64,iVBORw0KGgoAAAANSUhEUgAABJIAAAELCAYAAACCvKwzAAAKtWlDQ1BJQ0MgUHJvZmlsZQAASImVlwdUU+kSgP970xstEAEpoXekCASQEnro0sECIQkQSowJQcWuiCuwooiIgLqgiyIKrkqRVUQsWFgUG1g3iCio62LBhsq7gUfYfe+8986bcyb/dybzz8z/3zvnzAWA/JQtFGbCSgBkCbJFEf5e9Lj4BDruKUADDUAFrsCEzRELmeHhwQCR6fXv8uEugGTrLStZrH///7+KMpcn5gAAhSOczBVzshA+iWg3RyjKBgC1DrEbLMsWyvgAwqoipECEW2WcOsXdMk6eYumkT1SEN8LvAcCT2WxRKgBkWS56DicViUOmI2wj4PIFCMvyunPS2FyEtyFsmZW1RManETZN/kuc1L/FTJbHZLNT5Tx1lknB+/DFwkz2iv/zOv63ZGVKpnMYIEpOEwVEIKu67N4ylgTJWZAcGjbNfO6k/ySnSQKip5kj9k6YZi7bJ0i+NzM0eJpT+H4seZxsVtQ0i5ZEyOPzxL6R08wWzeSSZEQz5Xl5LHnM3LSo2GnO4ceETrM4IzJoxsdbbhdJIuQ1p4j85GfMEv/lXHyW3D87LSpAfkb2TG08cZy8Bi7Px1duF0TLfYTZXvL4wsxwuT8v019uF+dEyvdmIy/bzN5w+f2kswPDpxkEA39AB9HIGgUiABPEAhbwAb7ZvOXZsgN4LxGuEPFT07LpTKSDeHSWgGNtSbezsbMBQNaPU4/7Xf9kn0E0/IxNSAOAUY4YB2Zsif0AtOgAoLh1xmY8DIBSIADn2jkSUc6UDS37wQAiUASqSLfrIO+TKbACdsAR6XtP4AsCQRhSbzxYDDggDWQBEVgGVoH1IB8Ugm1gJ6gA+8B+cAgcBcdBCzgNzoFL4Bq4Ae6AB0AKhsBLMAo+gHEIgnAQBaJCGpAuZARZQHYQA3KHfKFgKAKKh5KgVEgASaBV0EaoECqBKqBqqA76BToFnYOuQL3QPWgAGoHeQl9gFEyGVWFt2BieAzNgJhwER8GL4FR4KZwL58Fb4XK4Bj4CN8Pn4GvwHVgKv4THUABFQtFQeigrFAPljQpDJaBSUCLUGlQBqgxVg2pAtaG6ULdQUtQr1Gc0Fk1F09FWaFd0ADoazUEvRa9BF6Er0IfQzegL6FvoAfQo+juGgtHCWGBcMCxMHCYVswyTjynD1GKaMBcxdzBDmA9YLJaGNcE6YQOw8dh07EpsEXYPthHbge3FDmLHcDicBs4C54YLw7Fx2bh83G7cEdxZ3E3cEO4TnoTXxdvh/fAJeAF+A74Mfxjfjr+Jf44fJygRjAguhDACl7CCUEw4QGgjXCcMEcaJykQTohsxiphOXE8sJzYQLxIfEt+RSCR9kjNpPolPWkcqJx0jXSYNkD6TVcjmZG/yQrKEvJV8kNxBvkd+R6FQjCmelARKNmUrpY5ynvKY8kmBqmCtwFLgKqxVqFRoVrip8FqRoGikyFRcrJirWKZ4QvG64islgpKxkrcSW2mNUqXSKaU+pTFlqrKtcphylnKR8mHlK8rDKjgVYxVfFa5Knsp+lfMqg1QU1YDqTeVQN1IPUC9Sh1SxqiaqLNV01ULVo6o9qqNqKmpz1WLUlqtVqp1Rk9JQNGMai5ZJK6Ydp92lfZmlPYs5izdry6yGWTdnfVSfre6pzlMvUG9Uv6P+RYOu4auRobFdo0XjkSZa01xzvuYyzb2aFzVfzVad7TqbM7tg9vHZ97VgLXOtCK2VWvu1urXGtHW0/bWF2ru1z2u/0qHpeOqk65TqtOuM6FJ13XX5uqW6Z3Vf0NXoTHomvZx+gT6qp6UXoCfRq9br0RvXN9GP1t+g36j/yIBowDBIMSg16DQYNdQ1DDFcZVhveN+IYMQwSjPaZdRl9NHYxDjWeLNxi/GwiboJyyTXpN7koSnF1MN0qWmN6W0zrBnDLMNsj9kNc9jcwTzNvNL8ugVs4WjBt9hj0WuJsXS2FFjWWPZZka2YVjlW9VYD1jTrYOsN1i3Wr+cYzkmYs31O15zvNg42mTYHbB7YqtgG2m6wbbN9a2dux7GrtLttT7H3s19r32r/Zq7FXN7cvXP7HagOIQ6bHTodvjk6OYocGxxHnAydkpyqnPoYqoxwRhHjsjPG2ct5rfNp588uji7ZLsdd/nS1cs1wPew6PM9kHm/egXmDbvpubLdqN6k73T3J/Sd3qYeeB9ujxuOJp4En17PW8znTjJnOPMJ87WXjJfJq8vro7eK92rvDB+Xj71Pg0+Or4hvtW+H72E/fL9Wv3m/U38F/pX9HACYgKGB7QB9Lm8Vh1bFGA50CVwdeCCIHRQZVBD0JNg8WBbeFwCGBITtCHoYahQpCW8JAGCtsR9ijcJPwpeG/zsfOD59fOf9ZhG3EqoiuSGpkYuThyA9RXlHFUQ+iTaMl0Z0xijELY+piPsb6xJbESuPmxK2OuxavGc+Pb03AJcQk1CaMLfBdsHPB0EKHhfkL7y4yWbR80ZXFmoszF59JVExkJ55IwiTFJh1O+soOY9ewx5JZyVXJoxxvzi7OS64nt5Q7wnPjlfCep7illKQMp7ql7kgdSfNIK0t7xffmV/DfpAek70v/mBGWcTBjIjM2szELn5WUdUqgIsgQXFiis2T5kl6hhTBfKF3qsnTn0lFRkKhWDIkXiVuzVZHBp1tiKtkkGchxz6nM+bQsZtmJ5crLBcu7V5iv2LLiea5f7s8r0Ss5KztX6a1av2pgNXN19RpoTfKazrUGa/PWDq3zX3doPXF9xvrfNthsKNnwfmPsxrY87bx1eYOb/DfV5yvki/L7Nrtu3vcD+gf+Dz1b7Lfs3vK9gFtwtdCmsKzwaxGn6OqPtj+W/zixNWVrT7Fj8d5t2G2CbXe3e2w/VKJcklsyuCNkR3MpvbSg9P3OxJ1XyuaW7dtF3CXZJS0PLm/dbbh72+6vFWkVdyq9KhurtKq2VH3cw91zc6/n3oZ92vsK9335if9Tf7V/dXONcU3Zfuz+nP3PDsQc6PqZ8XNdrWZtYe23g4KD0kMRhy7UOdXVHdY6XFwP10vqR44sPHLjqM/R1garhupGWmPhMXBMcuzFL0m/3D0edLzzBONEw0mjk1VN1KaCZqh5RfNoS1qLtDW+tfdU4KnONte2pl+tfz14Wu905Rm1M8XtxPa89omzuWfHOoQdr86lnhvsTOx8cD7u/O0L8y/0XAy6ePmS36XzXcyus5fdLp++4nLl1FXG1ZZrjteaux26m35z+K2px7Gn+brT9dYbzjfaeuf1tt/0uHnuls+tS7dZt6/dCb3Tezf6bn/fwj5pP7d/+F7mvTf3c+6PP1j3EPOw4JHSo7LHWo9rfjf7vVHqKD0z4DPQ/STyyYNBzuDLp+KnX4fynlGelT3XfV43bDd8esRv5MaLBS+GXgpfjr/K/0P5j6rXpq9P/un5Z/do3OjQG9GbibdF7zTeHXw/933nWPjY4w9ZH8Y/FnzS+HToM+Nz15fYL8/Hl33FfS3/Zvat7XvQ94cTWRMTQraIPTkKoBCFU1IAeHsQAEo8ANQbABAXTM3LkwJNzfiTBP4TT83Uk+IIQG0HALKxLXQdANWIGiOq6AlAOKJRngC2t5frP0WcYm83FYvUgowmZRMT75A5EWcGwLe+iYnxlomJb7VIsfcB6PgwNafLRAf5Zsjpl1FPNxH8q/wDxk8ItcR/1i8AAAGeaVRYdFhNTDpjb20uYWRvYmUueG1wAAAAAAA8eDp4bXBtZXRhIHhtbG5zOng9ImFkb2JlOm5zOm1ldGEvIiB4OnhtcHRrPSJYTVAgQ29yZSA1LjQuMCI+CiAgIDxyZGY6UkRGIHhtbG5zOnJkZj0iaHR0cDovL3d3dy53My5vcmcvMTk5OS8wMi8yMi1yZGYtc3ludGF4LW5zIyI+CiAgICAgIDxyZGY6RGVzY3JpcHRpb24gcmRmOmFib3V0PSIiCiAgICAgICAgICAgIHhtbG5zOmV4aWY9Imh0dHA6Ly9ucy5hZG9iZS5jb20vZXhpZi8xLjAvIj4KICAgICAgICAgPGV4aWY6UGl4ZWxYRGltZW5zaW9uPjExNzA8L2V4aWY6UGl4ZWxYRGltZW5zaW9uPgogICAgICAgICA8ZXhpZjpQaXhlbFlEaW1lbnNpb24+MjY3PC9leGlmOlBpeGVsWURpbWVuc2lvbj4KICAgICAgPC9yZGY6RGVzY3JpcHRpb24+CiAgIDwvcmRmOlJERj4KPC94OnhtcG1ldGE+Culg980AAEAASURBVHgB7J0HnBRF9scfu+Ql58ySM5KUoCiIkjGBAUTMeub09+70Tu88PM9wZjDgGfBU5BRFQBEQBUGQrOQMS855Cbvs8p9fYbU1vZOnZ6Zn9/f4LN3TXV1V/e1QXa/ee1XojEeEQgIkQAIkQAIkQAIkQAIkQAIkQAIkQAIkQAJBCKQE2c/dJEACJEACJEACJEACJEACJEACJEACJEACJKAIUJHEG4EESIAESIAESIAESIAESIAESIAESIAESCAkAlQkhYSJiUiABEiABEiABEiABEiABEiABEiABEiABKhI4j1AAiRAAiRAAiRAAiRAAiRAAiRAAiRAAiQQEgEqkkLCxEQkQAIkQAIkQAIkQAIkQAIkQAIkQAIkQAJUJPEeIAESIAESIAESIIEEEzh27FiCa8DiSYAESIAE3ESA7YKbrgbrYidARZKdCH+TAAmQQBISOJGdKRmH1siqvQs9y9VyPPtoEp4Fq0wCBZPA0aNHpXTp0rJ3796CCYBnTQIkQAIk4EUA7QHaBbQPFBJwI4HCbqwU60QCJEACJBAagQ0Hlsn3Gz+XDQeXS+6ZHOugQpIi6eWbSrf0q6RZ5Q7Wdq6QAAm4j8Dzzz+vKpWZmSmVK1d2XwVZIxIgARIggbgSQHsAQfswfPjwuJbNwkggFAKFzngklIRMQwIkQAIk4B4Cp3Oz5cuVb8mCHdODVqpV1c5ybYsHpGjh4kHTMgEJkED8CRQqVEgVumnTJklPT49/BVgiCZAACZCAqwhs3rxZ6tWrp+rE7rqrLg0r8xsBurbxViABEiCBJCMAy6MPljwTkhIJp7Zs91x5Z9HfBconCgmQgLsI7Nu3z6qQVihZG7hCAiRAAiRQIAmY7YHZThRIGDxpVxKgIsmVl4WVIgESIAH/BKZt+FTW7l/iP4GPPRmHV8vENe/52MNNJEACiSTw8ccfW8XXrFnTWucKCZAACZBAwSVgtgdmO1FwifDM3UaArm1uuyKsDwmQAAkEIHD45H55bvYfIrIuQtykh7u8KlVL1Q5QAneRAAnEkwBc2TIyMiQlJUVOnz4t5ih0POvBskiABEiABNxDAO5shQsXltzcXKlbt67A1Y1CAm4iQIskN10N1oUESIAEghBYuOP7iJRIyPaM5Mr87dOClMDdJEAC8SKQlZWllEgor3379lQixQs8yyEBEiABlxPAoALaBQgGG9BeUEjATQQ4a5ubrgbrQgIkQAJBCITr0mbPbu3+X+yb+JsESCBBBBYtWmSV/Pe//91aD2WFlkuhUGIaEnAXgWQMmsx3TXT3UDTXHO1Cv379VAXQXnTu3Dm6yvBoDthEcQ/Y72VaJEUBk4eSAAmQQLwJHDyxJ6oiD5zYHdXxPJgESMA5Au+8846V2YUXXmitc4UESIAESIAEzHbBbC9IhgTcQICKJDdcBdaBBEiABEIkEO3Mazm5p0MsiclIgARiSQAje1988YUqAnEwSpUqFcvimDcJkAAJkECSEUC7gPYBgvbCbhGSZKfD6uYzAnRty2cXlKdDAiSQfwns3btXzpzyvLYLRX6OpYuWj/xgHkkCJOAYgWPHjsnhw4dVfgMGDIgq3+3bt0d1PA9OfgLmDE/sbLrreuYn1zB8h1CCE6hcuXLwRCGmQPvw5ZdfqvYC7Ubp0qVDPJLJghHg/RyMkEige5kWScH5MQUJkAAJJIwAZnFaunSpvP/++zJy5Eg5tSsKLZLnLOqVb5awc2HBJEACvxNYtmyZ9WPgwIHWOldIgARIgARIQBMw2wez3dD7uSSBRBGgRVKiyLNcEiABEghAAKMkixcvll9++UVOnDhhpSy8r7ycrr7P+h3uSptqXcM9hOlJgARiQGDMmDFWrhdffLG1zhUSIAESIAES0ATM9gHtRpcuXfQuLkkgoQQKecxfzyS0BiycBEiABEhAEYD10apVq2ThwoXWlOAaTVpamrRp00ZNBfvFptclktnbapdpJPd1ekFnySUJkEACCZQrV065KqSkpEh2drZgGY6Y7jJ0bQuHXP5MS9c2915X81lNxm6XWX+6AoV2n5nuQNFe89zcXClSpIhgWbZsWTl06FBolWAqnwR4P/vE4ndjoHuZFkl+sXEHCZAACcSHwL59+wTTutqtj1B6vXr1lPKoWbNmkpqaqip0dcn75PV5j8iRUwdDrmCJwmkyuPXDIadnQhIggdgROH78uBUfqUGDBmErkWJXM+ZMAiRAAiTgJgIYZEA7sW7dOtVuoP0oWbKkm6rIuhRQAlQkFdALz9MmARJILAFtfQQF0ubNm70qgw8EbX1UsWJFr334UbZ4Bbmt/VMyYvZjkpWSmWe/fUOhrCIyuNWjUqlkdfsu/iYBEkgAAVgeaunVq5de5ZIESIAESIAE8hBAOwFFEgTtR/v27fOk4QYSiDcBKpLiTZzlkQAJFGgCsD7SsY8wqmRKenq6dOjQQZo2bWpN92ruN9eP7cqS1IX1pHDtXZJT7YCcKZRr7lbrhSRFUneXkyJbqsuWonukKfVIeRhxAwkkgsA333xjFdu3b19rnSskQAIkQAIkYCeAdmLEiBFqM9oPKpLshPg7EQSoSEoEdZZJAiRQoAjA+mj16tUq9lG41ke+QCGeytdffy2FTheW0jsayC0D/iHbTq6RnUcz5Hj2ESlRpJRULVVHmlVqL59/Ml4ysjNU2V27dpUSJUr4ypLbSIAE4khg7NixVmmwPqSQAAmQAAmQgD8CZjuB9uOJJ57wl5TbSSBuBKhIihtqFkQCJFDQCOzfv9+KfeTL+ggjSoh9VLhweK/iWbNmycGDZ+MjYTaPqhVqSFWp4RMvlEcZGRmSlZUl8+fPl4suushnOm4kARKIDwEETF2xYoUqDLEvqlatGp+CWQoJkAAJkEBSEkA7gfZCtx9YhjtBQ1KeOCvtagLh9V5cfSqsHAmQAAkknoC2PkLso02bNnlVCLGPzjnnHGWSXKlSJa99of6Acuqnn35SyatXry7nnntuwEMbNmwo1apVk127dsm8efOkc+fOUrRo0YDHcCcJkEDsCOAZ1oL3ADsDmgaXJEACJEACvgignUB7sWfPHrUb7Yg5m5avY7iNBGJNgIqkWBNm/iRAAgWCABp1xD5asmSJ2K2P6tatq5RHzZs3D9v6yA4PLm05OTmC6Uv79+8fUicUVkmfffaZqhfq2KlTJ3u2/E0CJBAnAkuXLrVKwrNJIQESIAESIIFgBNBejBs3TiVDO9KjR49gh3A/CcSUABVJMcXLzEmABPIzASh0EPsI1kcbN270OlXEItIzr0VqfeSVoefHsmXLrHIQlLtmzZr2JD5/w30Os79B2TVnzhxlxZSamuozLTeSAAnElsC0adOsAvr06WOtc4UESIAESIAE/BFAe6EVSWhHqEjyR4rb40WAiqR4kWY5JEAC+YbAgQMHrNhHmZmZXuflpPWRmfHJkydlypQpalNaWpogNlKoApPo888/XyZMmCBHjhyRX3/9Vdq1axfq4UxHAiTgIIGJEydauXXr1s1a5woJkAAJkAAJ+CNgthdoR5599ll/SbmdBOJCgIqkuGBmISRAAslOIJj1kY59FCuf9e+//16OHTumMPbs2TPs2ddQvxkzZihFEmIswVqKsVmS/a5k/ZONAAKkrly50qo2A21bKLhCAiRAAiQQgIDZXqAdYcDtALC4Ky4EqEiKC2YWQgIkkKwEYH2kYx/ZrY/q1KmjYh+1aNEi6thHgfjs3LlTFixYoJKkp6ergN2B0vvaB1e2Ll26yLfffqtc3FatWiWoN4UESCB+BMx3CGZrhHUhhQRIgARIgASCEUB7gXYDk7pA0J6ULl062GHcTwIxI0BFUszQMmMSIIFkJQDrozVr1ij3tQ0bNnidBmIftW7dWhCjKFbWR2aBGHGaNGmSnDlzRlkQ9evXz9wd1jrc2X788UcVdHv27NlUJIVFj4lJIHoC27ZtszJp0KCBCppvbeAKCZAACZAACfghgElW0G7g+xSC9gQxMCkkkCgCVCQlijzLJQEScB2BgwcPWtZH2o1MV7J27dpKeYSZ14oUKaI3x3yJQN7bt29X5SDOUTTKq6JFi0rHjh3lhx9+EFg5rV+/Xho2bBjzc2ABJEACZwnAIlALLAQpJEACJEACJBAqAbQbWpGE9oSKpFDJMV0sCFCRFAuqzJMESCBpCMD6aO3atbJw4UKxWx8VL15cuZG1b99eqlSpEvdzgjJr+vTpqtxy5cqJE1OFn3feeYIYSVlZWTJr1iwqkuJ+VVlgQSYAS0AtTjzPOi8uSYAESIAE8j8BtBvvv/++OlG0Jw899FD+P2meoWsJUJHk2kvDipEACcSSQDDrIyiPEEMontZH9vOdOnWqYLY2CKZ9hUVRtALXPLjlzZkzRzIyMmTr1q0CaysKCZBA7AnMnz/fKuTCCy+01rlCAiRAAiRAAsEImO2G2Z4EO477SSAWBKhIigVV5kkCJOBKAtr6CO5isD5C3CEtsD7SsY8SYX2k66GXmzdvlqVLl6qfTZs2lSZNmuhdUS87d+4s8+bNE/CAVdKQIUOizpMZkAAJBCaA582MkVSpUqXAB3AvCZAACZAACRgEzHYD7QnaFUymQiGBRBCgIikR1FkmCZBAXAkcOnRIxT7C7Gv22Ee1atVSFjqJtj4ygeDD4Ouvv1abYBHVu3dvc3fU65jlo23btsqdD259u3fvFnNa2agLYAYkQAJ5CBw9etTahpl3ONuOhYMrJEACJEACIRBAu2HO3IZ2BaEPKCSQCAJUJCWCOsskARKIOQHMdmbGPvJlfQT3NTcqUOB2tnfvXsWoW7duMflIQMBGWGaBC/zsBw4cGPNrwgJIoCAT2LFjh3X6derUUbMwWhu4QgIkQAIkQAJBCKSkpAjaj40bN6qUaFeoSAoCjbtjRoCKpJihZcYkQALREMjKOSWLd86QVXsXyt7MbXIiO1PSipaRmqXrS8uqnaRFlU6SUiglTxHa+mjJkiViWgAgIayPoDxq2bJlQmMf5am0sQH1//HHH9UWzNDWqVMnY69zqxUqVFAcli1bJsuXL5fu3bsLtlFIgARiQ2DatGlWxjVq1LDWuUICJEACJEACoRJA+6EVSWhXMJswhQQSQYCKpERQZ5kkQAIBCfyya5ZMWP2uHMs65JUuM/uI7PEolZbs+lGqptWWq1vcJ3XKNRZtfQQLG0xpb1ofFStWzIp95EbrI68T9PyYPHmyZGdnq839+/ePqe/7BRdcIFAkgRdmchswYIC9OvxNAiTgEAE9ZTOyGzRokEO5MhsSIAESIIGCRADth54B1GxXChIDnqs7CFCR5I7rwFqQAAn8RmDq+jHy3caxQXnsztwqby54XFoV6ik7fz2ax/qoZs2aVuwjJ2Y7C1ohBxKsXr1a9EdBmzZtpG7dug7k6j8LKNYaN26sXAB/+eUXgRsd47b458U9JBANgR9++ME6vFmzZtY6V0iABEiABEggVAJm+2G2K6Eez3Qk4BQBKpKcIsl8SIAEoiawcPv0kJRIuqCcM6fll5zJUvxMI0mRkqKtj+C+Vq1aNZ0sKZZZWVnKGgmVLVGihFx66aVxqXfXrl2VIgkBvufOnSs9e/aMS7kshAQKGgEoirWYHQG9jUsSIAESIAESCEbAbD/MdiXYcdxPAk4ToCLJaaLMjwRIICICx7OPyoQ174Z/bMoZOdN0lwyo/oC0atVKksX6yH6iM2fOlMOHD6vNl1xyiaSlpdmTxOR37dq1JT09XTZv3qxmcYNiCYosCgmQgHMEoCg2xZzC2dzOdRIgARIgARIIRMDefqB9SdZv30DnyX3uJ5A3Uq3768wakgAJ5EMCc7Z8IydPH4/ozE4VPSIl65xJ2oZ0z549yhoIJ4+A4O3atYuIQ6QHIVYSBB8j8+fPjzQbHkcCJOCHwK5du6w9RYoUUdaT1gaukAAJkAAJkECIBGB9j3ZEi9m+6G1ckkA8CFCRFA/KLIMESCAogRV7o1NgrIzy+KAVjGGCr7/+WgUML1SokPTr10+wjKc0bNhQqlevLpKSK7NWTJE5Gd/KvG1T1Yx5mC2PQgIkEB2BnTt3WhkgfhumcKaQAAmQAAmQQLgE0H6gHdFiti96G5ckEA8CdG2LB2WWQQIkEJAAZg3bdTQjYJpgO3ce3RwsiSv3I8h1RsbZc+/YseNZhU6ca3rwxB4p1GK3ZNZZJoVSz8j4NSutGqQUSpVmlTtIr4bXS7VSdaztXCEBEgidAGZF1FKmTBm9yiUJkAAJkAAJhE3AbEfQvuD7kUIC8SbAIbF4E2d5JEACeQicyjkhCJwdjWRmHYnm8IQce+LECZk6daoqG7Olde/ePe71WL7nZ3lxzv2y/vhipUSyVyD3TI6s2DNPXpn7kMzdOtm+m79JgARCILBkyRIrVZ8+fax1rpAACZAACZBAuATMdsRsX8LNh+lJIBoCtEiKhh6PJQEScIRAsdQSklIoRXLP5EacX8kipSM+NlEHfvfdd3L8+Nm4UL1794573BQoiD785dmQTh8KpS9XvS05uTlyQd3+IR3DRCRAAmcJLFiwwEJRt25da50rJEACJEACJBAuAbMdMduXcPNhehKIhgAtkqKhx2NJgAQcIYCYQFXSakeV174tR2XWrFly9OjRqPKJ18Hbtm2TxYsXq+IaNGggLVq0iFfRqpxDJ/fKmGUvh13mpLXvydbD68M+jgeQQEEmsGbNGuv0O3fubK1zhQRIgARIgATCJWC2I2b7Em4+TE8C0RCgIikaejyWBEjAMQLNK58bVV45u4rL9OnT5eWXX5axY8fK+vXrBbGX3Ci5ubkyadIkVb/ChQtL3759417NaRvGSlbOybDLhdXY5HUfhn0cDyCBgkogOzvb69QrVqzo9Zs/SIAESIAESCAcAvZ2xN7OhJMX05JApATo2hYpOR5HAiTgKIHz6/STWRkTJDs3K+x8SxWqIJWKNJI9slfNfrZq1SrBX7ly5aRdu3bStm1bQQwit8j8+fNFT9d6wQUXiP2DINb1zM7Jkl92/hhxMesPLBVYNJUrXjniPHggCRQUAgcPHvQ61bJly3r95g8SIAESIAESCIeAvR1BO1OlSpVwsmBaEoiaAC2Sokbo/gwQg2XEiBGutc5wP8H8W8OvvvpKtmzZ4op7o3Sx8tK70dCwYSO20pD2D8ndd90jt956q7Rp00aKFCmi8jl06JB8//33XlZKsAZKpMD17ocfflBVqFChgkCRFG/ZcnhNRAo7s57r9y81f3KdBEjAD4EDBw547XGTUturYvxBAiRAAiSQFATs7Yi9nUmKk2Alk55AXBRJ6Ljl5OTI6dOnvf4S3aFL+qsX5ATAd+nSpZKWliaPPvpokNTcHQsCcK1yq3sVzveZZ56R9PR0ee2119SzGQsG4eTZte5l0rl26DMaFZJCcmWzP0jDCq1UMbVr15YrrrhCHnnkEeUuVrVqVbUdzwIslD766CN59dVX5ccff5QjRxIzy9u3334rp06dUvWCSxtc2+Ith07ui7pIJ/KIuhLMgASSgMCcOXOsWpYoUcLVbYJVUa6QAAmQAAm4lgD6FmhPtJjtjN7GJQnEmkDMejBQGmFq65MnT6pYJb/88ouyfNAnVKlSJenSpYs0bNhQSpUq5fUw6DRcRk4AL5h58+YpxuC7du1aQUBjU44dOyYpKWd1iXqfXup0Wgmil+iQFytWzLL4QDrsQ16pqanqMJ2HXupj9RJKRbsmXZeXn5ZZWVmyceNGyczMVMqaeLsvhcJy7ty5Uq9ePXnwwQeVq9Xw4cMTotgw63plszs9gbdrybfr/iunAsTwKVusogxqcY80qdTOPFytFy9eXM477zz1h6DWixYtkuXLlwt8yA8fPqyslGbMmCGNGzeW9u3bC4Jd62chT2YObtiwYYOsWLFC5Yjg2nj/xVv27t2r7stoy/WoSKPNgseTQIEgsGPHDus84/WusQrkCgmQAAmQQL4jgG9WtCf4toWY7Uy+O1mekGsJOK5IQucZ7iRTp06Vxx9/XLZu3Rr05IcNGybvvfeepYgIegATBCWwefNmpUSCthozWVWvXt3rGCh1OnXqJDVr1lSKPCibIHqpE0NBBMESf9u3b5e//OUvMnjwYJ1E0DHt0KGDNGvWzGde9jxgGYL6xaPjblUyASuvvPKK/OlPf7JKxrOhXa6sjQlewTXAtahcubI8++yzauaw66+/Po/SMd7VRLykNtW6ys/bpsiM5ZPkVGHPfZiaI2lFy0iNMvWlZZVO0qHGxVIktWjQqtWqVUvw16tXL1m2bJlSKiE+EZSiq1evVn/wNdexlMqUKRM0z2AJEJB6//Fdkpl1WIoWLi4VSlSVwlJUvv76a3UolLGoT6wF57h7927JyMiw/uDqmlPWM7NdlJPElSlWIdbVZ/4kkC8IwApRix5w0b+5JAESIAESIIFICJjtCdqZv/71r5Fkw2NIIGICjimSoJjYs2ePTJ48WW6++WalJECHrFq1amod+2GJAisl+/TcH374oTz11FPKaiPiM+GBFgHwrV+/vvr92GOPqZgx1s7fVnA90LmExYwWXJtAAiUTLM3QMTUFbjrwzZ05c6ay+EDn1S5QoOCFBysllJ3fBZYvphIJ5ztlyhTp37+/604d1wRTh6Z7XNxuuOEGpRRs2rRpwusJpVGP+lfL9tkn1H0KZdBtt90Wcb1gpXTuueeqPyhEtZUSFHywUkLcItNKCdZC4So7DxzfLd9v+lyW7/lZjmd7lDW/SSFJkXKFqslxKSapUla6d+8uTiisdP56iXcsRqW04gjxr7QbnU6DZerRNJFcj4ViSuTPonYnNPPlOgmQQF4C+DbSgmefQgIkQAIkQALREkB78uuvv6pszHYm2nx5PAmESsARRRLc16CQwAg7RvoRpwRBZP/v//5PunXrJuXLl1cKCOyDognxWNDRMRUO2g0q1IoznW8CYPrEE0+oneh463V7anSQoWQylUJjxoxR1kX2tPo30uM6ozNuCsp54IEHBG47sPDQLzWkgfIJ1i6wVoJVFOI1wdUrv19vTENvlz/+8Y8qbk+4ygl7PrH4Dbc7XF9Ym3Xs2FEpI3Ct3CDaBzyYojOcusISD3+mldLOnTuVkhNKNfxB0QMrJfyFovT5acskmbjmfck9k5OnKmckVw6e8bi3ePRzxY9XkJZtm+VJE8kGKCzhuqcVR1j3NwUs3Enr1q1r/X2367/yy65ZkRQrdco2kYolva0cI8qIB5FAPieAgZN169ZZZ9moUSNrnSskQAIkQAIkECkBsz1BO4P2Jr/3ryJlxeNiQ6CQ56aLfEjaUye4sX3zzTcCdxg91fYnn3wiOsitv2rDUslUYkDJFOwYf3lx++8EEFz7nHPOUXGMoNSBlUmo8uWXXyqXNV8WDMgDcZbMl5avfDdt2mRZQ0Fhgtg7L774oq+k+XYblHmIfwP+doEbGTrzbhTUG88lXBVffvllde3cUE+4gy1YsEDFUbNbeTlZP7uVks4bjTLue7hv+rNSmrL+Y5m+8TN9SNBl5ZI15J6Oz0vJImddSoMe8FsCKO3hLqwVR6izqZA384EC31QcQblvyt7MHfLSnPsl58xpc3NI63d2eFoaVGgZUlomIoGCTADtKawhtXz88ccyZMgQ/TOqpdlhwLuAUrAJYHBES5Sf9jobLh0iYD6ryXhtzPrjG5ESnAAG0bXE6pqjv43+txZ8IyJ0AiUwgfx8P+New4Ay+uBOTeYT6F6OSpEEMzpYF/3zn/9USqSHHnpInnzyycBX77e96JTBtQSCYL+mi9VvSbgIkwBcdFq3bq2sKQYMGCATJkwIMweRgQMHyhdffOHzuBo1agiCpps3lJnw4MGD0rlzZ1U+tiMGE4I5FzQxlWn2c7/rrrvkjTfesG92ze/3339fbrnlFlUfdExwzRMtcDmD2yRe/LCwi7VFFzp+OpYSrJRM0VZKbdu2FcRVgsCN7cNfnjWThbSOIOG3tgv8voT1nlYawU0NCnd/HyR4Lk3FUShWVAu3T5f/rXg9pPrqRJfUv1Z6Nvw9RpreziUJkEBeAniPwmpXC9qHcAZ49HG+lubHMBVJvggVrG1UJLn3epvPqr823L21Fy8rFyqSQrtSZl8pVtccg9PoQ2uBVbr5HtDbufQmYD6P+el+xn0GD6Hx48erUEKTJk1Sg+BmLC1vEqH9CnQvR+zahqmz0akbNWqUin1z9913h6xEQmdIK5HgtvLpp5+GdiZMFZAAgmrDJQcyYsSIgGn97YR7GyyafFnTIPYKlIYvvPBCnqDR0H5iWnVdfpMmTcSXe5e/cvPTdgSt9idvvvmmPPfcc66dtQ6B7+GSiphXsP5B/DLzhevvvGK5Xbu24QWJ0ZaSJUvGsjg1mgNFN/5wz+NdBcUSFLV47yGOEhRbsFJq266tTNr7QUT1WbNvseDPnHUOsZq04gjLffv2+cwb1wTWY6biKBIuHWr28Fgk5cj4VaNCsky6tMF1AkUShQRIIDQCsNo2JdoPOjMvrpMACZAACRRcAvb2BO0NFUkF936Ap9fixYuVEgkUYFDSvHnzmPY5I1IkwZXigw8+UEokVPTCCy9UCgasBxN0xp5++mkrGSxgME03JToCCLILaxcIOpd16tSJKMOiRYsKXNy6du3qsxMLZdHFF18sl112mVf+iH2FgOkQuCiOHTs25h1+rwq45AdmqINyNZCMGzdObrrppkBJErYPjdIdd9yhZnD76KOPlFtilSpVElYfFGwqSDDjmPk71hWDRRb+evbsqaZYhVIJyiUoteDquXLvAslqtiviasxYP14yt4ilPLJ3OnXGuC6oh1Yc4fl2yny5Y62ekrkjR6Zu/ERyyh/xqTisW66p9Gl0g9Qv30JXiUsSIIEQCMybN88rFUIAUEiABEiABEggWgL29gTtDUJrUAomAVggwRBACzwnYu3FEZEiCZ0pmE5BEKT3q6++0nUOupw4caKMHDlSpevSpYu89957QY9hguAE4PaiA3oOHz48+AEBUmDGrvvvv9+vhdnll18uK1asUFpOZAN3N2zT8uijjyqrJv27IC1DcSdEUOuhQ4c65rvqNN9HHnlEKZKQLyySYKGUSDEVR1AkJUKgtGnfvr36g7ubtlI6Ve5IVNVZf3CZ7JxfSOSM588QzHIIdxitOMI6tsVKNi/fKcW3NJCS5YrKJdd0kcOn9nuChudK2WIVpL4nFlKFElVjVTTzJYF8TWD//v1e54cJKCgkQAIkQAIkEC0Be3tib2+izZ/H+yaAvggUNPAOML029LrdlRG/8YdjYLChBd48+MNgsT5W78NvMx8Y8eB4xD3ypRxCWsSU1Yok9FuuvPLKmA++h61IgmuJOQX3rbfeGrLJFGKPXHfddSoYM3w6YZkRy86RvhgFYfnf//7XOk27tZC1I4wVuC1OmzZN4C7nS+69917lgwkLsxtvvNFK0s0zSx8UEQVRYBWmY4TBHQuuUb74wbUTQdExG5gbpVKlSsptCvV866231PW0v+DiWW/t2oYynZy5LdJzwOyD/fv3V1ZKI396XHZme3cUw8m3UKpnPrci2VIypYya7VIrjmB9ZDdZDiffcNKi0YEiGtK2xbnSrkY3tc7/SIAEoiewZMkSKxOnAl9aGXKFBEiABEigQBNAu3L69NlJU8z2pkBDieHJQ2Hz9ttvqzipmEgDChsoh9BPgk4D+6EcgmAdehP0XbBESAx49WiBUQbiwGIyHOSD/PDtr//Qr4TuBH/weMGgMry47JPnID94NCA8Bo6BIFYyjH1i3X8LW5EEbRc6wRB08B5//HG1Hsp/gAjtGKxXoFCKV0cplLolcxrcqB94XA0hcEPSQYDVhij+g4vbRRddpKyP7NngxkdgZgTY1vcDbm7M4FdQ5ddff5UNGzao0wc3uIZB6aBfKCYXxJqCItWtglkgMNsezufo0aMSSuDmWJ2LGyySfJ0bGo4SpYqLHPS1N/Rtg6+/VprUbuVzhCH0XCJPCYtCLW3atNGrXJIACThAYOXKlVYuUNLH+qPOKowrJEACJEAC+ZoA2hO0Kxj4hZjtTb4+8QSeHJR2zzzzjPXN7m/mZF1FXCNtSYRwPlqRhL474q8ir1AFhiIwxPGlSJrhid+KPjkE/ZM777xTTYQWat6RpgtLkYQOsenmglH5cJQWSPu///0v0rryOD8EoOnETDAQaCCdEmgyEVh70KBB4sul6MEHH7SKgpYUsYFM6xFrZwFZ+cc//mGd6V/+8helCUb8MF9BxzEzHkxQwdiNAoUvFEkQjHBAMZYocasiCTxKF4s+3km9mo2sBinejNEAQgEKwTNszswQ77qwPBLIjwQwiqjFre97XT8uSYAESIAEkosA2hWtSDLbm+Q6i+SpLZRCCAEDt0IogzDYjv6cP7dC6D4wARWsjeC1owUKpvLly6u8sA35YAY5ePpAEP8K19b03IKni6/vdNQDxh979uxRxyId4hX7coFTCRz8LyxFEixPNnumGtQSjhZNH8Ol8wSWL19uZdqvXz9r3YmVPn36KNc1zDYWSApyXCRwwcOvY4UhEHLnzp0VLszgdu655/pEBysyt7oBtmzZ0qrzJ598klBFEsw98TKE0sMNrm0WGM9KuicI9a+7ZpubwlqvmlZbiheO7Sx0gSoEBTRMYSG0RgpEivtIIHwC+LjTVqo42lSKh59bwT4C5vqZmZnqI7t06dKOTTZQsKny7EmABJKdgNmuoL1Bu0PL19hdVXhTmWFL4G01evRoNeGULw8UDNLCKKNZs2Z5KgWDHPyhfwNDG+hVEIcVSqSbPJMyIZQQFELBBApEKJGghEJ/6aGHHlKWasGOc2J/WIokxEsxBeZV0QjMw/AHLZ0bBA+f9i2MR32cipcwZswYq7qdOnWy1p1aee2119TH8NSpU/1miZm+CrKYQePvu+8+y20TAZrhE6sDoZuMnnvuOUFaM/CauT+R63Blg7YdLydoufHsJ7JhQkOJuviyjEskpxZVOsrENe97AlOf9UkOty6tq10Q7iGOptdubXgXcaYPR9EyMxLIQ6BXr155tnFDcAKIDzF+/Hh5+OGHVWJtMYtBBgoJkEByEEB/D/Ef0bGGMhgdXnuwaH0m6IvBQgMDXUh39dVXCyz9tSB0BGK5opON94D+0/ux1LFl0DHHzLt4f9SvX99Mki/W0a4sWLAgX5xLMp4EdBi4PxFXeObMmXlOAcYeMLZAOBhf1kQ4YPv27fLzzz8rJRLyQxs3bNiwkJRIOB4TAOlZn2H9lJ6e7mXJhDSxkrAUSWjItcA/Dw93JAKNHWItwRQPD7qeAS6SvJw8BtpA7V/oZL7+8oKvI16q0QriFWmxTwWpt0ezRCdzxIgR0rt3b9m4caPPrBB4zC3X0WcFY7gRGuB///vfqgQohRCAXguUL3AHha+qXWDFNGfOHOlmmDra0yTqN+qNexNT3KOeiR7hcKsiqVzxytKxVk+Zu3Vy2JeqROFSckGd/mEf59QBGEVZtWqVyg4jJQXZLdUppsyHBEwCdgtKxDCkhE9g9erVagZRfSQ+mj///HNBLD8KCZBAchDAdyT6E7t371Z/+O3LgkOfDfqYSI8/7bqFffp7FP3HjIwMZc1hj1ODY/GnB0DxLtYuQzr//LK0tys4V9NKKb+cp5vPAy5qL7/8slx77bU+DQfWr1+vZqlHSBj7AAhc4mCM8PHHH6tTbNu2rVIk1a5dO+RT/vbbb9UzhQPg6YL4vPGSsBRJ+/bts+qFE9QPqLUxxJU33nhDdby3bdumprd2iwLi+eefl8WLF4d4FtEna9WqlSOKJPPlaL9Bo6/l2RxgVfPnP/9Z/Fke4eHAzY+YQAVNYOKonw0o2/BCMWXIkCFy//33K6WpuR3rCLrdzYWKJNTNVCxgdChSxTHyilZ0Xewds2jzdeL4Po2GycYDy2V35taQs/NMGCrXtXpQShRJC/kYpxNilAQjhBC6tTlNl/mRwFmXZ5ODfo+Z27gemAA6iOhEautJpMYsk/hWGzx4cELbpcA1514SIAGTAFyC0I/QSg64qr7yyivK2txMp9fh9YI+Byw0Lrjgd+tt9D3xzYJBWgx0whoHQYu1MgnvWYRnwAAZlCz43aVLl3xpjQRW9nYFTDADMCV+BHBPVqtWTRDOBIYDuk+oawBlEQxoEOqke/fulv4EfRqERUEIEQgG8KGM0uFR9PGBlhgUxuxv8NrAdcd9HytdgK96hKVIMjMAsEjkyJEjYgZpxodAqIILAXPIWLkC4eLjYsRLonUNRD2hmYd2HxLrGWGCvZgee+wxmTBhQkwCSENZBjNXNwYrNWOF/e1vf1PXwvwPpruYqdBXoPnvvvtOfRQjrpIT4uQzAvNIHYgZz20i2esPD7e5tuGaFS9cQm5p96S8v+Rp2XUsI/hlzC0kV7e6T5pV7hA8bQxT6I4Z3BideBfFsKrMmgSSkoB9Zlp/8fKS8uTiVGl0iubOnZunNMTrxEQQcB+nkAAJuJ8ABiMxqKoFA1l4J2IWb1+DhFCQYDZouN3bDRewDX/IAzMgowMP44S0tDRBXwSxZezvX11uflva25WCct5uu44Iin3OOecoS9lXX301T/XgAQDvFVgLQdmDAXq0Yeg3HzhwQLm93X333XLNNdfkOTbQBugtdKxThEupWbNmoOSO74tYkQQFRiSiAxLrY6F5CyZ4wcAfds2aNYJg0tDmxUL8WdvEoiwn88QNCImlIgnmo76UJOZ5wE3rX//6l8Cyy0nrFXR4ocmF2yECltkbFLMO8V4Hl++//14Viyj+sMryJU8++aRPRRLSwm0QzKKRWDwj0Ihr5VeilXhuViThupUvUVnuPe85mbphjPy05WvJOXPW0sd+TVMOp0mRzTVl75lTIvF913tVBaMl+OiCoOFz8nn1Kog/SKAAEzDdMYAhnFluCzA2r1PHd98777zjtQ0/EE8C7m1UJOVBww0kkBQE4LLWunVrueWWWwQT+miLIl15WE3/6U9/knfffVdZe+jteol+KNxeJ0+erL5n8J0ID5cbb7yxwCiRwMLerqDdQRwqSvwJ4Frg/kN/2FfcKgzOwwUOfWUofxDj+KefflKxwq644grBnzlLWyhnALc2XHMokDBbG5Sp8ZSIFUmInRKuQPumpxTXx0IrZxdYHQAwRqJmz54tO3bsELjDQZEAt6FYKZLs9Ui23zBvi4XAGghT2+PDDYIgYLjx9TSDZpm4vrBkuf32283NYa0jMB58n6G9hbZ23rx5SmOLTKBwcZMiydQ6w2TXX92aN28uHTt2VOdih/Gf//xH8Q0n6Hw8nhHT8i/RigatSPI1amXnmajfRQsXl/5NbpZmJc6X9yeOkNzSx6VmvWpSqXwVqVSyujQo21om/+97jwvcbnUfIEhku3btElJdPFda6NamSXBJAs4SmD9/vleG5jvVawd/+CSAdg5ubP4ElrJQimMQjUICJJB8BGCx/4c//EGmT5+ulEL2M8BAMgZi0fm2d5Dx7I8dO1YNNKPzjbiz6IiH8y1tLy8Zf9vbFbQ7UChQEkMACh30Ve+666489zT604jxh34fgmN/+umnaiAXAyLoW4cyQ5t5Vjo/6EfQ745nbCRdj4gVSQAAxVA4JnSY9Uu7yqACAOfLj2/GjBnKZxCKCrxEYMKsxf7A6O1cxo7A3//+dxUIDCU0btxYhg8frqxwTBNVs3S89OGPHMksUBhhQHna5xOWMJEoLc36xGodH7mIwq8FD/IHH3ygf3otcZ/7e1ZwHJ4NNIKhSryfEX91D7W+0abTPuAYscK94eYPhZJFSkvhvRU8AVIqSI/zrhNYqmkZPLiqGl1HbABY2cFdMJjLqD7WqSUYLl26VGUHl8pEuiw6dU7MhwSSgQAmKaGETmDTpk1ebaz9yIULFwpGY4cOHWrfxd8kQAJJQgCdZ3SsBw4caIXq0FXXHWXMHgwXOFgxQRAP5r///a+aURi/MViLb+iC6KbPdgV3gHsEA++YHfDee+9VMw1qtzNdQwyO6AmasA1pcW/bXRR1+kBLPB+4/uhnYGZCe4zeQMc6tS8qRRIsVM4///yQ6oKRo6eeesorLbTQvgQaagTzRifn0ksvVSZbUF5Q4k8A2n6Y4GnBdYCCCAolKPnMae91GpjYYVpORKDXCgC9L5SljlQPyyYE+f7jH//opUwMJY94pMEshnq6RZQHTv4UHFCAImq/P0GcpQEDBvi1aLIfF+9nBErjRIq2SEIdoMDzxzmRddRlm1ZpdhdgzKoId97Ro0crRTyeL4wixPPlv2HDBhVvDPWlNZK+alySgPME7K5tHAgLnTEU3rBKh+uKP4F7LiyXESdFdzD9peV2EiABdxLANxP6e48//rgKxm23PEfHG+FN0PdA+Ah0nhFfFNYcEFgk4rsK/cWCKPZ2xd7uFEQmiT5n9FkuuugipdyEwtOfwAUR8byuuuoqf0kCboeV3tVXX61mP8SgtNn/CHiggzsjViShDrAcmTJlStD4GpjeEcoAuCiZ0rdvX/OntY6ZvxChH0DwB8skKpIsPH5XnO5cr1u3Tl1jXSCutw4CBjNSWB5Bmbhy5UqdxFpi9ADX/PXXX7e2hbKC643GBKLdqaC5Na3SQskn1mmgIHjuueesYvzFRrISeFaQBoHR4appFzwb4A0FXSgSj2fEbJzsvuuh1NHJNHZFUjKPwOCDqX///srqEkox+EjfeuutPq0znWSo89JubXiGI7Ea1PlwSQIkEJgA3DUokRFAZwiDNcEEMZQwqEVXjmCkuJ8E3EsAg84XX3yx9OrVy+dzD3cgDNZilje4tH3xxRcCi0UMwqEjfsMNN7j35OJcM7Q7CEdCSSwBTEoG9zbcpwjT40swezssiXR/11eaQNvQZ8Yzk0gJS5EEVzQ8zFqgEUZcGHSocTK+BB0lTNH49ttve+2GD2Ggmd9MqFBExUNgHYAAWZFY0YRTP61tR/BqJzrEqC/yxMsVCg5/1yKcOiJGERRBejTwpptuUr/NPKD9xIsdM5L5EgSR7tGjh/JZ9rXf3zbz2iMN6uI2QRBA7R6Exg+sQhEERh8yZIjPpPCphXlvqGJyisUzYs5gaPdND7WOTqUzn0n9/DiVt9P5mM+f3SJJlwWlIhTkmI0IS3wUwbTVPFandXIJduh4QWAK7su12MnymBcJFGQCcGHVgndYrJ9vXVZ+WG7fvl0+++wzdSoYOMEgFlwF7IJ36DfffENFkh0Mf5NAkhFAnxDBtRHOwtcA9bJly+Sll15SwYgRYBvfL71791bvBqcH0pMJHdoV3Q9Evc12J5nOIz/WFa6W0IHAulZ/e5vnCSUTXLRr1KjhN/yJmd6N62EpkjCl4qBBg7zO47XXXhO4rcGVyZxyDh0oWKtgtg0zjow+GFH6zY6w3p7IJWYEg6Is1p0rrRjBh1GoroH+uOAFguBaGzdudFSRhCkI9Wgg3Mv++te/+lSwwR0LLov+ZnSDFRNm/wo3gJi/83XLdpyXFlhQQWEWqsDlD/Fx7IIZ0jDaArc1N4g544B9Voh4189ukRTv8sMpz+ws+lMkIT+YYaNxgcsjGhiMIl1yySXhFBV2WnyIaTdFurWFjY8HkEBYBOBypQXfR+a7QW/nMi8BxD+ByxoEbU/Lli2V4hvvzGnTpuU5YP/+/UohX6VKlTz7uIEESCB5CGCAGh4oiMEKZbIpGCxHWAAtGAxDcG0dDkNvL2hLtCtoX3T4DLPdKWgs3Ha+cLlG+4WBYnt4H9QVxhowIEAfGbGFk1HCUiT16dNHmVDBnU0LlCKwNoLLDqxr4JqDUW/4tOKmnjVrlhVEeMKECfowNd2j9cMlKxjtsgfFimXV4OLihJQuXdrKBuyjtR758MMPvWIfQbnRoEEDqwxzBS8wTLcJBZx5fXUaBFe/55571Mhioj6idWfeqfIRHHvSpEnqFOGb3bVrV326IS3/8pe/+FQkIbD4J598InfccUdI+cQ6UUZGhlVEouNP5EdFEhTpUMyjEcEHEkxf0RHCdLixEriAQBCrKT09Xa3zPxIgAecJoN3Bc60l2nZZ51MQlvh+xCxNEHxTwvUXbW2/fv18KpJ++OEH9d5EOgoJkEDyEoDLPdx94KqGsBb+lCJQnCAuEjwCKOLV73PSO4VsoycAa7FAys7FixcrgxtYJSXjd3lYiiR05hAUGIHO0HCboq1X0BGCmw0621CUwGIJAafuvPNOKzncOuI9U5FVeICVYcOGqXMLkMTRXU6ZYkKLqWfDQ/DnaD5Y4bL19NNPW+eJ6+cvlpVOhBFDjCDA1RGujHYZN26c/POf/1RWTfZ9sfyND3lYUmmFyH333ScdO3aMush3333Xuk9gsmjGEgolc8RywLOBj2W7oOFE8GWnlF72/EP9DXZwuYJUrlw54fXBswImqJfbXdtCZYx0OC+4OsJyE+cFZSwU8gjA57Tgeur4XLBGSvQ9Zp5f1umTsnzPz7Jm/xI5eGKPnM7NljLFyku98s2lVZUuUqFkVTM510nA9QTwrsIAmxZ/HSK9n8uzBGAxCRdw3f7gI1yHQcAS70YE2TYFFklbt25V7XK47bGZD9dJgAQSTwBxjzAVOmKH2vuaunY6toz+XdCXZvuCdgftj5u+8Qrq9cF1QIzfzz//3C8CXDt4cE2cOFFuvvlm13il+K2wbUeK7XfQn+3atRO4gCH+DdbtgkYf0cdhfojOEYKgoeE3YytBUeHGGxwWAujYxevPzi7S34MHD7YOnT9/vrUe7gpcFGGVhaDPELi34fqFIrCi+OCDD/wmhULKvAf8JnRwx8yZM+WNN95Qs8fBneyhhx6K2ncYH7lmAPFIRkAx4uIvEB7Yx5uTL+SwjoLCGAJFYqKfV5SPdwvEl7JS7XDJfyYrNCLBBIojzLqA9w8aFMxEgmfRadFBtpHvOeec43T2Eec3b9tU+dfsO+XT5a/Ikp0zZfOhVbLtyHpZuXeBfL12tDz/010ybuWbcur0iYjL4IEkEG8C5nsAZZcpUybeVUjK8tAJ0uEQGjZsKObsvvjOuP76632eFwbTEGuCQgIkkPwEYJmBsBH+vlUQQwlurjpUSPKfcXRnYG9f7O1PdLnz6EgJYPB25MiR8u233wqMcTAbuS9DGkwugZiAM2bMUErASMtLxHFhWSTpCiLodrNmzQRL+zSDsE7BCwBmXNodBlZMOhgwZgkKJ56MLpNL/wTMWCfff/+90uT7T312D+LfwPwRL2FYMWEEEBZFUL5oQTwVBCCHGwzcGv3FjsKDgo+4QK56iAUDJRVmetP5oLOMaPNaQaDLdWqJuDM4Ny0Iyok4NJdddpneFHSpzw11hgURZqMzLYng1ol7GvsR9C/Qy1szR1r9PPiqAALY65nrcH3QQEQbS8tXOYG2IeaWFlNRqbclYomXMJRI+U2RBJb169dXzxhiZyE+CJRJGJmA0tEJgQJUB4fH+xkjfomW3DO5HgXRG7Jg+3cBq4J087ZNUQqmW9s9KeWKVwqYnjtJwA0E7O/47t27u6Farq8DrIvw0Q2BNSxm8NWC70t/LgIYRIN7cLLGmdDnyCUJkMDZWZvR6UY8XYTPsAu+w/GdhO+ZWLi34T2Eb05tDW8v322/0b6gj6MF7Q+tMzWNxCzhmYU+tLZGQoiYhx9+WPWXETLGLogLiFAXcOPu1KmTfXdEv3EfQBcTqG8aUcbGQREpknA8HrBQThSdolGjRllFQjOnFQnWRq5ERQDBmRGoCyN5mP3JtJjxl/Gjjz6qFEnoYEJZgT/t9qKPgakdTMhxvaD0geufL4ECCjOO4YUbSJAfyk1NTVXJYPESSzdHrcg06wQXzHAUSYiFBGsq1BlWOoiwbwr2waIE+zFaagacN9NhXTNH2kDuWT/++KMKwoxjcH3Q6UessXiKGe/KCXdAJ+quFY6B2DlRTrR5mC/sUCySdHnnnnuucueAwhHPIu5VWCo5IbB00zN54Jlzg0xZ/3FQJZJZz93HtsjoJc/I3ef9S4qkFjN3cZ0EXEfAHMRA5TAgQwlMAN+LcGeBVKxYUcUf1N8L+kgELkUbbrZReh/em/hDrIloZefOnWoQB9+65js92nx5PAmQQGgE8NwFmpQJVtbwfEH/BwO6Tgj6JVOnTlWeAfi2h1eG/vZ0Iv9Y5WFvX9D+cPKBWNEOni/61GjLPvroI+XdAUMLWNf2799fxf3bsGGDcmWz54Tvf4SDQfpo2jH0PX766SdlHIIBGHjPxOo+jliRZD95f7+hSda+7ohRY44u+TuG28MjgJftjTfeqJQ5+IhCwHDcOIEENyisj3TsAcRVMgNq604nLInwcQeLJX+CDz5MFQ+Flpmfr/TQ8kOQJ/7sLz9fx0S6DS5ZCM4JKw/UDeXp8wo1TzDR54ZjzPPTeUHZhrzx4ggkyAvMURfNylc8K+SLZ0YzuvzyywNlG5N9WvmL8w12L8WkAj4yxQc9xO0WST6qHvImWLXBUhAKS9x3+BBAjLloRQfZxggVrEkTLduObJAfNo0Luxrbj26U7z3H9Wo4JOxjeQAJxJPAyZMn41lcvigLyhuEToDA8ggBd+0C6018R/pSJGEiGAzowIohUkE7jlFjTC+ObxvkiQ4lhQRIIH4EMIi6du1a5e4TqFRYIsLiA7NXR/Kc4nsS/Rv8YQYtzBSHUBiIuYZBXMSwjFUHPNB5RbuP7U+0BCM/Pjc3VzZ74iLBcAb3ESyM4JKt+3Jw2cakSujn6YETXRoUmfCcQTuGYPKhWpUhLAasj9BvRN8BSqQ5c+YIvv3xbMTyPg5bkYSHDtpaKCxQsUCKAJwEpjSHoEMKlx376JKGx2V0BPDhBKsgCD6wfH2AmSUgThUCoGsrIrv1jg7chiX+GjVqZB7utY6POvh1Ig+dj156JfT8sOdrzjhnTxvtbzw8L730krIEQn0we1wwZY+9TFjd6XPDPn1eWNrPJZj2+IknnlBWXTjWzMdepj1fnEc8BYoMPe0qFMFuGY1NFkWSySsciyRcY7wfYYUE81Z82CDQJNw7MM1tpALFJD7IIBi1C7VhirS8UI6bvuFsuxBKWnuaWRkT5KL0K6V44bMxs+z7+ZsE3ECA3zrhXQW0e3oABezwbemrY4h9aGuhUDJdsFEaLKcx+IV2PlTLd30MBoTQgcQ7Nz8PVoR3VZiaBBJDAH1MxOKFhT4GMzEAhk4yJgQyBc8v+qSwVLziiivC7mMiP/SZMHiH9wkGeRGyBcqAZHFrM3nodbY/mkT8l7h/MMEUvHCghMTM3lAK6TYJVnYIFo9vfVgmoc9lCpRP7733nrK069mzp7nL7zrKwqAHPJPg9rl+/XrVHqIPovuUfg+OckdYiiScMJRHuqFGQES4YzzyyCNSr149LxNExMyBKRUefAhchIJ1tKM8lwJ9OKxdtNUNFBbBFEn4CMOfE4KXvBNWE07UxZ4Hpg7GHwT37YABA+xJAv6GxZBT5wZfbvy5XRAoX0s0I7s6D6eWelQov7q2aU5QmCEuFZRJ6BAhLhc6VNoaTqcLdYlYZ/gogpjx1EI93ul0WTmnPLOzLY4426yck7LOM7tbq6pdIs6DB5JArAnYXdviPSAQ6/NzOn8ozt966y2VLb5NMOOqPznvvPPkuuuuU7MI29PA6hf7Q41JhXhMsIJCxxXSuXNnFcOCyiQ7Wf4mgfgQgOcCJu/Btw8E/ZvHHntMxXmEssf+bGKgDB1vDLpdeOGFYVUS/SYEP8Y3Fr710ZfFbMz6fRBWZglMbG9f0P4ECrWRwKrm66LBHe0YLFohuLfuuuuuPNcCfctLL71UWcHhW98uUHB++OGHypoISqdgAutZHcgbxh0YMMZs6tojLNjx0ewPS5EEv3REyteCBw2mgGi4oblFUGCYbEEbh5gcCHYMixPE0EFgbkrsCMDCBe5IUPRhunvFbSIFAABAAElEQVRcGyrufucNc0Foan1Fy/89FdegvdauBUOHDlUNs1uoaIskaNdxPd1gWeOLTTQWSTo/fBANGjRIPvnkE2WuOmbMGLn99tuVslinCXWp3drwoeSG+3/XsQw5nZsdavV9ptt6eD0VST7JcKNbCMC83JRQYkqa6QvaOlzyMVkIBN+PeP9hZmB7pxH7sQ0WRL4Eg5j4CO/WrVtI1rQYFcZU4xgl1qP4GEG2Wzv5KovbSIAEnCWAZxuuPfj2gWDwFbFlEEQfihH0QfE9ZBfMdoztmCU8nEFyWHvD2sn8btODlvYy3Pzb3r6g/XEqbpSbz9tNdcPAL/QhCLANgXv2n/70JxUL2Fc90UdH7GH0TSdOnJgnCYKnf/PNN6ovD0VRIIESCQpX3Mfa4wUBvV2nSIKli30GJ1gcaeUSGmEEioKfHjp6CPqMaPpuiMkR6ALkl30w68SNCSUSAjvDTJtylgAeRvhcI2YSxT8BmAjjpQb517/+5dW4+j8qPnu0Igml4WPDrYokp2jAnRQjFrgm6GShcUIsNN1IhFIOYo7omTXdYI2EOmdmHQml6gHTZGZHn0fAAriTBKIkYDdXD+e5jbLopDsc7rcwyzcFI7tasWRuD2Ud1vMw7w9FcY4Pb3N2zHDdkUOpD9OQAAkEJ4BvdCiRMSiO9yesbBBLRnsSIAAxZrPFNw1cUE3BsXCDO+ecc5RHhq/4o2Z6c91UIiXr829vX+ztj3m+XHeeAKz+Mfjw8ssvq7AUiIsES6Rgrmn4zocBCNzZ9KCvrh3cNhEeCF41MOTRAx16v7nEQIjZJ4rnfRyWRRIUFbBAQhApmBHCJBgnqgUPMrS7Dz74oBpJgmYYZoPRiunf53a3lmjPNZrjoUVH0Dlo7mESijg3+cG0EbOlacHDGmgWB53OXOKBwgPdtGnTiN2DzPzcuO7EMwJO2pXtySefdN29YyqS8B4IFJ8tkdfIyY8SPMsYUUADg4YGLsJ4D4cqumFCnfCB5QaJ0hhJnQLjI7nhSrIOJOAMAbiyYOACgg4g3lXm+95fKbBKwjepXTC6C8X5TTfdZN/F3yRAAi4lAAXRM888o1xL4c2CTvjAgQOtwTN8x6CPiXgziAGDbyJT8K0ESyZYgmCyHfNbzEzHdRJwmgAUd7A+giUY+uIwosG9ayp3fJUJBSBCBCEt+uwIwWIKBkQQtFu7Xpr73LIeliIJ7mswn4LZIFzVMIqEjr3WfOGhRRpEuscyUkG+r776qop0joj8GJHXAm0fopxjpB4CX8AOHTro3QV+idgAsBqDiWevXr3yBKZLBkBQhuEDEVYnUFbiQdKitbcYacSDC7/pYI0FPlDRQGH2tmBpdTluX8biGQEn7ReOuGduY2WaG+PecKuY3PS7MZq6YrpQdLT0iAXc3s4///ygWUKxj/hIEPj9J2r2PVitwt0WwSyx3HNoh5zpcCaq+6tSyZpBz58JSCCRBOwxkhJZFzeXjUEQ3SFEMNIePXrIm2++GVKVZ82apTqeS5cu9UqPGYvwfYB2MhzLBK9M+IMESCBuBBAjDf07bYUIZdBtt92WJ+A+3hGIgwT3VQTjtsuqVavk3XffVWEZ0B8qqML2J3ZXfvHixQIDB/zBnQ0GNRjkhSsaBG0aBjiwLd3jmtm2bVsV5sdeI3yjQ3mEb2MIBsftiiRsx72OOEq4prB0wnHoD8FSKVHf9aiXlrAUSfogmAHjZPAXC9GjUzDjwksDf3ipaIEiCR8QEB2MTe8r6Eswg/YSiiS8UPFBBmucZJJ//OMfstlj9YZOOLS5ZhA5NDZQMkKLi4fp8ccfD3hqGJmEggRTL7rFIiNghUPc6fQzgg95PSK8cOFCFe8sxKrELZk5Ql2QFEm41zEC98477ygXN8ScgzJJB5H3dwEQo05zQkMWL9GKIzzD+LM3jB5HEknNLCm5pU5EXKWmldpFfCwPJIF4EMDHpinBRibNtAVpHW67sEKAoK3HqG6ogpHcPn36qCC89mOmTZumBhkRK4lCAiTgXgJQ/OJ5/eKLL1Ql4cKGUCrwIvAl+P5BsH10wn31ARFiBcGO0YmvUqWKryzy3TZ7+2Jvf/LdCSfwhJ577jlB2AiE8EE/FOF8cC9qwW8okqAYhaLnkksu8Tl5BI6HLuPtt98WPAP+4hmhjNmzZ6vZl6EPgaA/9NRTT0nHjh11sQlbRqRIinVt4Y6lAx1idN/uymRaQblBGxdrHuHmD4swBJyE4gSxkmDRYCriws0v3ulnzJihHk6Ua7/+5rUPVi8oohAwGtZLUKgF8i8Nlpfb9jv5jIAp3ACgAMALMp5Kh3C4WoqklDNy8Ng+pWg0rX/CySvZ0sJFGJaGGGlDIzVu3Dg1WocPKlNyz+TIiexMKV44zfK3RsPj74PMPDbS9WCKI50vFGJwd8bH3akKLWX6ro/0rrCWLat0lvIlCsbHYVhgmNhVBOB6YQraZYo3AbTRGM3VLriwZMf7IVRBesxmiZFc+wg8RnERbwXWC/ZvyFDzZzoSIIHYEkAnGc/pa6+9piw8oPh54IEHgs66iImdMEAM7wUojkxBp3z8+PEqPi8C6Zsx0Mx0+Wnd3r7Y25/8dK6JPhd4bmCgFt/f6IOgHapataqyEkJ/CvcflrCKxV+goOcHDx5UbpqwnNV/uF/t9yyUTvjWhhEBLG0xu6hbrG1dqUhCh9/eQUr0jZNs5bds2VK5hfXu3VvdxHAPc2tMGTtb+II6IXjA8TKFCaATsbqcqJNTeTj5jECJBEuvmzzxJBDfzI0f3buOZsjsLZPkeDvPTEjFs2XS0V/lm+9el1plGnlm7+osnWv1lqKFI3endeq6IB9TueWEa5uuGzpMV111lQq6DXNaxALATG65qVmKzYq982XPsa1yxvMPkpJWTFLqlpEWlS7O0yjpPCNZojGDpZH+Q0PpS0zFETqHUCJhGyT3jCcw4anFsungSl+H+t1WvHBJ6dt4mN/93EECbiUQjbu/W88p2nrhgxvBRCGwcL///vvDzhLhDTBY9tFHeRXTcHmD2wBms6GQAAm4iwC+j2CFgQHvtWvXKisLxJa5/PLLgw784hsYIVauueYaZR1in8URvzFrFfo9wQIeu4tKZLVh+xIZt0iOeuONN5S1v7YOwr0IhSiWEKzj3taxa/3NuIbjERsJVkU4Vve90IfQ67p+2ogCeWMd97VbDERcqUjS4LiMnABuQsSRghsMzOpgMl4QA5VTIRn4HkIDi5FbjAC98MILjiocApcc2t6c3NMyYc278vPWb88qSAxdEZQRWw6vUX8zN38p17Z8UJpUip8Ll78ziJUiCeVhBkx8aCGOAEYy3p70nOyvuEayck7mqU5uiVOSW3OvLC40TipvKi7d6l2ZJ00oG8JRHKFhg9IIVoCm4sheTkqhFLnhnD/JG/P/LPuO77Tv9vk7tVBhub71/0mlktV97udGEnAzAXxYmu8GN9c1XnVDjAlYIkAQXBcKoXAFM9X6m+4brjJwf6MiKVyqTE8CzhPAgCVceaBAxh/cWhEHddGiRaowWF1A+Ys4qRg4w7eEP2sOuBbBfQjfJ7DM0K5dyEMLLJ3gNoTBLvSB0LFHulatWuWJvaSPSdalk4OWycogXvXG/eOEoJ+O+xJ/ySxUJCXz1QtSd9yk6HSiwzl8+PAgqbm7IBLAyM/TTz+tYkngfnGTnPZM7/Xuoqdkw8HlQat1LOuwvLd4uFzd4h7pULNH0PSxTGB2FmPRuMNVA6N4i49MlZ3l9niGPwKfTc6Z0/LNutGy/8ROGdj87sCJPXsjURzhgw/ultriKGghngSlipaVezu+IJ8ue1lW7zv7IenvuHLFK8vQ1o9KnXKN/SXhdhJwDQE892h3Kd4ENmzYoGI9YCQWAxjoMGpBxxBTe8NkH0qlrl27KoW03m8uoYDCRAIIgYCOIeJBYkQenVO7fPPNNyogKsIgoJMZKF/7sfxNAiTgHAFYHK5cuVJZa8CyAm76pkUzFD2wTIIlEUIZ4Fn997//nacCeM6nT58ur7/+unq2oaDS1h/2xJiwCe8dvHPwXoaHwrPPPqveM/a0+ek32h+cr/k9mp/Oj+fiHgJUJLnnWsSkJniJwATuxRdfjEn+zDS5Cdxzzz2uPYHxq0aFpETSJ3BGcmXcyjelclotqVuuid6cL5d1OpaT+as8SqQwZN62qVIlrbZ0rTvA66h4KY68Cv3tR8kipeSWdk/Iuv2/ylyP1dm6/b/IqZyzQbg9xr1KcdSmWlfpWKunFE4p4isLbiMB1xHAB7w526jrKpigCiEwLgKQ+hLdOUQHEdYIUErDstGXgO2oUaNUgF5f+81tsIDQk7NgOwbVMHmBW+JLmHXlOgnkZwKYtRUuZ4iDhL5JmTJlvCZ2gcsO4r/AUgkxz3wphsEH71fsxyQxCFuBfCBQKvuKLQOFFfLFtw6UUwUhti7ekVQkqduC/8WYABVJMQbM7EmABMInsPXwepm/fVrYB8L65qvVo+T+TolTnJojQGjInZZTp0/I5PUfRpTtlPUfS6PS7WTfjoOy+bc4R+aIoJkpOnLaVS0SiyMzr2DrjSqeI/iDHM8+KrBGSytSVlJTzvqcBzue+0nATQTMd4Cul69tel9BWfbt21dZG8DiSHckYQkLpQ46kQi8jT/sDzTLKmZ1ateuncycOVN1CmGNhE6kjllh8kRnFB1JuPajg4r3mtusb836cp0E8iuBDz74QFkQaWWPjimjzxffS7BUwh/En8IHzzkmH+nRo4d6lvXzjHeKXtd56tgyWOIP75b8OJObr/bF1zbNhUsScIoAFUlOkWQ+JEACjhGYlfFVxHltO7JBNhxYLg08M4MlQszGOxaKpMU7Z0hm9pGITg2xlF4bN1yKbq+W5/h4Ko7yFG5sKFmktPGLqySQfAR0R0jXHDPqmO8Fvb2gLZs3b64sEqI9b3QG4SYTSXDuaMvm8SRAApERcCpWGZRFCGDsL4hxZLVL7qPQvqCdMV2q0Q7hu45CArEkwDsslnSZNwmQQNgEEER79b7FYR9nHrB638J8q0hatXeheaphr+dW8CihPIoktyiOwj4BHkACLicAqxpT4KpFIQESIAESSB4CiNOUTIJ2xlQkoR1yahbsZOLAusaXABVJ8eXN0kiABIIQOJbl8Y0/nRkkVeDdezO3B06QxHv3RHluqaVzVFDbcINjJzEyVp0E4koAsThMKYgzpprnz3USIAESSAYCUMTowN3J9t621xftEBVJyXDXOV9HKBHtltHOl3I2RyqSYkWW+ZIACURE4OTp4xEdZx7kRB5mfuGsmy4ssXBti1bJdlqy/AaxDec8mZYESMA3AXvsD9+puNWNBOL5Ae7G82edSKAgEUAMtbFjx6oYaghQ/e2338qOHTsUAiwxs3HPnj3VBACwUBoyZEjSuCmzHSo4dzLu4zFjxlj38Y8//mi5kWNG1Ouuu07dxwhMj5kLhw4d6th9TEVSwbnPeKYkkBQE0oqcnYEjmsqmFY0+j0jLj7UiqVTRsiogdaT1SySbSOvM40ggmQlwhjB3Xz3MJrdr1y5Zv3694AMc6xB0JAcNGiQXXHCB6kjiOg4bNsyxD3B3U2HtSCD/Ezh69KjqgC9btkygKMIzXqNGDevEd+/eLW+99Zb6jdkeEeTb/MazErpghe2MCy5CgqqA+xgK0aVLl6r7GLMZVq9e3aoNJtd56aWX1G/cx9dff71j9zEVSRZmrpAACbiBABQd5YpXlkMn90ZcnWKnykZ8bLQHmh8ZsbBIqlmmgezJ3BZxNXE8hQRIIHYEjh/3tqrs0KFD7ApjzlER2LNnj4waNUp9gOupxOH2qwVKpffee09NpY1OJN7p5jtep+OSBEgg+QhUrlxZvv76a/Vc69qbz7f5DYcg3/ZZ4fQxbliinVmxYoVVFXs7ZO3gSr4jgPv4m2++8bqP/Z0k7m8n72MqkvyR5nYSIIGEEWhZpZPM3jIxovLR8C//YbOc2TRW+vTpIzDlzE8CNkt2zoz4lHA8hQRIIHYEVq9e7ZU5pqqnuJMApgKfPHmyOyvHWpEACcScQH5xAUM7M3r0aIsX2qFGjRpZv7mSvwk4qRwKh1RKOImZlgRIgATiQeCi9CukcEqRiIoqdqiipJwoLqtWrZIRI0bIvHnzJDc3N6K8IjnI32hWJHn5OqZFlY5SuWQtX7uCboOlV/sa3YOmYwISIIHICcBFypRTp06ZP7lOAiRAAiRAAo4SsLcz9nbI0cKYGQn8RoCKJN4KJEACriNQtnhFGdDklrDrVbpoebn7kr9Ly5Yt1bFZWVlqtPk///mPFUAx7EzDPCDWiqTdu3aLrKgqklsovJqdEam6v7WcyQnvMKYmARIIj0CxYsXCO4CpSYAESIAESMBBAmyHHITJrPwSoCLJLxruIAESSCSBzrX7yMX1BoVcBQShvrndX6RGxToqQOoNN9xgTX2KoKnvvPOOmpHDPmoTcgEhJoylImnx4sXy7rvvSubOHCm6tq4UOpMaWq3OFJKi6+vI1l/3q+MPHToU2nFMRQIkQAIkQAIkQAIkQAIkQAI2AlQk2YDwJwmQgHsI9G40VIa2flTKFqsUsFJNK7WX+zv9W2qVaWila9Cggdx1113StWtXgQ88Yif9/PPPMnLkSLHHMLEOculKdna2fPXVVzJhwgQ5ffq0CpTXp/3Vcn/nF6R2mcA+8NVK1ZVbWj8pjUq1V2eH4LEILpuRkeHSs2W1SIAESIAESIAESIAESIAE3EyAwbbdfHVYNxIgAWld7XxpXuU8WbZ7jqzet1j2H98pp06fkFLFyiklSquqXaR22d8VSCayIkWKSI8ePaR169YyceJE2bJlixw5ckQ+/fRTadKkifTt21fKlnV+hjdYJUFxZc74YdYrnPUDBw7I//73P2tKaswshCmp09PTVTb3dXpB1u3/VVbsmSc7j26WzOwjUrJIaalaqo40r3yuNKnUTlIKpUjjG86RKVOmqJhRmM0DQRlx/pxRKpyrwbQkQAIkQAIkQAIkQAIkQAJUJPEeIAEScD0BBN5uW/0i9RdJZTE15s033yxLliyRadOmyYkTJ2TNmjWyadMm6d69u3Ts2NHR6TCdUiTBcmr8+PFy8uRJddp169ZVSqTSpUt7YWhU8RzBXyDBjA6Yxa5atWoyadIkycnJUcudO3cqhVJ+mbkkEINY78vOyZIiqUVjXQzzJwESIAESIAESIAESIIGEEqBrW0Lxs3ASIIF4EYByB9Oj3nvvvcpCCeUiGDesdODqtX37dseqouMkRWqRhFnmvvvuO2U5pZVIXbp0kWHDholdiRRupdu2bauUarBsgixatEhZJx07dizcrJjeRuDz1W9Jdg5n6LJh4U8SIAESIAESIAESIIF8RoCKpHx2QXk6JEACgQmkpaXJVVddpZQyFStWVIkRNwgzu02ePFliHYw7cO1EoND58MMPZfbs2SopZt649tprpWfPnirWU7DjQ9lfq1YtueOOO6RmzZoqOVz+EIwc1kkFTVbuXShfrH5HMg6vjerUD53cL0t2zZY526dGlQ8PJgESIAESIAESIAESIAG3E6Aiye1XiPUjARKICYH69eurYNwXXXSRFYx73rx5MmLECFm5cmVUZUZqkQSFzttvvy2bN29W5VetWlUpfJo1axZVfXwdXKZMGWWZdM45Z13iDh8+rGZ0W7Zsma/k+Xbbz9unyVyP8mfEwr/Is3Puk2kbP5P9J3aHfb5Lds0ST1Qs+WHzeMnKOeuKGHYmPIAESIAESIAESIAESIAEkoAAFUlJcJFYRRIggdgQKFy4sIqRhNnddPDqo0ePquDWn3zyiRw6dCiigiNRJM2dO1c++OADQfkQKHhuu+020VZTEVUkyEE4/yuvvFJ69eolqDNmhBs3bpxyq4N7XX6XY1mHZc2BX6zT3H9il0zd9D+PQuleGbnwrzJ321Q5nh2ay9+iXTNVPgh2PnvrZCtPrpAAgv5TSIAESIAESCBWBNjOxIos8w1EgMG2A9HhPhIggQJBoFKlSnLTTTdZwbgxq9natWu9gnGHE4w6HEUSXOm++uorywoK5SAodjxnU+vcubNUqVJFPv/8cxWIHG51u3fvloEDB0rx4sXz7T3wy+6fJPeMb4XZ5sNrBH9frX1fmnlmvmtfvZs0rdhGEPjdLtuPbpLdmduszTMyJkiXWr2keOGS1jauFFwCjRs3LrgnzzMnARIgARKIOQG2MzFHzAJ8EKBFkg8o3EQCJFAwCSAQNYJxa3ev7OxsmTp1qgrGvW3b74qCQHRO52bL6bSjcrrCIdknGbLraIbf5Hv27FF5a1e6cuXKya233hpXJZKuXIMGDeT2228XzHAHWbdunYqbtG/fPp0k3y0RDD2tSJmA55Vz5rQs3ztfRi99XobPusMTT+k/eeIpLdp51hpJZ3Ti9DGZteVr/ZPLAkYASmhTmjdvbv7kOgmQAAmQAAk4SsDeztjbIUcLY2Yk8BuBQp4P6TOkQQIkQAIk4E0AcYomTZokWpECKyNYCfXo0cOnlc6+4ztl2oZPZfmen/PM3FWmWHnp6LFQ6Vr3co+VSglV0NKlS2XixIkCZRWkUaNGKgh4iRJn96uNCfgPFlJffvmlrF69WpWOYN+DBg1S9UtAdWJeZE5ujnJvgzJo5b6FAkVgKFKpRDVpV+1CaVPtAnlj0RMCNzlTiqeWlMfOHykli5ydHc/cl4h1uCoeOXJEDh48qO453M+412CJVrRoUZ9VgmXegQMHVFB2bWXnMyE3ehHo1KmTIN6alk2bNkl6err+6djSvCZOzjrpWAWZUVwJ6MkTUCg/7eOKPmhh5rOajNfGrP/evXuDni8TiDUoBxbxuOb4Zq1Xr56FvmPHjvLzzz9bv7nyOwHez7+zCGVNDzAjrf1epiIpFIJMQwIkUCAJIGYQ3LxmzZolOTk5ikGpUqWU61mLFi0sJj9vmyLjV43yuEmdTWPtsK2ULVZJhrb+oyyfs04WLFig9qJB69atm1x44YUqTpHtkIT8REMxY8YMmTnzrKUN6ggF2gUXXJCQ+sSr0BOnM2Xp7rmyaNePsunQqqiL7ZF+lfRuMDjqfCLNAPfs8uXL5ZFHHpHp06f7zAZKpC5dusgrr7xiWeIhIRQTzz//vCxatEjGjh1rzfCnM0EsLwSHP3HihN7ktYSSqnr16lKhQgWv7b5+oGOCP9xnqA/+UlLOGkzjHLKystRfjRo1BFZ7kB07dggs+vCM+pKyZctKnTp1BIrQYLJx40aB0gwxJpDejDUBRS/Kh4K1VatWwbJS+9u0aSO//vqrlZaKJAsFV2JIgIqkGMKNMmuz42rviEWZdVwON+tPRVJoyAN1vkPLIbxUdkUSLOt/+eX3GJDh5Za/U/N+Du/6BrqXqUgKjyVTkwAJFEAC+/fvV9ZJ6BBqgQVR3759ZdnhH2WSJ45OqFIoN0WKLWskKZklpGTJkioOEdzK3ChwuRs/3jMLmacjDWnZsqVcfvnlXh1tN9bbiTodPLFXKZQWe5RKe4/viCjLoqnF5fEuIyWtaGD3uYgyD3AQOiq4V6Gg3Lp1q5US99tll10m/fr1U0HcYXX20UcfyeLFi5UCpXfv3vLZZ58phc7kyZNV2q5du6ptmEHQFCiXrrvuOnNTnnW4ab744osCpU4g+eMf/ygvvPBCoCRq30svvaQC0JcuXVpZ78FyLpBMmDBBBZL3Z3Glj4XCyeSkt9uX4NWkSRP75jy/qUjKg4Qb4kCAiqQ4QI6wCLPjSkVShBCT7LBAne9YnAoVSaFTNZ9HKkaDcwt0L1ORFJwfU5AACZCAIgArgylTpijrBWwoVP6kZDZd41kJz0O40Kki0mBPD7l20OCgnexEo0fQ7TFjxlgz2MHKBAqEYMqBRNfbyfK3Hlkvi3b+KAjOjVnZwpGL6lwm/RvdEM4hUaWF0u+1116TRx991MoHM/+NHj1aKT7NDygkgMsbrJZ0sPl27drJ448/rmKF7dq1S/wpkmApBIsgWCVlZmYqi6dRo0ZZrqC68Icfflgpk/RvX0tY/UDxhfsMMxfig9iUYcOGCf4Qw6x8+fJK0QULIaSDkhcue6+++qrM8FjRnTx50jxUuZidd955XtvsP2BVBVfTl19+Wbl1asWpToe8oZRDDArMdBhMqEgKRoj7Y0GAiqRYUHUmT/O9S0WSM0zdnkugzncs6o720HRto0WSf8rm80hFkn9Oek+ge5mKJE2JSxIgARIIgQBcYKZNm6ZmeDvZaq3klj4ewlF5k1xS7zrp2SiwRUfeoxKzBecMSxVtkZWWlibXXHON1K1bNzEVSlCpKp7S/iXKUinUeEpFUorKYx6rpNLFzrpkxbLqUIhccsklMmfOHFUMZty75ZZbZMSIEUr5EqhsxEJ688035a9//atXMn+KJK9Enh8Izv6vf/1L3n/f2zoP7mB/+9vflOWd/Rhfvw8dOiQPPPCAfPjhh9KzZ08ZPny4BFMEIR8ExX/ooYes2Q913ldccYVSMsHqKBTZuXOnUhihHvfff7/8+9//DtsCj4qkUEgzjdMEqEhymqhz+ZkdVyqSnOPq5pwCdb5jUW8qkkKnaj6PVCQF5xboXj4bhCB4HkxBAiRAAiTgIQD3ILh3XTa4V8RKJIBcuPO7pOGJcx46dKggeCMEFiiwcFm4cGHAc0Dg6kMn98mJ7GMB0yXLztSUVGleuYPc0OphebLrO1KpRPWgVc/OzZLvMwK7YAXNJIQEUCLBWkwrkaDsg1vZyJEjgyqRkD1iGWHGQsRKikQQqwiWPFAumrGEli1bJnCT00Hrg+WNGEgIVo18BgwYoKyQgh2D/bBQgpVU586dveIywTUTcZ6wPxQBwz59+ijLo8ceeyxsJVIoZTANCZAACZAACZAACSQ7ASqSkv0Ksv4kQAIJIXCs2J6oyoWCZU/m9qjyiOfBqampqoMNJRrW4RKFWe3whw68lpOnT8j0jZ/JK3Mfkse/u1qe+fE2+dsPQ+XvP9wgY5a9LFsOe0+Nro9LtuUpz3nuP7ErpGr/vH1anlndQjowxERwDRs4cKAcPnx25jgEi4Ylzt133x1iDmeTwV2xf//+SoET1oFGYlgR3XHHHcYWkXfffVdZ9nhtDPADLmww0YdFlRn4OsAh1q5//OMfYgbCx46rrroqj6WSdYCPFSiwUC6UcRQSIAESIAESIAESIIG8BKhIysuEW0iABEggKIGDJ6NTJKGAQyeizyNoRR1OgE4+4ulg9joIrJLghgQrpZV7F8izs+6QKes/lh1HN3mVfDz7qCzZOVNGzPujjF3+qmTnhGYh4pWJi34s3jVLznj+BZLCHre2c6t3l3s7/FNKFQ0ccDpQPoH2wU0CMwvC6kcLglEj1lAkUr9+feUiFsmxOAYm4wiy/cwzz3hlMXHiRDX7m9dGPz9g2QQLJ5xbuG4gUHIiyLbdHQ5xn0IJqI0q6Znowi3bz+lwMwmQAAmQAAmQAAnkOwJUJOW7S8oTIgESiAcBxMuJVnLORJ9HtHWI5PjatWsrqxMdkyMjI0Ne+d9TMnrJMwKFUTBZtOMHeXvhE0mtTFrkmc3Nn5QvXkX6NRwqT1zwllzT/G6pWbqev6RRb4c12MUXX2zlU6JECTUDWihBoa2DjBUogjAj4Z133mlsDW8VlkS9evVSs77pIzED4HfffScI3h5LgfIH7nGIs2TGRfr2229lwYIFeYJxx7IuzJsESIAESIAESIAE8isBKpLy65XleZEACcSUQJli5aPOv7QDeURdiQgzKFOmjLJMwswguaUz5VD1tUEtdMyi4OL22YqR5qakWd92ZKPHLXFbnvo2rtBabm79J/lzl9elW93LpWSR0nnSOL0BQdBNwVT3sBiLRmrUqKFc46LJA7O/IdYQFFta/vOf/6jA3/Gw9BkyZIg0btxYuWHq8uH+t379ev2TSxIgARIgARIgARIggQgJBJ/HNsKMeRgJkAAJ5GcC9cq3iOr0ihdOk+ql0qPKI9EHI47MlVdeKau++1ZO5oZfm188Vj2daveS+lGyDL/k6I5YbFgjFUstIR2qd5Pza/eWyiVrRJdxmEdDIQOFiRa4dXXp0kVSUqIbI8LxiA+k3Rd1/uEub775Ztm/f7/XTHBjx45Vs6INHjw43OzCTv/FF19It27dZPHixdaxCCj+0UcfSa1ataxtXCEBEiABEiABEghOALPDxUvS09PjVRTLiZAAFUkRguNhJEACBZtAerlmUq54JTUrWSQkWlftIpgFLNll48EVcig3cnelWRkTkkqRBJfGJbtnS5W0WnJ+rd7SvtqFUqzw71Y38byeBw8e9CoOir3bb7/da1ukPypWrKjiDCGQd6RSrFgxFbwbs6Z9+eXZmevWrVsnM2bMUAoezJAWS0GsKMy89sgjj8iWLVtUUTNnzpSff/5ZBRRH/SgkQAIkQAIkQAKhEcBEGPGSNWvWKMvieJXHcsInQEVS+Mx4BAmQAAkoJVDPBoPlfyteD5sGgjD3qH9N2Me58YDVexdFVa11+3+VnNzTHp7J0Rwdyzok17d4UBpWaBnVeTtx8LRp07yygUVS9+7dvbZF+gMzuLVs2VKWLFkSaRbqOLg+9u7dWymPtOJr1KhRAve5J554ImrrqWCVGzRokIwePVp27dolCOINufrqq2XVqlXStGnTYIdzPwmQAAmQAAmQwG8EEIMwHnLo0CGpXLlyPIpiGVEQSI4v9yhOkIeSAAmQQKwIdKjZQ9Z6FCFw0QpHBrW4R8qXyB8N5N7j28M59Txps3JOypFTB5OGR9niFQV/bhC4aJmCQNlQADkhCKT+4osvCiySzDhHkeSNmE1Q5Pztb3+zDsescpgh7oYbbrC2xWoF7nSdOnWSZcuWWUUMGzZMxo8frxRa1kaukAAJkAAJkAAJ+CWgB4T8JuCOAkUgukAKBQoVT5YESIAE8hK4usW90tbj3hSKpBRKlaua3yXtql8USvKkSHPq9Imo63nq9PGo8yiIGfiazt7JQNaY+S1aJRKuCwKAI5YWgl1rQZyFH374QbCMtZQsWVKefvppr7hImMFt+vTpnMUt1vCZPwmQAAmQAAmQQL4kQEVSvrysPCkSIIF4ESiSWlQGt35Yrm35gGDad3/SoHxLuee856RTrV7+kiTl9lJFo7eASXMgj6SEV4Aq3apVK7n44ovFNIt///335eOPP5acnJyYk7jsssukRYsWgjhSWmCVhNhJTirfdN5ckgAJkAAJkAAJkEB+JkDXtvx8dXluJEACcSPQvkZ3aeuxNNpyaI1sOrTS4651QAqnFFHKpcaV2kqlkrENLBy3E7UVVKtMQ49r3yzb1tB/li1WSUoXi4/Pfei1YspYEEAgcLi4DR8+3Mp+5MiRylLoxhtvtLbFagWubO3atVPxkXQZV1xxhXz//fdSrVo1vYlLEiABEiABEiABEiCBIARokRQEEHeTAAmQQKgEUgqlSHr5ZtK93kC5vOnt0q/xTdKlTt98q0QClxZVOkohz79IpVXVTpEeyuOSjACsgYYOHSqDBw+2ar5z507BTGobN260tsVqpXjx4vLGG294ubgh6PbkyZPp4hYr6MyXBEiABEiABEggXxKgIilfXlaeFAmQAAnEh0DFktWUJVYkpcFi66L0KyM5lMc4SCAU1y6kCSVdsGo1btxYLrzwQqlataqVFC5u48aNi4uLW7du3aRDhw5SrFgxq/xbbrlFWUo5cX5WplwhARIgARIgARIggXxMgIqkfHxxeWokQAIkEA8C/ZvcLOWKhz8L3WVNb3PNDGjx4OR0GUOGDMmTZW5ubp5tvjYgHQJOY6a3lJQUtcS6vz+kueSSS2THjh2+sgtrG1zcoLwx5ZVXXhHMrhYPQTm1a9f2Kqpfv35y4MABr238QQIkQAIkQAIk8DsBf98Isdi+d+/e3wvmmisJUJHkysvCSpEACZBA8hBAwO1b2j0hiHcUqlza4Lp8F3g81HN3Kl3btm29soJyaO3atV7b/P2A9Q2UQz169FCuZn379pXSpUv7TI6Z25o1ayZt2rSRUqVK+UwTzsbU1FS59dZbvVzcoKCaNm2arFu3LpysIkqLWeRGjx4t1av/Hrds5cqV8sUXX8ipU6ciypMHkQAJkIDTBOAGjA56p06dZOnSpU5nz/xIwNUEMjMzXV0/Vk6EwbZ5F5AACZAACURNoFqpOvJAp3/LV6v/I7/unu03v/IlqsiAJrdIyyqMjeQXUog7MAuaKadPn5YJEyZI8+bNzc0+16HMad++vXz33XfW/uzsbJk6dar079/f2oY077zzjtiVVlaCCFcaNGgg3bt3l9mzZ8vWrVtVLh988IG0bt1azjvvPClcOLafJ126dJGLLrpIEID75MmTqvw77rhDoFBDLCUKCZAACSSawKeffqqqMG/ePPnkk0+kUaNGAsU+hQQSRSBelrv4BvA3uJWoc2e5eQnE9kstb3ncQgIkQAIkkE8JlPLMvnb9Of8nlxy7VpbtniNbDq+VY1mHpGhqCRVwvEmldtK88rmSmpK8Tc/Bk3tl1b5F0q7aRVK8cGI/6GFRBJesr7/+Wt1RUAS9+eab8uc//zmiOwzBsDF7Gf4wuxokLS1N6tSpE1F+wQ6CVdL69evl+eeft5IiGPbu3but37Fc+eijjwQKrYyMDKuYq6++WuIxg5xVIFdIgARIIAQCH3/8sTz88MNUJIXAikliR6B8+fKxy5w5Jx2B5P2aTzrUrDAJkAAJFAwCVUvVlqqlrs2XJ1veEwvqxy2T5Jv1H0uH6t2lS61eUiWtZkLOFS4PI0eOtBRJcFc7ePCgbNmyJWLlDyyVTPc15AlLp1gIFGF33XWXskgaM2aMKgKKpeeee06t+4oB5WQ9cK6ff/65Usbt2bNHZT137lzBH4UESIAEEk2gXr16snnzZuXetm/fvrhMSJDoc2b5JEACyUOAMZKS51qxpiRAAiRAAi4g0K7ahXIq56T8tG2yvPDzgzJqyXBZsXeB5J4JLdC1k6dQq1Yt5Y6l80RMgcsvv1z/dP0yPT1dLr30Uqlfv35C6ooZ3OjOlhD0LJQESCAIgWeeeUZNTHDllVdKyZIlHZk5M0iR3E0CJEACIROgIilkVExIAiRAAiRAAuJxa7vQC8O6A0vlg6XPy7Nz7pUfMsZLZvZRr/2x/KGtanQZCLi94f/bOw94LYqr/x967x0ELoKCoFRRogSxayT2XiImxkRjjDFRE2PemGjim2LU/DV2o1GJir1r1CAWMDQbKk2aSu8d7oX//a7vPO7d+7R9evkdPpfdZ3d2dua7ZXbOnHNm3jybOHGi2xRquXHjRs/dLNRBaSYeO3ZsxpRfWGmFlXvuucfatm0b9jClFwEREIGsEjj99NPt7rvv9lzamGkylfdbVguozEVABMqagBRJZX35VXkREAEREIGwBNo37Ww9W+1Z6zDiJ+Hydt1bP7BHPv67fb7+s1ppsrGB4NDvv/9+JOsNGzbYSSedZCiFwkg6bmwExmQ2NAJXh51phc7R5ZdfbmeddVaY4tZI26hRI0Optm7dOiNWVBjBxe61116zdu3ahTlMaUVABEQgJwRmzpzpvd+yPQlBTiqjk4iACJQMASmSSuZSqiIiIAIiIAK5IjCsOth2LKncucOmLvmP3TzlSrtlyq9s+tI3rWpnduIMUQYUMQMGDLBHH300UiTiaeAuhmIlWSG20p133pls8hrpCFg9bdo027Jli61fv77GvmR+dOnSxY444gjbc8/aCrpkjmf2N+IcMaPM9u3bkzmkRpp+/foZgbZRSElEQAREoFAIbNu2zWbPnm2jRo3yJj8olHKpHCIgAiIgRZLuAREQAREQAREISWBQp29YvTqJ56tYuH62PTXrHtu+c1vIM4RLjjUOcTTcdNEcvWLFCi/o9u23354wMxRPuFC4oNcJD/i/BLjSvf7663b11VfbBx98YOPHj7fzzjvPpk+fHjqexznnnOMpk5I9N+mwPrr++uvtrrvuMurATHB/+ctfvLqHyYe0zBjXsmXLsIcpvQiIgAhkjQDWps8884x94xvf0IxtWaOsjEVABFIhIEVSKtR0jAiIgAiIQFkTWLN1pbVqlFxcnYN6HGtN6jfLOi/cHk499VRbUD3LD/E0EKyDmBmNGEAolLBQwoUNYcn+Bx980AYOHGjXXXed7bfffrZkyRIbN26clybWf5MnT7aDDz7YWrRoYYceeqi9++67kaSvvPKKDRs2zFq3bm3MvDZ16tTIvngrWFb9+te/9o6Jl459N954o/Xt29cbob/qqqts6dKlkUOuueYa69ixo3Xt2tV+//vf26pVqyL74q1wfmZsa9WqVbxk2icCIiACOSGAq/Dzzz9vvXv3NiYG4B0lEQEREIFCIZB4OLVQSqpyiIAIlDwBZr3auavK6tdtUPJ1VQWLj8C6ratsxrK3qt3W3rBlmxYnVYGmDVrYyO5HJ5U2E4noaPTs2dM+++wzTylC3KHFixfbmjVrPIUSSqVogkvXscce61kkMTsQ1k0PPfSQ3XHHHRYtLgdxmZo1a2aVlZWe0oZjnOCKgYsbyy+++CJUrCYUQCifZs2a5XWaYnWc2rRp402FTVwmjmnQ4Ot3BrGhKBcWWcuWLfPWXdkSLemw/fKXv7Tf/OY36rQlgqX9IiACWSXwxhtveJaixJDjvS4RAREQgUIiUKd6RPKroclCKpXKIgIiUDYElmxYYJMWv2SzV82wNVtW2C7b6VlvVLTeywZ1+aYN7jzS6tapVzY8VNHCIrCtcot9uOJdm75kos1d81H1/RmuyTymzzk2uuexeasUTTwuX4xq4x5BHCOskHCF69Spkxd34/jjj7eDDjrIUA5J0icwePDgGsHP58+fbxUVFelnHMghlpItkEw/RUAECohAmG4XCvoxY8Z4Sn2/sjzX1dG7Jj3iYa55qmfCErlXr16RwwcNGmTvvfde5LdWviag+/lrFmHXgveyLJLCElR6ERCBjBDYUbXdnvr0Tpvyxau18ttSuck+WTnV+3v9s/F21sCfW5cWFbXSaYMIZIMAVnFzVn9o06qVRx9VK5F27AwfvJlytWjY2g7Y7chsFDHpPPlg6tChg40dO9b7S/pAJRQBERABEcgrgc2bN+f1/Dq5CIiACMQjIEVSPDraJwIikBUC2yu32h3Tfm2L181JmP/yTZ/bLf+90s4bcrX1abtPwvRKIAKpEviy2jpu2tKJNqN6lrUN29cmlU3Deo1te9XWqGkPqTjBGtbTLGBR4WijCIiACIiACIiACIhA0RKQIqloL50KLgLFS+Dhj25KSonkarijaps98N4f7SffuMHaNunkNmspAmkTWLdttac4wvpo6aZFSeWHq2XfdoNtWOeDrH/7YXbDuz+zVVu+DvZMJi2rA3GP6HZ4UvkpkQikSyBobp5ufjq++Aj43TWITSYpHALdunUrnMKkWRJiz0kSE8ASWFL4BHQ/J75G8e5lKZIS81MKERCBDBL4dMU0+2j55NA5bqncaC/Mvt/OHnRF6GN1gAhEI/DC3IdswsKnk457tFuL6plzuhxkgzsdaM0afj1N/NDO37R/zx9f4xSHVZykoPE1iOiHCIiACIiACIiACIhAqRCQIqlUrqTqIQJFQuCNBU+mXNIPlr1jq7csk1VSygR1oJ9Ax2bdEiqR2jTuYCiKhnYeZaSPJuzzK5I4Zr+uh0RLqm0iIAIiIAIiIAIiIAIiUPQEpEgq+kuoCohA8RDYsmOTzV/7cVoF/mTFVDuwxzFp5VHuB3+5Yb7NX/Oxbdi2xurVbWAoPvaodtVq1bhtWaHZp8P+9mTdu237zm016t24XlMb2Okb1a5ro6xX9eyBfpeRGgn/70f7pp2tolVfW7BulrflsF4nV3NV8xqNVTlsa9OmTTlUU3UUAREQAREoUAJqhwr0wpRYsfSlW2IXVNURgUImsGrLEtu5a2daRST4tiQ1Ah8tm2wvzX3QYjHcq8NwO3qPc6xz8x6pnaDIjmpUv4kN6LCfzVj2ptWtU9f6tq2Oe9RltBf3qEG9hqFqg1USiqR2TTp7sZNCHazEJUVg5MiRNmHChJKqkyojAiIgAiJQPARohyQikG0CUiRlm7DyFwERiBDAIildyUQe6Zah2I6v2llpT316p737+Stxi/7Jiik2Z9V7dnL/H9nQrqPjpi2VnQd2P8p6tOrjxT1q3rBVytUa1OkAe3r2P+zwXqdUWyPVSzkfHVj8BLp3716jEnPmzLGKiooa2/RDBERABERABDJFgHbGL8F2yL9P6yKQKQJ1M5WR8hEBERCBRAT8AYoTpY21v4FpOvVYbGJtf+KT2xMqkdyxlTt3GLPqfbhskttU0suerfa0kd2/ZekokQDUtEFzG93zWBvSWaOAJX3DJFG5ysrKGqlmzfrK5bHGRv0QAREQAREQgQwRCLYzwXYoQ6dRNiJQg4AUSTVw6IcIiEA2CXRo2rV6JqtwLkPB8nzw9mx77LHHbNGi5KZqDx5fbr9nVE9rP+WLV0NX+5GPbrZ1W1eHPq6cDzhy99M9F7lyZqC61yawZcuW2hu1RQREQAREQAQyREDtTIZAKptQBKRICoVLiUVABNIh0KBeI+vbbkjKWRBeqe6q5vbRRx/Zvffea7fffrtNnz7dduzYkXKepXzgzl1V9nL1FPepyPaqrfZ6YEr7VPIpp2MSBeUuJxaqqwiIgAiIgAiIgAiIQOkSkCKpdK+taiYCBUngkN1PSblcA9t90wb1H2b16n0Vg2bp0qX2zDPP2A033GAvv/yyrV4tCxo/3IVrZ9nqLcv8m0Ktv7fkzerg6FWhjlFiERABERABERABERABERCB0iagYNulfX1VOxEoOALdqwMbf7Pnt+3Nhc+GKlvbJp3spMEXWNPhLezII4+0adOm2dSpU239+vW2detWmzRpkk2ePNn69Olj++23n7csdwuRz9bMDMU4mHhL5UZbumGhdW25e3CXfouACIiACIiACIiACIiACJQpASmSyvTCq9oikE8Cx+w51tZvXWPvL3srqWK0atTOzhtydXVA4xZe+mbNmtmoUaOM6U0//fRT++9//2sLFiywXbt2GTNX8Ne2bVsbPny4DR482Jo0aZLUeUot0bqtq9Ku0rptq62rSZGUNkhlIAIiIAIiIAIiIAIiIAIlQkCKpBK5kKqGCBQTgbp16tlZg35uuy3oY6/Oe8S2VcUORtu/w352Uv+LrEWj1rWqWLduXevfv7/3t3z5ck+h9MEHH9j27ds9Nzfc3V5//XUbOHCgp1Tq3LlzrTxKcQMWWijWFi1cbJbmTPRcK4kIiIAIiIAIiIAIiIAIiIAIOAJSJDkSWoqACOScwEEVx9u+XQ+xaV9MsBf/+5jtbLTNGjdrZB1bdrWKNv1sYKeRhitcMtKxY0cbM2aMHXbYYfb+++97SqVVq1Z5gbhxg+OvZ8+enttbv379InGWksm70NPs3LnTvvzyS5s3b5739/nnnxvbdnStjhlVkV7pWzdun14GOloEREAEREAEREAEREAERKCkCEiRVFKXU5URgeIj0KxhSxvV61h755GPvVhHxDf61v7fSrkijRs3tv33399TGH322WeeQmn27Nme29vChQuNvxYtWtiwYcO8P9aLUdasWRNRHM2fP99jF6xHww2tbYctCW5O+nfLRm2tU/PuSadXQhEQAREQAREQAREQAREQgdInIEVS6V9j1VAEioJA06ZNPWXIli2x3dzCVIRA27179/b+1q5da1OmTLHp06cb+W/YsMEmTJhgEydO9NziUF716NEj6exXbV5iHy1/175YP882bl9njes3tQ7Nulm/9sOsV5v+SecTJuG2bdsMhZGzOoo1Qx2WWdR79913t4qKCvv7tF945QxzLpd2eLfD3KqWIiACSRLgWfULEwFIREAEREAERCBbBILtTLAdytZ5lW95E5Aiqbyvv2ovAgVDwAXE3rx5c8bL1Lp1azv88MNt9OjR9tFHH3lKJVzBcP/iN3/ET0KhtM8++1iDBg2ilmHjtrX27Ox/2HtLJtqu6n9B+c/8x617yz3suH7ftx6t9wzuDvU7lrtaMBMCj6M0csqjli1b1khyzB7n2p3T/qfGtmR+tGjYxnA9lIiACIQjsNdee9U4YObM9GZPrJGZfoiACIiACIhAgECwnQm2Q4Hk+ikCGSEgRVJGMCoTERCBdAlgkYRkQ5HkyoaCaMiQId7f4sWLPYUSjW9VVZUtXbrUnnnmGXvllVds6NChtu+++3ozv7ljl2xYYPdOv87WbVvpNkVdLl4/x26bclV1gPALbd9uh0ZNE2sjllPO4gi3PIJmB6VevXqe9ZSztkIBhvVVLOnTbqAd0ftMe2XeuFhJam3fVWXWeflQa1i3ca192iACIhCfwJ571lQiE/xfIgIiIAIiIALZIhBsZ4LtULbOq3zLm4AUSeV9/VV7ESgYArlQJPkr2717d+PviCOO8Fzepk6dauvXr/eUN++8845hJtynTx/PSqlT93Z2z/Tf2fpt1cGrk5CqXZU2fuYt1TPNtbG+7YfGPMLvrobiiODg0aRDhw4RNz0Chjds2DBaspjbDut9qjWs18ien31/tR3Vzpjp2FF/ZyOr/3EP+2LDKnv22WftuOOOi5teO0VABGoSaNSoUc0N+iUCIiACIiACOSSgdiiHsMv4VFIklfHFV9VFoJAIONe2TMVISrZuzZs3t1GjRtnIkSPt008/9YJzL1iwwAvOPWfOHONv595f2NaWySmR3HlxfXv4o5vtFyNvt0b1m3ibk3VXQ6nm3NWwPAq6q7lzhFmOqjjOFr230mZumWhVbdeb1anpmtekfjMb3u1wO7DbGHt04eO2ZMMSmzFjhheY/JBDDglzKqUVAREQAREQAREQAREQAREoYQJSJJXwxVXVRKCYCDiLJMxzKysrrX793L6e6tat6wXe7t+/vy1fvtxTKH3wwQe2tf66aiXSipRQbqoOxP367Ces45Z+nstaptzVUikM1k8LZy61Rjt62V779LWho/t7Flb16ta3to072W6telvdOvW8rM866yy75557jJnhCEjOzHbDhw9P5bQ6RgTKjgCusn5x7zb/Nq2LgAiIgAiIQKYIBNuZYDuUqfMoHxHwE8htT81/Zq2LgAiIgI+AvxEkTlImrHB82YdaZeazMWPG2GGHHWbjJv/NPk0jxMmET56zJh/OqXX+dN3VamWYYAMBxXfs2OGlGjZouPVp1yfmEVhpnXPOOZ4yadOmTfbCCy8Y2xS8MSYy7RCBCIHgu8s9d5EEWhEBERABERCBDBIItjPBdiiDp1JWIhAhIEVSBIVWREAE8knAubZRBtzbCqERbNy4se1sscUseuiipHDtar6l2sltlzVr+vXsaplyV0uqAP+X6L333vPWsC7CbS6RtG3b1rBMuu+++wwrsccff9xTLhGjSSICIhCbAM+YX5ghcteuXXGD4vvTa10EREAEREAEkiVA+0I745dgO+Tfp3URyBQBKZIyRVL5iIAIpEUgaJGUVmYZPHjD9rXp5VY9odrZ551ufXr0y1tHkiDezFKHDBo0yHDjS0a6du1qp556qo0bN85zN/zXv/5l3/3udw2LLYkIiEB0AsHnC6s+KZKis9JWERABERCB9AjQvtDO+CXYDvn3aV0EMkUgud5Eps6mfERABEQgBoFCVSQ1qtc4RomT39yjW0XelEiUkqDZTgYPHuxWk1oyc52buW3r1q324IMP2rp165I6VolEoBwJ8FEvEQEREAEREIF8EVA7lC/y5XVeKZLK4HoTb+aWW27xRkTLoLqqYggCTz/9tC1atKgg7o2ga1uIamQ1abumXdLKv3nDVpFZ29LKKMWDmSmOoOFI9+7drX379qFzworp8MMP945bv369p0zKSg5d4gAAQABJREFU9ex6oQutA0QgTwTq1KljxECTiIAIiIAIiECuCdD+0A5JRCDbBHKiSKIjQ/R4ZmLy/7Fdkj0CrgPZrFkzu/zyy7N3IuUckwAjAoU8KvCHP/zBKioq7G9/+5v3bMasSA52FKpFUr/2Q9Oqfd/2w9I6Pt2DmSkO5Q8S1hrJf+4DDzzQRowY4W1asWKF5+4WDO7oT691EShXAlIkleuVV71FQAREIP8EpEjK/zUolxJkLUYSCiNGrHGFmDt3rhHoFcsHJ4yKH3DAAYbbBLMB+a0RXBotUyeA8uLdd9/1GMN39uzZtbTTGzdujMRKcZprt3RndkoQt0Q51ahRI2vQoIFL4ilKyKteva+mDnd5uKU71i1RKpZDEDgCFNOJx28ZZU27du0izAplZdKkSdarVy+79NJLbenSpXbttdda/fpZey3ErTbnbdiwoRfYGSu6QpEBHfe31o3b29qtK1Mq0oE9jknpuEwd5Nza4DtgwIC0sj3yyCONZ50Z4Ii5RABuYijJFz8trDq4BAn428gSrJ6qJAIiIAIiUKAE1P4U6IUpwWJlvMdI53nt2rX2yiuv2FVXXRUJ8BqP3Xe+8x279957I4qIeGm1LzkCCxYs8JRIKOjefPNN69KlpnsOSh2sC7p16+Yp8lA2IW7pzkKnEWHJ3xdffGG/+tWv7IwzznBJDOuEfffd15sanONdHm4ZzOOTTz4xylfqnc+bbrrJrrzyyggnno1Ce7lzDbgWjF787//+r6doYKYupwSMFD5HK9yvcCokt6n6dRvYmD2/aw9+8KfQFIZ3O8x2a9k79HGZOgCOs2bN8rLr37+/MQtdOsJ9cfzxx3vK0fnz59unn35qzz//vH37299OJ1sdKwIlT2DlypUKUl/yV1kVFAEREIHcE6B9kYiAI4DBBv27XPTlMqZIQjGxfPlye/HFF+28887zKsD03Z07d/bW2U/F6Nhs2LDB1dVb/vOf/7Tf/va3ntVGjR36kRIB+LrpvX/5y19GdWfheixcuNCzmHEnSdR5RzGEpdmyZcvcId5y27Zttnr1anvjjTcMV5doLosoULBY4qbm3KUucPArkajvyy+/bGPGjCm4qnNNUDZUVFtNnXPOOZ5SsF+/fnkpJ+5tBHIuJIskQAzsfIAduvEUe+2z8Ulz6dmqnx3f74Kk02cjIZZDPLNIOm5t/rJh2XTaaafZfffd51mxTZs2zbMwHD16tD+Z1kWgrAnstttu9v7770cYFNo7LVIwrYiACIiACBQ1gWD7QvsjKU8CeJg8+eSTXj8KncyQIUOyaqiTEUUS7mu48OD2gHsMAV3btm1rP//5z43ORZs2bbzODPuoFPFYUGL4FQ650JqVwy0F01//+tdeVXmRuPVg3dFUomTyK4WY2hvrolhCeq7z8OHDayThPD/5yU9s3rx5noWC/+MZ5RPWLnvttZdnFUW8Jly9Sv16v/baazUY8eOKK66wb33rWwVpiYXbHdcXa7P999/fvvzyS+Na5VpcnKRgo5jrckQ735F9zrIWDdvYc7P/YZU7d0RLEtk2tMtoO6n/hdagXsPItnys4FKMtGrVynNhzFQZsGzCcu2ee+7xLFAnTJjgKZOGDctvPKhM1U/5iEC6BEaNGuVZ66Wbj44XAREQAREQgTAEaH8k5Udg1apVNn369MhgPAqlvn37ZjWcTNqKJNzYXnjhBa9T0bp1a+PmHTdunHXq1KnWFaQzQ4XQlmGp5FdipOtyUetkZboBC4Sbb77Zi2OES1s8wfXQLyj9cFnDwiianHLKKbbHHnvU2oVS6Pe//723HXcXZw2FsuqCCy6wG264odYxpbwBZd5Pf/rTWlXEpY+4Mj179qy1rxA2/OIXvzDc8VAm3nXXXd5zmutyOUVSIuu4XJfLne+AHt+y/h33swnzn7SZyyfbum2r3C5rWK+x7dlusI3qeZxVtNkrsj1fK1xHXFERrJEyrbwlztnZZ5/tuSWj+Hvuuec85WO+rNnyxVnnFYFoBPjekYiACIiACIhArgmo/ck18cI4H/oYlElOCBeS6W9/l7dbpqVIwpUN6yKUCCiR6Dz/z//8j8s77hIrFqdIIthvNMVT3Ay0sxYBYssQ+BY54ogjPFelWonibDjhhBPsmGOOsSeeeCJqKhRNWDhgYRRN1qxZY0cffXRk13777Vd2SiQqj7UdsWOiyR//+Ef7+9//Hm1X3reh+KN83/3ud71nmXupa9euOS2XC7pfiBZJDgSBt4/f6/ve34Zta23j9rXWuH4za9mordWr+1XAeZc2n0sXZJsyDBo0KCtFYdKEM8880+6//37PrfWxxx4zYt716NEjK+dTpiJQLARw5feLm4zCv03rIlCOBHg2sEznm5UBCSZwkZQ+Adzs+aak/8d155vTxVIN1p57hDAdhDogHQPZWMw7efDBBz2PC/qO3D/uz+1nyaA4f0uWLPH6RJdddllkoNufrhTWg+1LsP0phTqqDokJYIHkVyTx3GTbuyRlRRLTSeM2deedd3q+dxdddFHSSiRc3IirgdBxfPjhhxPTUYqEBLBAcoF1b7nlloTpoyXAvY1OZzRFCO5OKA3//Oc/1woaTUwgLKHc+bE8i+beFe2cpbaNoNWx5LbbbvOUNYU6ax1KAFxSiXlFjCfil2Vbm+1n5SyScJfFsosPiEKWFo1aG3+FJrD74IMPvGJhAYercbaEj0KUjrw7+FBkiTIylsI5W+VQviJQSASIEekX2k/c/iUiUM4E6Ng/9dRTRqceYQATq3Upk0r/riA+KjEWMSLgj9/0HWIJ33+k549+oxOO47uUe8mFSeGbxy8cy5/7fsXKHcVlqQrti1+C7Y9/n9bTI8D9R4xQvqvRYeBRxfuLe42Zp9nv7jXuS/ozKM4ZIK+ojkWLkYWTjz/+2P773/8ag7IuL+53FIMs+abmeO51lKooTvfee28vXIXLwy25x9HNOCUiBiXk654Bly7Ty5QUSYABIkokBHc259qUqIDAve666yLJTjrppBpQIzu0EooAN86FF17oHUPHMVWLAB4CNJrf/OY3LdosACiLDjnkEDv22GNrlI/YVwRMR7jRH3nkEXNKgRoJS/wHM9S55yJWVZkyfezYsbF253U7Ly/cEVGGMeLDB17Hjh1zVib/PcNLN9ZoVc4KVKQnmjt3rjfLIsXPVJDteChweWXmtqefftqbUIF753vf+57pYyYeNe0rZQJBK0BiBxJ/TiIC5UyAQUoGqJwwqIwlKzH3JKVNgO9LQii47zw614RTcDM7B2uPtwrfo3TUR44cGdlNx5jvGgY9ceGfMmWKffjhh5G4u3TI6WwTm5XvV34fcMABJWuNBBh/bFp+B9sftkkyQwDlDjFvwwqTTtF3dookFE68/y6//PKksyLOLs9QNNfFt99+24tZ6jLDSwxvsWxLSookKk5wZYQgvXQekpVnn33Wbr31Vi85D/a9996b7KFKF4fAokWLbM6cOV6Ka6+9Nk7KxLuIcXLJJZfEtDA77rjjbObMmcZ04gjubmxzwkNRri+xZ555xmGIuSSoNbFl0DYXovzsZz/zFEmUjQ8+GutcCQ2+E7TrUiQ5GuGWzq0NxbB7TsPlED41M0PwQYglIiMnKJOYwdN/TcPnqiNEoDgJBK0AeSYkIlDOBBiExrLETQIBC75dCQ5LfM5Ct0Au52uXibpzfelbOKFDzuQ9p59+ujcA5ba7Jd8OdLoHDBhQy6qCbfyRB4OzDH5+/vnnnhsP39jnn39+VmeqcmUslGWwfQm2P4VSzlIoB4pM/hgoRRmEFVA8wVqJtCydEon0Lp94xwb39e7d29O7BLfz+6GHHvLcOFnv06ePZ9QRdHlkX6YltN8IJlY8oE4YdU7WTQfTLF4YBGM+9NBDvSDdaOgk6RN44IEHIpkErYUiO0Ks4LaIVVIsufjii72HB6ulc889N5JsdHUcJRQR5ShYhbkYYTSAsfjxIeXcjgqRE6aQBMNHbr/9du9FmatyupEqzlfIcZJyxSOV88Bt9uzZ3qEokXLpMsA97xpKYujhtsyHnkQEREAERKC8CWA9MmnSpFoQFixYYG7wo9ZObShZAgymDhw40HOFj6ZEZPIgQiy4eLpBEHTisXDDIwIlEt+PGDnQJ8lFBzpYHv0uDwLct3zfYvnPbOUow6NNsORoYD2H1RzvOMI++AWjAt6L/DHJkd+bCCtNlOxuP0v6mNG8RHAR5TlxLnW/+93vchZ7OrQi6fnnn490guksB2f+8gMKrqOEwh+aCr788stRTbOCx+h3YgK8THE1RLjBopm8eTtD/oeLGxr/aPKf//zH/vGPfxixmJxShA4kEePLVTAt5aWCHHTQQZ6LYCxFabKuoPli6czMqQ8BD3MlUiSlTxoTb+cjnQu3tmCJjzrqqIgVFPELGC108Qu+3DDfnpt1n/1t8s/s2gnn2XVvfNduefcKe3nuQ7ZiU00f/2C++i0CxUQgqMDVzLTFdPVU1mwQIIYmnaWgTJ482XNvC27X79IngNX5D3/4Q9tzzz2jVhbrNTrPuMEFhYFswmjQL3VuQ8cff7znChdMW+q/g+1LsP0p9frns37oQjCwiTU50bvvvpswnAn3N+9HlFII9/GPfvSjpOMqEmvJ9dV4pghxg0dCLiSUIgmNl9/NZcyYMaGUFig4Hn30Uc8XWtrizF1eXIDmz5/vZUickkwJbosE1vZ37v15X3rppZG4SATcJTYQD1S5CgpSJ8wuAT/ih0UTZsbzR9aPliaf21D4OsnlSKH//uG+loQn4K5XmzZtvMYkfA7pHcHI4oknnmgV1UEFkU8++cSeeeEpG/fBDXbTpJ/axIVP2efrqxWU29fY+m2rbdG62fbaZ+PtL29fbE98fLvtqCrdgJgeEP1XFgSC8cHcc1kWlVclRSBAAEtZ10kK7PJ+4h4SLS5ntLTaVloEiKt69913R7WgwMKCcCoMbPutm3GjxxMDq3kE62u8MYirVI4SbF+C7U85MsllnZlchkHTWIKXAPd4NMEYBLe0v/zlL95uYnuhSCL2aLLy3HPPRSz3/vCHPyStgEo2/3jpQimSsDzBBNUJhZXknwDmn06OOeYYt5qR5dFHH13DdS1WpuUcFwkmmBy6WGGYJn7jG9/wUMWbwc1ZkcVims/tBCp0Mm7cOLea9aVfaSnXtvC4cZt0s5tgjYQPdj4E01/cmPlA3Nlwu02qfNjeW/pm3KLssp02+fOX7LYpV9mWHRvjptVOESh0AkFr1KlTpxZ6kVU+EcgaAQY7sWKPJTwfL730Uqzd2l7CBPhO4bsZDxf/YKKrMgpIYi5ibY2gXHr11VcjM34TjuG0006zww8/3B1Sdstg+xJsf8oOSI4r7O7hWO84ZtVDGeqMPvzFI3a0f6Z1AmqH6cujiGLmtzVr1njZ0n+L9hz5z5nJ9VCKJKf5dQVIV/OLdhl3t0IRLgZlytVfpurNdNtORowY4VYztvzb3/5mTCMYT5hZoZzFHzT+xz/+ccQ/e9iwYTG1yn/84x8j/qyFxo7RDBfompcfz0YuBFNMF4RciqTwxP1BTPMd8B5T61NPP8UqByyyXU2TtzL6fP1ce6jaemnnrprT+YanoSNEIH8Egu9MZ3aevxLpzCKQHwK4NjPYRjybWEKMG6xX/VYnsdJqe+kRoOPLjNBHHnlk1MphlXT99dcbHXLuI6z66ZRjeY1b0TnnnBP1uHLZGGxfgu1PuXDIZz3pvzAzayzPIJQ9xB/Gu8sJlkpYEy1ZssTbhJvnZZdd5nYntVy8eHEkWD3eMP44S0llkGaiUNNGPfXUU5HTERE+WnC0SII4K0DEp5WRcwJwuxng4hySk1243TmNXi5OiBlmLJ/KMOcnXpGTbEz1R8cebSmxTz777DN3qhrLO+64o2CuY42C5eAHoyPOJJEXCQHonaClxh30Bz/4gdsUWfJh9c477xgBygtNKDf3Ji85ykmjxLZcCB8UNIpybQtHm7hILl4ZSv5svAvClcjsg7VvWGWT8NZFs1fNsBlL3rBhXQ8Oe0qlF4GCIMD3Ecp4N7V1s2bNCqJcKoQI5JoA3/r+/kOs8xMjhMGQfffdN1YSbS9hAkzyQnBtvjuJ+RIULJL++te/evGQCLBNHCD6JaeeempZxkXy8/G3L7Q7qfbP/XlqPTwBXNzw0MHKKJpMnDjRUPb86U9/8uJ+YYXJYD2CAopg3GFjG/EsOEUUE95kKk5ytPJH2xZKkeT3X+7evXvKHcu///3vXsebEQgCQhWKIokLS4T0XMk+++yTEUWSi9JOubMVYA1fzV/84hcWy/KIeElM/x0rJlCumObjPG+++WbEt59GjRESv5x55pnelKcoTYNC0O1CVCRRTr9pJEqKXDVMuLehSJJFUvBuif+bjy/HjGcx31K1s8reWPD14EPY8rz+2WNSJIWFpvQFRaBbt25eAE0KFS8+TEEVWoURgQwT+OKLL2z8+PFernwj0vFn5t+gMKMbE7ZIkRQkUz6/6RNee+213jcz941f6IPef//9kU3ERSKWDP3Rchd/+0K7I8kfAQLHE+rkuOOOq1UIBshxQ5wwYYJnTMO9jhAXidi0qXh64eaJsp6+ZiaMU2oVOsGGUIokf15uenD/tmTWCaiH0sHJGWec4VajLjFzdSN6dGTpZDrXl6gHpLERq5GZM2emkUO4Q1O5YYJnwFLETY2Jn3A2rUZ4wceTX/7yl/bMM894QabjpQuzj2uPAobg7CjJcJfJZh3DlM2l9ccK+81vfuM2R5aMDvBCweItKLwAaADSMUXM1jPSt29fYyY6hOeW4OG5EBcnySlFcnHOUjiHc2vjOaFRyrcsWPuxbd6R+ox/KzZ/UT2T2xfWoZk+ivJ9LXX+1Aj4Z9JBOZ5Ly87USqyjRCCzBPiGw2UNYaSc+B0oAIhn8+9//7vWyZiEhKm1o01xXSuxNpQcAWL7MMiOqxqW/rFcHVGWEBcJd7hyF9oVv2ubv90pdzb5qD/9VWY8x/Io2gzdWNadcsopkaJhgcT7MJZLXCRhlJXVq1d7fWR2oaBPVTcTJeukN6WsSOLGTUVcQGJ3LC+CaILWjuBqaKDXrVvnJeHi0CnnRYPmrnfv3tEOTXlbLGublDPM0YHcSEg2FUlM4x1NSeKvIm5a+DBj2ZWu9QqdYpQsKDBQKKA8xEIGJUOfPn28QGRhzf/8Zc3UOlxef/11L7t+/fp5VlnR8mb60miKJNLiNgizsJLtZ4SA4a7MNFK5UiQ5Syi5tiV/R/CxPmfOHO8AGrBCCLS4ZMPC5CsQIyV5SJEUA442Fx0BKZKK7pKpwGkSYKDsxhtv9HJhpB7Xf75VCSYbTZFEqIaBAwfWCBGQZhF0eJERwKqfPh7TpvtDd/irgbIpUexWf/pSXk+1P17KTPJdN5TmBM1G5+GfECtauZiYBkOMVIRnBWXqgQceaLvvvnteDC1SViThRhFWcI+54YYbahwWbeScmeGYJg8XuP32288bXUeJhLUQQakQYoEQWPqiiy6qkV85/8hW4HJc55jafvLkyR5eXvBvv/22N2oU5M31xZLl+9//fnBX0r/xgX7jjTe88xFHigcFRQbR8BmpQmGDpQwfJPk2ab355psj9cL1L5a1FCNwBGGjYQwK9zp8w4wi5OIZ8Svq0lUMBusc77cskuLRib6P9yEBTZFCcGujHJt2rGeRlmzOQB5pFUAHi0AaBOgsO6vONLLRoSJQlAT45megk+82hEEiN2LOcrfddjNCXPgFiySCx/Ld6f8G8afReukTqKio8GZx4/6J9g4lhhKKyLPOOitrIT2KlXKYGb+KtY7FUG4U58zcPWbMmJjFZR9xdFP1tKLP6ffyinmiLO5IWZG0du1ao5FAwZOsvPLKKzVeCMxoFYzpQ+OB5QsuUpdccol3ARhhBzIvDrTQWL088MADXjArlAyJ3OOSLZ/SRSdwzTXXmJuVjAcDn06scLg+0QTrmwMOOMAz7Yu2P962xx9/3DMHxMTvt7/9rZ144omeImnTpk3etX/kkUc831L28bFx0003WYsWLeJlmbV9WEr5p3okUPt9990X9Xzc57GeFY7j2UBplozk4xmJVfZkyhs2jVMkYZGkEfzk6Dm3NqzG8q1cpcRMqLBlfe2YYMnV5utUTRo0//qH1kSgyAgEY1XQoXYd6SKrioorAqEJEHbBfSNhSc6MRE6wOkIJwOy1QUFxQBwRviMl5UmAwUsGpQk+HC2OLpZuDz/8sKFwypR7G98tWHez5JuXwV2+R2MNEBfKlXGKWleeYLvjtmuZewIM7N55550x4wvTz+GeK2ZJS5GEhQrmVMkILkp0/v3ib1TcdhQF//znP72gzSiU/JYQgwcP9nyrUSowJT3KLJQWdMD9EetdXlqmT4DrgeLOCUokFHsolOi8OgWT28+SoF9McfjQQw/VCNjsTxNtnZc31xPLqiuuuKJGwEVmoOJ+4dyYs5KGc+PeeNVVV0XLLuvbmIWEe9AJnGJZFTGyNnfuXJe01pI4SyjPkmmw8vGMoDTOlThFEkokrrNzdcvV+YvtPEyH6z4keEfmQ3h2GVnGUo4peQmSub1F9bPRP73SdGreI70MdLQI5JFA0Eo4+DuPRdOpRSDrBLAuYlYihNmMRo4cGTknrh+xBj2YJvutt96SIilCqzxX+B729wGDFGbMmGF33XWXderUKaWBa5cf7+UJ1cGPmZWae9bFZSWUCvcp/Q68YwohZIArs38ZbFeCv/1ptZ5bAvT9uHeI+YUBTFBee+01b3CJ8CbFaoFZN1ipML+xVHHuFPGOo5OBYiDo1oP/YFCcRQcdI2LkBAXQKClc55LOOXFqJBZTiZEqG2KucI2dsE4wL4QXKkofXLaiCdMZcs3DCJY5bspPRrGi+f0ytaHfnfGOO+4Ic4qMpaVs/pE0tM6MAmAREu0PqynSxIqoz7PhYtwkKmSunhH/Sy2Z5zxRuZPd755t0ivgdmJqzhqJj65BgwYlPiADKXinozAifgHPKua7zKaCSyojhSge666rnu68MvUmpm2TTtZZiqQMXC1lkS8CWF1LRKAcCTDK7r75+Sbi2y1o2Uzg7ViW2AyQ8Jeq0AYxqInlOlNju2D3qean43JLgOtHCBU321+ss6N0fOyxxzwXylhp4m3nHiEeL+ElUHpi9IDyCpe6//f//l8kYPKtt95qxRK3U+1OvCue+330DWO95ygN97i/P5n7EqZ3xlAWSdyc06ZNi5wRRQ9xYQAQy5KCjiD+f8EOP2CjmXg7f+lPP/3UsLyIFkyNQH1dunTxtMcUZvr06TEVGpHCJrHC+QgY7e/IJnFY6CTuZYTFVdu2bUMfHzyA8pIngckz5QqERh5FENcBGTt2bC3FELO4YYUTbYpDjiGI9KGHHupNz8nvROJXGhAfi85pNLe1888/34ijhGA6nak6Jyqffz/B04hLg2BWm6zSjMaJKRqjCRpp4iUlklw9I/4ZDHNp8YdF0q56Vbar4Q5buHq2NW4xwJo1bJkIS9ns31G13dZuXWnbqrZY47rNIvch1nktW2aHE4ojPshR2mN1xD0Yy0qN2XYwN+dvfp0p9sbiJ1O6NqN7nZjScTpIBAqFQHCmUzrWPBcSESh1Aihv/vznP3vVxPKIEfmgEBwWKyVCWQTl5Zdf9oJu49oURvgWZpCTILd4LwSFgWi+IVONSRLMT7+zQwAlIn2IiRMnelZBxNNFORkMXIzih9AQKCWPP/74WsrKeKXju2bcuHGe98SoUaPspJNO8gbj+AbFMolvKr7JcbOcMmWKdz8RFDmelVS882Vrn1PYuvyD7Y7brmV+CHDfzps3L+bJCVfCoCyWS0ceeWTMdIW6I5QiiQfo5JNPrlEXXMx4kHk5+/0y6dzj+obZofOR9h9I4xDtYRw6dKinhSZtvKCxfgUDDVYmhEYPRVkwblMm8vbngZIGwbonWddA//H+dRR4TqmWSUUSVj+4biF77LGHXX311VEVbC6WUawZ3bBiYvYvTE8Tif+a8iKP1dD7lRqwzIciyW+phWsdCrNkBZe/559/vlZyZkgj5hPmtPEkV88IDacTzHuzLVU7q2zql6/ZW0ufty37VVsZ1jF7eH61InO+Wcdmu9mQLgfZyB5jrFH9JtkuSkHmP2fV+/bmwmds7uoPrHLnjq/LOKC+1VvdyvbY57Cvt6W55hRHKI34w1UtGcURnWTnmkgRelf2sk9WT7Hlmz4PVaKK1nvZ8K6Zq0+okyuxCGSIQHCAjedIIgKlToAp2/EqoAOFFRKhCaINmrIPK20USrgV+YV+xYoVKzw3o2S/yemsEQIBy/azzz7bzjvvPK9fQl+EgLSEIiA8A38Mkvq/Of3n1np+CaDEwfIezwYEhQ79TwZvuU/8g87sx3KJUBe4T6IQSlZQED3xxBNeH4IJgvweFgyIcc8Qh5f+LQpKvs8ZOEdpVUgSbFeC7U4hlbXcyoI3B30pjG7iyYcffuj1uYkDHctzJd7x+dxXP8zJjz76aE9bxkiBEzryWBthGUJDQewcHjjcG3A7e/PNNyMmXf5Rh1ijDFh20CnnQYgV6ZxGitFxJ/EUTi5NMsuLL77Y1q1bl0zSjKTp0SMz8T/8jSHs/YqWVApKjCp/7CNenrzIownXiUB4KOD819elJWjij370I890L9HLDWXFPffcY1xf6hDLMsw/ZSzWaYnyRdGEJErnypxoiQuemz2Q82OyHUZ+9atfRVUkYXrN6MgFF1wQN7tcPSN+l9FYSr24BQ2xc+XmJXb/e9fbso2LvjqqWonkFxQRL899yN5e9LydPehy273NAP/ukl7fVrnFHv7oJpu5vPaMf17FG1VaVZdV9tTym2zn4g32je5Hh+YRRnGEUhiFEX+MfPkVR8ETo/QbO+RXdseUq23dtlXB3VF/ozT8zqArrV7delH3a6MIFAuBYOe5UGNsFAtPlbM4CGB5ffvtt3uFRUnEQGQsYRSe6a+JExkUXKXZf/DBBwd31frNdyPfRiiRmLSF49xg9eGHH+5N9DN69GhvYIRvQmb/5Rsn2982tQqqDXEJoCQibgzfwgjfGSgHCbyOsQLX91//+letPOiDsJ2ZALnnkhFc2XBto2/wwgsveF4ywXc2AeEJlkzoCe4bYikVmiIp2K4E65AMC6XJDgHieKHQRugvYlhBX4/7KCi4aGIYwvvSvbuCaQrxdyhFEh0GXvbODMtfIWe9ghaXTgmdbRQlWCwddNBB9oMf/CCSHMVPLNM79rmAsbE6/pyLhsoJDUYm5Dvf+Y5Xt0zklUwesQIzJ3OsPw0vWDc9JiMu6SiSMBu97rrrItlz/aLFsookqF5BAcQID66OwZEC0tGo//73v4/7MUE6GnQUjGhwYz1EWEXccMMNJPcEJVas+4SXPg+kU4j8+Mc/tv33398dmvISZRfPAILbpj+WUDKZ7rvvvt6zgbI1KH/5y1+MkZFYdSJ9Lp4R2LkAzozyxCtPsA5hfy/buNj+/t9f2JbK2mbowbw2bl9rd079Hzt38C9trw77BneX3O/tlVvttilX2Zcbqs2yEkjVrkp78pM7bMO2NXZEn+juky6LbCmOXP7+ZfumXeySETfYIx/dbLNXzfDvqrU+qNNIO2nARda4ftNa+7RBBIqNQLAtpmNMOyQRgVImwIAsM/sidMDxZMCSOtr3Iducu36QCd+1fJOiAEr0DcIMXnxTERiZmEzBb0i+LxkEHz58eGTAGMvwWKEZgmXR7+wT4Pue+wXFDR4WdKoZWMXzAaFPSacc5Q+uQH7hWNzgiBOJG2Xw3etP69axeCMwNQYRWCbhGhdUwnDf0AciRhLfTZwXo4NCEtoVvyRTd396rWeHANb8hGhxLrbcm/QfMUSIpkiiFMQapc914YUXplUo7mnuV6w+6aMG49OllXng4FCKJI6lMcAFDFNRrFaIT+QXrEh46DEvJAYS1hpYyfhjK6GoiNcoxNvHBbnmmmsipyRGT6bigtDwZEq5EylgDlbOOOMMu+2227wzEXjuhBNOSOmsmBLzgnRBn3Fvw5c8GWEqV0xRXTDu4DEopLBoSyYIXPADwJ8Xwe8++eQTbxMvS5QusYSXK7GW3MxqmMRizZTOS5bGijI4+d73vudWk14yekBgv7Fjx9Y6BvY8Kyib4km2nxE05k5ZRiMa73zxyplo3/aqbXbfjN8npURyee3cVWX/+vCvdumIG61t08Quk+64YlyOn3lLUkokf91e/exR69pyd9u744jI5lwqjiIn9a20aNTazh/2G5u3+kOb/uUEm7fmI1u3dVX1fVXXWjdub3u0G2T7dj3Uurfq4ztKqyJQWgSC8T1Kq3aqjQiY12nyey3AhG8wp1gKywh3NRREsQafXX58++ISRWwdQi0QuzU4KxzffsTaIS0DlkxUIUWSI5j/JQoijBVQIOJpQYxc4hY5qzG+Q3E/O+200zyPF79nCqVn8BNLJq57Mt+tdOxRPuFRg0GC37vDT4NvdvcNTBkLTdSuFNoVMS/kz4svvhhRGGGJRH+U+4g4SMT5veyyy2oVnH44fVfSO6OaWolibMAAgMDxKK+cIYBLijXfjTfe6OlmMq1UCq1IolAoA3gZsww+VFinVFSbIvIgu4efFwMdGYTRgjDxZLyDfP+hqHBBgLEGweSx3MV/s9FYJ6NIwmcTjT9aSxp5LLywKPJrtvHZJAA5/u0ogWL5qdNw8+KP56qH5h8lFUEQXT48MDxQsVzYgteVMvutkRiBihd7adasWRElEnlNmjTJM5mNFz0/eE5XN8rMxww+235LItw6uafZf9RRR0Uam2A+/HbMSeueh2jp8KUl7hLC9UFRGiaWViaeEX+8AhSV2ZK3Fj5rq7aEb5i3Vm62l+Y+aGcO/Fm2ipb3fOev+djeX/ZWSuV49tN7rfGGdrZo4WJbkCDGURhXtZQK4zuod9t9jD+JCJQDAQZFGFV3cRyDLgjlwEB1LC8CKHMY4EVQ3NBZj+f+7OhgleQmd3HbWD777LNehyrawJs/nX+dwcZo1k+kOeWUUwx3E76t6OjFiu/pz0/r2SdAH4SOrlM40odkIDtoIcT3M4YKKE8Ixh0Urj1WH1h1JPJWIXwKHWxiedGfDZ7L5Y0LHK6TSJgYTO74bC/97QrtTbzB+GyXRfmbF0+U+5P+LkKc4Z/+9KeR+wsLIdx18cDxh5Fx7HDtRMfSp0+fhDFz3TE8P7gI825DCYXBD8djPEG/mTha9A3pT6JDyaTRTEqKJApOwzBixNcj3q4ywSUPKGaKTjAP5EWQiqCIwI8V4eWPuxxKjnIXgjPTGUSrjnmm32ImFpvLL7/cUyRhYUODyh9KE79gdUbjzvVC6YPrXzRBAcWMY4luTPLjvE4bisVLPDdH/7noDGPqR3n4OEHBlcjlziky/fngFhlGkYQJItZUlBkrHaY89wv7aHzYj1WWP+C8Px3rjjlpsdKLJYyQoHhDuD4E+yPWWDKSqWfEH+8qE+6A0cqO9vydxbWDjkdLG23b+0vfsmP7nW/NG2Y/EHi082d7G/GgUpU1W5fbfc/favVX134/5lJxlGr5dZwIlAoB3GycIon2g/eeG90ulTqqHiIAAX/8Ur4bGTR21vKJCPGNw6Czmw3Xpcf1iEFPvBHiWZNjvULwZEIZ4P5EhzqaoKziuwqJZYES7Thtyx4BrjEdXvovCIPSBLgmjlU0QUlEp5nOsQvI7U/HoC1KQowaCLcSS/hej/fNznF4CXBPYcGGxOoHeTvz8B/tib9fQnsjyS8Bgr87S0f6b8ccc0ytOG/E8sKQAuONaDO6oSRFv0H4lkTC+4x3HkokLPJwBXbKReJWj632fsHLhfcofXnC4fCMuL54ovwT7U9ZkZQoY7cfCM7EitgATPWZiqA0cgHWmAUOTTKBqyRfBZE+99xzPWUOyiD80xPNskVUeG5g3A8RGmh/QG3n04lCA2WgPyZVkDkvLjScKLT8+QXT8ZvRKoQ8+UtGEchL8swzz/RcvlBeYrZH3K1EgqKJBxg/eMrG+Vy9Eh3r9sPE1Y1t/vq5vFBukTfKuHhCXjCnLI5VtA8j8uWZcYzcCyle3uzL5DPilL/UN9G9lKhcsfYv2bjA1lfH80lVdtkum71yhg3tOjrVLAr2OD4OEsUTSlT4nW02mFUrkqQ4SkRK+0UgewT870/e7VIkZY+1cs4vAb49UQYhKHKuvPLKpAtE7CIs34OKJDJAyUBHiA5SLKFPgFU4QgcplrJ2/PjxEesSvisl+SVAJxhlDYOyDNai+KHfmCjAOtYWBMLm+5tOsV9QTDFojFUHHhquU+1Pk8w6yqPf/va3Ees27hesSwpJaE9cX4Ry+dubQipnuZQF5aY/DiL3i/MwCTLgHmcyqmgubqTFYILjExlN0Mel748FHoHmg/c7/cwJ1cG98WzhHY1L6CuvvOK9b4NlSuV3aEUS5qIUgELzUMVTBLzzzjvGlOYIHVJcdlLRgBGHhnzoWNOgACNZd6hUoBTjMZjIYRWEYE1CsLl4QpwqFA/OiihovePMOFnyF+/liXKQm5Q8XD5uGSxDMN9EI0K4WOEPzUgT9w8NR7IzJvAhgx8qlkCUhwc2kbInWF4UV65u7HP1YhmsS6IpGxlhYTSDY/35BM8ZzDfWyJr/uEw+I2it3XSi8YKZ+8+fyvqqzeFd2oLnScUtLphHIf7etGO94b6XjnTo0dp+cNIVSbkVpHMeHSsCIhCbAKOOb7/9duwE2iMCJUCADi2j3cQdQvi2xCIkWSE9/QT6FC6upTsWNxGUDbgVxXPbcd9V7rjgkhF7Z43EPtzcJPkjwD3DoCnf6Fhx4OlyyCGHeNYcifqK7McdDXcdLD5RKPmF38w4zf2EtVoqwqA1HgJ8k/Mexz0p0T2WynkyeQzllOSHAAo9Zl5zk1/ts88+noVQLKU220888UTPUsgp4P0l551HvDn6vPFCxzgvFjx3mLAJl7pgv5EBZdxFUdaiIEVhj+I+ExJKkYT5FcojrFTokGMZxCjCz372M+vVq1eNFzwg6dyi/EFwEUrU0Y5WITremDuiyCBQFW42riHhJYRS6eabb/bKEe34ctmGtYuzukFhkUiRhNYy2SkyEzFEA56MhVCifIL7ud8ItMe99MADD3gvckxanaCFZTY4FJaxBLM+/hDuWzf7Q6z0we1ocjNVNz6qwnxYBcsS63emnxFmDXCCgjJbsr1qa9pZE6y7FGVHBurVoHF9KZFK8eZQnYqKQDA+DIr6eO4WRVU5FVYE/o8AViBu4BhvgUsuuSQ0GwYlsSwiYGxQ6Phgne63nA+mifebzhPuH3SkEMoXzSI8Xh7alx4BPBtwYeRe4Q/rCOIPucmYCHfBdaYzjlKR72VikEYTlEe4KdLH5Dq62ZPdJDEcQ0ecOKa8c+lYoxAiHR38WPGQ3Lnobz700ENeOZnNDauRRAHf3bG5XFI3vwTbG/8+rWePAApq4gpjpIFwr6AcSmQhxr17+OGHe25puGMGBVc19B8YfgQtjYJp+c3zxXMVVCSxj8mprrjiCk9/g7VTGItRjo8loRRJxJb5+OOPI3lhlcSDjLsOowkEccLckADcPMAEO8bihBg6aI7DCkF+n376aU+ZgHLEKQRcPiizCKDsfFfd9nJcoiXHHQlFH/68XJtUFHeFwm7u3LneqAT3G9NtokAMWqERhJHrn4zQuBBDqhAbgmTKHytNpp8RlLMEaUPOPvtsL2BhrHOnu71FozbpZmEtGtaOAZR2pgWQQSbiPpUqmwK4PCqCCCRNIOjOHy8+XtKZKqEIFBgBFDS4JyF896MQCit8s8Ya4GRAmYHrVBVJTMzjLJ0IecAAeCxLgbDlVvrkCKC845ue70w63kw641eEoOjBMglLIhQizPqNhUVQUEIRkJh4sPQDUVA5S/5gWmboY1CamF2cl34ElkYEJI4lxKchCDJlu/rqq724qvQdCvF+CbYnwfYmVh21PXMEuK+wgHOGCuhCcKlMJo40pcDiCMs6ng3670FhBkoUn/TvowmKJt65WESRT6yBKgLRZ0NfEkqRhDInOIMT2mCnXMLUEF9VXg503HnIMVPETzWsYHKKFRNuTcwAgVlWEACaOgTNtcQMrTkNMUokTEXRphejoISkoWf51ltveQ8jL3CuP0seWu47NKrJKigJ0k7DRb6lItl4RnBbReGG8Nxls+HcrWUfq2N1qyMdfRXEMJXrUmdDk1QOK/hjGtRrZF2aVxhxpFKVHq2/ssRL9XgdJwIikD6B4Eedf8Q8/dyVgwjkhwCdc77P6KDjeoYViROsRbD+obNOBweFQKxBPBRQjOQTxgBrETo7DEyjLAgK33EoDhjl5zmKl6//WFw9mA2MvsnY6sCzTNZT6C5K/vKXyjqdZDrcvBP5tqTDzZ8TvvHpDGNRgdIv2j1AWvoA7CfWC54YLg/un6DVBvcJ15186Tdwz8SzEkGJxKxv9KOwZiIuF+mz+S3s6p/KMtieBNubVPLUMfEJ4G6G8hJFI+F+iP2Lh5YTXHz/+c9/evcckzDhWhnNAg7lJ8Y4WOFxv/HeiyY8B7fffrvnBkpwePqy3PfEROJ6Y62EZwrbUZTGcgulz8yzgPAezJTUqX4gdyWbGZXhRYAfHtpaTBIB5hdGDC699FIbOnSoEZWcyoYVFCLkTYMBfL87kz8vLqRzs3Nmjf795biOhQ4R2bmZUMQkmpGg0BhxbxGAjCWChVu0h4IHBqslPhAIhhdPuMVRsOErjdKzUBuEeHUI7svGMwInnlleaHC95pprss7q7mm/TT2o9NYG1mR6f9t7wN5ekE0+WEtJXvtsvL08NzVlcJ1qFd3PD7zVOjTrWkpIVBcRKDoCfCP5Oy5YDmNingnxt2UhPuUycWrlUYAE/PeDi3OYrWJiKcJ07YmEgV4GNpllK5owmQlW0MQ/DSvXXnutN9gcz0WN70MGVVEkEAaDb6d8KJH83+LF+Kz67y36XakIykf6dU7ZE/y2hwvf9vwhvDejeVagcFqzZo3XsSbUiQt3QhnduisfacmXJX98J9L5jtZnxKIOhQDKGRRK9KVQlDrBqo3z0iFPRvx912xd87vuussuuOCCSHFQwjnFWmSjVmoRSOd+Rr+BEjMZ4V2DQU00ww7eSSgteY+FFSz2OPawww5L6lAs/YiJ5HQ29J/93yWJMol3L4eySEJb1rdvX8/0FEsQILiHlEJwYUjDdHexNGuJCnv++ed70zY6LSvKIv5iCQ9MtBdCrPSlvh0NJVZjzHBH0DVGiopFeAEyWuAPmsfNHk/wLU0kWNbgbklMJf/LI9Fxhbo/W88InFAiIbky+z689+kpK5KaLtutuqR1vFn1uE+YapiZXYIfEl6FivC/A3scY2/Mf8q2Vm0KXfohXQ6SEik0NR0gApknEOzk0pGSiECxE2AmIVyQ6JjzXcW3OG0v9zv9Ajos/LF/0KBBMatLEFk6ZoTIoGND34Fven8H3h3MYDYj6rjz8L1IJy1ee08MTTwX6KugqGI6+Xjp3Xm0zA6BVN0Sg6XhGjJbdCanukfJiBKJeL+4s2FJ4hRe7vzcQ7EUoi5NrpfB9iTY3uS6POVwPt51vPMYeGeJwQzvGJa8+7B8Y8k7iqVfCePnw32MMpX3nXv3sZ93X/D9x7sPvQjvPt6rKJAqqmOIJSMoMVGgOyUSisdMDryHUiS5AvNwEUyPv0wLGmunREom71iB2JI5thTTcFPeeuutniIJE+HbbrvNLrzwwqKoKtfdr0RKptDxItlzPHGUUJAw21u8j5lkzlUoabLxjKBdhxPCDHm5GtHo2bqvHdzrJPvP/MdD4e3fYbidOOLH3owGjGjSmGL2TmB2YjNECzQX6gQFkPi9qR+Yzax22+07D31Z0lJna0NruKCbVe5VmZeR16QLqoQiUAYEaJP5aHNBfjFjl4hAsRPo379/6O+1aHXm2SB2TirBuaPl57ZhVY3lCB09JmQJutYR5oCBV9zcJOVNACUSXjbE5yJYMvF4eW+jBEDoiPOdSWeeeK2FJP72hGeJckuyS2DChAkZOQGeQ8wmzl82hXcrSi3EvfMyqVAP5dqWzYq6vPF7dT58blu8JUotXJYkNQnwckFxgnYahRLT/hW68NLG1zSMMCIR64Hg5c+9Qd1x+cukBjZMGTOdNtPPiNOYY/lHULef//znMZlmui7kt3PXTnvqkztt8ucvJZX9nu2G2DmDrrBG9b+Kj4Q1EtZmmBwjfDgSm2F0tW97MVorohRjkgEXe25n57W2fffF1ZGkvjL3jgep3rbG1mBmhdXd2ti774kxl4p7cbxzaJ8IiEA4AnS6aYcRBr8yZSnMu85JtlwnXP5aFj4B//2Qbde2QqaBOxtW+QSxxUUpWhxVlAYXXXSR972Ti7rItS0XlMOfg8DbzAqNux79SQZRoylj6JfyjYlSkpAbyYjfEiVb72fucZRcCPGI3XdjMuUr5zT+d2WqrprFwA+rURSlWEkxyE6spaC1UzL1iHcvp2SRlMxJU00jpVCq5Goex8uFOFNHHXWU9+G6aNGigle4oRDy36w1axT+Fy8KlAxofUupM53pZ2Tw4MGe++jY6uBrxDeLpZgLfwWSO6Junbp2Yv8fWkWbveylOQ/Y2q0rox7YuH6zauulE+2giuOtbp2vR11o1PkgxDSeRh7FGEsaV8zvccctFlm+fLk3iuoUqlzrU4+9wCqbbrRnZt1ti9bNjloVGA7vdph9s8uJ9syy57yRYqzMiMeCMsn/ERs1A20UARHIGgHMyp0iCRN4iQiIQHYIYFHy8MMPe9+9xHDyT9TDNyEd+hkzZnjfCUwDLylfAljhExSZ7y3uC7wi/LPIRSODO1Mhib89oZ2RiIAjgJKUgPEokf7whz/Yueeem5XB9YJTJDkAWqZHAGUA8YNeffVVz5cSV5/gNJHpnaE4js6kYqo4ahyulMwmwOj4T37yEy/gZdAnPFxu6aUe2uUgG9jpAJuz6v3qv/dszdYVnrVSq0Ztbfc2e1u/DsOscf2mUU9CufEZxq8dd0aUKJhyMirJKA1B5nLlrhe1gElsxIqQsjuLTKb0ZApRguohF+//J1u4dpZ9unKqrdy0xLZVbbFmDVtZ9+rZ7/p33M9aN/7K1RiFIBZafCzjE43f/7HHHuuxSaIYSiICIpBhAv6AscShQ9mda4V9hquk7ESg4AjQcaLNp92bPHlywum3iZkkKW8CvIvDWAvlI1B7rCtE2V1cU9L425lYx2h7eRBgAgMCsaNEevHFF23IkCFRLe0yQaPgXNsyUSnl8TUBXpB0qIkKf8MNN3y9Q2siUE2AeFrMtFhKQaq556dNm+YpUfFpR3BxIxg3dS20DhxTgDKd6JQpU7yyMmp60EEHeX9+81tvZ4j/3n33XS9fPjYQZiBB2VZo9Q9RJSUVgaIkwPTmKLmd8Eym82y7fPx5hOkMueO1LC0C/vuh3Fzb/vSnP3nWJc7FPZkrO3/+/KyM0Ec7t98quBifVf+9VSquQLyH3fdRtGsWbVsYRZJ/IDsb15w8/d9zDEbKyi7aVau9rRTvZ1dLJhkg5hf3B8YkBJD315eJuJhJ7sorr3SHJFzGu5dlkZQQX3En4ObBPUZKpOK+jtkqfbaDvGWr3PHy5Z5HMcZoIwoaOnGYLKOVd8G4C2XkBiXvo48+au6jH+ujk046yTIxuwlBIZnmlvyxRsTdb9myZXbyySd77p7xGGqfCIhA5gjwHPqFOHfMbisRARHIHwF/Jzx/pdCZ80WA61/M9wDtiF+C7Yx/n9bLgwDumvfdd5+nPLr//vujhrUg7Ecmg8bLIqk87i3VUgTKlgCz3OHqRTBxBEUTL9GDDz44paBzmQJJ/K7HH3884nKK7/0pp5ziTQOaqXOQDyO0xIxAiYS0bdvWzjjjjIzGI/My1n8iIAJRCWB16HcbXrhwoSWacTRqRoGN/lHGbIx4B06nnwVOwH8/uMGJAi9y2RRPFkllc6kjFY1nxRFJlMYKsW/9sxESFiGMxVQapy76Q/3vylKxsMMq85577jHi3v71r3+t5erINwJKJGIn33333V7Ij2QvZLx7WYqkZCkqnQiIQNESoIGdOHGiZ5VTVfXV7GfETCIYd67jJGBKTVkIDu46f7jc8XKPNltIJqBjkfXkk09GAv4ya8OJJ55YVIHIM8FBeYhAvgj4P1yJ35KJEUF/nu5dkq/66bz5J+C/H6RIyv/18JdAiiQ/jfJYj9f5zgQBwheMGDEikpXagAiKhCv+d2UpKJJwZ8MCKVnXXkJpVFRUJOTkEsS7l+u6RFqKgAiIQKkSwBqAGEk//OEPI5YABOTEUofgnLiY5UI2b95s48aNswkTJnhKJMqFK9sxxxyTNSUS9SJG1KmnnupZYfF727ZtXt1RaElEQASyT8A/e6SLh5b9s+oMIiACIiACpUjA347425dSrKvqFJuAm30wWSUSOWUyvIcUSbGvjfaIgAiUGAG06uedd543i1mTJk282s2aNcsLOj5p0qTQgRfD4GGEmKk4cWlD2rdvb9///vdzFhyRERiCeJ9++umeYonRq9dff93Gjx/vxZAKUxelFQERCEdgv/32ixzw+eefR9a1IgIiIAIiIAJhCfjbEX/7EjYfpS8/ApmMDSbXtvK7f1RjERCBagKbNm3ygnEz04WTLl262JgxY6IGqHNp3HLZxsX2+fq5tnH7Omtcv6l1aNrNerbuZ/Xq1nNJIktGjl566SVzbnUDBgzwlFm4mOVDli9f7lliuRGMzp07ewomAvNLREAEMk/gxhtvtMsuu8zLmJl1/O+dVM/mN8+XW0OqFEvnOP/9INe2wrqucm0rrOuRi9LEcwfKxPmZCZTJZBBi4vz0pz/NRLZlkYf/XVkKrm3Zvmjx7mUpkrJNX/mLgAgUNIHPPvvMC8a9atUqr5w0MIzuMD1mUNFDZ23G0on22rxHbMXmL2vVq3H9ZjayxzE2quKEauVSE8/S57nnnot0GhkFOOKII2r4tdfKJEcbmMkNayTqjzBjHO5vYfymc1RUnUYEip7Ae++9Z0OGDPHqQcB7975Jp2L+j2EpktIhWRrH+u8HKZIK65pKkVRY1yMXpYnX+c7E+du1axeZRGbGjBlekOVM5FsOefjflVIkJb7i8e5lKZIS81MKERCBEifArEpvvvmmvfXWWxGroRYtWnizGvTv39+r/bbKLfbwhzfZzBXvJqTRrklnO67iInv92bcM6x+E/FDUdO/ePeHxuUpA4O9XXnnFCP6LoOgi6LfMpHN1BXSeciGwePHiSHw2njMmAEjXvNz/MSxFUrncSbHr6b8fpEiKzSkfe6RIygf1/J4zXuc73ZLx7UaMTZYIM7gV0rdluvXL9vH+d6UUSYlpx7uXpUhKzE8pREAEyoTAypUrDQuiBQsWRGq855572pFHHWmPfXaTzVv9lRlxZGeclTqV9a3R+3tY3W2NrFevXnbyySdbs2bN4hyRv11YS1BvFGrI0KFDvRntNJVs/q6JzlxaBFAcEfTeycaNG9N+H/g/hqVIcmTLd+m/H6RIKqz7QIqkwroeuShNvM53uucnNEPz5s0j2TAzL4olSXIE/O9KKZISM4t3L0uRlJifUoiACJQZAcyE//3vfxuzrCFVFcttW9farmyJsNTZ0MQOb/U9z00uXeuDROdKdz+BGx955BHbsGGDlxWjW6eddlqNj5V0z6HjRaCcCfg/XjMxguzPT4qkcr6zvqq7/36QIqmw7gcpkgrreuSiNPE63+me32/hSl56/4cj6n9XSpGUmF28e1mztiXmpxQiIAJlRoBYJhdffLHnc76rQaVt67QkJQK7Wmyxjns3SduFJaWThzxot912swsuuMBYInyo3Hnnnfbll+EVaCFPreQiUBYE9tprr0g933PNDCwAAAt1SURBVHnnnci6VkRABERABEQgWQL+9sPfriR7vNKJQKYISJGUKZLKRwREoKQIEHz6+OOPt32/1des3q6U6zb1y9dTPjbXBxLHaezYsZGgjevXr7d77703Eiw8Wnkqd+4wZrCbv+Zjb7mjanu0ZNomAmVP4JRTTokwkMVIBIVWREAEREAEQhDwtx/+diVEFkoqAhkhUD8juSgTERABEShRAmvqfJFWzeZWx1XC7NhvSptWhlk+mLhIKNA6d+7sBeImbtITTzxhy5Yts0MPPTRiXbV43Rx7ff5jNnvVe7ajalukVA3qNrQ92w2x0b1OtJ6tq5VwEhEQAY9A375fPw88U5dddpnIiIAIiIAIiEAoArQfTvztitumpQjkioAUSbkirfOIgAgUJYG1W1emVe7Kndtt844N1qxhy7TyyfXBI0aMsI4dO9r48eNty5Yt9vbbb3vKpONPON5eXTTO3ln8QtQi7aiuLzPb8TdityPtuH7ft3p11dREhaWNZUWAZ8rJrFmz3KqWIiACIiACIpA0AX/74W9Xks5ACUUgQwTk2pYhkMpGBERABEqNwO677+7FTUKhhMyZO8f+/PKlMZVIwfpP/vxlu/+9623nrqrgLv0WgbIj0KVLl0idV69eHZm6ObJRKyIgAiIgAiIQh8DOnTuN9sOJv11x27QUgVwRkCIpV6R1HhEQgaIk0Lpx+7TKXb/a1atpgxZp5ZHPg9u0aWPf+973jICOld2X2Zbm4Sy0Pl05zV6Z+698VkHnFoGCINCoUaNIOegMrFmzJvJbKyIgAiIgAiKQiADtBu2HE3+74rZpKQK5IiBFUq5I6zwiIAJFSaB3233SKnef6uOLJT5SrIryoXLksYdZVfdwSiSX3xsLnrI1W1a4n1qKQFkSqFu3rvXv3z9SdymSIii0IgIiIAIikAQBf7tBe0K7IhGBfBHQ3Zcv8jqvCIhAURAY2OlAI4B0qjKs68GpHlpQx0398lXbaZUplalqV6X994t/p3SsDhKBUiJw8MFfvw8mTpxYSlVTXURABERABLJMwN9u+NuTLJ9W2YtAVAJSJEXFoo0iIAIi8BWBFo1a26iK41LCsVvL3oYiqhRk1qoZaVVj1srpaR2vg0WgFAgMGjQoUo0333wzsq4VERABERABEUhEwN9u+NuTRMdpvwhkg4AUSdmgqjxFQARKisBhu59uvdvsHapOxEU6e9AVRe/W5iq9evMyt5rScvWW9I5P6aQ6SAQKjMChhx4aKdE777wTWdeKCIiACIiACCQi4G83/O1JouO0XwSyQUCKpGxQVZ4iIAIlRaBe3Xp27pBfWf8O+yVVr7ZNOtuFw/9gbZt0Sip9MSTasXNbWsXcUZXe8WmdXAeLQIEQ8M+wM2/ePNu1a1eBlEzFEAEREAERKGQCtBe0G0787YnbpqUI5JJA/VyeTOcSAREQgWIl0Lh+Ezt38C9txpI37NXPHrGVm5fUqkrj+k3twB7H2EEVJxjrpSQtGra2rZWbU65Si0ZtUj5WB4pAqRBo3LhxpCpVVVW2adMma968eWSbVkRABERABEQgGgHaC9oNJ/72xG3TUgRySUCKpFzS1rlEQASKmgCzrw3tOtr7W7phoX2+fp5t3L7OGjdoah2adrWK1ntZvbql+Vrt2bqfrdj8ZcrXr2ervikfqwNFoFQI8A4ZMGCAzZw506vS0qVLrU+fPqVSPdVDBERABEQgSwRoL5zQjhT7jMCuLloWLwG5thXvtVPJRUAE8kigc4uetm+3Q2x0rxNsxG5HWu+2+5SsEgnMgzqPTIv2wDSPT+vkOlgECojAaaedFinNhAkTIutaEQEREAEREIFYBPzthb8diZVe20Ug2wSkSMo2YeUvAiIgAiVAoG/7odYjRasiZq8b0DG5+FIlgEpVEIG4BPwBUl988cW4abVTBERABERABCDgby/87YjoiEC+CEiRlC/yOq8IiIAIFBmB0/e51JrUbxaq1MSKOn2fy0Ido8QiUMoE9txzz0j1/FM5RzZqRQREQAREQAQCBPzthb8dCSTTTxHIGQEpknKGWicSAREQgeIm0L5pF/vu0F9b84atkqpIswYt7bwhV1vHZt2SSq9EIlAOBNq2bRup5sqVK23nzp2R31oRAREQAREQgSAB2gnaCyf+dsRt01IEck1AiqRcE9f5REAERKCICRB0+5IRN9jgzt+MW4uBnQ700vVq0z9uOu0UgXIjULduXdt77729ajOd87Jly8oNgeorAiIgAiIQggDtBO0FQvtBOyIRgXwTKM3phfJNVecXAREQgRIm0Lpxeztz4M/sqD5n28crptjSjQtt844N1rRBC+vUvIf17zDc2jXtXMIEVDURSI/At7/9bfvoo4+8TCZNmmQnnnhiehnqaBEQAREQgZIlQDvhhPZDIgKFQECKpEK4CiqDCIiACBQhgbZNO9nInmOKsOQqsgjklwAdgeuvv94rxGuvvSZFUn4vh84uAiIgAgVNgHbCiRRJjoSW+SYgu7h8XwGdXwREQAREQAREoKwIONc2Kj1+/PiyqrsqKwIiIAIiEI6Av53wtx/hclFqEcgsgTrV/pZfOVxmNl/lJgIiIAIiIAIiIAIiEIUAn14uxkWdOnVs+/btVr9+OCNxjpOIgAgUF4Fi7HbpXZPePZbuNa+srLSGDRtGYiQReFvXJPVrInapswvey7JISp2ljhQBERABERABERCB0AT4kD3qqKO84/gw+/LLL0PnoQNEQAREQARKnwDtg+vA025IEVL617xYaihFUrFcKZVTBERABERABESgZAicffbZkbq89NJLkXWtiIAIiIAIiIAj4G8f/O2G26+lCOSLgFzb8kVe5xUBERABERABEShbAitXrrQOHTp49d93331typQpZctCFRcBERABEYhOYPjw4TZ16lRv54oVK6x9+/bRE2qrCOSYgBRJOQau04mACIiACIiACIgArgouThJL4mDIZUH3hQiIgAiIgCNAO0H8POIiIYqP5MhoWQgE5NpWCFdBZRABERABERABESgrAiiNjj76aK/OdA4WLVpUVvVXZUVABERABOIToF1wSiTaCw02xOelvbklIEVSbnnrbCIgAiIgAiIgAiLgEbjkkksiJB5//PHIulZEQAREQAREwN8u+NsLkRGBQiAg17ZCuAoqgwiIgAiIgAiIQNkR2Lhxo7Vo0cKr99ChQ23atGllx0AVFgEREAERiE5g2LBhNn36dG/nhg0brHnz5tETaqsI5IGAFEl5gK5TioAIiIAIiIAIiAAE2rRpY2vXrvVcFqqqquS6oNtCBERABETAiI9Ur149b9m6dWtbs2aNqIhAQRGQa1tBXQ4VRgREQAREQAREoJwI/O53v/OqS6cBRZJEBERABERABGgPaBcQ106IiggUEgFZJBXS1VBZREAEREAEREAEyorAqlWrItM5L1iwwHr27FlW9VdlRUAEREAEahNYuHChVVRUeDtWrlxp7dq1q51IW0QgjwRkkZRH+Dq1CIiACIiACIhAeROgc4DbAtKyZcvyhqHai4AIiIAIeARce0D7ICWSbopCJCBFUiFeFZVJBERABERABESgbAjcdtttXl1XrFhRNnVWRUVABERABGITcO2Bax9ip9QeEcgPAbm25Ye7zioCIiACIiACIiACHgFiYdSvX9+WL19uHTp0EBUREAEREIEyJ4AiqWPHjlZZWekF3S5zHKp+ARKQIqkAL4qKJAIiIAIiIAIiUF4EduzYYQ0aNCivSqu2IiACIiACMQmoXYiJRjsKgIAUSQVwEVQEERABERABERABERABERABERABERABESgGAoqRVAxXSWUUAREQAREQAREQAREQAREQAREQAREQgQIgIEVSAVwEFUEEREAEREAEREAEREAEREAEREAEREAEioHA/wep0TACdfCiagAAAABJRU5ErkJggg==) "
   ]
  },
  {
   "cell_type": "markdown",
   "id": "950dae12",
   "metadata": {},
   "source": [
    "Эта процедура имеет несколько важных преимуществ перед другими процедурами пакетной обработки:\n",
    "\n",
    "1. Операторы GNN, которые используют схему передачи сообщений, не нуждаются в модификации, поскольку обмен сообщениями между двумя узлами, принадлежащими к разным графам, не осуществляется.\n",
    "\n",
    "2. Нет никаких вычислительных или операционных затрат, поскольку матрицы смежности хранятся в плотной форме, содержащей только ненулевые элементы, т.е. ребра.\n",
    "\n",
    "PyTorch Geometric автоматически распределяет выборки при группировании нескольких графов в один \"гигантский\" граф с использованием класса [`torch_geometric.data.DataLoader`](https://pytorch-geometric.readthedocs.io/en/latest/modules/data.html#torch_geometric.data.DataLoader`): "
   ]
  },
  {
   "cell_type": "code",
   "execution_count": 157,
   "id": "c15155b1",
   "metadata": {},
   "outputs": [],
   "source": [
    "from torch_geometric.loader import DataLoader"
   ]
  },
  {
   "cell_type": "code",
   "execution_count": 158,
   "id": "7c9a65a2",
   "metadata": {},
   "outputs": [],
   "source": [
    "train_loader = DataLoader(train_dataset_si_cubic, batch_size=256, shuffle=True)"
   ]
  },
  {
   "cell_type": "code",
   "execution_count": 159,
   "id": "80f356ac",
   "metadata": {},
   "outputs": [],
   "source": [
    "test_loader = DataLoader(test_dataset_si_cubic, batch_size=228, shuffle=False)"
   ]
  },
  {
   "cell_type": "code",
   "execution_count": 160,
   "id": "ae09ef9d",
   "metadata": {},
   "outputs": [
    {
     "name": "stdout",
     "output_type": "stream",
     "text": [
      "Step 1:\n",
      "=======\n",
      "Number of graphs in the current batch: 256\n",
      "DataBatch(x=[41976, 5], y=[256, 1], pos=[41976, 3], lattice=[256, 9], edge_index=[2, 251856], batch=[41976], ptr=[257])\n",
      "\n",
      "Step 2:\n",
      "=======\n",
      "Number of graphs in the current batch: 222\n",
      "DataBatch(x=[45856, 5], y=[222, 1], pos=[45856, 3], lattice=[222, 9], edge_index=[2, 275136], batch=[45856], ptr=[223])\n",
      "\n"
     ]
    }
   ],
   "source": [
    "for step, data in enumerate(train_loader):\n",
    "    print(f'Step {step + 1}:')\n",
    "    print('=======')\n",
    "    print(f'Number of graphs in the current batch: {data.num_graphs}')\n",
    "    print(data)\n",
    "    print()"
   ]
  },
  {
   "cell_type": "code",
   "execution_count": 170,
   "id": "1625d99b",
   "metadata": {},
   "outputs": [
    {
     "data": {
      "text/plain": [
       "tensor([[14.0000, 12.0600,  1.3895, -4.0000,  4.0000],\n",
       "        [14.0000, 12.0600,  1.3895, -4.0000,  4.0000],\n",
       "        [14.0000, 12.0600,  1.3895, -4.0000,  4.0000],\n",
       "        [14.0000, 12.0600,  1.3895, -4.0000,  4.0000],\n",
       "        [14.0000, 12.0600,  1.3895, -4.0000,  4.0000],\n",
       "        [14.0000, 12.0600,  1.3895, -4.0000,  4.0000],\n",
       "        [14.0000, 12.0600,  1.3895, -4.0000,  4.0000],\n",
       "        [14.0000, 12.0600,  1.3895, -4.0000,  4.0000],\n",
       "        [14.0000, 12.0600,  1.3895, -4.0000,  4.0000],\n",
       "        [14.0000, 12.0600,  1.3895, -4.0000,  4.0000],\n",
       "        [14.0000, 12.0600,  1.3895, -4.0000,  4.0000],\n",
       "        [14.0000, 12.0600,  1.3895, -4.0000,  4.0000],\n",
       "        [ 8.0000, 17.3600,  1.4611, -2.0000,  2.0000],\n",
       "        [ 8.0000, 17.3600,  1.4611, -2.0000,  2.0000],\n",
       "        [ 8.0000, 17.3600,  1.4611, -2.0000,  2.0000],\n",
       "        [ 8.0000, 17.3600,  1.4611, -2.0000,  2.0000],\n",
       "        [ 8.0000, 17.3600,  1.4611, -2.0000,  2.0000],\n",
       "        [ 8.0000, 17.3600,  1.4611, -2.0000,  2.0000],\n",
       "        [ 8.0000, 17.3600,  1.4611, -2.0000,  2.0000],\n",
       "        [ 8.0000, 17.3600,  1.4611, -2.0000,  2.0000],\n",
       "        [ 8.0000, 17.3600,  1.4611, -2.0000,  2.0000],\n",
       "        [ 8.0000, 17.3600,  1.4611, -2.0000,  2.0000],\n",
       "        [ 8.0000, 17.3600,  1.4611, -2.0000,  2.0000],\n",
       "        [ 8.0000, 17.3600,  1.4611, -2.0000,  2.0000],\n",
       "        [ 8.0000, 17.3600,  1.4611, -2.0000,  2.0000],\n",
       "        [ 8.0000, 17.3600,  1.4611, -2.0000,  2.0000],\n",
       "        [ 8.0000, 17.3600,  1.4611, -2.0000,  2.0000],\n",
       "        [ 8.0000, 17.3600,  1.4611, -2.0000,  2.0000],\n",
       "        [ 8.0000, 17.3600,  1.4611, -2.0000,  2.0000],\n",
       "        [ 8.0000, 17.3600,  1.4611, -2.0000,  2.0000],\n",
       "        [ 8.0000, 17.3600,  1.4611, -2.0000,  2.0000],\n",
       "        [ 8.0000, 17.3600,  1.4611, -2.0000,  2.0000],\n",
       "        [ 8.0000, 17.3600,  1.4611, -2.0000,  2.0000],\n",
       "        [ 8.0000, 17.3600,  1.4611, -2.0000,  2.0000],\n",
       "        [ 8.0000, 17.3600,  1.4611, -2.0000,  2.0000],\n",
       "        [ 8.0000, 17.3600,  1.4611, -2.0000,  2.0000]])"
      ]
     },
     "execution_count": 170,
     "metadata": {},
     "output_type": "execute_result"
    }
   ],
   "source": [
    "graph.x"
   ]
  },
  {
   "cell_type": "code",
   "execution_count": 169,
   "id": "22795135",
   "metadata": {},
   "outputs": [
    {
     "data": {
      "text/plain": [
       "tensor([[14.0000, 12.0600,  1.3895, -4.0000,  4.0000],\n",
       "        [14.0000, 12.0600,  1.3895, -4.0000,  4.0000],\n",
       "        [14.0000, 12.0600,  1.3895, -4.0000,  4.0000],\n",
       "        [14.0000, 12.0600,  1.3895, -4.0000,  4.0000],\n",
       "        [14.0000, 12.0600,  1.3895, -4.0000,  4.0000],\n",
       "        [14.0000, 12.0600,  1.3895, -4.0000,  4.0000],\n",
       "        [14.0000, 12.0600,  1.3895, -4.0000,  4.0000],\n",
       "        [14.0000, 12.0600,  1.3895, -4.0000,  4.0000],\n",
       "        [14.0000, 12.0600,  1.3895, -4.0000,  4.0000],\n",
       "        [14.0000, 12.0600,  1.3895, -4.0000,  4.0000],\n",
       "        [14.0000, 12.0600,  1.3895, -4.0000,  4.0000],\n",
       "        [14.0000, 12.0600,  1.3895, -4.0000,  4.0000],\n",
       "        [ 8.0000, 17.3600,  1.4611, -2.0000,  2.0000],\n",
       "        [ 8.0000, 17.3600,  1.4611, -2.0000,  2.0000],\n",
       "        [ 8.0000, 17.3600,  1.4611, -2.0000,  2.0000],\n",
       "        [ 8.0000, 17.3600,  1.4611, -2.0000,  2.0000],\n",
       "        [ 8.0000, 17.3600,  1.4611, -2.0000,  2.0000],\n",
       "        [ 8.0000, 17.3600,  1.4611, -2.0000,  2.0000],\n",
       "        [ 8.0000, 17.3600,  1.4611, -2.0000,  2.0000],\n",
       "        [ 8.0000, 17.3600,  1.4611, -2.0000,  2.0000],\n",
       "        [ 8.0000, 17.3600,  1.4611, -2.0000,  2.0000],\n",
       "        [ 8.0000, 17.3600,  1.4611, -2.0000,  2.0000],\n",
       "        [ 8.0000, 17.3600,  1.4611, -2.0000,  2.0000],\n",
       "        [ 8.0000, 17.3600,  1.4611, -2.0000,  2.0000],\n",
       "        [ 8.0000, 17.3600,  1.4611, -2.0000,  2.0000],\n",
       "        [ 8.0000, 17.3600,  1.4611, -2.0000,  2.0000],\n",
       "        [ 8.0000, 17.3600,  1.4611, -2.0000,  2.0000],\n",
       "        [ 8.0000, 17.3600,  1.4611, -2.0000,  2.0000],\n",
       "        [ 8.0000, 17.3600,  1.4611, -2.0000,  2.0000],\n",
       "        [ 8.0000, 17.3600,  1.4611, -2.0000,  2.0000],\n",
       "        [ 8.0000, 17.3600,  1.4611, -2.0000,  2.0000],\n",
       "        [ 8.0000, 17.3600,  1.4611, -2.0000,  2.0000],\n",
       "        [ 8.0000, 17.3600,  1.4611, -2.0000,  2.0000],\n",
       "        [ 8.0000, 17.3600,  1.4611, -2.0000,  2.0000],\n",
       "        [ 8.0000, 17.3600,  1.4611, -2.0000,  2.0000],\n",
       "        [ 8.0000, 17.3600,  1.4611, -2.0000,  2.0000]])"
      ]
     },
     "execution_count": 169,
     "metadata": {},
     "output_type": "execute_result"
    }
   ],
   "source": [
    "connected_graph.x"
   ]
  },
  {
   "cell_type": "code",
   "execution_count": 171,
   "id": "d9e7608f",
   "metadata": {},
   "outputs": [
    {
     "data": {
      "text/plain": [
       "45856"
      ]
     },
     "execution_count": 171,
     "metadata": {},
     "output_type": "execute_result"
    }
   ],
   "source": [
    "len(data.x)"
   ]
  },
  {
   "cell_type": "code",
   "execution_count": 164,
   "id": "0c5d4549",
   "metadata": {},
   "outputs": [
    {
     "data": {
      "text/plain": [
       "tensor([    0,    32,   128,   152,   184,   360,   400,   632,  1224,  1248,\n",
       "         1424,  1728,  2032,  2064,  2160,  3312,  3696,  4000,  4016,  4200,\n",
       "         4232,  4328,  4424,  4456,  4480,  5056,  5288,  5320,  5368,  5592,\n",
       "         5656,  5832,  6152,  6728,  7016,  7248,  7472,  7512,  8088,  8104,\n",
       "         8136,  8176,  8208,  8240,  8752,  8816,  8880,  9056,  9632,  9864,\n",
       "         9896,  9920,  9960,  9992, 10312, 10344, 10376, 10680, 10720, 10752,\n",
       "        10784, 10872, 10904, 10944, 11488, 11528, 11568, 11632, 11664, 11896,\n",
       "        11960, 12024, 12048, 12280, 12856, 12912, 12984, 13816, 13856, 13896,\n",
       "        13928, 13968, 14128, 14200, 14272, 14312, 14344, 14376, 14952, 15184,\n",
       "        15360, 15424, 16576, 16608, 16640, 16776, 17928, 17960, 18008, 18056,\n",
       "        18072, 18264, 18424, 18560, 19424, 20064, 20104, 20120, 20216, 20232,\n",
       "        20408, 20696, 20720, 20952, 20984, 21008, 21040, 21616, 21856, 22432,\n",
       "        22464, 22696, 23272, 23504, 23512, 23752, 23784, 24024, 24048, 24080,\n",
       "        24672, 24704, 24936, 24960, 25216, 25248, 25424, 25440, 26016, 26056,\n",
       "        26152, 26184, 26504, 26672, 26992, 28096, 28128, 28256, 29408, 29520,\n",
       "        29552, 29744, 29816, 29840, 29872, 30304, 30336, 30360, 30400, 30432,\n",
       "        30464, 30496, 30512, 30528, 30664, 30984, 31016, 31176, 31408, 31424,\n",
       "        32000, 32232, 34088, 34120, 34144, 34376, 34440, 35592, 36104, 36168,\n",
       "        36200, 36240, 36272, 36304, 36816, 37352, 37376, 37488, 37512, 38728,\n",
       "        38752, 39040, 39856, 40080, 40112, 40136, 40232, 40264, 40304, 40592,\n",
       "        40912, 41104, 41136, 41168, 41208, 41256, 41288, 41928, 42048, 42480,\n",
       "        42584, 42616, 42752, 43904, 44096, 44256, 44832, 44856, 44968, 45000,\n",
       "        45032, 45080, 45856])"
      ]
     },
     "execution_count": 164,
     "metadata": {},
     "output_type": "execute_result"
    }
   ],
   "source": [
    "(data.ptr)"
   ]
  },
  {
   "cell_type": "markdown",
   "id": "4da8275b",
   "metadata": {},
   "source": [
    "### Инициируем модель"
   ]
  },
  {
   "cell_type": "code",
   "execution_count": null,
   "id": "9a445009",
   "metadata": {},
   "outputs": [
    {
     "data": {
      "text/plain": [
       "5"
      ]
     },
     "execution_count": 180,
     "metadata": {},
     "output_type": "execute_result"
    }
   ],
   "source": [
    "# dataset.num_node_features"
   ]
  },
  {
   "cell_type": "code",
   "execution_count": 177,
   "id": "c5cf28e6",
   "metadata": {},
   "outputs": [],
   "source": [
    "# тоже самое, но уже с комментариями\n",
    "\n",
    "class GCN(torch.nn.Module):\n",
    "    \"\"\"\n",
    "    Графовая нейронная сеть (GNN) для предсказания свойств материалов.\n",
    "    Сочетает структурную информацию (атомы и их связи) с параметрами кристаллической решётки.\n",
    "    \n",
    "    Параметры:\n",
    "        hyperparameters (dict): Словарь с гиперпараметрами модели, включая:\n",
    "            - hidden_embeding (int): Размер скрытого векторного пространства.\n",
    "    \"\"\"\n",
    "    def __init__(self, hyperparameters):\n",
    "        super(GCN, self).__init__()\n",
    "        torch.manual_seed(12345)  # Фиксируем случайное начальное состояние для воспроизводимости\n",
    "\n",
    "        # 1. Инициализация гиперпараметров\n",
    "        self.hidden_embeding = hyperparameters['hidden_embeding']\n",
    "\n",
    "        # 2. Слои для обработки структурных данных (атомы и их связи)\n",
    "        # PointTransformerConv - графовый слой, учитывающий позиции атомов\n",
    "        self.structural_embedding = PointTransformerConv(\n",
    "            in_channels=dataset.num_node_features,  # Количество признаков узла (например, 5)\n",
    "\n",
    "            out_channels=self.hidden_embeding       # Размер выходного эмбеддинга\n",
    "        )\n",
    "        print('in_channels', dataset.num_node_features)\n",
    "        \n",
    "        # 3. Слой для обработки параметров решётки\n",
    "        # Линейный слой преобразует 9 параметров решётки (3x3 матрица) в скрытое пространство\n",
    "        self.lattice_embedding = nn.Linear(9, self.hidden_embeding)\n",
    "\n",
    "        # 4. Скрытые полносвязные слои для комбинирования признаков\n",
    "        self.hidden_layers = nn.Sequential(\n",
    "            # Первый слой: объединяет структурные и решёточные признаки\n",
    "            Linear(self.hidden_embeding * 2, self.hidden_embeding * 3),\n",
    "            nn.ReLU(inplace=True),  # Функция активации\n",
    "            # Второй слой: сжатие признаков\n",
    "            Linear(self.hidden_embeding * 3, self.hidden_embeding * 2),\n",
    "            nn.ReLU(inplace=True),\n",
    "            # Третий слой: подготовка к выходному слою\n",
    "            Linear(self.hidden_embeding * 2, self.hidden_embeding),\n",
    "            nn.ReLU(inplace=True)\n",
    "        )\n",
    "\n",
    "        # 5. Выходной слой (регрессия)\n",
    "        self.out = Linear(self.hidden_embeding, 1)  # Предсказывает 1 значение (например, энергию)\n",
    "\n",
    "    def forward(self, data):\n",
    "        \"\"\"\n",
    "        Проход данных через модель.\n",
    "        \n",
    "        Параметры:\n",
    "            data (torch_geometric.data.Data): Граф с полями:\n",
    "                - x: Признаки узлов [num_nodes, num_features]\n",
    "                - pos: Координаты атомов [num_nodes, 3]\n",
    "                - edge_index: Индексы связей [2, num_edges]\n",
    "                - lattice: Параметры решётки [batch_size, 9]\n",
    "                - batch: Вектор батча [num_nodes]\n",
    "                \n",
    "        Возвращает:\n",
    "            torch.Tensor: Предсказанное значение [batch_size, 1]\n",
    "        \"\"\"\n",
    "        # 1. Структурный эмбеддинг (атомы + связи)\n",
    "        # PointTransformerConv учитывает позиции атомов (data.pos) и связи (data.edge_index)\n",
    "        x = self.structural_embedding(data.x, data.pos, data.edge_index)  # [num_nodes, hidden_embeding]\n",
    "\n",
    "        # 2. Усреднение по графу (pooling)\n",
    "        # Преобразует эмбеддинги узлов в один вектор на граф\n",
    "        x = global_mean_pool(x, data.batch)  # [batch_size, hidden_embeding]\n",
    "\n",
    "        # 3. Эмбеддинг решётки\n",
    "        l = self.lattice_embedding(data.lattice)  # [batch_size, hidden_embeding]\n",
    "\n",
    "        # 4. Объединение структурных и решёточных признаков\n",
    "        x = torch.hstack([x, l])  # [batch_size, hidden_embeding * 2]\n",
    "\n",
    "        # 5. Обработка через скрытые слои\n",
    "        x = self.hidden_layers(x)  # [batch_size, hidden_embeding]\n",
    "\n",
    "        # 6. Выходной слой\n",
    "        x = self.out(x)  # [batch_size, 1]\n",
    "\n",
    "        return x"
   ]
  },
  {
   "cell_type": "code",
   "execution_count": 173,
   "id": "a19c2b4e",
   "metadata": {},
   "outputs": [],
   "source": [
    "# задачим гипер параметры\n",
    "hyperparameters = \\\n",
    "    {\n",
    "    'hidden_embeding':128,\n",
    "    }"
   ]
  },
  {
   "cell_type": "code",
   "execution_count": 181,
   "id": "d7ec1e51",
   "metadata": {},
   "outputs": [
    {
     "name": "stdout",
     "output_type": "stream",
     "text": [
      "in_channels 5\n"
     ]
    }
   ],
   "source": [
    "# инициируем модель\n",
    "model_GCN = GCN(hyperparameters=hyperparameters)"
   ]
  },
  {
   "cell_type": "code",
   "execution_count": 182,
   "id": "45c75ce1",
   "metadata": {},
   "outputs": [
    {
     "name": "stdout",
     "output_type": "stream",
     "text": [
      "GCN(\n",
      "  (structural_embedding): PointTransformerConv(5, 128)\n",
      "  (lattice_embedding): Linear(in_features=9, out_features=128, bias=True)\n",
      "  (hidden_layers): Sequential(\n",
      "    (0): Linear(in_features=256, out_features=384, bias=True)\n",
      "    (1): ReLU(inplace=True)\n",
      "    (2): Linear(in_features=384, out_features=256, bias=True)\n",
      "    (3): ReLU(inplace=True)\n",
      "    (4): Linear(in_features=256, out_features=128, bias=True)\n",
      "    (5): ReLU(inplace=True)\n",
      "  )\n",
      "  (out): Linear(in_features=128, out_features=1, bias=True)\n",
      ")\n"
     ]
    }
   ],
   "source": [
    "print(model_GCN)"
   ]
  },
  {
   "cell_type": "code",
   "execution_count": null,
   "id": "986d7f64",
   "metadata": {},
   "outputs": [],
   "source": [
    "# берем самый первый батч - пакет данных в одном графе. В данном случае тестовый батч единственный) \n",
    "first_batch = [i for i in test_loader][0]"
   ]
  },
  {
   "cell_type": "code",
   "execution_count": null,
   "id": "468c79aa",
   "metadata": {},
   "outputs": [
    {
     "data": {
      "text/plain": [
       "DataBatch(x=[19488, 5], y=[84, 1], pos=[19488, 3], lattice=[84, 9], edge_index=[2, 116928], batch=[19488], ptr=[85])"
      ]
     },
     "execution_count": 184,
     "metadata": {},
     "output_type": "execute_result"
    }
   ],
   "source": [
    "# смотрим, что он из себя представляет\n",
    "first_batch"
   ]
  },
  {
   "cell_type": "code",
   "execution_count": 186,
   "id": "24d6c70d",
   "metadata": {},
   "outputs": [
    {
     "data": {
      "text/plain": [
       "tensor([[-0.2410],\n",
       "        [-0.3079],\n",
       "        [-0.1783],\n",
       "        [-0.3045],\n",
       "        [-0.2534],\n",
       "        [-0.2648],\n",
       "        [-0.2572],\n",
       "        [-0.2656],\n",
       "        [-0.0886],\n",
       "        [-0.3012],\n",
       "        [-0.0916],\n",
       "        [-0.2228],\n",
       "        [-0.2093],\n",
       "        [-0.1641],\n",
       "        [-0.3266],\n",
       "        [-0.3281],\n",
       "        [-0.3025],\n",
       "        [-0.0277],\n",
       "        [-0.1246],\n",
       "        [-0.0951],\n",
       "        [-0.0970],\n",
       "        [-0.2422],\n",
       "        [ 0.0032],\n",
       "        [-0.0167],\n",
       "        [-0.0535],\n",
       "        [-0.0603],\n",
       "        [-0.0667],\n",
       "        [-0.0854],\n",
       "        [-0.2694],\n",
       "        [-0.2651],\n",
       "        [-0.1112],\n",
       "        [-0.2414],\n",
       "        [-0.2254],\n",
       "        [-0.2667],\n",
       "        [-0.0536],\n",
       "        [-0.0342],\n",
       "        [-0.0416],\n",
       "        [-0.2380],\n",
       "        [-0.0139],\n",
       "        [-0.0377],\n",
       "        [ 0.0107],\n",
       "        [-0.0388],\n",
       "        [ 0.0074],\n",
       "        [-0.0442],\n",
       "        [-0.0403],\n",
       "        [-0.0590],\n",
       "        [-0.0209],\n",
       "        [-0.0734],\n",
       "        [-0.0258],\n",
       "        [-0.0159],\n",
       "        [-0.0464],\n",
       "        [-0.0133],\n",
       "        [-0.0282],\n",
       "        [-0.0475],\n",
       "        [-0.0141],\n",
       "        [-0.0439],\n",
       "        [-0.0554],\n",
       "        [-0.0902],\n",
       "        [ 0.0140],\n",
       "        [ 0.0056],\n",
       "        [ 0.0147],\n",
       "        [ 0.0044],\n",
       "        [-0.3301],\n",
       "        [ 0.0220],\n",
       "        [ 0.0257],\n",
       "        [-0.1352],\n",
       "        [-0.1342],\n",
       "        [-0.1523],\n",
       "        [-0.0423],\n",
       "        [-0.0330],\n",
       "        [-0.0996],\n",
       "        [-0.0547],\n",
       "        [-0.0572],\n",
       "        [-0.3742],\n",
       "        [-0.0212],\n",
       "        [-0.0312],\n",
       "        [-0.0027],\n",
       "        [ 0.0215],\n",
       "        [-0.2715],\n",
       "        [ 0.0098],\n",
       "        [-0.0155],\n",
       "        [-0.2494],\n",
       "        [-0.2674],\n",
       "        [-0.2370]], grad_fn=<AddmmBackward0>)"
      ]
     },
     "execution_count": 186,
     "metadata": {},
     "output_type": "execute_result"
    }
   ],
   "source": [
    "# отправим батч в модель, получим результат\n",
    "model_GCN(first_batch)"
   ]
  },
  {
   "cell_type": "code",
   "execution_count": 187,
   "id": "0d7ba62e",
   "metadata": {},
   "outputs": [
    {
     "data": {
      "text/plain": [
       "torch.Size([84, 1])"
      ]
     },
     "execution_count": 187,
     "metadata": {},
     "output_type": "execute_result"
    }
   ],
   "source": [
    "# смотрим габариты тензора с результатом\n",
    "model_GCN(first_batch).shape"
   ]
  },
  {
   "cell_type": "markdown",
   "id": "924163fc",
   "metadata": {},
   "source": [
    "Мы подготовили данные. Подготовили саму структуру нейронной сети в виде отдельного класса и инициировали модель как экземпляр этого класса сообщив ему нужные гиперпараметры.\n",
    "В качестве проверки работоспособности сообщили модели один тестовый пакет данных. Модель выдала результат в виде тензора. Соответственно, модель работает. Обучать модель будем в следующем шаге. "
   ]
  },
  {
   "cell_type": "markdown",
   "id": "cde92b48",
   "metadata": {},
   "source": [
    "## Работаем"
   ]
  }
 ],
 "metadata": {
  "kernelspec": {
   "display_name": "venv_materials_5",
   "language": "python",
   "name": "python3"
  },
  "language_info": {
   "codemirror_mode": {
    "name": "ipython",
    "version": 3
   },
   "file_extension": ".py",
   "mimetype": "text/x-python",
   "name": "python",
   "nbconvert_exporter": "python",
   "pygments_lexer": "ipython3",
   "version": "3.12.0"
  }
 },
 "nbformat": 4,
 "nbformat_minor": 5
}
